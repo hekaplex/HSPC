{
 "cells": [
  {
   "cell_type": "markdown",
   "id": "02e31727",
   "metadata": {
    "execution": {
     "iopub.execute_input": "2022-09-04T06:45:40.521256Z",
     "iopub.status.busy": "2022-09-04T06:45:40.520477Z",
     "iopub.status.idle": "2022-09-04T06:45:40.551882Z",
     "shell.execute_reply": "2022-09-04T06:45:40.549459Z",
     "shell.execute_reply.started": "2022-09-04T06:45:40.521157Z"
    },
    "papermill": {
     "duration": 0.002992,
     "end_time": "2022-09-04T07:27:44.121136",
     "exception": false,
     "start_time": "2022-09-04T07:27:44.118144",
     "status": "completed"
    },
    "tags": []
   },
   "source": [
    "# The example of ensemble\n",
    "## If the work is useful to you, don't forget to upvote !\n",
    "## submission1.csv\n",
    "LB: 0.853 - https://www.kaggle.com/code/ambrosm/msci-citeseq-quickstart/notebook\n",
    "## submission2.csv\n",
    "LB: 0.849 - https://www.kaggle.com/code/ravishah1/citeseq-rna-to-protein-encoder-decoder-nn\n",
    "## submission3.csv\n",
    "LB: 0.848 - https://www.kaggle.com/code/jsmithperera/multiome-quickstart-w-sparse-m-tsvd-32\n",
    "## Result: LB:0.855"
   ]
  },
  {
   "cell_type": "code",
   "execution_count": 1,
   "id": "c0ba5c43",
   "metadata": {
    "execution": {
     "iopub.execute_input": "2022-09-04T07:27:44.128051Z",
     "iopub.status.busy": "2022-09-04T07:27:44.127062Z",
     "iopub.status.idle": "2022-09-04T07:27:44.138583Z",
     "shell.execute_reply": "2022-09-04T07:27:44.137505Z"
    },
    "papermill": {
     "duration": 0.017357,
     "end_time": "2022-09-04T07:27:44.140871",
     "exception": false,
     "start_time": "2022-09-04T07:27:44.123514",
     "status": "completed"
    },
    "tags": []
   },
   "outputs": [],
   "source": [
    "import numpy as np \n",
    "import pandas as pd \n",
    "import glob"
   ]
  },
  {
   "cell_type": "code",
   "execution_count": 2,
   "id": "ef30e05e",
   "metadata": {
    "execution": {
     "iopub.execute_input": "2022-09-04T07:27:44.147612Z",
     "iopub.status.busy": "2022-09-04T07:27:44.147052Z",
     "iopub.status.idle": "2022-09-04T07:27:44.151484Z",
     "shell.execute_reply": "2022-09-04T07:27:44.150524Z"
    },
    "papermill": {
     "duration": 0.01012,
     "end_time": "2022-09-04T07:27:44.153604",
     "exception": false,
     "start_time": "2022-09-04T07:27:44.143484",
     "status": "completed"
    },
    "tags": []
   },
   "outputs": [],
   "source": [
    "paths = ['../input/ensemble/submission1.csv','../input/ensemble/submission2.csv','../input/ensemble/submission3.csv']"
   ]
  },
  {
   "cell_type": "code",
   "execution_count": 3,
   "id": "d5125e77",
   "metadata": {
    "execution": {
     "iopub.execute_input": "2022-09-04T07:27:44.161326Z",
     "iopub.status.busy": "2022-09-04T07:27:44.160989Z",
     "iopub.status.idle": "2022-09-04T07:28:47.178210Z",
     "shell.execute_reply": "2022-09-04T07:28:47.175641Z"
    },
    "papermill": {
     "duration": 63.02738,
     "end_time": "2022-09-04T07:28:47.183547",
     "exception": false,
     "start_time": "2022-09-04T07:27:44.156167",
     "status": "completed"
    },
    "tags": []
   },
   "outputs": [],
   "source": [
    "dfs = [pd.read_csv(x) for x in paths]"
   ]
  },
  {
   "cell_type": "code",
   "execution_count": 4,
   "id": "ec349242",
   "metadata": {
    "execution": {
     "iopub.execute_input": "2022-09-04T07:28:47.194554Z",
     "iopub.status.busy": "2022-09-04T07:28:47.193845Z",
     "iopub.status.idle": "2022-09-04T07:28:47.501327Z",
     "shell.execute_reply": "2022-09-04T07:28:47.500006Z"
    },
    "papermill": {
     "duration": 0.315923,
     "end_time": "2022-09-04T07:28:47.504176",
     "exception": false,
     "start_time": "2022-09-04T07:28:47.188253",
     "status": "completed"
    },
    "tags": []
   },
   "outputs": [],
   "source": [
    "pred_ensembled = 0.9 * (0.9 * dfs[0]['target']  + 0.1 * dfs[1]['target']) + 0.1 * dfs[2]['target']"
   ]
  },
  {
   "cell_type": "code",
   "execution_count": 5,
   "id": "f7eedabc",
   "metadata": {
    "execution": {
     "iopub.execute_input": "2022-09-04T07:28:47.510955Z",
     "iopub.status.busy": "2022-09-04T07:28:47.510616Z",
     "iopub.status.idle": "2022-09-04T07:29:02.787011Z",
     "shell.execute_reply": "2022-09-04T07:29:02.785617Z"
    },
    "papermill": {
     "duration": 15.282462,
     "end_time": "2022-09-04T07:29:02.789352",
     "exception": false,
     "start_time": "2022-09-04T07:28:47.506890",
     "status": "completed"
    },
    "tags": []
   },
   "outputs": [],
   "source": [
    "submit = pd.read_csv('../input/open-problems-multimodal/sample_submission.csv')"
   ]
  },
  {
   "cell_type": "code",
   "execution_count": 6,
   "id": "d750bd23",
   "metadata": {
    "execution": {
     "iopub.execute_input": "2022-09-04T07:29:02.796148Z",
     "iopub.status.busy": "2022-09-04T07:29:02.795831Z",
     "iopub.status.idle": "2022-09-04T07:29:02.921397Z",
     "shell.execute_reply": "2022-09-04T07:29:02.920679Z"
    },
    "papermill": {
     "duration": 0.131546,
     "end_time": "2022-09-04T07:29:02.923703",
     "exception": false,
     "start_time": "2022-09-04T07:29:02.792157",
     "status": "completed"
    },
    "tags": []
   },
   "outputs": [],
   "source": [
    "submit['target'] = pred_ensembled"
   ]
  },
  {
   "cell_type": "code",
   "execution_count": 7,
   "id": "1fa2b859",
   "metadata": {
    "execution": {
     "iopub.execute_input": "2022-09-04T07:29:02.930900Z",
     "iopub.status.busy": "2022-09-04T07:29:02.930424Z",
     "iopub.status.idle": "2022-09-04T07:29:02.954256Z",
     "shell.execute_reply": "2022-09-04T07:29:02.953539Z"
    },
    "papermill": {
     "duration": 0.031527,
     "end_time": "2022-09-04T07:29:02.957924",
     "exception": false,
     "start_time": "2022-09-04T07:29:02.926397",
     "status": "completed"
    },
    "tags": []
   },
   "outputs": [
    {
     "data": {
      "text/html": [
       "<div>\n",
       "<style scoped>\n",
       "    .dataframe tbody tr th:only-of-type {\n",
       "        vertical-align: middle;\n",
       "    }\n",
       "\n",
       "    .dataframe tbody tr th {\n",
       "        vertical-align: top;\n",
       "    }\n",
       "\n",
       "    .dataframe thead th {\n",
       "        text-align: right;\n",
       "    }\n",
       "</style>\n",
       "<table border=\"1\" class=\"dataframe\">\n",
       "  <thead>\n",
       "    <tr style=\"text-align: right;\">\n",
       "      <th></th>\n",
       "      <th>row_id</th>\n",
       "      <th>target</th>\n",
       "    </tr>\n",
       "  </thead>\n",
       "  <tbody>\n",
       "    <tr>\n",
       "      <th>0</th>\n",
       "      <td>0</td>\n",
       "      <td>1.082251</td>\n",
       "    </tr>\n",
       "    <tr>\n",
       "      <th>1</th>\n",
       "      <td>1</td>\n",
       "      <td>0.615521</td>\n",
       "    </tr>\n",
       "    <tr>\n",
       "      <th>2</th>\n",
       "      <td>2</td>\n",
       "      <td>0.139565</td>\n",
       "    </tr>\n",
       "    <tr>\n",
       "      <th>3</th>\n",
       "      <td>3</td>\n",
       "      <td>0.516863</td>\n",
       "    </tr>\n",
       "    <tr>\n",
       "      <th>4</th>\n",
       "      <td>4</td>\n",
       "      <td>3.464686</td>\n",
       "    </tr>\n",
       "    <tr>\n",
       "      <th>...</th>\n",
       "      <td>...</td>\n",
       "      <td>...</td>\n",
       "    </tr>\n",
       "    <tr>\n",
       "      <th>65744175</th>\n",
       "      <td>65744175</td>\n",
       "      <td>6.498553</td>\n",
       "    </tr>\n",
       "    <tr>\n",
       "      <th>65744176</th>\n",
       "      <td>65744176</td>\n",
       "      <td>0.040603</td>\n",
       "    </tr>\n",
       "    <tr>\n",
       "      <th>65744177</th>\n",
       "      <td>65744177</td>\n",
       "      <td>0.030273</td>\n",
       "    </tr>\n",
       "    <tr>\n",
       "      <th>65744178</th>\n",
       "      <td>65744178</td>\n",
       "      <td>1.460772</td>\n",
       "    </tr>\n",
       "    <tr>\n",
       "      <th>65744179</th>\n",
       "      <td>65744179</td>\n",
       "      <td>4.926079</td>\n",
       "    </tr>\n",
       "  </tbody>\n",
       "</table>\n",
       "<p>65744180 rows × 2 columns</p>\n",
       "</div>"
      ],
      "text/plain": [
       "            row_id    target\n",
       "0                0  1.082251\n",
       "1                1  0.615521\n",
       "2                2  0.139565\n",
       "3                3  0.516863\n",
       "4                4  3.464686\n",
       "...            ...       ...\n",
       "65744175  65744175  6.498553\n",
       "65744176  65744176  0.040603\n",
       "65744177  65744177  0.030273\n",
       "65744178  65744178  1.460772\n",
       "65744179  65744179  4.926079\n",
       "\n",
       "[65744180 rows x 2 columns]"
      ]
     },
     "execution_count": 7,
     "metadata": {},
     "output_type": "execute_result"
    }
   ],
   "source": [
    "submit"
   ]
  },
  {
   "cell_type": "code",
   "execution_count": 8,
   "id": "38b5ab43",
   "metadata": {
    "execution": {
     "iopub.execute_input": "2022-09-04T07:29:02.965367Z",
     "iopub.status.busy": "2022-09-04T07:29:02.964836Z",
     "iopub.status.idle": "2022-09-04T07:31:05.339779Z",
     "shell.execute_reply": "2022-09-04T07:31:05.338301Z"
    },
    "papermill": {
     "duration": 122.381538,
     "end_time": "2022-09-04T07:31:05.342262",
     "exception": false,
     "start_time": "2022-09-04T07:29:02.960724",
     "status": "completed"
    },
    "tags": []
   },
   "outputs": [],
   "source": [
    "submit.to_csv('3in1_ensemble.csv', index=False)"
   ]
  }
 ],
 "metadata": {
  "kernelspec": {
   "display_name": "Python 3",
   "language": "python",
   "name": "python3"
  },
  "language_info": {
   "codemirror_mode": {
    "name": "ipython",
    "version": 3
   },
   "file_extension": ".py",
   "mimetype": "text/x-python",
   "name": "python",
   "nbconvert_exporter": "python",
   "pygments_lexer": "ipython3",
   "version": "3.7.12"
  },
  "papermill": {
   "default_parameters": {},
   "duration": 211.403676,
   "end_time": "2022-09-04T07:31:06.169619",
   "environment_variables": {},
   "exception": null,
   "input_path": "__notebook__.ipynb",
   "output_path": "__notebook__.ipynb",
   "parameters": {},
   "start_time": "2022-09-04T07:27:34.765943",
   "version": "2.3.4"
  }
 },
 "nbformat": 4,
 "nbformat_minor": 5
}
