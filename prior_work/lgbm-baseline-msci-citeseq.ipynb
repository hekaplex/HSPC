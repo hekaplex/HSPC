{
 "cells": [
  {
   "cell_type": "markdown",
   "id": "47c88310",
   "metadata": {
    "_cell_guid": "b1076dfc-b9ad-4769-8c92-a6c4dae69d19",
    "_uuid": "8f2839f25d086af736a60e9eeb907d3b93b6e0e5",
    "papermill": {
     "duration": 0.006388,
     "end_time": "2022-09-03T00:51:41.831669",
     "exception": false,
     "start_time": "2022-09-03T00:51:41.825281",
     "status": "completed"
    },
    "tags": []
   },
   "source": [
    "# CITEseq LGBM Baseline\n",
    "\n",
    "* This notebook will be implemented in the LGBM model using the data processed in the quick start. \n",
    "* LGBM models usually cannot output multiple target variables, but this method can output\n",
    "\n",
    "* The reference notes for data processing are below.\n",
    "https://www.kaggle.com/code/ambrosm/msci-citeseq-quickstart"
   ]
  },
  {
   "cell_type": "markdown",
   "id": "7d07f928",
   "metadata": {
    "papermill": {
     "duration": 0.00493,
     "end_time": "2022-09-03T00:51:41.842348",
     "exception": false,
     "start_time": "2022-09-03T00:51:41.837418",
     "status": "completed"
    },
    "tags": []
   },
   "source": [
    "# Please vote if this is useful!"
   ]
  },
  {
   "cell_type": "code",
   "execution_count": 1,
   "id": "d042db80",
   "metadata": {
    "_kg_hide-input": true,
    "execution": {
     "iopub.execute_input": "2022-09-03T00:51:41.854689Z",
     "iopub.status.busy": "2022-09-03T00:51:41.853838Z",
     "iopub.status.idle": "2022-09-03T00:51:44.478500Z",
     "shell.execute_reply": "2022-09-03T00:51:44.476910Z"
    },
    "papermill": {
     "duration": 2.635369,
     "end_time": "2022-09-03T00:51:44.482692",
     "exception": false,
     "start_time": "2022-09-03T00:51:41.847323",
     "status": "completed"
    },
    "tags": []
   },
   "outputs": [
    {
     "data": {
      "text/html": [
       "<style type='text/css'>\n",
       ".datatable table.frame { margin-bottom: 0; }\n",
       ".datatable table.frame thead { border-bottom: none; }\n",
       ".datatable table.frame tr.coltypes td {  color: #FFFFFF;  line-height: 6px;  padding: 0 0.5em;}\n",
       ".datatable .bool    { background: #DDDD99; }\n",
       ".datatable .object  { background: #565656; }\n",
       ".datatable .int     { background: #5D9E5D; }\n",
       ".datatable .float   { background: #4040CC; }\n",
       ".datatable .str     { background: #CC4040; }\n",
       ".datatable .time    { background: #40CC40; }\n",
       ".datatable .row_index {  background: var(--jp-border-color3);  border-right: 1px solid var(--jp-border-color0);  color: var(--jp-ui-font-color3);  font-size: 9px;}\n",
       ".datatable .frame tbody td { text-align: left; }\n",
       ".datatable .frame tr.coltypes .row_index {  background: var(--jp-border-color0);}\n",
       ".datatable th:nth-child(2) { padding-left: 12px; }\n",
       ".datatable .hellipsis {  color: var(--jp-cell-editor-border-color);}\n",
       ".datatable .vellipsis {  background: var(--jp-layout-color0);  color: var(--jp-cell-editor-border-color);}\n",
       ".datatable .na {  color: var(--jp-cell-editor-border-color);  font-size: 80%;}\n",
       ".datatable .sp {  opacity: 0.25;}\n",
       ".datatable .footer { font-size: 9px; }\n",
       ".datatable .frame_dimensions {  background: var(--jp-border-color3);  border-top: 1px solid var(--jp-border-color0);  color: var(--jp-ui-font-color3);  display: inline-block;  opacity: 0.6;  padding: 1px 10px 1px 5px;}\n",
       "</style>\n"
      ],
      "text/plain": [
       "<IPython.core.display.HTML object>"
      ]
     },
     "metadata": {},
     "output_type": "display_data"
    }
   ],
   "source": [
    "import os, gc, pickle\n",
    "import pandas as pd\n",
    "import matplotlib.pyplot as plt\n",
    "import seaborn as sns\n",
    "import numpy as np\n",
    "from colorama import Fore, Back, Style\n",
    "from matplotlib.ticker import MaxNLocator\n",
    "import warnings\n",
    "warnings.simplefilter('ignore')\n",
    "from sklearn.base import BaseEstimator, TransformerMixin\n",
    "from sklearn.model_selection import KFold\n",
    "from sklearn.preprocessing import StandardScaler, scale\n",
    "from sklearn.decomposition import PCA\n",
    "from sklearn.dummy import DummyRegressor\n",
    "from sklearn.pipeline import make_pipeline, Pipeline\n",
    "from sklearn.linear_model import Ridge\n",
    "from sklearn.linear_model import Lasso\n",
    "from sklearn.multioutput import MultiOutputRegressor\n",
    "import lightgbm as lgb\n",
    "from sklearn.compose import TransformedTargetRegressor\n",
    "from sklearn.metrics import mean_squared_error\n",
    "\n",
    "DATA_DIR = \"/kaggle/input/open-problems-multimodal/\"\n",
    "FP_CELL_METADATA = os.path.join(DATA_DIR,\"metadata.csv\")\n",
    "\n",
    "FP_CITE_TRAIN_INPUTS = os.path.join(DATA_DIR,\"train_cite_inputs.h5\")\n",
    "FP_CITE_TRAIN_TARGETS = os.path.join(DATA_DIR,\"train_cite_targets.h5\")\n",
    "FP_CITE_TEST_INPUTS = os.path.join(DATA_DIR,\"test_cite_inputs.h5\")\n",
    "\n",
    "FP_MULTIOME_TRAIN_INPUTS = os.path.join(DATA_DIR,\"train_multi_inputs.h5\")\n",
    "FP_MULTIOME_TRAIN_TARGETS = os.path.join(DATA_DIR,\"train_multi_targets.h5\")\n",
    "FP_MULTIOME_TEST_INPUTS = os.path.join(DATA_DIR,\"test_multi_inputs.h5\")\n",
    "\n",
    "FP_SUBMISSION = os.path.join(DATA_DIR,\"sample_submission.csv\")\n",
    "FP_EVALUATION_IDS = os.path.join(DATA_DIR,\"evaluation_ids.csv\")"
   ]
  },
  {
   "cell_type": "code",
   "execution_count": 2,
   "id": "961317fe",
   "metadata": {
    "_kg_hide-input": true,
    "execution": {
     "iopub.execute_input": "2022-09-03T00:51:44.498090Z",
     "iopub.status.busy": "2022-09-03T00:51:44.497247Z",
     "iopub.status.idle": "2022-09-03T00:51:59.394256Z",
     "shell.execute_reply": "2022-09-03T00:51:59.392682Z"
    },
    "papermill": {
     "duration": 14.907554,
     "end_time": "2022-09-03T00:51:59.397501",
     "exception": false,
     "start_time": "2022-09-03T00:51:44.489947",
     "status": "completed"
    },
    "tags": []
   },
   "outputs": [
    {
     "name": "stdout",
     "output_type": "stream",
     "text": [
      "\u001b[33mWARNING: Running pip as the 'root' user can result in broken permissions and conflicting behaviour with the system package manager. It is recommended to use a virtual environment instead: https://pip.pypa.io/warnings/venv\u001b[0m\u001b[33m\r\n",
      "\u001b[0m"
     ]
    }
   ],
   "source": [
    "!pip install --quiet tables"
   ]
  },
  {
   "cell_type": "markdown",
   "id": "ae81ccae",
   "metadata": {
    "papermill": {
     "duration": 0.0045,
     "end_time": "2022-09-03T00:51:59.406942",
     "exception": false,
     "start_time": "2022-09-03T00:51:59.402442",
     "status": "completed"
    },
    "tags": []
   },
   "source": [
    "# Loading the common metadata table\n",
    "\n",
    "The current version of the model is so primitive that it doesn't use the metadata, but we load it anyway."
   ]
  },
  {
   "cell_type": "code",
   "execution_count": 3,
   "id": "1d53fa9a",
   "metadata": {
    "execution": {
     "iopub.execute_input": "2022-09-03T00:51:59.419492Z",
     "iopub.status.busy": "2022-09-03T00:51:59.418907Z",
     "iopub.status.idle": "2022-09-03T00:51:59.884412Z",
     "shell.execute_reply": "2022-09-03T00:51:59.882922Z"
    },
    "papermill": {
     "duration": 0.475213,
     "end_time": "2022-09-03T00:51:59.887164",
     "exception": false,
     "start_time": "2022-09-03T00:51:59.411951",
     "status": "completed"
    },
    "tags": []
   },
   "outputs": [
    {
     "data": {
      "text/plain": [
       "((119651, 5), (161877, 5))"
      ]
     },
     "execution_count": 3,
     "metadata": {},
     "output_type": "execute_result"
    }
   ],
   "source": [
    "df_cell = pd.read_csv(FP_CELL_METADATA)\n",
    "df_cell_cite = df_cell[df_cell.technology==\"citeseq\"]\n",
    "df_cell_multi = df_cell[df_cell.technology==\"multiome\"]\n",
    "df_cell_cite.shape, df_cell_multi.shape"
   ]
  },
  {
   "cell_type": "markdown",
   "id": "7959d0cb",
   "metadata": {
    "papermill": {
     "duration": 0.004755,
     "end_time": "2022-09-03T00:51:59.897114",
     "exception": false,
     "start_time": "2022-09-03T00:51:59.892359",
     "status": "completed"
    },
    "tags": []
   },
   "source": [
    "# Cross-validation\n",
    "\n",
    "The note I referred to had the following description, but I confirmed that 13000 rows can be rotated in memory, so I changed columns_to_use = 13000. In addition, the search is performed by changing the starting point of the line to be acquired.\n",
    "\n",
    "Data size:\n",
    "- The training input has shape 70988\\*22050 (10.6 GByte).\n",
    "- The training labels have shape 70988\\*140.\n",
    "- The test input has shape 48663\\*22050 (4.3 GByte).\n",
    "\n",
    "To get a result with only 16 GByte RAM, we simplify the problem as follows:\n",
    "- We ignore the complete metadata (donors, days, cell types).\n",
    "- We drop all feature columns which are constant.\n",
    "- Of the remaining columns, we keep only the last 12000.\n",
    "- We do a PCA and keep only the 240 most important components.\n",
    "- We use PCA(copy=False), which overwrites its input in fit_transform().\n",
    "- We fit a ridge regression model with 70988\\*240 inputs and 70988\\*140 outputs. "
   ]
  },
  {
   "cell_type": "code",
   "execution_count": 4,
   "id": "2cef54ec",
   "metadata": {
    "execution": {
     "iopub.execute_input": "2022-09-03T00:51:59.909012Z",
     "iopub.status.busy": "2022-09-03T00:51:59.908587Z",
     "iopub.status.idle": "2022-09-03T00:54:32.940323Z",
     "shell.execute_reply": "2022-09-03T00:54:32.938688Z"
    },
    "papermill": {
     "duration": 153.041737,
     "end_time": "2022-09-03T00:54:32.943822",
     "exception": false,
     "start_time": "2022-09-03T00:51:59.902085",
     "status": "completed"
    },
    "tags": []
   },
   "outputs": [
    {
     "name": "stdout",
     "output_type": "stream",
     "text": [
      "(70988, 22050)\n",
      "(70988, 21601)\n",
      "(70988, 11601)\n",
      "(70988, 240)\n",
      "(70988, 140)\n",
      "CPU times: user 5min 9s, sys: 33.2 s, total: 5min 42s\n",
      "Wall time: 2min 33s\n"
     ]
    }
   ],
   "source": [
    "%%time\n",
    "# Preprocessing\n",
    "col_start = 10000\n",
    "\n",
    "class PreprocessCiteseq(BaseEstimator, TransformerMixin):\n",
    "    columns_to_use = 13000\n",
    "    \n",
    "    @staticmethod\n",
    "    def take_column_subset(X):\n",
    "        return X[:,-(PreprocessCiteseq.columns_to_use+col_start):-col_start]\n",
    "    \n",
    "    def transform(self, X):\n",
    "        print(X.shape)\n",
    "        X = X[:,~self.all_zero_columns]\n",
    "        print(X.shape)\n",
    "        X = PreprocessCiteseq.take_column_subset(X) # use only a part of the columns\n",
    "        print(X.shape)\n",
    "        gc.collect()\n",
    "\n",
    "        X = self.pca.transform(X)\n",
    "        print(X.shape)\n",
    "        return X\n",
    "\n",
    "    def fit_transform(self, X):\n",
    "        gc.collect()\n",
    "        print(X.shape)\n",
    "        self.all_zero_columns = (X == 0).all(axis=0)\n",
    "        X = X[:,~self.all_zero_columns]\n",
    "        print(X.shape)\n",
    "        X = PreprocessCiteseq.take_column_subset(X) # use only a part of the columns\n",
    "        print(X.shape)\n",
    "        gc.collect()\n",
    "\n",
    "        self.pca = PCA(n_components=240, copy=False, random_state=1)\n",
    "        X = self.pca.fit_transform(X)\n",
    "#         plt.plot(self.pca.explained_variance_ratio_.cumsum())\n",
    "#         plt.title(\"Cumulative explained variance ratio\")\n",
    "#         plt.gca().xaxis.set_major_locator(MaxNLocator(integer=True))\n",
    "#         plt.xlabel('PCA component')\n",
    "#         plt.ylabel('Cumulative explained variance ratio')\n",
    "#         plt.show()\n",
    "        print(X.shape)\n",
    "        return X\n",
    "\n",
    "preprocessor = PreprocessCiteseq()\n",
    "\n",
    "cite_train_x = None\n",
    "cite_train_x = preprocessor.fit_transform(pd.read_hdf(FP_CITE_TRAIN_INPUTS).values)\n",
    "\n",
    "cite_train_y = pd.read_hdf(FP_CITE_TRAIN_TARGETS).values\n",
    "print(cite_train_y.shape)"
   ]
  },
  {
   "cell_type": "markdown",
   "id": "a20c018f",
   "metadata": {
    "papermill": {
     "duration": 0.005414,
     "end_time": "2022-09-03T00:54:32.955150",
     "exception": false,
     "start_time": "2022-09-03T00:54:32.949736",
     "status": "completed"
    },
    "tags": []
   },
   "source": [
    "# Modeling&Prediction\n",
    "\n",
    "We retrain the model on all training rows, delete the training data, load the test data and compute the predictions."
   ]
  },
  {
   "cell_type": "code",
   "execution_count": 5,
   "id": "f9d425f7",
   "metadata": {
    "execution": {
     "iopub.execute_input": "2022-09-03T00:54:32.969149Z",
     "iopub.status.busy": "2022-09-03T00:54:32.968524Z",
     "iopub.status.idle": "2022-09-03T06:24:57.835036Z",
     "shell.execute_reply": "2022-09-03T06:24:57.831696Z"
    },
    "papermill": {
     "duration": 19824.883015,
     "end_time": "2022-09-03T06:24:57.843681",
     "exception": false,
     "start_time": "2022-09-03T00:54:32.960666",
     "status": "completed"
    },
    "tags": []
   },
   "outputs": [
    {
     "name": "stdout",
     "output_type": "stream",
     "text": [
      "0.020304405462864876\n"
     ]
    },
    {
     "data": {
      "text/plain": [
       "238"
      ]
     },
     "execution_count": 5,
     "metadata": {},
     "output_type": "execute_result"
    }
   ],
   "source": [
    "params = {\n",
    "     'learning_rate': 0.1, \n",
    "     'metric': 'mae', \n",
    "     \"seed\": 42,\n",
    "    'reg_alpha': 0.0014, \n",
    "    'reg_lambda': 0.2, \n",
    "    'colsample_bytree': 0.8, \n",
    "    'subsample': 0.5, \n",
    "    'max_depth': 10, \n",
    "    'num_leaves': 722, \n",
    "    'min_child_samples': 83, \n",
    "    }\n",
    "\n",
    "model = MultiOutputRegressor(lgb.LGBMRegressor(**params, n_estimators=1000))\n",
    "\n",
    "model.fit(cite_train_x, cite_train_y)\n",
    "\n",
    "y_va_pred = model.predict(cite_train_x)\n",
    "mse = mean_squared_error(cite_train_y, y_va_pred)\n",
    "print(mse)\n",
    "del cite_train_x, cite_train_y\n",
    "gc.collect()"
   ]
  },
  {
   "cell_type": "code",
   "execution_count": 6,
   "id": "eee530d2",
   "metadata": {
    "execution": {
     "iopub.execute_input": "2022-09-03T06:24:57.858463Z",
     "iopub.status.busy": "2022-09-03T06:24:57.858027Z",
     "iopub.status.idle": "2022-09-03T06:35:37.325399Z",
     "shell.execute_reply": "2022-09-03T06:35:37.323436Z"
    },
    "papermill": {
     "duration": 639.484236,
     "end_time": "2022-09-03T06:35:37.334097",
     "exception": false,
     "start_time": "2022-09-03T06:24:57.849861",
     "status": "completed"
    },
    "tags": []
   },
   "outputs": [
    {
     "name": "stdout",
     "output_type": "stream",
     "text": [
      "(48663, 22050)\n",
      "(48663, 21601)\n",
      "(48663, 11601)\n",
      "(48663, 240)\n"
     ]
    },
    {
     "data": {
      "text/plain": [
       "(48663, 140)"
      ]
     },
     "execution_count": 6,
     "metadata": {},
     "output_type": "execute_result"
    }
   ],
   "source": [
    "cite_test_x = preprocessor.transform(pd.read_hdf(FP_CITE_TEST_INPUTS).values)\n",
    "test_pred = model.predict(cite_test_x)\n",
    "del cite_test_x\n",
    "test_pred.shape"
   ]
  },
  {
   "cell_type": "markdown",
   "id": "17a562ad",
   "metadata": {
    "papermill": {
     "duration": 0.005547,
     "end_time": "2022-09-03T06:35:37.345892",
     "exception": false,
     "start_time": "2022-09-03T06:35:37.340345",
     "status": "completed"
    },
    "tags": []
   },
   "source": [
    "# Submission\n",
    "\n",
    "We save the CITEseq predictions so that they can be merged with the Multiome predictions in the [Multiome quickstart notebook](https://www.kaggle.com/ambrosm/msci-multiome-quickstart).\n",
    "\n",
    "The CITEseq test predictions produced by the ridge regressor have 48663 rows (i.e., cells) and 140 columns (i.e. proteins). 48663 * 140 = 6812820.\n"
   ]
  },
  {
   "cell_type": "code",
   "execution_count": 7,
   "id": "5a34eb18",
   "metadata": {
    "execution": {
     "iopub.execute_input": "2022-09-03T06:35:37.359991Z",
     "iopub.status.busy": "2022-09-03T06:35:37.359523Z",
     "iopub.status.idle": "2022-09-03T06:35:37.587582Z",
     "shell.execute_reply": "2022-09-03T06:35:37.586326Z"
    },
    "papermill": {
     "duration": 0.239127,
     "end_time": "2022-09-03T06:35:37.590870",
     "exception": false,
     "start_time": "2022-09-03T06:35:37.351743",
     "status": "completed"
    },
    "tags": []
   },
   "outputs": [],
   "source": [
    "with open('citeseq_pred.pickle', 'wb') as f: pickle.dump(test_pred, f) # float32 array of shape (48663, 140)"
   ]
  },
  {
   "cell_type": "markdown",
   "id": "64930973",
   "metadata": {
    "papermill": {
     "duration": 0.005317,
     "end_time": "2022-09-03T06:35:37.602164",
     "exception": false,
     "start_time": "2022-09-03T06:35:37.596847",
     "status": "completed"
    },
    "tags": []
   },
   "source": [
    "The final submission will have 65744180 rows, of which the first 6812820 are for the CITEseq predictions and the remaining 58931360 for the Multiome predictions. \n",
    "\n",
    "We now read the Multiome predictions and merge the CITEseq predictions into them:"
   ]
  },
  {
   "cell_type": "code",
   "execution_count": 8,
   "id": "d5f7c220",
   "metadata": {
    "execution": {
     "iopub.execute_input": "2022-09-03T06:35:37.615658Z",
     "iopub.status.busy": "2022-09-03T06:35:37.615255Z",
     "iopub.status.idle": "2022-09-03T06:37:47.328787Z",
     "shell.execute_reply": "2022-09-03T06:37:47.327078Z"
    },
    "papermill": {
     "duration": 129.729733,
     "end_time": "2022-09-03T06:37:47.337434",
     "exception": false,
     "start_time": "2022-09-03T06:35:37.607701",
     "status": "completed"
    },
    "tags": []
   },
   "outputs": [
    {
     "data": {
      "text/plain": [
       "row_id\n",
       "0           1.222903\n",
       "1           0.614262\n",
       "2           0.305672\n",
       "3           1.559112\n",
       "4           3.393281\n",
       "              ...   \n",
       "65744175    7.271666\n",
       "65744176    0.017597\n",
       "65744177    0.025040\n",
       "65744178    1.933743\n",
       "65744179    5.111444\n",
       "Name: target, Length: 65744180, dtype: float32"
      ]
     },
     "execution_count": 8,
     "metadata": {},
     "output_type": "execute_result"
    }
   ],
   "source": [
    "with open(\"../input/msci-multiome-quickstart/partial_submission_multi.pickle\", 'rb') as f: submission = pickle.load(f)\n",
    "submission.iloc[:len(test_pred.ravel())] = test_pred.ravel()\n",
    "assert not submission.isna().any()\n",
    "submission = submission.round(6) # reduce the size of the csv\n",
    "submission.to_csv('submission.csv')\n",
    "submission"
   ]
  },
  {
   "cell_type": "code",
   "execution_count": null,
   "id": "914e9e3a",
   "metadata": {
    "papermill": {
     "duration": 0.005788,
     "end_time": "2022-09-03T06:37:47.349386",
     "exception": false,
     "start_time": "2022-09-03T06:37:47.343598",
     "status": "completed"
    },
    "tags": []
   },
   "outputs": [],
   "source": []
  },
  {
   "cell_type": "code",
   "execution_count": null,
   "id": "5e6b4041",
   "metadata": {
    "papermill": {
     "duration": 0.005564,
     "end_time": "2022-09-03T06:37:47.361064",
     "exception": false,
     "start_time": "2022-09-03T06:37:47.355500",
     "status": "completed"
    },
    "tags": []
   },
   "outputs": [],
   "source": []
  },
  {
   "cell_type": "code",
   "execution_count": null,
   "id": "a1ef1b3a",
   "metadata": {
    "papermill": {
     "duration": 0.005609,
     "end_time": "2022-09-03T06:37:47.372762",
     "exception": false,
     "start_time": "2022-09-03T06:37:47.367153",
     "status": "completed"
    },
    "tags": []
   },
   "outputs": [],
   "source": []
  }
 ],
 "metadata": {
  "kernelspec": {
   "display_name": "Python 3",
   "language": "python",
   "name": "python3"
  },
  "language_info": {
   "codemirror_mode": {
    "name": "ipython",
    "version": 3
   },
   "file_extension": ".py",
   "mimetype": "text/x-python",
   "name": "python",
   "nbconvert_exporter": "python",
   "pygments_lexer": "ipython3",
   "version": "3.7.12"
  },
  "papermill": {
   "default_parameters": {},
   "duration": 20778.301145,
   "end_time": "2022-09-03T06:37:50.186981",
   "environment_variables": {},
   "exception": null,
   "input_path": "__notebook__.ipynb",
   "output_path": "__notebook__.ipynb",
   "parameters": {},
   "start_time": "2022-09-03T00:51:31.885836",
   "version": "2.3.4"
  }
 },
 "nbformat": 4,
 "nbformat_minor": 5
}
