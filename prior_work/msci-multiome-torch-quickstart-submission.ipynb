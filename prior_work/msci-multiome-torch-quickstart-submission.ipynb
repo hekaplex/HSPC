{
 "cells": [
  {
   "cell_type": "markdown",
   "id": "734cee24",
   "metadata": {
    "papermill": {
     "duration": 0.009359,
     "end_time": "2022-09-04T13:05:45.130764",
     "exception": false,
     "start_time": "2022-09-04T13:05:45.121405",
     "status": "completed"
    },
    "tags": []
   },
   "source": [
    "# MSCI Multiome Torch Quickstart Submission\n",
    "This notebook creates submissions from the models trained in [this notebook](https://www.kaggle.com/fabiencrom/msci-multiome-torch-quickstart-w-sparse-tensors).\n",
    "\n",
    "We only predict the Multiome data and then merge in the CITEseq results from [this notebook](https://www.kaggle.com/code/ambrosm/msci-citeseq-keras-quickstart/notebook) by AmbrosM, which has the highest public score at the time I am publishing.\n",
    "\n",
    "So far we do not get better results than the one obtained by the much simpler PCA+Ridge Regression method (that you can find in [this notebook](https://www.kaggle.com/code/ambrosm/msci-multiome-quickstart) as initially proposed by AmbrosM or in [this notebook](https://www.kaggle.com/code/fabiencrom/msci-multiome-quickstart-w-sparse-matrices) for a version using sparse matrices for better results). But I expect it can be made to perform better after improving the architecture/hyperparameters.\n"
   ]
  },
  {
   "cell_type": "code",
   "execution_count": 1,
   "id": "f40c59b1",
   "metadata": {
    "execution": {
     "iopub.execute_input": "2022-09-04T13:05:45.149732Z",
     "iopub.status.busy": "2022-09-04T13:05:45.148850Z",
     "iopub.status.idle": "2022-09-04T13:05:49.804442Z",
     "shell.execute_reply": "2022-09-04T13:05:49.803429Z"
    },
    "papermill": {
     "duration": 4.668345,
     "end_time": "2022-09-04T13:05:49.807289",
     "exception": false,
     "start_time": "2022-09-04T13:05:45.138944",
     "status": "completed"
    },
    "tags": []
   },
   "outputs": [],
   "source": [
    "import os\n",
    "import copy\n",
    "import gc\n",
    "import math\n",
    "import itertools\n",
    "import pickle\n",
    "import glob\n",
    "import joblib\n",
    "import json\n",
    "import random\n",
    "import re\n",
    "import operator\n",
    "\n",
    "import collections\n",
    "from collections import defaultdict\n",
    "from operator import itemgetter, attrgetter\n",
    "\n",
    "from tqdm.notebook import tqdm\n",
    "\n",
    "import torch\n",
    "import torch.nn as nn\n",
    "\n",
    "import numpy as np\n",
    "import pandas as pd\n",
    "import plotly.express as px\n",
    "\n",
    "import scipy\n",
    "\n",
    "import sklearn\n",
    "import sklearn.cluster\n",
    "from sklearn.model_selection import train_test_split\n",
    "from sklearn.model_selection import KFold\n",
    "import sklearn.preprocessing\n",
    "\n",
    "import copy"
   ]
  },
  {
   "cell_type": "code",
   "execution_count": 2,
   "id": "47512458",
   "metadata": {
    "execution": {
     "iopub.execute_input": "2022-09-04T13:05:49.827213Z",
     "iopub.status.busy": "2022-09-04T13:05:49.826332Z",
     "iopub.status.idle": "2022-09-04T13:05:49.834627Z",
     "shell.execute_reply": "2022-09-04T13:05:49.833560Z"
    },
    "papermill": {
     "duration": 0.019561,
     "end_time": "2022-09-04T13:05:49.836743",
     "exception": false,
     "start_time": "2022-09-04T13:05:49.817182",
     "status": "completed"
    },
    "tags": []
   },
   "outputs": [],
   "source": [
    "def partial_correlation_score_torch_faster(y_true, y_pred):\n",
    "    \"\"\"Compute the correlation between each rows of the y_true and y_pred tensors.\n",
    "    Compatible with backpropagation.\n",
    "    \"\"\"\n",
    "    y_true_centered = y_true - torch.mean(y_true, dim=1)[:,None]\n",
    "    y_pred_centered = y_pred - torch.mean(y_pred, dim=1)[:,None]\n",
    "    cov_tp = torch.sum(y_true_centered*y_pred_centered, dim=1)/(y_true.shape[1]-1)\n",
    "    var_t = torch.sum(y_true_centered**2, dim=1)/(y_true.shape[1]-1)\n",
    "    var_p = torch.sum(y_pred_centered**2, dim=1)/(y_true.shape[1]-1)\n",
    "    return cov_tp/torch.sqrt(var_t*var_p)\n",
    "\n",
    "def correl_loss(pred, tgt):\n",
    "    \"\"\"Loss for directly optimizing the correlation.\n",
    "    \"\"\"\n",
    "    return -torch.mean(partial_correlation_score_torch_faster(tgt, pred))"
   ]
  },
  {
   "cell_type": "markdown",
   "id": "03124af6",
   "metadata": {
    "papermill": {
     "duration": 0.007843,
     "end_time": "2022-09-04T13:05:49.852572",
     "exception": false,
     "start_time": "2022-09-04T13:05:49.844729",
     "status": "completed"
    },
    "tags": []
   },
   "source": [
    "# Utility functions for loading and batching the sparse data in device memory"
   ]
  },
  {
   "cell_type": "code",
   "execution_count": 3,
   "id": "b41b4300",
   "metadata": {
    "execution": {
     "iopub.execute_input": "2022-09-04T13:05:49.871146Z",
     "iopub.status.busy": "2022-09-04T13:05:49.870795Z",
     "iopub.status.idle": "2022-09-04T13:05:49.882421Z",
     "shell.execute_reply": "2022-09-04T13:05:49.881487Z"
    },
    "papermill": {
     "duration": 0.022807,
     "end_time": "2022-09-04T13:05:49.884438",
     "exception": false,
     "start_time": "2022-09-04T13:05:49.861631",
     "status": "completed"
    },
    "tags": []
   },
   "outputs": [],
   "source": [
    "# Strangely, current torch implementation of csr tensor do not accept to be moved to the gpu. \n",
    "# So we make our own equivalent class\n",
    "TorchCSR = collections.namedtuple(\"TrochCSR\", \"data indices indptr shape\")\n",
    "\n",
    "def load_csr_data_to_gpu(train_inputs):\n",
    "    \"\"\"Move a scipy csr sparse matrix to the gpu as a TorchCSR object\n",
    "    This try to manage memory efficiently by creating the tensors and moving them to the gpu one by one\n",
    "    \"\"\"\n",
    "    th_data = torch.from_numpy(train_inputs.data).to(device)\n",
    "    th_indices = torch.from_numpy(train_inputs.indices).to(device)\n",
    "    th_indptr = torch.from_numpy(train_inputs.indptr).to(device)\n",
    "    th_shape = train_inputs.shape\n",
    "    return TorchCSR(th_data, th_indices, th_indptr, th_shape)\n",
    "\n",
    "def make_coo_batch(torch_csr, indx):\n",
    "    \"\"\"Make a coo torch tensor from a TorchCSR object by taking the rows indicated by the indx tensor\n",
    "    \"\"\"\n",
    "    th_data, th_indices, th_indptr, th_shape = torch_csr\n",
    "    start_pts = th_indptr[indx]\n",
    "    end_pts = th_indptr[indx+1]\n",
    "    coo_data = torch.cat([th_data[start_pts[i]: end_pts[i]] for i in range(len(start_pts))], dim=0)\n",
    "    coo_col = torch.cat([th_indices[start_pts[i]: end_pts[i]] for i in range(len(start_pts))], dim=0)\n",
    "    coo_row = torch.repeat_interleave(torch.arange(indx.shape[0], device=device), th_indptr[indx+1] - th_indptr[indx])\n",
    "    coo_batch = torch.sparse_coo_tensor(torch.vstack([coo_row, coo_col]), coo_data, [indx.shape[0], th_shape[1]])\n",
    "    return coo_batch\n",
    "\n",
    "\n",
    "def make_coo_batch_slice(torch_csr, start, end):\n",
    "    \"\"\"Make a coo torch tensor from a TorchCSR object by taking the rows within the (start, end) slice\n",
    "    \"\"\"\n",
    "    th_data, th_indices, th_indptr, th_shape = torch_csr\n",
    "    if end > th_shape[0]:\n",
    "        end = th_shape[0]\n",
    "    start_pts = th_indptr[start]\n",
    "    end_pts = th_indptr[end]\n",
    "    coo_data = th_data[start_pts: end_pts]\n",
    "    coo_col = th_indices[start_pts: end_pts]\n",
    "    coo_row = torch.repeat_interleave(torch.arange(end-start, device=device), th_indptr[start+1:end+1] - th_indptr[start:end])\n",
    "    coo_batch = torch.sparse_coo_tensor(torch.vstack([coo_row, coo_col]), coo_data, [end-start, th_shape[1]])\n",
    "    return coo_batch\n"
   ]
  },
  {
   "cell_type": "markdown",
   "id": "175706c7",
   "metadata": {
    "papermill": {
     "duration": 0.008051,
     "end_time": "2022-09-04T13:05:49.900607",
     "exception": false,
     "start_time": "2022-09-04T13:05:49.892556",
     "status": "completed"
    },
    "tags": []
   },
   "source": [
    "# GPU memory DataLoader"
   ]
  },
  {
   "cell_type": "code",
   "execution_count": 4,
   "id": "bc8c8024",
   "metadata": {
    "execution": {
     "iopub.execute_input": "2022-09-04T13:05:49.918640Z",
     "iopub.status.busy": "2022-09-04T13:05:49.918250Z",
     "iopub.status.idle": "2022-09-04T13:05:49.930017Z",
     "shell.execute_reply": "2022-09-04T13:05:49.929026Z"
    },
    "papermill": {
     "duration": 0.023667,
     "end_time": "2022-09-04T13:05:49.932125",
     "exception": false,
     "start_time": "2022-09-04T13:05:49.908458",
     "status": "completed"
    },
    "tags": []
   },
   "outputs": [],
   "source": [
    "class DataLoaderCOO:\n",
    "    \"\"\"Torch compatible DataLoader. Works with in-device TorchCSR tensors.\n",
    "    Args:\n",
    "         - train_inputs, train_targets: TorchCSR tensors\n",
    "         - train_idx: tensor containing the indices of the rows of train_inputs and train_targets that should be used\n",
    "         - batch_size, shuffle, drop_last: as in torch.utils.data.DataLoader\n",
    "    \"\"\"\n",
    "    def __init__(self, train_inputs, train_targets, train_idx=None, \n",
    "                 *,\n",
    "                batch_size=512, shuffle=False, drop_last=False):\n",
    "        self.batch_size = batch_size\n",
    "        self.shuffle = shuffle\n",
    "        self.drop_last = drop_last\n",
    "        \n",
    "        self.train_inputs = train_inputs\n",
    "        self.train_targets = train_targets\n",
    "        \n",
    "        self.train_idx = train_idx\n",
    "        \n",
    "        self.nb_examples = len(self.train_idx) if self.train_idx is not None else train_inputs.shape[0]\n",
    "        \n",
    "        self.nb_batches = self.nb_examples//batch_size\n",
    "        if not drop_last and not self.nb_examples%batch_size==0:\n",
    "            self.nb_batches +=1\n",
    "        \n",
    "    def __iter__(self):\n",
    "        if self.shuffle:\n",
    "            shuffled_idx = torch.randperm(self.nb_examples, device=device)\n",
    "            if self.train_idx is not None:\n",
    "                idx_array = self.train_idx[shuffled_idx]\n",
    "            else:\n",
    "                idx_array = shuffled_idx\n",
    "        else:\n",
    "            if self.train_idx is not None:\n",
    "                idx_array = self.train_idx\n",
    "            else:\n",
    "                idx_array = None\n",
    "            \n",
    "        for i in range(self.nb_batches):\n",
    "            slc = slice(i*self.batch_size, (i+1)*self.batch_size)\n",
    "            if idx_array is None:\n",
    "                inp_batch = make_coo_batch_slice(self.train_inputs, i*self.batch_size, (i+1)*self.batch_size)\n",
    "                if self.train_targets is None:\n",
    "                    tgt_batch = None\n",
    "                else:\n",
    "                    tgt_batch = make_coo_batch_slice(self.train_targets, i*self.batch_size, (i+1)*self.batch_size)\n",
    "            else:\n",
    "                idx_batch = idx_array[slc]\n",
    "                inp_batch = make_coo_batch(self.train_inputs, idx_batch)\n",
    "                if self.train_targets is None:\n",
    "                    tgt_batch = None\n",
    "                else:\n",
    "                    tgt_batch = make_coo_batch(self.train_targets, idx_batch)\n",
    "            yield inp_batch, tgt_batch\n",
    "            \n",
    "            \n",
    "    def __len__(self):\n",
    "        return self.nb_batches"
   ]
  },
  {
   "cell_type": "markdown",
   "id": "510670d9",
   "metadata": {
    "papermill": {
     "duration": 0.007911,
     "end_time": "2022-09-04T13:05:49.948118",
     "exception": false,
     "start_time": "2022-09-04T13:05:49.940207",
     "status": "completed"
    },
    "tags": []
   },
   "source": [
    "# Simple Model: MLP"
   ]
  },
  {
   "cell_type": "code",
   "execution_count": 5,
   "id": "461749f2",
   "metadata": {
    "execution": {
     "iopub.execute_input": "2022-09-04T13:05:49.966260Z",
     "iopub.status.busy": "2022-09-04T13:05:49.965333Z",
     "iopub.status.idle": "2022-09-04T13:05:49.973869Z",
     "shell.execute_reply": "2022-09-04T13:05:49.973012Z"
    },
    "papermill": {
     "duration": 0.019762,
     "end_time": "2022-09-04T13:05:49.976089",
     "exception": false,
     "start_time": "2022-09-04T13:05:49.956327",
     "status": "completed"
    },
    "tags": []
   },
   "outputs": [],
   "source": [
    "class MLP(nn.Module):\n",
    "    def __init__(self, layer_size_lst, add_final_activation=False):\n",
    "        super().__init__()\n",
    "        \n",
    "        assert len(layer_size_lst) > 2\n",
    "        \n",
    "        layer_lst = []\n",
    "        for i in range(len(layer_size_lst)-1):\n",
    "            sz1 = layer_size_lst[i]\n",
    "            sz2 = layer_size_lst[i+1]\n",
    "            layer_lst += [nn.Linear(sz1, sz2)]\n",
    "            if i != len(layer_size_lst)-2 or add_final_activation:\n",
    "                 layer_lst += [nn.ReLU()]\n",
    "        self.mlp = nn.Sequential(*layer_lst)\n",
    "        \n",
    "    def forward(self, x):\n",
    "        return self.mlp(x)\n",
    "    \n",
    "def build_model():\n",
    "    model = MLP([INPUT_SIZE] + config[\"layers\"] + [OUTPUT_SIZE])\n",
    "    if config[\"head\"] == \"softplus\":\n",
    "        model = nn.Sequential(model, nn.Softplus())\n",
    "    else:\n",
    "        assert config[\"head\"] is None\n",
    "    return model"
   ]
  },
  {
   "cell_type": "markdown",
   "id": "3edd6a18",
   "metadata": {
    "papermill": {
     "duration": 0.0083,
     "end_time": "2022-09-04T13:05:49.992387",
     "exception": false,
     "start_time": "2022-09-04T13:05:49.984087",
     "status": "completed"
    },
    "tags": []
   },
   "source": [
    "# test_fn function"
   ]
  },
  {
   "cell_type": "code",
   "execution_count": 6,
   "id": "11cd2be2",
   "metadata": {
    "execution": {
     "iopub.execute_input": "2022-09-04T13:05:50.011307Z",
     "iopub.status.busy": "2022-09-04T13:05:50.010280Z",
     "iopub.status.idle": "2022-09-04T13:05:50.018117Z",
     "shell.execute_reply": "2022-09-04T13:05:50.017229Z"
    },
    "papermill": {
     "duration": 0.019621,
     "end_time": "2022-09-04T13:05:50.020182",
     "exception": false,
     "start_time": "2022-09-04T13:05:50.000561",
     "status": "completed"
    },
    "tags": []
   },
   "outputs": [],
   "source": [
    "def test_fn_ensemble(model_list, dl_test):\n",
    "\n",
    "    res = torch.empty(\n",
    "        (dl_test.nb_examples, OUTPUT_SIZE), \n",
    "        device=device, dtype=torch.float32)\n",
    "    \n",
    "#     all_preds = []\n",
    "    for model in model_list:\n",
    "        model.eval()\n",
    "        \n",
    "    cur = 0\n",
    "    for inpt, tgt in tqdm(dl_test):\n",
    "        mb_size = inpt.shape[0]\n",
    "\n",
    "        with torch.no_grad():\n",
    "            pred_list = []\n",
    "            for model in model_list:\n",
    "                pred = model(inpt)\n",
    "                pred_list.append(pred)\n",
    "            pred = sum(pred_list)/len(pred_list)\n",
    "            \n",
    "#         print(res.shape, cur, cur+pred.shape[0], res[cur:cur+pred.shape[0]].shape, pred.shape)\n",
    "        res[cur:cur+pred.shape[0]] = pred\n",
    "        cur += pred.shape[0]\n",
    "            \n",
    "    return {\"preds\":res}\n"
   ]
  },
  {
   "cell_type": "markdown",
   "id": "db3d7c23",
   "metadata": {
    "papermill": {
     "duration": 0.008514,
     "end_time": "2022-09-04T13:05:50.037154",
     "exception": false,
     "start_time": "2022-09-04T13:05:50.028640",
     "status": "completed"
    },
    "tags": []
   },
   "source": [
    "# Loading Data"
   ]
  },
  {
   "cell_type": "code",
   "execution_count": 7,
   "id": "d0159ab3",
   "metadata": {
    "execution": {
     "iopub.execute_input": "2022-09-04T13:05:50.055891Z",
     "iopub.status.busy": "2022-09-04T13:05:50.054944Z",
     "iopub.status.idle": "2022-09-04T13:05:50.131662Z",
     "shell.execute_reply": "2022-09-04T13:05:50.130640Z"
    },
    "papermill": {
     "duration": 0.088052,
     "end_time": "2022-09-04T13:05:50.133735",
     "exception": false,
     "start_time": "2022-09-04T13:05:50.045683",
     "status": "completed"
    },
    "tags": []
   },
   "outputs": [
    {
     "name": "stdout",
     "output_type": "stream",
     "text": [
      "machine has 1 cuda devices\n",
      "model of first cuda device is Tesla P100-PCIE-16GB\n"
     ]
    }
   ],
   "source": [
    "if torch.cuda.is_available():\n",
    "    device = torch.device(\"cuda:0\")\n",
    "    print(f\"machine has {torch.cuda.device_count()} cuda devices\")\n",
    "    print(f\"model of first cuda device is {torch.cuda.get_device_name(0)}\")\n",
    "else:\n",
    "    device = torch.device(\"cpu\")\n"
   ]
  },
  {
   "cell_type": "code",
   "execution_count": 8,
   "id": "462b15ae",
   "metadata": {
    "execution": {
     "iopub.execute_input": "2022-09-04T13:05:50.152393Z",
     "iopub.status.busy": "2022-09-04T13:05:50.151850Z",
     "iopub.status.idle": "2022-09-04T13:05:50.156366Z",
     "shell.execute_reply": "2022-09-04T13:05:50.155370Z"
    },
    "papermill": {
     "duration": 0.015846,
     "end_time": "2022-09-04T13:05:50.158328",
     "exception": false,
     "start_time": "2022-09-04T13:05:50.142482",
     "status": "completed"
    },
    "tags": []
   },
   "outputs": [],
   "source": [
    "INPUT_SIZE = 228942 \n",
    "OUTPUT_SIZE = 23418"
   ]
  },
  {
   "cell_type": "code",
   "execution_count": 9,
   "id": "1c24d1b6",
   "metadata": {
    "execution": {
     "iopub.execute_input": "2022-09-04T13:05:50.176753Z",
     "iopub.status.busy": "2022-09-04T13:05:50.175808Z",
     "iopub.status.idle": "2022-09-04T13:05:53.170252Z",
     "shell.execute_reply": "2022-09-04T13:05:53.169011Z"
    },
    "papermill": {
     "duration": 3.006624,
     "end_time": "2022-09-04T13:05:53.173068",
     "exception": false,
     "start_time": "2022-09-04T13:05:50.166444",
     "status": "completed"
    },
    "tags": []
   },
   "outputs": [],
   "source": [
    "max_inputs = np.load(\"../input/msci-multiome-torch-quickstart-w-sparse-tensors/max_inputs.npz\")[\"max_inputs\"]\n",
    "max_inputs = torch.from_numpy(max_inputs)[0].to(device)"
   ]
  },
  {
   "cell_type": "code",
   "execution_count": 10,
   "id": "36ccff49",
   "metadata": {
    "execution": {
     "iopub.execute_input": "2022-09-04T13:05:53.191353Z",
     "iopub.status.busy": "2022-09-04T13:05:53.191005Z",
     "iopub.status.idle": "2022-09-04T13:06:26.333478Z",
     "shell.execute_reply": "2022-09-04T13:06:26.332237Z"
    },
    "papermill": {
     "duration": 33.16169,
     "end_time": "2022-09-04T13:06:26.343560",
     "exception": false,
     "start_time": "2022-09-04T13:05:53.181870",
     "status": "completed"
    },
    "tags": []
   },
   "outputs": [
    {
     "name": "stdout",
     "output_type": "stream",
     "text": [
      "CPU times: user 17.7 s, sys: 1.38 s, total: 19.1 s\n",
      "Wall time: 33.1 s\n"
     ]
    }
   ],
   "source": [
    "%%time\n",
    "test_inputs = scipy.sparse.load_npz(\n",
    "    \"../input/multimodal-single-cell-as-sparse-matrix/test_multi_inputs_values.sparse.npz\")"
   ]
  },
  {
   "cell_type": "code",
   "execution_count": 11,
   "id": "ec484189",
   "metadata": {
    "execution": {
     "iopub.execute_input": "2022-09-04T13:06:26.371790Z",
     "iopub.status.busy": "2022-09-04T13:06:26.371369Z",
     "iopub.status.idle": "2022-09-04T13:06:27.187175Z",
     "shell.execute_reply": "2022-09-04T13:06:27.186182Z"
    },
    "papermill": {
     "duration": 0.831366,
     "end_time": "2022-09-04T13:06:27.189208",
     "exception": false,
     "start_time": "2022-09-04T13:06:26.357842",
     "status": "completed"
    },
    "tags": []
   },
   "outputs": [
    {
     "name": "stdout",
     "output_type": "stream",
     "text": [
      "CPU times: user 787 ms, sys: 12.6 ms, total: 800 ms\n",
      "Wall time: 806 ms\n"
     ]
    },
    {
     "data": {
      "text/plain": [
       "246"
      ]
     },
     "execution_count": 11,
     "metadata": {},
     "output_type": "execute_result"
    }
   ],
   "source": [
    "%%time\n",
    "test_inputs = load_csr_data_to_gpu(test_inputs)\n",
    "gc.collect()"
   ]
  },
  {
   "cell_type": "code",
   "execution_count": 12,
   "id": "cff4dac8",
   "metadata": {
    "execution": {
     "iopub.execute_input": "2022-09-04T13:06:27.208122Z",
     "iopub.status.busy": "2022-09-04T13:06:27.207243Z",
     "iopub.status.idle": "2022-09-04T13:06:27.231799Z",
     "shell.execute_reply": "2022-09-04T13:06:27.230898Z"
    },
    "papermill": {
     "duration": 0.036392,
     "end_time": "2022-09-04T13:06:27.234084",
     "exception": false,
     "start_time": "2022-09-04T13:06:27.197692",
     "status": "completed"
    },
    "tags": []
   },
   "outputs": [],
   "source": [
    "test_inputs.data[...] /= max_inputs[test_inputs.indices.long()]"
   ]
  },
  {
   "cell_type": "code",
   "execution_count": 13,
   "id": "d9ca1632",
   "metadata": {
    "execution": {
     "iopub.execute_input": "2022-09-04T13:06:27.252601Z",
     "iopub.status.busy": "2022-09-04T13:06:27.251766Z",
     "iopub.status.idle": "2022-09-04T13:06:27.278609Z",
     "shell.execute_reply": "2022-09-04T13:06:27.277542Z"
    },
    "papermill": {
     "duration": 0.03835,
     "end_time": "2022-09-04T13:06:27.280796",
     "exception": false,
     "start_time": "2022-09-04T13:06:27.242446",
     "status": "completed"
    },
    "tags": []
   },
   "outputs": [
    {
     "data": {
      "text/plain": [
       "tensor(1.2306e+11, device='cuda:0')"
      ]
     },
     "execution_count": 13,
     "metadata": {},
     "output_type": "execute_result"
    }
   ],
   "source": [
    "torch.max(test_inputs.data)"
   ]
  },
  {
   "cell_type": "markdown",
   "id": "a2e5f95f",
   "metadata": {
    "papermill": {
     "duration": 0.008235,
     "end_time": "2022-09-04T13:06:27.297453",
     "exception": false,
     "start_time": "2022-09-04T13:06:27.289218",
     "status": "completed"
    },
    "tags": []
   },
   "source": [
    "# Load trained models"
   ]
  },
  {
   "cell_type": "code",
   "execution_count": 14,
   "id": "6b5ec61a",
   "metadata": {
    "execution": {
     "iopub.execute_input": "2022-09-04T13:06:27.315752Z",
     "iopub.status.busy": "2022-09-04T13:06:27.315411Z",
     "iopub.status.idle": "2022-09-04T13:06:33.663687Z",
     "shell.execute_reply": "2022-09-04T13:06:33.662221Z"
    },
    "papermill": {
     "duration": 6.359984,
     "end_time": "2022-09-04T13:06:33.665924",
     "exception": false,
     "start_time": "2022-09-04T13:06:27.305940",
     "status": "completed"
    },
    "tags": []
   },
   "outputs": [
    {
     "data": {
      "application/vnd.jupyter.widget-view+json": {
       "model_id": "057e469f4a5946aea508d5737b90528c",
       "version_major": 2,
       "version_minor": 0
      },
      "text/plain": [
       "  0%|          | 0/5 [00:00<?, ?it/s]"
      ]
     },
     "metadata": {},
     "output_type": "display_data"
    }
   ],
   "source": [
    "model_list = []\n",
    "for fn in tqdm(glob.glob(\"../input/msci-multiome-torch-quickstart-w-sparse-tensors/*_best_params.pth\")):\n",
    "    prefix = fn[:-len(\"_best_params.pth\")]\n",
    "    config_fn = prefix + \"_config.pkl\"\n",
    "    \n",
    "    config = pickle.load(open(config_fn, \"rb\"))\n",
    "    \n",
    "    model = build_model() \n",
    "    model.to(device)\n",
    "    \n",
    "    params = torch.load(fn)\n",
    "    model.load_state_dict(params)\n",
    "    \n",
    "    model_list.append(model)"
   ]
  },
  {
   "cell_type": "markdown",
   "id": "41a20d98",
   "metadata": {
    "papermill": {
     "duration": 0.008395,
     "end_time": "2022-09-04T13:06:33.683077",
     "exception": false,
     "start_time": "2022-09-04T13:06:33.674682",
     "status": "completed"
    },
    "tags": []
   },
   "source": [
    "# Generate Multiome predictions"
   ]
  },
  {
   "cell_type": "code",
   "execution_count": 15,
   "id": "a017c142",
   "metadata": {
    "execution": {
     "iopub.execute_input": "2022-09-04T13:06:33.701325Z",
     "iopub.status.busy": "2022-09-04T13:06:33.700983Z",
     "iopub.status.idle": "2022-09-04T13:06:33.705628Z",
     "shell.execute_reply": "2022-09-04T13:06:33.704475Z"
    },
    "papermill": {
     "duration": 0.016084,
     "end_time": "2022-09-04T13:06:33.707685",
     "exception": false,
     "start_time": "2022-09-04T13:06:33.691601",
     "status": "completed"
    },
    "tags": []
   },
   "outputs": [],
   "source": [
    "dl_test = DataLoaderCOO(test_inputs, None, train_idx=None,\n",
    "                batch_size=512, shuffle=False, drop_last=False)"
   ]
  },
  {
   "cell_type": "code",
   "execution_count": 16,
   "id": "d3186b3d",
   "metadata": {
    "execution": {
     "iopub.execute_input": "2022-09-04T13:06:33.725745Z",
     "iopub.status.busy": "2022-09-04T13:06:33.725420Z",
     "iopub.status.idle": "2022-09-04T13:06:56.805649Z",
     "shell.execute_reply": "2022-09-04T13:06:56.804649Z"
    },
    "papermill": {
     "duration": 23.092244,
     "end_time": "2022-09-04T13:06:56.808342",
     "exception": false,
     "start_time": "2022-09-04T13:06:33.716098",
     "status": "completed"
    },
    "tags": []
   },
   "outputs": [
    {
     "data": {
      "application/vnd.jupyter.widget-view+json": {
       "model_id": "fa4962369a774a77b189f1e1f01e6917",
       "version_major": 2,
       "version_minor": 0
      },
      "text/plain": [
       "  0%|          | 0/110 [00:00<?, ?it/s]"
      ]
     },
     "metadata": {},
     "output_type": "display_data"
    }
   ],
   "source": [
    "test_pred = test_fn_ensemble(model_list, dl_test)[\"preds\"]"
   ]
  },
  {
   "cell_type": "code",
   "execution_count": 17,
   "id": "5ec251a0",
   "metadata": {
    "execution": {
     "iopub.execute_input": "2022-09-04T13:06:56.827636Z",
     "iopub.status.busy": "2022-09-04T13:06:56.826919Z",
     "iopub.status.idle": "2022-09-04T13:06:56.981970Z",
     "shell.execute_reply": "2022-09-04T13:06:56.980864Z"
    },
    "papermill": {
     "duration": 0.167474,
     "end_time": "2022-09-04T13:06:56.984678",
     "exception": false,
     "start_time": "2022-09-04T13:06:56.817204",
     "status": "completed"
    },
    "tags": []
   },
   "outputs": [
    {
     "data": {
      "text/plain": [
       "136"
      ]
     },
     "execution_count": 17,
     "metadata": {},
     "output_type": "execute_result"
    }
   ],
   "source": [
    "del model_list\n",
    "del dl_test\n",
    "del test_inputs\n",
    "gc.collect()"
   ]
  },
  {
   "cell_type": "code",
   "execution_count": 18,
   "id": "d57b65b6",
   "metadata": {
    "execution": {
     "iopub.execute_input": "2022-09-04T13:06:57.003649Z",
     "iopub.status.busy": "2022-09-04T13:06:57.003315Z",
     "iopub.status.idle": "2022-09-04T13:06:57.010509Z",
     "shell.execute_reply": "2022-09-04T13:06:57.009647Z"
    },
    "papermill": {
     "duration": 0.018907,
     "end_time": "2022-09-04T13:06:57.012545",
     "exception": false,
     "start_time": "2022-09-04T13:06:56.993638",
     "status": "completed"
    },
    "tags": []
   },
   "outputs": [
    {
     "data": {
      "text/plain": [
       "torch.Size([55935, 23418])"
      ]
     },
     "execution_count": 18,
     "metadata": {},
     "output_type": "execute_result"
    }
   ],
   "source": [
    "test_pred.shape"
   ]
  },
  {
   "cell_type": "markdown",
   "id": "17b65a63",
   "metadata": {
    "papermill": {
     "duration": 0.008717,
     "end_time": "2022-09-04T13:06:57.030048",
     "exception": false,
     "start_time": "2022-09-04T13:06:57.021331",
     "status": "completed"
    },
    "tags": []
   },
   "source": [
    "# Creating the final submission"
   ]
  },
  {
   "cell_type": "code",
   "execution_count": 19,
   "id": "25504d51",
   "metadata": {
    "execution": {
     "iopub.execute_input": "2022-09-04T13:06:57.050425Z",
     "iopub.status.busy": "2022-09-04T13:06:57.049476Z",
     "iopub.status.idle": "2022-09-04T13:07:29.309598Z",
     "shell.execute_reply": "2022-09-04T13:07:29.308242Z"
    },
    "papermill": {
     "duration": 32.279662,
     "end_time": "2022-09-04T13:07:29.319066",
     "exception": false,
     "start_time": "2022-09-04T13:06:57.039404",
     "status": "completed"
    },
    "tags": []
   },
   "outputs": [
    {
     "name": "stdout",
     "output_type": "stream",
     "text": [
      "CPU times: user 28.8 s, sys: 5.95 s, total: 34.7 s\n",
      "Wall time: 32.2 s\n"
     ]
    }
   ],
   "source": [
    "%%time\n",
    "# Read the table of rows and columns required for submission\n",
    "eval_ids = pd.read_parquet(\"../input/multimodal-single-cell-as-sparse-matrix/evaluation.parquet\")\n",
    "\n",
    "# Convert the string columns to more efficient categorical types\n",
    "#eval_ids.cell_id = eval_ids.cell_id.apply(lambda s: int(s, base=16))\n",
    "\n",
    "eval_ids.cell_id = eval_ids.cell_id.astype(pd.CategoricalDtype())\n",
    "eval_ids.gene_id = eval_ids.gene_id.astype(pd.CategoricalDtype())"
   ]
  },
  {
   "cell_type": "code",
   "execution_count": 20,
   "id": "ae4e373f",
   "metadata": {
    "execution": {
     "iopub.execute_input": "2022-09-04T13:07:29.351576Z",
     "iopub.status.busy": "2022-09-04T13:07:29.351118Z",
     "iopub.status.idle": "2022-09-04T13:07:48.969248Z",
     "shell.execute_reply": "2022-09-04T13:07:48.968341Z"
    },
    "papermill": {
     "duration": 19.636128,
     "end_time": "2022-09-04T13:07:48.971341",
     "exception": false,
     "start_time": "2022-09-04T13:07:29.335213",
     "status": "completed"
    },
    "tags": []
   },
   "outputs": [
    {
     "data": {
      "text/plain": [
       "row_id    cell_id       gene_id        \n",
       "0         c2150f55becb  CD86              NaN\n",
       "1         c2150f55becb  CD274             NaN\n",
       "2         c2150f55becb  CD270             NaN\n",
       "3         c2150f55becb  CD155             NaN\n",
       "4         c2150f55becb  CD112             NaN\n",
       "                                           ..\n",
       "65744175  2c53aa67933d  ENSG00000134419   NaN\n",
       "65744176  2c53aa67933d  ENSG00000186862   NaN\n",
       "65744177  2c53aa67933d  ENSG00000170959   NaN\n",
       "65744178  2c53aa67933d  ENSG00000107874   NaN\n",
       "65744179  2c53aa67933d  ENSG00000166012   NaN\n",
       "Name: target, Length: 65744180, dtype: float32"
      ]
     },
     "execution_count": 20,
     "metadata": {},
     "output_type": "execute_result"
    }
   ],
   "source": [
    "# Prepare an empty series which will be filled with predictions\n",
    "submission = pd.Series(name='target',\n",
    "                       index=pd.MultiIndex.from_frame(eval_ids), \n",
    "                       dtype=np.float32)\n",
    "submission"
   ]
  },
  {
   "cell_type": "code",
   "execution_count": 21,
   "id": "4b0ff47f",
   "metadata": {
    "execution": {
     "iopub.execute_input": "2022-09-04T13:07:48.991186Z",
     "iopub.status.busy": "2022-09-04T13:07:48.990875Z",
     "iopub.status.idle": "2022-09-04T13:07:49.069880Z",
     "shell.execute_reply": "2022-09-04T13:07:49.068647Z"
    },
    "papermill": {
     "duration": 0.091312,
     "end_time": "2022-09-04T13:07:49.072236",
     "exception": false,
     "start_time": "2022-09-04T13:07:48.980924",
     "status": "completed"
    },
    "tags": []
   },
   "outputs": [
    {
     "name": "stdout",
     "output_type": "stream",
     "text": [
      "CPU times: user 29.2 ms, sys: 6.03 ms, total: 35.2 ms\n",
      "Wall time: 73.2 ms\n"
     ]
    }
   ],
   "source": [
    "%%time\n",
    "y_columns = np.load(\"../input/multimodal-single-cell-as-sparse-matrix/train_multi_targets_idxcol.npz\",\n",
    "                   allow_pickle=True)[\"columns\"]\n",
    "\n",
    "test_index = np.load(\"../input/multimodal-single-cell-as-sparse-matrix/test_multi_inputs_idxcol.npz\",\n",
    "                    allow_pickle=True)[\"index\"]"
   ]
  },
  {
   "cell_type": "code",
   "execution_count": 22,
   "id": "15530a26",
   "metadata": {
    "execution": {
     "iopub.execute_input": "2022-09-04T13:07:49.091886Z",
     "iopub.status.busy": "2022-09-04T13:07:49.091508Z",
     "iopub.status.idle": "2022-09-04T13:07:51.553781Z",
     "shell.execute_reply": "2022-09-04T13:07:51.552710Z"
    },
    "papermill": {
     "duration": 2.474882,
     "end_time": "2022-09-04T13:07:51.556170",
     "exception": false,
     "start_time": "2022-09-04T13:07:49.081288",
     "status": "completed"
    },
    "tags": []
   },
   "outputs": [],
   "source": [
    "cell_dict = dict((k,v) for v,k in enumerate(test_index)) \n",
    "assert len(cell_dict)  == len(test_index)\n",
    "\n",
    "gene_dict = dict((k,v) for v,k in enumerate(y_columns))\n",
    "assert len(gene_dict) == len(y_columns)\n",
    "\n",
    "eval_ids_cell_num = eval_ids.cell_id.apply(lambda x:cell_dict.get(x, -1))\n",
    "eval_ids_gene_num = eval_ids.gene_id.apply(lambda x:gene_dict.get(x, -1))\n",
    "\n",
    "valid_multi_rows = (eval_ids_gene_num !=-1) & (eval_ids_cell_num!=-1)"
   ]
  },
  {
   "cell_type": "code",
   "execution_count": 23,
   "id": "5a7c87f2",
   "metadata": {
    "execution": {
     "iopub.execute_input": "2022-09-04T13:07:51.575731Z",
     "iopub.status.busy": "2022-09-04T13:07:51.575407Z",
     "iopub.status.idle": "2022-09-04T13:07:51.580264Z",
     "shell.execute_reply": "2022-09-04T13:07:51.579317Z"
    },
    "papermill": {
     "duration": 0.017051,
     "end_time": "2022-09-04T13:07:51.582496",
     "exception": false,
     "start_time": "2022-09-04T13:07:51.565445",
     "status": "completed"
    },
    "tags": []
   },
   "outputs": [],
   "source": [
    "valid_multi_rows = valid_multi_rows.to_numpy()"
   ]
  },
  {
   "cell_type": "code",
   "execution_count": 24,
   "id": "c89b9a41",
   "metadata": {
    "execution": {
     "iopub.execute_input": "2022-09-04T13:07:51.601936Z",
     "iopub.status.busy": "2022-09-04T13:07:51.601656Z",
     "iopub.status.idle": "2022-09-04T13:07:53.126614Z",
     "shell.execute_reply": "2022-09-04T13:07:53.125625Z"
    },
    "papermill": {
     "duration": 1.537042,
     "end_time": "2022-09-04T13:07:53.128743",
     "exception": false,
     "start_time": "2022-09-04T13:07:51.591701",
     "status": "completed"
    },
    "tags": []
   },
   "outputs": [
    {
     "data": {
      "text/plain": [
       "array([20687, 15183, 17190, ...,  9200,  9012, 20487])"
      ]
     },
     "execution_count": 24,
     "metadata": {},
     "output_type": "execute_result"
    }
   ],
   "source": [
    "eval_ids_gene_num[valid_multi_rows].to_numpy()"
   ]
  },
  {
   "cell_type": "code",
   "execution_count": 25,
   "id": "d7136cf4",
   "metadata": {
    "execution": {
     "iopub.execute_input": "2022-09-04T13:07:53.148745Z",
     "iopub.status.busy": "2022-09-04T13:07:53.148417Z",
     "iopub.status.idle": "2022-09-04T13:07:56.080512Z",
     "shell.execute_reply": "2022-09-04T13:07:56.079580Z"
    },
    "papermill": {
     "duration": 2.945098,
     "end_time": "2022-09-04T13:07:56.083196",
     "exception": false,
     "start_time": "2022-09-04T13:07:53.138098",
     "status": "completed"
    },
    "tags": []
   },
   "outputs": [
    {
     "data": {
      "text/plain": [
       "134"
      ]
     },
     "execution_count": 25,
     "metadata": {},
     "output_type": "execute_result"
    }
   ],
   "source": [
    "submission.iloc[valid_multi_rows] = test_pred[eval_ids_cell_num[valid_multi_rows].to_numpy(),\n",
    "eval_ids_gene_num[valid_multi_rows].to_numpy()].cpu().numpy()\n",
    "\n",
    "del eval_ids_cell_num, eval_ids_gene_num, valid_multi_rows, eval_ids, test_index, y_columns\n",
    "gc.collect()"
   ]
  },
  {
   "cell_type": "code",
   "execution_count": 26,
   "id": "e403a94c",
   "metadata": {
    "execution": {
     "iopub.execute_input": "2022-09-04T13:07:56.105704Z",
     "iopub.status.busy": "2022-09-04T13:07:56.103900Z",
     "iopub.status.idle": "2022-09-04T13:07:56.115372Z",
     "shell.execute_reply": "2022-09-04T13:07:56.114335Z"
    },
    "papermill": {
     "duration": 0.026115,
     "end_time": "2022-09-04T13:07:56.118760",
     "exception": false,
     "start_time": "2022-09-04T13:07:56.092645",
     "status": "completed"
    },
    "tags": []
   },
   "outputs": [
    {
     "data": {
      "text/plain": [
       "row_id    cell_id       gene_id        \n",
       "0         c2150f55becb  CD86                    NaN\n",
       "1         c2150f55becb  CD274                   NaN\n",
       "2         c2150f55becb  CD270                   NaN\n",
       "3         c2150f55becb  CD155                   NaN\n",
       "4         c2150f55becb  CD112                   NaN\n",
       "                                             ...   \n",
       "65744175  2c53aa67933d  ENSG00000134419    2.337934\n",
       "65744176  2c53aa67933d  ENSG00000186862    0.118984\n",
       "65744177  2c53aa67933d  ENSG00000170959    0.130554\n",
       "65744178  2c53aa67933d  ENSG00000107874    0.637528\n",
       "65744179  2c53aa67933d  ENSG00000166012    2.325675\n",
       "Name: target, Length: 65744180, dtype: float32"
      ]
     },
     "execution_count": 26,
     "metadata": {},
     "output_type": "execute_result"
    }
   ],
   "source": [
    "submission"
   ]
  },
  {
   "cell_type": "code",
   "execution_count": 27,
   "id": "d77bbb48",
   "metadata": {
    "execution": {
     "iopub.execute_input": "2022-09-04T13:07:56.163318Z",
     "iopub.status.busy": "2022-09-04T13:07:56.162939Z",
     "iopub.status.idle": "2022-09-04T13:07:56.297823Z",
     "shell.execute_reply": "2022-09-04T13:07:56.296757Z"
    },
    "papermill": {
     "duration": 0.158581,
     "end_time": "2022-09-04T13:07:56.300073",
     "exception": false,
     "start_time": "2022-09-04T13:07:56.141492",
     "status": "completed"
    },
    "tags": []
   },
   "outputs": [],
   "source": [
    "submission.reset_index(drop=True, inplace=True)\n",
    "submission.index.name = 'row_id'\n"
   ]
  },
  {
   "cell_type": "markdown",
   "id": "71ec77c6",
   "metadata": {
    "papermill": {
     "duration": 0.009026,
     "end_time": "2022-09-04T13:07:56.318532",
     "exception": false,
     "start_time": "2022-09-04T13:07:56.309506",
     "status": "completed"
    },
    "tags": []
   },
   "source": [
    "# Merging in the CITEseq submission\n",
    "\n",
    "We take the CITEseq results from [this notebook](https://www.kaggle.com/code/ambrosm/msci-citeseq-keras-quickstart/notebook) by AmbrosM."
   ]
  },
  {
   "cell_type": "code",
   "execution_count": 28,
   "id": "890a7c9d",
   "metadata": {
    "execution": {
     "iopub.execute_input": "2022-09-04T13:07:56.338786Z",
     "iopub.status.busy": "2022-09-04T13:07:56.338445Z",
     "iopub.status.idle": "2022-09-04T13:08:19.842303Z",
     "shell.execute_reply": "2022-09-04T13:08:19.841354Z"
    },
    "papermill": {
     "duration": 23.516598,
     "end_time": "2022-09-04T13:08:19.844823",
     "exception": false,
     "start_time": "2022-09-04T13:07:56.328225",
     "status": "completed"
    },
    "tags": []
   },
   "outputs": [],
   "source": [
    "cite_submission = pd.read_csv(\"../input/msci-citeseq-keras-quickstart/submission.csv\")\n",
    "cite_submission = cite_submission.set_index(\"row_id\")\n",
    "cite_submission = cite_submission[\"target\"]"
   ]
  },
  {
   "cell_type": "code",
   "execution_count": 29,
   "id": "34f3cd8e",
   "metadata": {
    "execution": {
     "iopub.execute_input": "2022-09-04T13:08:19.866557Z",
     "iopub.status.busy": "2022-09-04T13:08:19.864765Z",
     "iopub.status.idle": "2022-09-04T13:08:21.788881Z",
     "shell.execute_reply": "2022-09-04T13:08:21.787870Z"
    },
    "papermill": {
     "duration": 1.93675,
     "end_time": "2022-09-04T13:08:21.791258",
     "exception": false,
     "start_time": "2022-09-04T13:08:19.854508",
     "status": "completed"
    },
    "tags": []
   },
   "outputs": [],
   "source": [
    "submission[submission.isnull()] = cite_submission[submission.isnull()]"
   ]
  },
  {
   "cell_type": "code",
   "execution_count": 30,
   "id": "f2458540",
   "metadata": {
    "execution": {
     "iopub.execute_input": "2022-09-04T13:08:21.812115Z",
     "iopub.status.busy": "2022-09-04T13:08:21.811765Z",
     "iopub.status.idle": "2022-09-04T13:08:21.820806Z",
     "shell.execute_reply": "2022-09-04T13:08:21.819762Z"
    },
    "papermill": {
     "duration": 0.021793,
     "end_time": "2022-09-04T13:08:21.823044",
     "exception": false,
     "start_time": "2022-09-04T13:08:21.801251",
     "status": "completed"
    },
    "tags": []
   },
   "outputs": [
    {
     "data": {
      "text/plain": [
       "row_id\n",
       "0           0.094605\n",
       "1          -0.162362\n",
       "2          -0.405332\n",
       "3          -0.302582\n",
       "4           1.114355\n",
       "              ...   \n",
       "65744175    2.337934\n",
       "65744176    0.118984\n",
       "65744177    0.130554\n",
       "65744178    0.637528\n",
       "65744179    2.325675\n",
       "Name: target, Length: 65744180, dtype: float32"
      ]
     },
     "execution_count": 30,
     "metadata": {},
     "output_type": "execute_result"
    }
   ],
   "source": [
    "submission"
   ]
  },
  {
   "cell_type": "code",
   "execution_count": 31,
   "id": "36cfe6f4",
   "metadata": {
    "execution": {
     "iopub.execute_input": "2022-09-04T13:08:21.843740Z",
     "iopub.status.busy": "2022-09-04T13:08:21.843428Z",
     "iopub.status.idle": "2022-09-04T13:08:21.895050Z",
     "shell.execute_reply": "2022-09-04T13:08:21.894047Z"
    },
    "papermill": {
     "duration": 0.064505,
     "end_time": "2022-09-04T13:08:21.897414",
     "exception": false,
     "start_time": "2022-09-04T13:08:21.832909",
     "status": "completed"
    },
    "tags": []
   },
   "outputs": [
    {
     "data": {
      "text/plain": [
       "False"
      ]
     },
     "execution_count": 31,
     "metadata": {},
     "output_type": "execute_result"
    }
   ],
   "source": [
    "submission.isnull().any()"
   ]
  },
  {
   "cell_type": "code",
   "execution_count": 32,
   "id": "eacff94f",
   "metadata": {
    "execution": {
     "iopub.execute_input": "2022-09-04T13:08:21.919904Z",
     "iopub.status.busy": "2022-09-04T13:08:21.918181Z",
     "iopub.status.idle": "2022-09-04T13:10:20.843632Z",
     "shell.execute_reply": "2022-09-04T13:10:20.842627Z"
    },
    "papermill": {
     "duration": 118.938731,
     "end_time": "2022-09-04T13:10:20.846292",
     "exception": false,
     "start_time": "2022-09-04T13:08:21.907561",
     "status": "completed"
    },
    "tags": []
   },
   "outputs": [],
   "source": [
    "submission.to_csv(\"submission.csv\")"
   ]
  },
  {
   "cell_type": "code",
   "execution_count": 33,
   "id": "753bf838",
   "metadata": {
    "execution": {
     "iopub.execute_input": "2022-09-04T13:10:20.868802Z",
     "iopub.status.busy": "2022-09-04T13:10:20.868378Z",
     "iopub.status.idle": "2022-09-04T13:10:22.007319Z",
     "shell.execute_reply": "2022-09-04T13:10:22.006002Z"
    },
    "papermill": {
     "duration": 1.154096,
     "end_time": "2022-09-04T13:10:22.010420",
     "exception": false,
     "start_time": "2022-09-04T13:10:20.856324",
     "status": "completed"
    },
    "tags": []
   },
   "outputs": [
    {
     "name": "stdout",
     "output_type": "stream",
     "text": [
      "row_id,target\r\n",
      "0,0.09460453\r\n",
      "1,-0.16236241\r\n",
      "2,-0.40533188\r\n",
      "3,-0.30258211\r\n",
      "4,1.1143554\r\n",
      "5,2.5725958\r\n",
      "6,0.24209185\r\n",
      "7,-0.799001\r\n",
      "8,-0.676689\r\n"
     ]
    }
   ],
   "source": [
    "!head submission.csv"
   ]
  },
  {
   "cell_type": "code",
   "execution_count": null,
   "id": "a4384294",
   "metadata": {
    "papermill": {
     "duration": 0.015366,
     "end_time": "2022-09-04T13:10:22.042523",
     "exception": false,
     "start_time": "2022-09-04T13:10:22.027157",
     "status": "completed"
    },
    "tags": []
   },
   "outputs": [],
   "source": []
  },
  {
   "cell_type": "code",
   "execution_count": null,
   "id": "fc9d58cd",
   "metadata": {
    "papermill": {
     "duration": 0.014593,
     "end_time": "2022-09-04T13:10:22.072904",
     "exception": false,
     "start_time": "2022-09-04T13:10:22.058311",
     "status": "completed"
    },
    "tags": []
   },
   "outputs": [],
   "source": []
  }
 ],
 "metadata": {
  "kernelspec": {
   "display_name": "Python 3",
   "language": "python",
   "name": "python3"
  },
  "language_info": {
   "codemirror_mode": {
    "name": "ipython",
    "version": 3
   },
   "file_extension": ".py",
   "mimetype": "text/x-python",
   "name": "python",
   "nbconvert_exporter": "python",
   "pygments_lexer": "ipython3",
   "version": "3.7.12"
  },
  "papermill": {
   "default_parameters": {},
   "duration": 287.504401,
   "end_time": "2022-09-04T13:10:24.614375",
   "environment_variables": {},
   "exception": null,
   "input_path": "__notebook__.ipynb",
   "output_path": "__notebook__.ipynb",
   "parameters": {},
   "start_time": "2022-09-04T13:05:37.109974",
   "version": "2.3.4"
  },
  "widgets": {
   "application/vnd.jupyter.widget-state+json": {
    "state": {
     "057e469f4a5946aea508d5737b90528c": {
      "model_module": "@jupyter-widgets/controls",
      "model_module_version": "1.5.0",
      "model_name": "HBoxModel",
      "state": {
       "_dom_classes": [],
       "_model_module": "@jupyter-widgets/controls",
       "_model_module_version": "1.5.0",
       "_model_name": "HBoxModel",
       "_view_count": null,
       "_view_module": "@jupyter-widgets/controls",
       "_view_module_version": "1.5.0",
       "_view_name": "HBoxView",
       "box_style": "",
       "children": [
        "IPY_MODEL_681003d0e84444d4abc3df31e6fd0f0c",
        "IPY_MODEL_d585ec52be2d43f1ab002f2c9d25ccb6",
        "IPY_MODEL_7470ebdd891b4152b7ed03cd3f2b50aa"
       ],
       "layout": "IPY_MODEL_16627b5b04d34022955b5145168caaa5"
      }
     },
     "1375234a73fa43e2b437a9c0295ed741": {
      "model_module": "@jupyter-widgets/base",
      "model_module_version": "1.2.0",
      "model_name": "LayoutModel",
      "state": {
       "_model_module": "@jupyter-widgets/base",
       "_model_module_version": "1.2.0",
       "_model_name": "LayoutModel",
       "_view_count": null,
       "_view_module": "@jupyter-widgets/base",
       "_view_module_version": "1.2.0",
       "_view_name": "LayoutView",
       "align_content": null,
       "align_items": null,
       "align_self": null,
       "border": null,
       "bottom": null,
       "display": null,
       "flex": null,
       "flex_flow": null,
       "grid_area": null,
       "grid_auto_columns": null,
       "grid_auto_flow": null,
       "grid_auto_rows": null,
       "grid_column": null,
       "grid_gap": null,
       "grid_row": null,
       "grid_template_areas": null,
       "grid_template_columns": null,
       "grid_template_rows": null,
       "height": null,
       "justify_content": null,
       "justify_items": null,
       "left": null,
       "margin": null,
       "max_height": null,
       "max_width": null,
       "min_height": null,
       "min_width": null,
       "object_fit": null,
       "object_position": null,
       "order": null,
       "overflow": null,
       "overflow_x": null,
       "overflow_y": null,
       "padding": null,
       "right": null,
       "top": null,
       "visibility": null,
       "width": null
      }
     },
     "16627b5b04d34022955b5145168caaa5": {
      "model_module": "@jupyter-widgets/base",
      "model_module_version": "1.2.0",
      "model_name": "LayoutModel",
      "state": {
       "_model_module": "@jupyter-widgets/base",
       "_model_module_version": "1.2.0",
       "_model_name": "LayoutModel",
       "_view_count": null,
       "_view_module": "@jupyter-widgets/base",
       "_view_module_version": "1.2.0",
       "_view_name": "LayoutView",
       "align_content": null,
       "align_items": null,
       "align_self": null,
       "border": null,
       "bottom": null,
       "display": null,
       "flex": null,
       "flex_flow": null,
       "grid_area": null,
       "grid_auto_columns": null,
       "grid_auto_flow": null,
       "grid_auto_rows": null,
       "grid_column": null,
       "grid_gap": null,
       "grid_row": null,
       "grid_template_areas": null,
       "grid_template_columns": null,
       "grid_template_rows": null,
       "height": null,
       "justify_content": null,
       "justify_items": null,
       "left": null,
       "margin": null,
       "max_height": null,
       "max_width": null,
       "min_height": null,
       "min_width": null,
       "object_fit": null,
       "object_position": null,
       "order": null,
       "overflow": null,
       "overflow_x": null,
       "overflow_y": null,
       "padding": null,
       "right": null,
       "top": null,
       "visibility": null,
       "width": null
      }
     },
     "2f2ccc04f18b4e86876fa323d4850592": {
      "model_module": "@jupyter-widgets/controls",
      "model_module_version": "1.5.0",
      "model_name": "FloatProgressModel",
      "state": {
       "_dom_classes": [],
       "_model_module": "@jupyter-widgets/controls",
       "_model_module_version": "1.5.0",
       "_model_name": "FloatProgressModel",
       "_view_count": null,
       "_view_module": "@jupyter-widgets/controls",
       "_view_module_version": "1.5.0",
       "_view_name": "ProgressView",
       "bar_style": "success",
       "description": "",
       "description_tooltip": null,
       "layout": "IPY_MODEL_6cb8f2b1eadb4ecb9dcedac4cf005735",
       "max": 110.0,
       "min": 0.0,
       "orientation": "horizontal",
       "style": "IPY_MODEL_d60517892fc84b3da8116348a3cd42e9",
       "value": 110.0
      }
     },
     "45bbbe9ff04f444da9571803891fc45d": {
      "model_module": "@jupyter-widgets/base",
      "model_module_version": "1.2.0",
      "model_name": "LayoutModel",
      "state": {
       "_model_module": "@jupyter-widgets/base",
       "_model_module_version": "1.2.0",
       "_model_name": "LayoutModel",
       "_view_count": null,
       "_view_module": "@jupyter-widgets/base",
       "_view_module_version": "1.2.0",
       "_view_name": "LayoutView",
       "align_content": null,
       "align_items": null,
       "align_self": null,
       "border": null,
       "bottom": null,
       "display": null,
       "flex": null,
       "flex_flow": null,
       "grid_area": null,
       "grid_auto_columns": null,
       "grid_auto_flow": null,
       "grid_auto_rows": null,
       "grid_column": null,
       "grid_gap": null,
       "grid_row": null,
       "grid_template_areas": null,
       "grid_template_columns": null,
       "grid_template_rows": null,
       "height": null,
       "justify_content": null,
       "justify_items": null,
       "left": null,
       "margin": null,
       "max_height": null,
       "max_width": null,
       "min_height": null,
       "min_width": null,
       "object_fit": null,
       "object_position": null,
       "order": null,
       "overflow": null,
       "overflow_x": null,
       "overflow_y": null,
       "padding": null,
       "right": null,
       "top": null,
       "visibility": null,
       "width": null
      }
     },
     "4903759340e54c5693878141db22fa7f": {
      "model_module": "@jupyter-widgets/controls",
      "model_module_version": "1.5.0",
      "model_name": "HTMLModel",
      "state": {
       "_dom_classes": [],
       "_model_module": "@jupyter-widgets/controls",
       "_model_module_version": "1.5.0",
       "_model_name": "HTMLModel",
       "_view_count": null,
       "_view_module": "@jupyter-widgets/controls",
       "_view_module_version": "1.5.0",
       "_view_name": "HTMLView",
       "description": "",
       "description_tooltip": null,
       "layout": "IPY_MODEL_529ec862405d44409e2b6909e66adddf",
       "placeholder": "​",
       "style": "IPY_MODEL_90a2189797274f70a293bc9b5bd07910",
       "value": " 110/110 [00:23&lt;00:00,  4.95it/s]"
      }
     },
     "4ec244f36c09439799bd430ad5765776": {
      "model_module": "@jupyter-widgets/base",
      "model_module_version": "1.2.0",
      "model_name": "LayoutModel",
      "state": {
       "_model_module": "@jupyter-widgets/base",
       "_model_module_version": "1.2.0",
       "_model_name": "LayoutModel",
       "_view_count": null,
       "_view_module": "@jupyter-widgets/base",
       "_view_module_version": "1.2.0",
       "_view_name": "LayoutView",
       "align_content": null,
       "align_items": null,
       "align_self": null,
       "border": null,
       "bottom": null,
       "display": null,
       "flex": null,
       "flex_flow": null,
       "grid_area": null,
       "grid_auto_columns": null,
       "grid_auto_flow": null,
       "grid_auto_rows": null,
       "grid_column": null,
       "grid_gap": null,
       "grid_row": null,
       "grid_template_areas": null,
       "grid_template_columns": null,
       "grid_template_rows": null,
       "height": null,
       "justify_content": null,
       "justify_items": null,
       "left": null,
       "margin": null,
       "max_height": null,
       "max_width": null,
       "min_height": null,
       "min_width": null,
       "object_fit": null,
       "object_position": null,
       "order": null,
       "overflow": null,
       "overflow_x": null,
       "overflow_y": null,
       "padding": null,
       "right": null,
       "top": null,
       "visibility": null,
       "width": null
      }
     },
     "529ec862405d44409e2b6909e66adddf": {
      "model_module": "@jupyter-widgets/base",
      "model_module_version": "1.2.0",
      "model_name": "LayoutModel",
      "state": {
       "_model_module": "@jupyter-widgets/base",
       "_model_module_version": "1.2.0",
       "_model_name": "LayoutModel",
       "_view_count": null,
       "_view_module": "@jupyter-widgets/base",
       "_view_module_version": "1.2.0",
       "_view_name": "LayoutView",
       "align_content": null,
       "align_items": null,
       "align_self": null,
       "border": null,
       "bottom": null,
       "display": null,
       "flex": null,
       "flex_flow": null,
       "grid_area": null,
       "grid_auto_columns": null,
       "grid_auto_flow": null,
       "grid_auto_rows": null,
       "grid_column": null,
       "grid_gap": null,
       "grid_row": null,
       "grid_template_areas": null,
       "grid_template_columns": null,
       "grid_template_rows": null,
       "height": null,
       "justify_content": null,
       "justify_items": null,
       "left": null,
       "margin": null,
       "max_height": null,
       "max_width": null,
       "min_height": null,
       "min_width": null,
       "object_fit": null,
       "object_position": null,
       "order": null,
       "overflow": null,
       "overflow_x": null,
       "overflow_y": null,
       "padding": null,
       "right": null,
       "top": null,
       "visibility": null,
       "width": null
      }
     },
     "681003d0e84444d4abc3df31e6fd0f0c": {
      "model_module": "@jupyter-widgets/controls",
      "model_module_version": "1.5.0",
      "model_name": "HTMLModel",
      "state": {
       "_dom_classes": [],
       "_model_module": "@jupyter-widgets/controls",
       "_model_module_version": "1.5.0",
       "_model_name": "HTMLModel",
       "_view_count": null,
       "_view_module": "@jupyter-widgets/controls",
       "_view_module_version": "1.5.0",
       "_view_name": "HTMLView",
       "description": "",
       "description_tooltip": null,
       "layout": "IPY_MODEL_1375234a73fa43e2b437a9c0295ed741",
       "placeholder": "​",
       "style": "IPY_MODEL_e8b90c65556247c7bad849e0677ef3f9",
       "value": "100%"
      }
     },
     "6cb8f2b1eadb4ecb9dcedac4cf005735": {
      "model_module": "@jupyter-widgets/base",
      "model_module_version": "1.2.0",
      "model_name": "LayoutModel",
      "state": {
       "_model_module": "@jupyter-widgets/base",
       "_model_module_version": "1.2.0",
       "_model_name": "LayoutModel",
       "_view_count": null,
       "_view_module": "@jupyter-widgets/base",
       "_view_module_version": "1.2.0",
       "_view_name": "LayoutView",
       "align_content": null,
       "align_items": null,
       "align_self": null,
       "border": null,
       "bottom": null,
       "display": null,
       "flex": null,
       "flex_flow": null,
       "grid_area": null,
       "grid_auto_columns": null,
       "grid_auto_flow": null,
       "grid_auto_rows": null,
       "grid_column": null,
       "grid_gap": null,
       "grid_row": null,
       "grid_template_areas": null,
       "grid_template_columns": null,
       "grid_template_rows": null,
       "height": null,
       "justify_content": null,
       "justify_items": null,
       "left": null,
       "margin": null,
       "max_height": null,
       "max_width": null,
       "min_height": null,
       "min_width": null,
       "object_fit": null,
       "object_position": null,
       "order": null,
       "overflow": null,
       "overflow_x": null,
       "overflow_y": null,
       "padding": null,
       "right": null,
       "top": null,
       "visibility": null,
       "width": null
      }
     },
     "6f469b8f85564177bfe27d92e8bd8eb8": {
      "model_module": "@jupyter-widgets/base",
      "model_module_version": "1.2.0",
      "model_name": "LayoutModel",
      "state": {
       "_model_module": "@jupyter-widgets/base",
       "_model_module_version": "1.2.0",
       "_model_name": "LayoutModel",
       "_view_count": null,
       "_view_module": "@jupyter-widgets/base",
       "_view_module_version": "1.2.0",
       "_view_name": "LayoutView",
       "align_content": null,
       "align_items": null,
       "align_self": null,
       "border": null,
       "bottom": null,
       "display": null,
       "flex": null,
       "flex_flow": null,
       "grid_area": null,
       "grid_auto_columns": null,
       "grid_auto_flow": null,
       "grid_auto_rows": null,
       "grid_column": null,
       "grid_gap": null,
       "grid_row": null,
       "grid_template_areas": null,
       "grid_template_columns": null,
       "grid_template_rows": null,
       "height": null,
       "justify_content": null,
       "justify_items": null,
       "left": null,
       "margin": null,
       "max_height": null,
       "max_width": null,
       "min_height": null,
       "min_width": null,
       "object_fit": null,
       "object_position": null,
       "order": null,
       "overflow": null,
       "overflow_x": null,
       "overflow_y": null,
       "padding": null,
       "right": null,
       "top": null,
       "visibility": null,
       "width": null
      }
     },
     "6fbf25fd1716419c8110fef2bb27fb97": {
      "model_module": "@jupyter-widgets/controls",
      "model_module_version": "1.5.0",
      "model_name": "HTMLModel",
      "state": {
       "_dom_classes": [],
       "_model_module": "@jupyter-widgets/controls",
       "_model_module_version": "1.5.0",
       "_model_name": "HTMLModel",
       "_view_count": null,
       "_view_module": "@jupyter-widgets/controls",
       "_view_module_version": "1.5.0",
       "_view_name": "HTMLView",
       "description": "",
       "description_tooltip": null,
       "layout": "IPY_MODEL_4ec244f36c09439799bd430ad5765776",
       "placeholder": "​",
       "style": "IPY_MODEL_f6f571d64d0e449896da09baaf84b2a8",
       "value": "100%"
      }
     },
     "7470ebdd891b4152b7ed03cd3f2b50aa": {
      "model_module": "@jupyter-widgets/controls",
      "model_module_version": "1.5.0",
      "model_name": "HTMLModel",
      "state": {
       "_dom_classes": [],
       "_model_module": "@jupyter-widgets/controls",
       "_model_module_version": "1.5.0",
       "_model_name": "HTMLModel",
       "_view_count": null,
       "_view_module": "@jupyter-widgets/controls",
       "_view_module_version": "1.5.0",
       "_view_name": "HTMLView",
       "description": "",
       "description_tooltip": null,
       "layout": "IPY_MODEL_6f469b8f85564177bfe27d92e8bd8eb8",
       "placeholder": "​",
       "style": "IPY_MODEL_9ddcca1cca9f49fb967e673a723ee875",
       "value": " 5/5 [00:06&lt;00:00,  1.24s/it]"
      }
     },
     "8e0fa401c9084d3f8333f9636a414da7": {
      "model_module": "@jupyter-widgets/base",
      "model_module_version": "1.2.0",
      "model_name": "LayoutModel",
      "state": {
       "_model_module": "@jupyter-widgets/base",
       "_model_module_version": "1.2.0",
       "_model_name": "LayoutModel",
       "_view_count": null,
       "_view_module": "@jupyter-widgets/base",
       "_view_module_version": "1.2.0",
       "_view_name": "LayoutView",
       "align_content": null,
       "align_items": null,
       "align_self": null,
       "border": null,
       "bottom": null,
       "display": null,
       "flex": null,
       "flex_flow": null,
       "grid_area": null,
       "grid_auto_columns": null,
       "grid_auto_flow": null,
       "grid_auto_rows": null,
       "grid_column": null,
       "grid_gap": null,
       "grid_row": null,
       "grid_template_areas": null,
       "grid_template_columns": null,
       "grid_template_rows": null,
       "height": null,
       "justify_content": null,
       "justify_items": null,
       "left": null,
       "margin": null,
       "max_height": null,
       "max_width": null,
       "min_height": null,
       "min_width": null,
       "object_fit": null,
       "object_position": null,
       "order": null,
       "overflow": null,
       "overflow_x": null,
       "overflow_y": null,
       "padding": null,
       "right": null,
       "top": null,
       "visibility": null,
       "width": null
      }
     },
     "90a2189797274f70a293bc9b5bd07910": {
      "model_module": "@jupyter-widgets/controls",
      "model_module_version": "1.5.0",
      "model_name": "DescriptionStyleModel",
      "state": {
       "_model_module": "@jupyter-widgets/controls",
       "_model_module_version": "1.5.0",
       "_model_name": "DescriptionStyleModel",
       "_view_count": null,
       "_view_module": "@jupyter-widgets/base",
       "_view_module_version": "1.2.0",
       "_view_name": "StyleView",
       "description_width": ""
      }
     },
     "9ddcca1cca9f49fb967e673a723ee875": {
      "model_module": "@jupyter-widgets/controls",
      "model_module_version": "1.5.0",
      "model_name": "DescriptionStyleModel",
      "state": {
       "_model_module": "@jupyter-widgets/controls",
       "_model_module_version": "1.5.0",
       "_model_name": "DescriptionStyleModel",
       "_view_count": null,
       "_view_module": "@jupyter-widgets/base",
       "_view_module_version": "1.2.0",
       "_view_name": "StyleView",
       "description_width": ""
      }
     },
     "d585ec52be2d43f1ab002f2c9d25ccb6": {
      "model_module": "@jupyter-widgets/controls",
      "model_module_version": "1.5.0",
      "model_name": "FloatProgressModel",
      "state": {
       "_dom_classes": [],
       "_model_module": "@jupyter-widgets/controls",
       "_model_module_version": "1.5.0",
       "_model_name": "FloatProgressModel",
       "_view_count": null,
       "_view_module": "@jupyter-widgets/controls",
       "_view_module_version": "1.5.0",
       "_view_name": "ProgressView",
       "bar_style": "success",
       "description": "",
       "description_tooltip": null,
       "layout": "IPY_MODEL_45bbbe9ff04f444da9571803891fc45d",
       "max": 5.0,
       "min": 0.0,
       "orientation": "horizontal",
       "style": "IPY_MODEL_d90ef25ffa614a40859a362a86661864",
       "value": 5.0
      }
     },
     "d60517892fc84b3da8116348a3cd42e9": {
      "model_module": "@jupyter-widgets/controls",
      "model_module_version": "1.5.0",
      "model_name": "ProgressStyleModel",
      "state": {
       "_model_module": "@jupyter-widgets/controls",
       "_model_module_version": "1.5.0",
       "_model_name": "ProgressStyleModel",
       "_view_count": null,
       "_view_module": "@jupyter-widgets/base",
       "_view_module_version": "1.2.0",
       "_view_name": "StyleView",
       "bar_color": null,
       "description_width": ""
      }
     },
     "d90ef25ffa614a40859a362a86661864": {
      "model_module": "@jupyter-widgets/controls",
      "model_module_version": "1.5.0",
      "model_name": "ProgressStyleModel",
      "state": {
       "_model_module": "@jupyter-widgets/controls",
       "_model_module_version": "1.5.0",
       "_model_name": "ProgressStyleModel",
       "_view_count": null,
       "_view_module": "@jupyter-widgets/base",
       "_view_module_version": "1.2.0",
       "_view_name": "StyleView",
       "bar_color": null,
       "description_width": ""
      }
     },
     "e8b90c65556247c7bad849e0677ef3f9": {
      "model_module": "@jupyter-widgets/controls",
      "model_module_version": "1.5.0",
      "model_name": "DescriptionStyleModel",
      "state": {
       "_model_module": "@jupyter-widgets/controls",
       "_model_module_version": "1.5.0",
       "_model_name": "DescriptionStyleModel",
       "_view_count": null,
       "_view_module": "@jupyter-widgets/base",
       "_view_module_version": "1.2.0",
       "_view_name": "StyleView",
       "description_width": ""
      }
     },
     "f6f571d64d0e449896da09baaf84b2a8": {
      "model_module": "@jupyter-widgets/controls",
      "model_module_version": "1.5.0",
      "model_name": "DescriptionStyleModel",
      "state": {
       "_model_module": "@jupyter-widgets/controls",
       "_model_module_version": "1.5.0",
       "_model_name": "DescriptionStyleModel",
       "_view_count": null,
       "_view_module": "@jupyter-widgets/base",
       "_view_module_version": "1.2.0",
       "_view_name": "StyleView",
       "description_width": ""
      }
     },
     "fa4962369a774a77b189f1e1f01e6917": {
      "model_module": "@jupyter-widgets/controls",
      "model_module_version": "1.5.0",
      "model_name": "HBoxModel",
      "state": {
       "_dom_classes": [],
       "_model_module": "@jupyter-widgets/controls",
       "_model_module_version": "1.5.0",
       "_model_name": "HBoxModel",
       "_view_count": null,
       "_view_module": "@jupyter-widgets/controls",
       "_view_module_version": "1.5.0",
       "_view_name": "HBoxView",
       "box_style": "",
       "children": [
        "IPY_MODEL_6fbf25fd1716419c8110fef2bb27fb97",
        "IPY_MODEL_2f2ccc04f18b4e86876fa323d4850592",
        "IPY_MODEL_4903759340e54c5693878141db22fa7f"
       ],
       "layout": "IPY_MODEL_8e0fa401c9084d3f8333f9636a414da7"
      }
     }
    },
    "version_major": 2,
    "version_minor": 0
   }
  }
 },
 "nbformat": 4,
 "nbformat_minor": 5
}
