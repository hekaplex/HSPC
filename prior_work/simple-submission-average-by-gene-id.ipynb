{
 "cells": [
  {
   "cell_type": "markdown",
   "id": "5c088ed2",
   "metadata": {
    "papermill": {
     "duration": 0.008209,
     "end_time": "2022-08-16T14:50:10.470965",
     "exception": false,
     "start_time": "2022-08-16T14:50:10.462756",
     "status": "completed"
    },
    "tags": []
   },
   "source": [
    "# Summary\n",
    "\n",
    "Focusing only on gene_id, submit the average value of gene_id.\n",
    "\n",
    "In this case, cell_id is not used."
   ]
  },
  {
   "cell_type": "markdown",
   "id": "45dd66dd",
   "metadata": {
    "papermill": {
     "duration": 0.006364,
     "end_time": "2022-08-16T14:50:10.484148",
     "exception": false,
     "start_time": "2022-08-16T14:50:10.477784",
     "status": "completed"
    },
    "tags": []
   },
   "source": [
    "# Data preparation\n",
    "\n",
    "I referred to [@peterholderrieth](https://www.kaggle.com/peterholderrieth)'s notebook. (https://www.kaggle.com/code/peterholderrieth/getting-started-data-loading)"
   ]
  },
  {
   "cell_type": "code",
   "execution_count": 1,
   "id": "f1da7cea",
   "metadata": {
    "execution": {
     "iopub.execute_input": "2022-08-16T14:50:10.499467Z",
     "iopub.status.busy": "2022-08-16T14:50:10.498962Z",
     "iopub.status.idle": "2022-08-16T14:50:28.027208Z",
     "shell.execute_reply": "2022-08-16T14:50:28.025750Z"
    },
    "papermill": {
     "duration": 17.539406,
     "end_time": "2022-08-16T14:50:28.030259",
     "exception": false,
     "start_time": "2022-08-16T14:50:10.490853",
     "status": "completed"
    },
    "tags": []
   },
   "outputs": [
    {
     "name": "stdout",
     "output_type": "stream",
     "text": [
      "\u001b[33mWARNING: Running pip as the 'root' user can result in broken permissions and conflicting behaviour with the system package manager. It is recommended to use a virtual environment instead: https://pip.pypa.io/warnings/venv\u001b[0m\u001b[33m\r\n",
      "\u001b[0m"
     ]
    }
   ],
   "source": [
    "!pip install --quiet tables"
   ]
  },
  {
   "cell_type": "code",
   "execution_count": 2,
   "id": "0a573fda",
   "metadata": {
    "execution": {
     "iopub.execute_input": "2022-08-16T14:50:28.046520Z",
     "iopub.status.busy": "2022-08-16T14:50:28.046101Z",
     "iopub.status.idle": "2022-08-16T14:50:28.051454Z",
     "shell.execute_reply": "2022-08-16T14:50:28.050195Z"
    },
    "papermill": {
     "duration": 0.01656,
     "end_time": "2022-08-16T14:50:28.053755",
     "exception": false,
     "start_time": "2022-08-16T14:50:28.037195",
     "status": "completed"
    },
    "tags": []
   },
   "outputs": [],
   "source": [
    "import os\n",
    "import pandas as pd"
   ]
  },
  {
   "cell_type": "code",
   "execution_count": 3,
   "id": "f1a9c697",
   "metadata": {
    "execution": {
     "iopub.execute_input": "2022-08-16T14:50:28.070073Z",
     "iopub.status.busy": "2022-08-16T14:50:28.069651Z",
     "iopub.status.idle": "2022-08-16T14:50:28.082539Z",
     "shell.execute_reply": "2022-08-16T14:50:28.081056Z"
    },
    "papermill": {
     "duration": 0.024554,
     "end_time": "2022-08-16T14:50:28.085479",
     "exception": false,
     "start_time": "2022-08-16T14:50:28.060925",
     "status": "completed"
    },
    "tags": []
   },
   "outputs": [
    {
     "data": {
      "text/plain": [
       "['sample_submission.csv',\n",
       " 'train_cite_targets.h5',\n",
       " 'test_multi_inputs.h5',\n",
       " 'evaluation_ids.csv',\n",
       " 'train_cite_inputs.h5',\n",
       " 'train_multi_targets.h5',\n",
       " 'train_multi_inputs.h5',\n",
       " 'metadata.csv',\n",
       " 'test_cite_inputs.h5']"
      ]
     },
     "execution_count": 3,
     "metadata": {},
     "output_type": "execute_result"
    }
   ],
   "source": [
    "os.listdir(\"/kaggle/input/open-problems-multimodal/\")"
   ]
  },
  {
   "cell_type": "code",
   "execution_count": 4,
   "id": "fd21a8bd",
   "metadata": {
    "_cell_guid": "b1076dfc-b9ad-4769-8c92-a6c4dae69d19",
    "_uuid": "8f2839f25d086af736a60e9eeb907d3b93b6e0e5",
    "execution": {
     "iopub.execute_input": "2022-08-16T14:50:28.101313Z",
     "iopub.status.busy": "2022-08-16T14:50:28.100867Z",
     "iopub.status.idle": "2022-08-16T14:50:28.109644Z",
     "shell.execute_reply": "2022-08-16T14:50:28.108406Z"
    },
    "papermill": {
     "duration": 0.019604,
     "end_time": "2022-08-16T14:50:28.112120",
     "exception": false,
     "start_time": "2022-08-16T14:50:28.092516",
     "status": "completed"
    },
    "tags": []
   },
   "outputs": [],
   "source": [
    "DATA_DIR = \"/kaggle/input/open-problems-multimodal/\"\n",
    "\n",
    "SUBMISSON = os.path.join(DATA_DIR,\"sample_submission.csv\")\n",
    "\n",
    "EVALUATION_IDS = os.path.join(DATA_DIR,\"evaluation_ids.csv\")\n",
    "\n",
    "FP_CELL_METADATA = os.path.join(DATA_DIR,\"metadata.csv\")\n",
    "\n",
    "FP_CITE_TRAIN_INPUTS = os.path.join(DATA_DIR,\"train_cite_inputs.h5\")\n",
    "FP_CITE_TRAIN_TARGETS = os.path.join(DATA_DIR,\"train_cite_targets.h5\")\n",
    "FP_CITE_TEST_INPUTS = os.path.join(DATA_DIR,\"test_cite_inputs.h5\")\n",
    "\n",
    "FP_MULTIOME_TRAIN_INPUTS = os.path.join(DATA_DIR,\"train_multi_inputs.h5\")\n",
    "FP_MULTIOME_TRAIN_TARGETS = os.path.join(DATA_DIR,\"train_multi_targets.h5\")\n",
    "FP_MULTIOME_TEST_INPUTS = os.path.join(DATA_DIR,\"test_multi_inputs.h5\")\n",
    "\n",
    "FP_SUBMISSION = os.path.join(DATA_DIR,\"sample_submission.csv\")\n",
    "FP_EVALUATION_IDS = os.path.join(DATA_DIR,\"evaluation_ids.csv\")"
   ]
  },
  {
   "cell_type": "markdown",
   "id": "0e57b56e",
   "metadata": {
    "execution": {
     "iopub.execute_input": "2022-08-11T21:31:40.540195Z",
     "iopub.status.busy": "2022-08-11T21:31:40.539251Z",
     "iopub.status.idle": "2022-08-11T21:31:40.544877Z",
     "shell.execute_reply": "2022-08-11T21:31:40.543637Z",
     "shell.execute_reply.started": "2022-08-11T21:31:40.540149Z"
    },
    "papermill": {
     "duration": 0.006688,
     "end_time": "2022-08-16T14:50:28.125732",
     "exception": false,
     "start_time": "2022-08-16T14:50:28.119044",
     "status": "completed"
    },
    "tags": []
   },
   "source": [
    "## Citeseq"
   ]
  },
  {
   "cell_type": "code",
   "execution_count": 5,
   "id": "5a0dfeb8",
   "metadata": {
    "execution": {
     "iopub.execute_input": "2022-08-16T14:50:28.141301Z",
     "iopub.status.busy": "2022-08-16T14:50:28.140852Z",
     "iopub.status.idle": "2022-08-16T14:50:28.964641Z",
     "shell.execute_reply": "2022-08-16T14:50:28.963020Z"
    },
    "papermill": {
     "duration": 0.834784,
     "end_time": "2022-08-16T14:50:28.967446",
     "exception": false,
     "start_time": "2022-08-16T14:50:28.132662",
     "status": "completed"
    },
    "tags": []
   },
   "outputs": [
    {
     "data": {
      "text/html": [
       "<div>\n",
       "<style scoped>\n",
       "    .dataframe tbody tr th:only-of-type {\n",
       "        vertical-align: middle;\n",
       "    }\n",
       "\n",
       "    .dataframe tbody tr th {\n",
       "        vertical-align: top;\n",
       "    }\n",
       "\n",
       "    .dataframe thead th {\n",
       "        text-align: right;\n",
       "    }\n",
       "</style>\n",
       "<table border=\"1\" class=\"dataframe\">\n",
       "  <thead>\n",
       "    <tr style=\"text-align: right;\">\n",
       "      <th>gene_id</th>\n",
       "      <th>CD86</th>\n",
       "      <th>CD274</th>\n",
       "      <th>CD270</th>\n",
       "      <th>CD155</th>\n",
       "      <th>CD112</th>\n",
       "      <th>CD47</th>\n",
       "      <th>CD48</th>\n",
       "      <th>CD40</th>\n",
       "      <th>CD154</th>\n",
       "      <th>CD52</th>\n",
       "      <th>...</th>\n",
       "      <th>CD94</th>\n",
       "      <th>CD162</th>\n",
       "      <th>CD85j</th>\n",
       "      <th>CD23</th>\n",
       "      <th>CD328</th>\n",
       "      <th>HLA-E</th>\n",
       "      <th>CD82</th>\n",
       "      <th>CD101</th>\n",
       "      <th>CD88</th>\n",
       "      <th>CD224</th>\n",
       "    </tr>\n",
       "    <tr>\n",
       "      <th>cell_id</th>\n",
       "      <th></th>\n",
       "      <th></th>\n",
       "      <th></th>\n",
       "      <th></th>\n",
       "      <th></th>\n",
       "      <th></th>\n",
       "      <th></th>\n",
       "      <th></th>\n",
       "      <th></th>\n",
       "      <th></th>\n",
       "      <th></th>\n",
       "      <th></th>\n",
       "      <th></th>\n",
       "      <th></th>\n",
       "      <th></th>\n",
       "      <th></th>\n",
       "      <th></th>\n",
       "      <th></th>\n",
       "      <th></th>\n",
       "      <th></th>\n",
       "      <th></th>\n",
       "    </tr>\n",
       "  </thead>\n",
       "  <tbody>\n",
       "    <tr>\n",
       "      <th>45006fe3e4c8</th>\n",
       "      <td>1.167804</td>\n",
       "      <td>0.622530</td>\n",
       "      <td>0.106959</td>\n",
       "      <td>0.324989</td>\n",
       "      <td>3.331674</td>\n",
       "      <td>6.426002</td>\n",
       "      <td>1.480766</td>\n",
       "      <td>-0.728392</td>\n",
       "      <td>-0.468851</td>\n",
       "      <td>-0.073285</td>\n",
       "      <td>...</td>\n",
       "      <td>-0.448390</td>\n",
       "      <td>3.220174</td>\n",
       "      <td>-0.533004</td>\n",
       "      <td>0.674956</td>\n",
       "      <td>-0.006187</td>\n",
       "      <td>0.682148</td>\n",
       "      <td>1.398105</td>\n",
       "      <td>0.414292</td>\n",
       "      <td>1.780314</td>\n",
       "      <td>0.548070</td>\n",
       "    </tr>\n",
       "    <tr>\n",
       "      <th>d02759a80ba2</th>\n",
       "      <td>0.818970</td>\n",
       "      <td>0.506009</td>\n",
       "      <td>1.078682</td>\n",
       "      <td>6.848758</td>\n",
       "      <td>3.524885</td>\n",
       "      <td>5.279456</td>\n",
       "      <td>4.930438</td>\n",
       "      <td>2.069372</td>\n",
       "      <td>0.333652</td>\n",
       "      <td>-0.468088</td>\n",
       "      <td>...</td>\n",
       "      <td>0.323613</td>\n",
       "      <td>8.407108</td>\n",
       "      <td>0.131301</td>\n",
       "      <td>0.047607</td>\n",
       "      <td>-0.243628</td>\n",
       "      <td>0.547864</td>\n",
       "      <td>1.832587</td>\n",
       "      <td>0.982308</td>\n",
       "      <td>2.736507</td>\n",
       "      <td>2.184063</td>\n",
       "    </tr>\n",
       "    <tr>\n",
       "      <th>c016c6b0efa5</th>\n",
       "      <td>-0.356703</td>\n",
       "      <td>-0.422261</td>\n",
       "      <td>-0.824493</td>\n",
       "      <td>1.137495</td>\n",
       "      <td>0.518924</td>\n",
       "      <td>7.221962</td>\n",
       "      <td>-0.375034</td>\n",
       "      <td>1.738071</td>\n",
       "      <td>0.142919</td>\n",
       "      <td>-0.971460</td>\n",
       "      <td>...</td>\n",
       "      <td>1.348692</td>\n",
       "      <td>4.888579</td>\n",
       "      <td>-0.279483</td>\n",
       "      <td>-0.131097</td>\n",
       "      <td>-0.177604</td>\n",
       "      <td>-0.689188</td>\n",
       "      <td>9.013709</td>\n",
       "      <td>-1.182975</td>\n",
       "      <td>3.958148</td>\n",
       "      <td>2.868600</td>\n",
       "    </tr>\n",
       "    <tr>\n",
       "      <th>ba7f733a4f75</th>\n",
       "      <td>-1.201507</td>\n",
       "      <td>0.149115</td>\n",
       "      <td>2.022468</td>\n",
       "      <td>6.021595</td>\n",
       "      <td>7.258670</td>\n",
       "      <td>2.792436</td>\n",
       "      <td>21.708519</td>\n",
       "      <td>-0.137913</td>\n",
       "      <td>1.649969</td>\n",
       "      <td>-0.754680</td>\n",
       "      <td>...</td>\n",
       "      <td>1.504426</td>\n",
       "      <td>12.391979</td>\n",
       "      <td>0.511394</td>\n",
       "      <td>0.587863</td>\n",
       "      <td>-0.752638</td>\n",
       "      <td>1.714851</td>\n",
       "      <td>3.893782</td>\n",
       "      <td>1.799661</td>\n",
       "      <td>1.537249</td>\n",
       "      <td>4.407671</td>\n",
       "    </tr>\n",
       "    <tr>\n",
       "      <th>fbcf2443ffb2</th>\n",
       "      <td>-0.100404</td>\n",
       "      <td>0.697461</td>\n",
       "      <td>0.625836</td>\n",
       "      <td>-0.298404</td>\n",
       "      <td>1.369898</td>\n",
       "      <td>3.254521</td>\n",
       "      <td>-1.659380</td>\n",
       "      <td>0.643531</td>\n",
       "      <td>0.902710</td>\n",
       "      <td>1.291877</td>\n",
       "      <td>...</td>\n",
       "      <td>0.777023</td>\n",
       "      <td>6.496499</td>\n",
       "      <td>0.279898</td>\n",
       "      <td>-0.841950</td>\n",
       "      <td>-0.869419</td>\n",
       "      <td>0.675092</td>\n",
       "      <td>5.259685</td>\n",
       "      <td>-0.835379</td>\n",
       "      <td>9.631781</td>\n",
       "      <td>1.765445</td>\n",
       "    </tr>\n",
       "  </tbody>\n",
       "</table>\n",
       "<p>5 rows × 140 columns</p>\n",
       "</div>"
      ],
      "text/plain": [
       "gene_id           CD86     CD274     CD270     CD155     CD112      CD47  \\\n",
       "cell_id                                                                    \n",
       "45006fe3e4c8  1.167804  0.622530  0.106959  0.324989  3.331674  6.426002   \n",
       "d02759a80ba2  0.818970  0.506009  1.078682  6.848758  3.524885  5.279456   \n",
       "c016c6b0efa5 -0.356703 -0.422261 -0.824493  1.137495  0.518924  7.221962   \n",
       "ba7f733a4f75 -1.201507  0.149115  2.022468  6.021595  7.258670  2.792436   \n",
       "fbcf2443ffb2 -0.100404  0.697461  0.625836 -0.298404  1.369898  3.254521   \n",
       "\n",
       "gene_id            CD48      CD40     CD154      CD52  ...      CD94  \\\n",
       "cell_id                                                ...             \n",
       "45006fe3e4c8   1.480766 -0.728392 -0.468851 -0.073285  ... -0.448390   \n",
       "d02759a80ba2   4.930438  2.069372  0.333652 -0.468088  ...  0.323613   \n",
       "c016c6b0efa5  -0.375034  1.738071  0.142919 -0.971460  ...  1.348692   \n",
       "ba7f733a4f75  21.708519 -0.137913  1.649969 -0.754680  ...  1.504426   \n",
       "fbcf2443ffb2  -1.659380  0.643531  0.902710  1.291877  ...  0.777023   \n",
       "\n",
       "gene_id           CD162     CD85j      CD23     CD328     HLA-E      CD82  \\\n",
       "cell_id                                                                     \n",
       "45006fe3e4c8   3.220174 -0.533004  0.674956 -0.006187  0.682148  1.398105   \n",
       "d02759a80ba2   8.407108  0.131301  0.047607 -0.243628  0.547864  1.832587   \n",
       "c016c6b0efa5   4.888579 -0.279483 -0.131097 -0.177604 -0.689188  9.013709   \n",
       "ba7f733a4f75  12.391979  0.511394  0.587863 -0.752638  1.714851  3.893782   \n",
       "fbcf2443ffb2   6.496499  0.279898 -0.841950 -0.869419  0.675092  5.259685   \n",
       "\n",
       "gene_id          CD101      CD88     CD224  \n",
       "cell_id                                     \n",
       "45006fe3e4c8  0.414292  1.780314  0.548070  \n",
       "d02759a80ba2  0.982308  2.736507  2.184063  \n",
       "c016c6b0efa5 -1.182975  3.958148  2.868600  \n",
       "ba7f733a4f75  1.799661  1.537249  4.407671  \n",
       "fbcf2443ffb2 -0.835379  9.631781  1.765445  \n",
       "\n",
       "[5 rows x 140 columns]"
      ]
     },
     "execution_count": 5,
     "metadata": {},
     "output_type": "execute_result"
    }
   ],
   "source": [
    "df_cite_train_y = pd.read_hdf('../input/open-problems-multimodal/train_cite_targets.h5')\n",
    "df_cite_train_y.head()"
   ]
  },
  {
   "cell_type": "code",
   "execution_count": 6,
   "id": "8f92b2f1",
   "metadata": {
    "execution": {
     "iopub.execute_input": "2022-08-16T14:50:28.984338Z",
     "iopub.status.busy": "2022-08-16T14:50:28.983134Z",
     "iopub.status.idle": "2022-08-16T14:50:29.022806Z",
     "shell.execute_reply": "2022-08-16T14:50:29.021327Z"
    },
    "papermill": {
     "duration": 0.051541,
     "end_time": "2022-08-16T14:50:29.026101",
     "exception": false,
     "start_time": "2022-08-16T14:50:28.974560",
     "status": "completed"
    },
    "tags": []
   },
   "outputs": [
    {
     "data": {
      "text/plain": [
       "gene_id\n",
       "CD86     0.454768\n",
       "CD274    0.466369\n",
       "CD270    0.918049\n",
       "CD155    5.610967\n",
       "CD112    5.307707\n",
       "           ...   \n",
       "HLA-E    0.777902\n",
       "CD82     5.375080\n",
       "CD101    0.629204\n",
       "CD88     3.608978\n",
       "CD224    3.418748\n",
       "Length: 140, dtype: float32"
      ]
     },
     "execution_count": 6,
     "metadata": {},
     "output_type": "execute_result"
    }
   ],
   "source": [
    "cite_gene_id_mean = df_cite_train_y.mean()\n",
    "cite_gene_id_mean"
   ]
  },
  {
   "cell_type": "markdown",
   "id": "ca95e52d",
   "metadata": {
    "papermill": {
     "duration": 0.00704,
     "end_time": "2022-08-16T14:50:29.040476",
     "exception": false,
     "start_time": "2022-08-16T14:50:29.033436",
     "status": "completed"
    },
    "tags": []
   },
   "source": [
    "## Multiome"
   ]
  },
  {
   "cell_type": "code",
   "execution_count": 7,
   "id": "2ee52caa",
   "metadata": {
    "execution": {
     "iopub.execute_input": "2022-08-16T14:50:29.057208Z",
     "iopub.status.busy": "2022-08-16T14:50:29.056766Z",
     "iopub.status.idle": "2022-08-16T14:50:29.062544Z",
     "shell.execute_reply": "2022-08-16T14:50:29.061418Z"
    },
    "papermill": {
     "duration": 0.017279,
     "end_time": "2022-08-16T14:50:29.065206",
     "exception": false,
     "start_time": "2022-08-16T14:50:29.047927",
     "status": "completed"
    },
    "tags": []
   },
   "outputs": [],
   "source": [
    "START = int(1e4)\n",
    "STOP = START+10000"
   ]
  },
  {
   "cell_type": "code",
   "execution_count": 8,
   "id": "097b8419",
   "metadata": {
    "execution": {
     "iopub.execute_input": "2022-08-16T14:50:29.082185Z",
     "iopub.status.busy": "2022-08-16T14:50:29.081418Z",
     "iopub.status.idle": "2022-08-16T14:50:37.791184Z",
     "shell.execute_reply": "2022-08-16T14:50:37.789448Z"
    },
    "papermill": {
     "duration": 8.721852,
     "end_time": "2022-08-16T14:50:37.794395",
     "exception": false,
     "start_time": "2022-08-16T14:50:29.072543",
     "status": "completed"
    },
    "tags": []
   },
   "outputs": [
    {
     "name": "stdout",
     "output_type": "stream",
     "text": [
      "<class 'pandas.core.frame.DataFrame'>\n",
      "Index: 10000 entries, ba6695d0c309 to 4f5343ecd720\n",
      "Columns: 23418 entries, ENSG00000121410 to ENSG00000074755\n",
      "dtypes: float32(23418)\n",
      "memory usage: 893.4+ MB\n"
     ]
    }
   ],
   "source": [
    "df_multi_train_y = pd.read_hdf(FP_MULTIOME_TRAIN_TARGETS, start=START, stop=STOP)\n",
    "df_multi_train_y.info()"
   ]
  },
  {
   "cell_type": "code",
   "execution_count": 9,
   "id": "678e7ad6",
   "metadata": {
    "execution": {
     "iopub.execute_input": "2022-08-16T14:50:37.812184Z",
     "iopub.status.busy": "2022-08-16T14:50:37.811688Z",
     "iopub.status.idle": "2022-08-16T14:50:38.449759Z",
     "shell.execute_reply": "2022-08-16T14:50:38.448714Z"
    },
    "papermill": {
     "duration": 0.650552,
     "end_time": "2022-08-16T14:50:38.452522",
     "exception": false,
     "start_time": "2022-08-16T14:50:37.801970",
     "status": "completed"
    },
    "tags": []
   },
   "outputs": [
    {
     "data": {
      "text/plain": [
       "gene_id\n",
       "ENSG00000121410    0.525649\n",
       "ENSG00000268895    0.352912\n",
       "ENSG00000175899    0.172957\n",
       "ENSG00000245105    0.051324\n",
       "ENSG00000166535    0.030551\n",
       "                     ...   \n",
       "ENSG00000070476    2.755820\n",
       "ENSG00000203995    0.017515\n",
       "ENSG00000162378    1.199799\n",
       "ENSG00000159840    1.044870\n",
       "ENSG00000074755    2.094545\n",
       "Length: 23418, dtype: float32"
      ]
     },
     "execution_count": 9,
     "metadata": {},
     "output_type": "execute_result"
    }
   ],
   "source": [
    "multi_gene_id_mean = df_multi_train_y.mean()\n",
    "multi_gene_id_mean"
   ]
  },
  {
   "cell_type": "markdown",
   "id": "a4cdd92c",
   "metadata": {
    "papermill": {
     "duration": 0.007134,
     "end_time": "2022-08-16T14:50:38.467163",
     "exception": false,
     "start_time": "2022-08-16T14:50:38.460029",
     "status": "completed"
    },
    "tags": []
   },
   "source": [
    "## Convert gene_id to int (to save memory)"
   ]
  },
  {
   "cell_type": "code",
   "execution_count": 10,
   "id": "715414e8",
   "metadata": {
    "execution": {
     "iopub.execute_input": "2022-08-16T14:50:38.484638Z",
     "iopub.status.busy": "2022-08-16T14:50:38.484162Z",
     "iopub.status.idle": "2022-08-16T14:50:38.492794Z",
     "shell.execute_reply": "2022-08-16T14:50:38.491327Z"
    },
    "papermill": {
     "duration": 0.020733,
     "end_time": "2022-08-16T14:50:38.495553",
     "exception": false,
     "start_time": "2022-08-16T14:50:38.474820",
     "status": "completed"
    },
    "tags": []
   },
   "outputs": [
    {
     "data": {
      "text/plain": [
       "Index(['CD86', 'CD274', 'CD270', 'CD155', 'CD112', 'CD47', 'CD48', 'CD40',\n",
       "       'CD154', 'CD52',\n",
       "       ...\n",
       "       'CD94', 'CD162', 'CD85j', 'CD23', 'CD328', 'HLA-E', 'CD82', 'CD101',\n",
       "       'CD88', 'CD224'],\n",
       "      dtype='object', name='gene_id', length=140)"
      ]
     },
     "execution_count": 10,
     "metadata": {},
     "output_type": "execute_result"
    }
   ],
   "source": [
    "cite_gene_id_mean.index"
   ]
  },
  {
   "cell_type": "code",
   "execution_count": 11,
   "id": "cf7c27f6",
   "metadata": {
    "execution": {
     "iopub.execute_input": "2022-08-16T14:50:38.513415Z",
     "iopub.status.busy": "2022-08-16T14:50:38.512564Z",
     "iopub.status.idle": "2022-08-16T14:50:38.521523Z",
     "shell.execute_reply": "2022-08-16T14:50:38.520320Z"
    },
    "papermill": {
     "duration": 0.021044,
     "end_time": "2022-08-16T14:50:38.524196",
     "exception": false,
     "start_time": "2022-08-16T14:50:38.503152",
     "status": "completed"
    },
    "tags": []
   },
   "outputs": [
    {
     "data": {
      "text/plain": [
       "Index(['ENSG00000121410', 'ENSG00000268895', 'ENSG00000175899',\n",
       "       'ENSG00000245105', 'ENSG00000166535', 'ENSG00000256661',\n",
       "       'ENSG00000184389', 'ENSG00000128274', 'ENSG00000094914',\n",
       "       'ENSG00000081760',\n",
       "       ...\n",
       "       'ENSG00000086827', 'ENSG00000174442', 'ENSG00000122952',\n",
       "       'ENSG00000198205', 'ENSG00000198455', 'ENSG00000070476',\n",
       "       'ENSG00000203995', 'ENSG00000162378', 'ENSG00000159840',\n",
       "       'ENSG00000074755'],\n",
       "      dtype='object', name='gene_id', length=23418)"
      ]
     },
     "execution_count": 11,
     "metadata": {},
     "output_type": "execute_result"
    }
   ],
   "source": [
    "multi_gene_id_mean.index"
   ]
  },
  {
   "cell_type": "code",
   "execution_count": 12,
   "id": "b16666a7",
   "metadata": {
    "execution": {
     "iopub.execute_input": "2022-08-16T14:50:38.542079Z",
     "iopub.status.busy": "2022-08-16T14:50:38.541312Z",
     "iopub.status.idle": "2022-08-16T14:50:38.558208Z",
     "shell.execute_reply": "2022-08-16T14:50:38.556773Z"
    },
    "papermill": {
     "duration": 0.028699,
     "end_time": "2022-08-16T14:50:38.560789",
     "exception": false,
     "start_time": "2022-08-16T14:50:38.532090",
     "status": "completed"
    },
    "tags": []
   },
   "outputs": [
    {
     "data": {
      "text/html": [
       "<div>\n",
       "<style scoped>\n",
       "    .dataframe tbody tr th:only-of-type {\n",
       "        vertical-align: middle;\n",
       "    }\n",
       "\n",
       "    .dataframe tbody tr th {\n",
       "        vertical-align: top;\n",
       "    }\n",
       "\n",
       "    .dataframe thead th {\n",
       "        text-align: right;\n",
       "    }\n",
       "</style>\n",
       "<table border=\"1\" class=\"dataframe\">\n",
       "  <thead>\n",
       "    <tr style=\"text-align: right;\">\n",
       "      <th></th>\n",
       "      <th>gene_id</th>\n",
       "    </tr>\n",
       "  </thead>\n",
       "  <tbody>\n",
       "    <tr>\n",
       "      <th>0</th>\n",
       "      <td>CD86</td>\n",
       "    </tr>\n",
       "    <tr>\n",
       "      <th>1</th>\n",
       "      <td>CD274</td>\n",
       "    </tr>\n",
       "    <tr>\n",
       "      <th>2</th>\n",
       "      <td>CD270</td>\n",
       "    </tr>\n",
       "    <tr>\n",
       "      <th>3</th>\n",
       "      <td>CD155</td>\n",
       "    </tr>\n",
       "    <tr>\n",
       "      <th>4</th>\n",
       "      <td>CD112</td>\n",
       "    </tr>\n",
       "    <tr>\n",
       "      <th>...</th>\n",
       "      <td>...</td>\n",
       "    </tr>\n",
       "    <tr>\n",
       "      <th>23553</th>\n",
       "      <td>ENSG00000070476</td>\n",
       "    </tr>\n",
       "    <tr>\n",
       "      <th>23554</th>\n",
       "      <td>ENSG00000203995</td>\n",
       "    </tr>\n",
       "    <tr>\n",
       "      <th>23555</th>\n",
       "      <td>ENSG00000162378</td>\n",
       "    </tr>\n",
       "    <tr>\n",
       "      <th>23556</th>\n",
       "      <td>ENSG00000159840</td>\n",
       "    </tr>\n",
       "    <tr>\n",
       "      <th>23557</th>\n",
       "      <td>ENSG00000074755</td>\n",
       "    </tr>\n",
       "  </tbody>\n",
       "</table>\n",
       "<p>23558 rows × 1 columns</p>\n",
       "</div>"
      ],
      "text/plain": [
       "               gene_id\n",
       "0                 CD86\n",
       "1                CD274\n",
       "2                CD270\n",
       "3                CD155\n",
       "4                CD112\n",
       "...                ...\n",
       "23553  ENSG00000070476\n",
       "23554  ENSG00000203995\n",
       "23555  ENSG00000162378\n",
       "23556  ENSG00000159840\n",
       "23557  ENSG00000074755\n",
       "\n",
       "[23558 rows x 1 columns]"
      ]
     },
     "execution_count": 12,
     "metadata": {},
     "output_type": "execute_result"
    }
   ],
   "source": [
    "_ = list(cite_gene_id_mean.index) + list(multi_gene_id_mean.index)\n",
    "gene_id = pd.DataFrame(_, columns=['gene_id'])\n",
    "gene_id"
   ]
  },
  {
   "cell_type": "code",
   "execution_count": 13,
   "id": "1fbb6b13",
   "metadata": {
    "execution": {
     "iopub.execute_input": "2022-08-16T14:50:38.578520Z",
     "iopub.status.busy": "2022-08-16T14:50:38.578085Z",
     "iopub.status.idle": "2022-08-16T14:50:38.614688Z",
     "shell.execute_reply": "2022-08-16T14:50:38.613315Z"
    },
    "papermill": {
     "duration": 0.048913,
     "end_time": "2022-08-16T14:50:38.617713",
     "exception": false,
     "start_time": "2022-08-16T14:50:38.568800",
     "status": "completed"
    },
    "tags": []
   },
   "outputs": [
    {
     "data": {
      "text/plain": [
       "486954      1\n",
       "9361326     1\n",
       "49488671    1\n",
       "56361970    1\n",
       "56291592    1\n",
       "           ..\n",
       "49688382    1\n",
       "45636815    1\n",
       "45553405    1\n",
       "53613037    1\n",
       "9519835     1\n",
       "Name: gene_id_int, Length: 23558, dtype: int64"
      ]
     },
     "execution_count": 13,
     "metadata": {},
     "output_type": "execute_result"
    }
   ],
   "source": [
    "gene_id['gene_id_int'] = gene_id['gene_id'].apply(lambda x: int(x.replace('-', '').replace('.', '')[-8:],34)).astype(int)\n",
    "gene_id['gene_id_int'].value_counts()"
   ]
  },
  {
   "cell_type": "markdown",
   "id": "091fec8b",
   "metadata": {
    "papermill": {
     "duration": 0.00794,
     "end_time": "2022-08-16T14:50:38.634010",
     "exception": false,
     "start_time": "2022-08-16T14:50:38.626070",
     "status": "completed"
    },
    "tags": []
   },
   "source": [
    "# Create submit file"
   ]
  },
  {
   "cell_type": "code",
   "execution_count": 14,
   "id": "79968e25",
   "metadata": {
    "execution": {
     "iopub.execute_input": "2022-08-16T14:50:38.651807Z",
     "iopub.status.busy": "2022-08-16T14:50:38.651397Z",
     "iopub.status.idle": "2022-08-16T14:50:53.891000Z",
     "shell.execute_reply": "2022-08-16T14:50:53.889138Z"
    },
    "papermill": {
     "duration": 15.251682,
     "end_time": "2022-08-16T14:50:53.893796",
     "exception": false,
     "start_time": "2022-08-16T14:50:38.642114",
     "status": "completed"
    },
    "tags": []
   },
   "outputs": [
    {
     "name": "stdout",
     "output_type": "stream",
     "text": [
      "<class 'pandas.core.frame.DataFrame'>\n",
      "RangeIndex: 65744180 entries, 0 to 65744179\n",
      "Data columns (total 1 columns):\n",
      " #   Column  Dtype\n",
      "---  ------  -----\n",
      " 0   row_id  int64\n",
      "dtypes: int64(1)\n",
      "memory usage: 501.6 MB\n"
     ]
    }
   ],
   "source": [
    "df_sample_submission = pd.read_csv(SUBMISSON, usecols=['row_id'])\n",
    "df_sample_submission.info()"
   ]
  },
  {
   "cell_type": "code",
   "execution_count": 15,
   "id": "cd2b3481",
   "metadata": {
    "execution": {
     "iopub.execute_input": "2022-08-16T14:50:53.912380Z",
     "iopub.status.busy": "2022-08-16T14:50:53.911927Z",
     "iopub.status.idle": "2022-08-16T14:52:57.603321Z",
     "shell.execute_reply": "2022-08-16T14:52:57.601905Z"
    },
    "papermill": {
     "duration": 123.710955,
     "end_time": "2022-08-16T14:52:57.613042",
     "exception": false,
     "start_time": "2022-08-16T14:50:53.902087",
     "status": "completed"
    },
    "tags": []
   },
   "outputs": [
    {
     "name": "stdout",
     "output_type": "stream",
     "text": [
      "<class 'pandas.core.frame.DataFrame'>\n",
      "RangeIndex: 65744180 entries, 0 to 65744179\n",
      "Data columns (total 2 columns):\n",
      " #   Column       Dtype\n",
      "---  ------       -----\n",
      " 0   row_id       int64\n",
      " 1   gene_id_int  int64\n",
      "dtypes: int64(2)\n",
      "memory usage: 1003.2 MB\n"
     ]
    }
   ],
   "source": [
    "df_evaluation = pd.read_csv(EVALUATION_IDS, usecols=['row_id', 'gene_id'])\n",
    "df_evaluation['gene_id_int'] = df_evaluation['gene_id'].apply(lambda x: int(x.replace('-', '').replace('.', '')[-8:],34)).astype(int)\n",
    "df_evaluation.drop(['gene_id'], axis=1, inplace=True)\n",
    "df_evaluation.info()"
   ]
  },
  {
   "cell_type": "code",
   "execution_count": 16,
   "id": "2b6d235d",
   "metadata": {
    "execution": {
     "iopub.execute_input": "2022-08-16T14:52:57.631666Z",
     "iopub.status.busy": "2022-08-16T14:52:57.631202Z",
     "iopub.status.idle": "2022-08-16T14:54:06.018950Z",
     "shell.execute_reply": "2022-08-16T14:54:06.017475Z"
    },
    "papermill": {
     "duration": 68.409644,
     "end_time": "2022-08-16T14:54:06.031114",
     "exception": false,
     "start_time": "2022-08-16T14:52:57.621470",
     "status": "completed"
    },
    "tags": []
   },
   "outputs": [
    {
     "name": "stdout",
     "output_type": "stream",
     "text": [
      "<class 'pandas.core.frame.DataFrame'>\n",
      "Int64Index: 65744180 entries, 0 to 65744179\n",
      "Data columns (total 2 columns):\n",
      " #   Column       Dtype\n",
      "---  ------       -----\n",
      " 0   row_id       int64\n",
      " 1   gene_id_int  int64\n",
      "dtypes: int64(2)\n",
      "memory usage: 1.5 GB\n"
     ]
    }
   ],
   "source": [
    "df_sample_submission = df_sample_submission.merge(df_evaluation, how='left', on='row_id')\n",
    "df_sample_submission.info()"
   ]
  },
  {
   "cell_type": "code",
   "execution_count": 17,
   "id": "cc474172",
   "metadata": {
    "execution": {
     "iopub.execute_input": "2022-08-16T14:54:06.051453Z",
     "iopub.status.busy": "2022-08-16T14:54:06.050624Z",
     "iopub.status.idle": "2022-08-16T14:54:06.062314Z",
     "shell.execute_reply": "2022-08-16T14:54:06.061230Z"
    },
    "papermill": {
     "duration": 0.024195,
     "end_time": "2022-08-16T14:54:06.064986",
     "exception": false,
     "start_time": "2022-08-16T14:54:06.040791",
     "status": "completed"
    },
    "tags": []
   },
   "outputs": [],
   "source": [
    "cite_gene_id_mean = pd.DataFrame(cite_gene_id_mean, columns=['target']).reset_index()\n",
    "cite_gene_id_mean['gene_id_int'] = cite_gene_id_mean['gene_id'].apply(lambda x: int(x.replace('-', '').replace('.', '')[-8:],34)).astype(int)\n",
    "cite_gene_id_mean.drop(['gene_id'], axis=1, inplace=True)"
   ]
  },
  {
   "cell_type": "code",
   "execution_count": 18,
   "id": "80302a73",
   "metadata": {
    "execution": {
     "iopub.execute_input": "2022-08-16T14:54:06.084502Z",
     "iopub.status.busy": "2022-08-16T14:54:06.083714Z",
     "iopub.status.idle": "2022-08-16T14:54:06.115976Z",
     "shell.execute_reply": "2022-08-16T14:54:06.114576Z"
    },
    "papermill": {
     "duration": 0.045686,
     "end_time": "2022-08-16T14:54:06.119309",
     "exception": false,
     "start_time": "2022-08-16T14:54:06.073623",
     "status": "completed"
    },
    "tags": []
   },
   "outputs": [],
   "source": [
    "multi_gene_id_mean = pd.DataFrame(multi_gene_id_mean, columns=['target']).reset_index()\n",
    "multi_gene_id_mean['gene_id_int'] = multi_gene_id_mean['gene_id'].apply(lambda x: int(x.replace('-', '').replace('.', '')[-8:],34)).astype(int)\n",
    "multi_gene_id_mean.drop(['gene_id'], axis=1, inplace=True)"
   ]
  },
  {
   "cell_type": "code",
   "execution_count": 19,
   "id": "6aed3c99",
   "metadata": {
    "execution": {
     "iopub.execute_input": "2022-08-16T14:54:06.138751Z",
     "iopub.status.busy": "2022-08-16T14:54:06.137408Z",
     "iopub.status.idle": "2022-08-16T14:54:06.153769Z",
     "shell.execute_reply": "2022-08-16T14:54:06.152295Z"
    },
    "papermill": {
     "duration": 0.029167,
     "end_time": "2022-08-16T14:54:06.156799",
     "exception": false,
     "start_time": "2022-08-16T14:54:06.127632",
     "status": "completed"
    },
    "tags": []
   },
   "outputs": [
    {
     "name": "stdout",
     "output_type": "stream",
     "text": [
      "<class 'pandas.core.frame.DataFrame'>\n",
      "Int64Index: 23558 entries, 0 to 23417\n",
      "Data columns (total 2 columns):\n",
      " #   Column       Non-Null Count  Dtype  \n",
      "---  ------       --------------  -----  \n",
      " 0   target       23558 non-null  float32\n",
      " 1   gene_id_int  23558 non-null  int64  \n",
      "dtypes: float32(1), int64(1)\n",
      "memory usage: 460.1 KB\n"
     ]
    }
   ],
   "source": [
    "cite_multi_gene_id_mean = pd.concat([cite_gene_id_mean, multi_gene_id_mean])\n",
    "cite_multi_gene_id_mean.info()"
   ]
  },
  {
   "cell_type": "code",
   "execution_count": 20,
   "id": "073fba34",
   "metadata": {
    "execution": {
     "iopub.execute_input": "2022-08-16T14:54:06.176274Z",
     "iopub.status.busy": "2022-08-16T14:54:06.175117Z",
     "iopub.status.idle": "2022-08-16T14:54:26.714093Z",
     "shell.execute_reply": "2022-08-16T14:54:26.712429Z"
    },
    "papermill": {
     "duration": 20.552243,
     "end_time": "2022-08-16T14:54:26.717442",
     "exception": false,
     "start_time": "2022-08-16T14:54:06.165199",
     "status": "completed"
    },
    "tags": []
   },
   "outputs": [
    {
     "name": "stdout",
     "output_type": "stream",
     "text": [
      "<class 'pandas.core.frame.DataFrame'>\n",
      "Int64Index: 65744180 entries, 0 to 65744179\n",
      "Data columns (total 3 columns):\n",
      " #   Column       Dtype  \n",
      "---  ------       -----  \n",
      " 0   row_id       int64  \n",
      " 1   gene_id_int  int64  \n",
      " 2   target       float32\n",
      "dtypes: float32(1), int64(2)\n",
      "memory usage: 1.7 GB\n"
     ]
    }
   ],
   "source": [
    "df_sample_submission = df_sample_submission.merge(cite_multi_gene_id_mean, how='left', on='gene_id_int')\n",
    "df_sample_submission.info()"
   ]
  },
  {
   "cell_type": "code",
   "execution_count": 21,
   "id": "bef32b31",
   "metadata": {
    "execution": {
     "iopub.execute_input": "2022-08-16T14:54:26.737692Z",
     "iopub.status.busy": "2022-08-16T14:54:26.737216Z",
     "iopub.status.idle": "2022-08-16T14:56:31.989544Z",
     "shell.execute_reply": "2022-08-16T14:56:31.987715Z"
    },
    "papermill": {
     "duration": 125.265601,
     "end_time": "2022-08-16T14:56:31.992675",
     "exception": false,
     "start_time": "2022-08-16T14:54:26.727074",
     "status": "completed"
    },
    "tags": []
   },
   "outputs": [],
   "source": [
    "df_sample_submission[['row_id', 'target']].to_csv('submission.csv', index=False)"
   ]
  }
 ],
 "metadata": {
  "kernelspec": {
   "display_name": "Python 3",
   "language": "python",
   "name": "python3"
  },
  "language_info": {
   "codemirror_mode": {
    "name": "ipython",
    "version": 3
   },
   "file_extension": ".py",
   "mimetype": "text/x-python",
   "name": "python",
   "nbconvert_exporter": "python",
   "pygments_lexer": "ipython3",
   "version": "3.7.12"
  },
  "papermill": {
   "default_parameters": {},
   "duration": 393.018977,
   "end_time": "2022-08-16T14:56:33.028871",
   "environment_variables": {},
   "exception": null,
   "input_path": "__notebook__.ipynb",
   "output_path": "__notebook__.ipynb",
   "parameters": {},
   "start_time": "2022-08-16T14:50:00.009894",
   "version": "2.3.4"
  }
 },
 "nbformat": 4,
 "nbformat_minor": 5
}
