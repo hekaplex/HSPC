{
 "cells": [
  {
   "cell_type": "markdown",
   "id": "3e16b190",
   "metadata": {
    "_cell_guid": "b1076dfc-b9ad-4769-8c92-a6c4dae69d19",
    "_uuid": "8f2839f25d086af736a60e9eeb907d3b93b6e0e5",
    "papermill": {
     "duration": 0.011232,
     "end_time": "2022-08-19T10:52:01.476478",
     "exception": false,
     "start_time": "2022-08-19T10:52:01.465246",
     "status": "completed"
    },
    "tags": []
   },
   "source": [
    "# 1. Overview\n",
    "The goal of this competition is to better understand the relationship between different modalities in cells. The goal of this notebook is to gain a better understanding of the associated data. This equips us with the knowledge needed to make good decisions about model design and data layout.\n",
    "\n",
    "**This is a work in progress. If any aspect needs clarification, please let me know. My understanding of genetics is very limited. Feel free to point out anything that is false.**\n",
    "\n",
    "<div style=\"color:white;display:fill;\n",
    "            background-color:#3bb2d6;font-size:200%;\">\n",
    "    <p style=\"padding: 4px;color:white;\"><b>1.1 What do we want to learn?</b></p>\n",
    "</div>\n",
    "\n",
    "During transcription in cells, there is a known flow of information. DNA must be accessible to produce RNA. Produced RNA is used as a template to build proteins. Therefore, one could assume that we can use knowledge about the accessibility of DNA to predict future states of RNA and that we could use knowledge about RNA to predict the concentration of proteins in the future. In this challenge, we want to learn more about this relationship between DNA, RNA, and proteins. We thus need to capture information about three distinct properties of a cell:\n",
    "* chromatin accessibility\n",
    "* gene expression\n",
    "* surface protein levels\n",
    "\n",
    "<div style=\"color:white;display:fill;\n",
    "            background-color:#3bb2d6;font-size:200%;\">\n",
    "    <p style=\"padding: 4px;color:white;\"><b>1.2 How are those three properties of a cell presented?</b></p>\n",
    "</div>\n",
    "\n",
    "Before we have a look at how the information about those properties of a cell is laid out, we must note that the methods used to obtain the data do not capture all properties at once. We have two distinct methods for testing. The first one is the \"10x Chromium Single Cell Multiome ATAC + Gene Expression\" short \"multiome\" test. The second one is the \"10x Genomics Single Cell Gene Expression with Feature Barcoding technology\" short \"citeseq\" test.\n",
    "\n",
    "With the multiome test, we can measure **chromatin accessibility and gene expression**. With the citeseq test, we can measure **gene expression and surface protein levels**.\n",
    "\n",
    "Therefore, we will have data about chromatin accessibility and surface protein levels once (from multiome and citeseq, respectively). And we will have data about gene expression two times, one from each test. With that out of the way, let's dive into how the data is actually presented.\n",
    "\n",
    "<div style=\"color:white;display:fill;\n",
    "            background-color:#3bb2d6;font-size:200%;\">\n",
    "    <p style=\"padding: 4px;color:white;\"><b>1.3 Imports</b></p>\n",
    "</div>"
   ]
  },
  {
   "cell_type": "code",
   "execution_count": 1,
   "id": "333765bf",
   "metadata": {
    "_kg_hide-input": true,
    "_kg_hide-output": true,
    "execution": {
     "iopub.execute_input": "2022-08-19T10:52:01.498942Z",
     "iopub.status.busy": "2022-08-19T10:52:01.497828Z",
     "iopub.status.idle": "2022-08-19T10:52:16.727685Z",
     "shell.execute_reply": "2022-08-19T10:52:16.726290Z"
    },
    "papermill": {
     "duration": 15.244538,
     "end_time": "2022-08-19T10:52:16.730908",
     "exception": false,
     "start_time": "2022-08-19T10:52:01.486370",
     "status": "completed"
    },
    "tags": []
   },
   "outputs": [
    {
     "name": "stdout",
     "output_type": "stream",
     "text": [
      "\u001b[33mWARNING: Running pip as the 'root' user can result in broken permissions and conflicting behaviour with the system package manager. It is recommended to use a virtual environment instead: https://pip.pypa.io/warnings/venv\u001b[0m\u001b[33m\r\n",
      "\u001b[0m"
     ]
    }
   ],
   "source": [
    "# installs\n",
    "!pip install --quiet tables\n",
    "\n",
    "# imports\n",
    "import os\n",
    "import pandas as pd\n",
    "import matplotlib.pyplot as plt\n",
    "import numpy as np\n",
    "\n",
    "\n",
    "# set paths\n",
    "DATA_DIR = \"../input/open-problems-multimodal/\"\n",
    "FP_CELL_METADATA = os.path.join(DATA_DIR,\"metadata.csv\")\n",
    "\n",
    "FP_CITE_TRAIN_INPUTS = os.path.join(DATA_DIR,\"train_cite_inputs.h5\")\n",
    "FP_CITE_TRAIN_TARGETS = os.path.join(DATA_DIR,\"train_cite_targets.h5\")\n",
    "FP_CITE_TEST_INPUTS = os.path.join(DATA_DIR,\"test_cite_inputs.h5\")\n",
    "\n",
    "FP_MULTIOME_TRAIN_INPUTS = os.path.join(DATA_DIR,\"train_multi_inputs.h5\")\n",
    "FP_MULTIOME_TRAIN_TARGETS = os.path.join(DATA_DIR,\"train_multi_targets.h5\")\n",
    "FP_MULTIOME_TEST_INPUTS = os.path.join(DATA_DIR,\"test_multi_inputs.h5\")\n",
    "\n",
    "FP_SUBMISSION = os.path.join(DATA_DIR,\"sample_submission.csv\")\n",
    "FP_EVALUATION_IDS = os.path.join(DATA_DIR,\"evaluation_ids.csv\")"
   ]
  },
  {
   "cell_type": "markdown",
   "id": "b14d989e",
   "metadata": {
    "papermill": {
     "duration": 0.008997,
     "end_time": "2022-08-19T10:52:16.749473",
     "exception": false,
     "start_time": "2022-08-19T10:52:16.740476",
     "status": "completed"
    },
    "tags": []
   },
   "source": [
    "# 2. Data\n",
    "\n",
    "<div style=\"color:white;display:fill;\n",
    "            background-color:#3bb2d6;font-size:200%;\">\n",
    "    <p style=\"padding: 4px;color:white;\"><b>2.1 Chromatin accessibility data</b></p>\n",
    "</div>\n",
    "\n",
    "First we will have a look at the data about chromatin accessibility. Inspecting the corresponding HDF5 file, we see that the data is stored in one single table having dimensions (228942, 105942). Each value is stored as a 32bit float. Thus, to load the full table into memory while preserving the 32bit accuracy, we will need about 90 GB of RAM. This is quite a lot. Therefore, we will only look at a chunk of the data here and also don't load the whole dataset into memory while training or doing transformations. The other HDF5 tables also store values as 32bit floats."
   ]
  },
  {
   "cell_type": "code",
   "execution_count": 2,
   "id": "796509d9",
   "metadata": {
    "execution": {
     "iopub.execute_input": "2022-08-19T10:52:16.771690Z",
     "iopub.status.busy": "2022-08-19T10:52:16.770439Z",
     "iopub.status.idle": "2022-08-19T10:52:21.849895Z",
     "shell.execute_reply": "2022-08-19T10:52:21.848972Z"
    },
    "papermill": {
     "duration": 5.096668,
     "end_time": "2022-08-19T10:52:21.855308",
     "exception": false,
     "start_time": "2022-08-19T10:52:16.758640",
     "status": "completed"
    },
    "tags": []
   },
   "outputs": [
    {
     "data": {
      "text/html": [
       "<div>\n",
       "<style scoped>\n",
       "    .dataframe tbody tr th:only-of-type {\n",
       "        vertical-align: middle;\n",
       "    }\n",
       "\n",
       "    .dataframe tbody tr th {\n",
       "        vertical-align: top;\n",
       "    }\n",
       "\n",
       "    .dataframe thead th {\n",
       "        text-align: right;\n",
       "    }\n",
       "</style>\n",
       "<table border=\"1\" class=\"dataframe\">\n",
       "  <thead>\n",
       "    <tr style=\"text-align: right;\">\n",
       "      <th>gene_id</th>\n",
       "      <th>GL000194.1:114519-115365</th>\n",
       "      <th>GL000194.1:55758-56597</th>\n",
       "      <th>GL000194.1:58217-58957</th>\n",
       "      <th>GL000194.1:59535-60431</th>\n",
       "      <th>GL000195.1:119766-120427</th>\n",
       "      <th>GL000195.1:120736-121603</th>\n",
       "      <th>GL000195.1:137437-138345</th>\n",
       "      <th>GL000195.1:15901-16653</th>\n",
       "      <th>GL000195.1:22357-23209</th>\n",
       "      <th>GL000195.1:23751-24619</th>\n",
       "      <th>...</th>\n",
       "      <th>chrY:7722278-7723128</th>\n",
       "      <th>chrY:7723971-7724880</th>\n",
       "      <th>chrY:7729854-7730772</th>\n",
       "      <th>chrY:7731785-7732664</th>\n",
       "      <th>chrY:7810142-7811040</th>\n",
       "      <th>chrY:7814107-7815018</th>\n",
       "      <th>chrY:7818751-7819626</th>\n",
       "      <th>chrY:7836768-7837671</th>\n",
       "      <th>chrY:7869454-7870371</th>\n",
       "      <th>chrY:7873814-7874709</th>\n",
       "    </tr>\n",
       "    <tr>\n",
       "      <th>cell_id</th>\n",
       "      <th></th>\n",
       "      <th></th>\n",
       "      <th></th>\n",
       "      <th></th>\n",
       "      <th></th>\n",
       "      <th></th>\n",
       "      <th></th>\n",
       "      <th></th>\n",
       "      <th></th>\n",
       "      <th></th>\n",
       "      <th></th>\n",
       "      <th></th>\n",
       "      <th></th>\n",
       "      <th></th>\n",
       "      <th></th>\n",
       "      <th></th>\n",
       "      <th></th>\n",
       "      <th></th>\n",
       "      <th></th>\n",
       "      <th></th>\n",
       "      <th></th>\n",
       "    </tr>\n",
       "  </thead>\n",
       "  <tbody>\n",
       "    <tr>\n",
       "      <th>ba6695d0c309</th>\n",
       "      <td>0.000000</td>\n",
       "      <td>0.0</td>\n",
       "      <td>0.0</td>\n",
       "      <td>0.0</td>\n",
       "      <td>0.0</td>\n",
       "      <td>0.0</td>\n",
       "      <td>0.0</td>\n",
       "      <td>0.0</td>\n",
       "      <td>0.0</td>\n",
       "      <td>0.0</td>\n",
       "      <td>...</td>\n",
       "      <td>0.0</td>\n",
       "      <td>0.000000</td>\n",
       "      <td>0.0</td>\n",
       "      <td>0.0</td>\n",
       "      <td>0.0</td>\n",
       "      <td>0.0</td>\n",
       "      <td>0.0</td>\n",
       "      <td>0.0</td>\n",
       "      <td>0.0</td>\n",
       "      <td>0.0</td>\n",
       "    </tr>\n",
       "    <tr>\n",
       "      <th>30f05b8589b3</th>\n",
       "      <td>0.000000</td>\n",
       "      <td>0.0</td>\n",
       "      <td>0.0</td>\n",
       "      <td>0.0</td>\n",
       "      <td>0.0</td>\n",
       "      <td>0.0</td>\n",
       "      <td>0.0</td>\n",
       "      <td>0.0</td>\n",
       "      <td>0.0</td>\n",
       "      <td>0.0</td>\n",
       "      <td>...</td>\n",
       "      <td>0.0</td>\n",
       "      <td>0.000000</td>\n",
       "      <td>0.0</td>\n",
       "      <td>0.0</td>\n",
       "      <td>0.0</td>\n",
       "      <td>0.0</td>\n",
       "      <td>0.0</td>\n",
       "      <td>0.0</td>\n",
       "      <td>0.0</td>\n",
       "      <td>0.0</td>\n",
       "    </tr>\n",
       "    <tr>\n",
       "      <th>3feaf6105071</th>\n",
       "      <td>3.858121</td>\n",
       "      <td>0.0</td>\n",
       "      <td>0.0</td>\n",
       "      <td>0.0</td>\n",
       "      <td>0.0</td>\n",
       "      <td>0.0</td>\n",
       "      <td>0.0</td>\n",
       "      <td>0.0</td>\n",
       "      <td>0.0</td>\n",
       "      <td>0.0</td>\n",
       "      <td>...</td>\n",
       "      <td>0.0</td>\n",
       "      <td>0.000000</td>\n",
       "      <td>0.0</td>\n",
       "      <td>0.0</td>\n",
       "      <td>0.0</td>\n",
       "      <td>0.0</td>\n",
       "      <td>0.0</td>\n",
       "      <td>0.0</td>\n",
       "      <td>0.0</td>\n",
       "      <td>0.0</td>\n",
       "    </tr>\n",
       "    <tr>\n",
       "      <th>dafc8ee5d1ed</th>\n",
       "      <td>0.000000</td>\n",
       "      <td>0.0</td>\n",
       "      <td>0.0</td>\n",
       "      <td>0.0</td>\n",
       "      <td>0.0</td>\n",
       "      <td>0.0</td>\n",
       "      <td>0.0</td>\n",
       "      <td>0.0</td>\n",
       "      <td>0.0</td>\n",
       "      <td>0.0</td>\n",
       "      <td>...</td>\n",
       "      <td>0.0</td>\n",
       "      <td>3.005253</td>\n",
       "      <td>0.0</td>\n",
       "      <td>0.0</td>\n",
       "      <td>0.0</td>\n",
       "      <td>0.0</td>\n",
       "      <td>0.0</td>\n",
       "      <td>0.0</td>\n",
       "      <td>0.0</td>\n",
       "      <td>0.0</td>\n",
       "    </tr>\n",
       "    <tr>\n",
       "      <th>5e1e53b20abe</th>\n",
       "      <td>0.000000</td>\n",
       "      <td>0.0</td>\n",
       "      <td>0.0</td>\n",
       "      <td>0.0</td>\n",
       "      <td>0.0</td>\n",
       "      <td>0.0</td>\n",
       "      <td>0.0</td>\n",
       "      <td>0.0</td>\n",
       "      <td>0.0</td>\n",
       "      <td>0.0</td>\n",
       "      <td>...</td>\n",
       "      <td>0.0</td>\n",
       "      <td>0.000000</td>\n",
       "      <td>0.0</td>\n",
       "      <td>0.0</td>\n",
       "      <td>0.0</td>\n",
       "      <td>0.0</td>\n",
       "      <td>0.0</td>\n",
       "      <td>0.0</td>\n",
       "      <td>0.0</td>\n",
       "      <td>0.0</td>\n",
       "    </tr>\n",
       "  </tbody>\n",
       "</table>\n",
       "<p>5 rows × 228942 columns</p>\n",
       "</div>"
      ],
      "text/plain": [
       "gene_id       GL000194.1:114519-115365  GL000194.1:55758-56597  \\\n",
       "cell_id                                                          \n",
       "ba6695d0c309                  0.000000                     0.0   \n",
       "30f05b8589b3                  0.000000                     0.0   \n",
       "3feaf6105071                  3.858121                     0.0   \n",
       "dafc8ee5d1ed                  0.000000                     0.0   \n",
       "5e1e53b20abe                  0.000000                     0.0   \n",
       "\n",
       "gene_id       GL000194.1:58217-58957  GL000194.1:59535-60431  \\\n",
       "cell_id                                                        \n",
       "ba6695d0c309                     0.0                     0.0   \n",
       "30f05b8589b3                     0.0                     0.0   \n",
       "3feaf6105071                     0.0                     0.0   \n",
       "dafc8ee5d1ed                     0.0                     0.0   \n",
       "5e1e53b20abe                     0.0                     0.0   \n",
       "\n",
       "gene_id       GL000195.1:119766-120427  GL000195.1:120736-121603  \\\n",
       "cell_id                                                            \n",
       "ba6695d0c309                       0.0                       0.0   \n",
       "30f05b8589b3                       0.0                       0.0   \n",
       "3feaf6105071                       0.0                       0.0   \n",
       "dafc8ee5d1ed                       0.0                       0.0   \n",
       "5e1e53b20abe                       0.0                       0.0   \n",
       "\n",
       "gene_id       GL000195.1:137437-138345  GL000195.1:15901-16653  \\\n",
       "cell_id                                                          \n",
       "ba6695d0c309                       0.0                     0.0   \n",
       "30f05b8589b3                       0.0                     0.0   \n",
       "3feaf6105071                       0.0                     0.0   \n",
       "dafc8ee5d1ed                       0.0                     0.0   \n",
       "5e1e53b20abe                       0.0                     0.0   \n",
       "\n",
       "gene_id       GL000195.1:22357-23209  GL000195.1:23751-24619  ...  \\\n",
       "cell_id                                                       ...   \n",
       "ba6695d0c309                     0.0                     0.0  ...   \n",
       "30f05b8589b3                     0.0                     0.0  ...   \n",
       "3feaf6105071                     0.0                     0.0  ...   \n",
       "dafc8ee5d1ed                     0.0                     0.0  ...   \n",
       "5e1e53b20abe                     0.0                     0.0  ...   \n",
       "\n",
       "gene_id       chrY:7722278-7723128  chrY:7723971-7724880  \\\n",
       "cell_id                                                    \n",
       "ba6695d0c309                   0.0              0.000000   \n",
       "30f05b8589b3                   0.0              0.000000   \n",
       "3feaf6105071                   0.0              0.000000   \n",
       "dafc8ee5d1ed                   0.0              3.005253   \n",
       "5e1e53b20abe                   0.0              0.000000   \n",
       "\n",
       "gene_id       chrY:7729854-7730772  chrY:7731785-7732664  \\\n",
       "cell_id                                                    \n",
       "ba6695d0c309                   0.0                   0.0   \n",
       "30f05b8589b3                   0.0                   0.0   \n",
       "3feaf6105071                   0.0                   0.0   \n",
       "dafc8ee5d1ed                   0.0                   0.0   \n",
       "5e1e53b20abe                   0.0                   0.0   \n",
       "\n",
       "gene_id       chrY:7810142-7811040  chrY:7814107-7815018  \\\n",
       "cell_id                                                    \n",
       "ba6695d0c309                   0.0                   0.0   \n",
       "30f05b8589b3                   0.0                   0.0   \n",
       "3feaf6105071                   0.0                   0.0   \n",
       "dafc8ee5d1ed                   0.0                   0.0   \n",
       "5e1e53b20abe                   0.0                   0.0   \n",
       "\n",
       "gene_id       chrY:7818751-7819626  chrY:7836768-7837671  \\\n",
       "cell_id                                                    \n",
       "ba6695d0c309                   0.0                   0.0   \n",
       "30f05b8589b3                   0.0                   0.0   \n",
       "3feaf6105071                   0.0                   0.0   \n",
       "dafc8ee5d1ed                   0.0                   0.0   \n",
       "5e1e53b20abe                   0.0                   0.0   \n",
       "\n",
       "gene_id       chrY:7869454-7870371  chrY:7873814-7874709  \n",
       "cell_id                                                   \n",
       "ba6695d0c309                   0.0                   0.0  \n",
       "30f05b8589b3                   0.0                   0.0  \n",
       "3feaf6105071                   0.0                   0.0  \n",
       "dafc8ee5d1ed                   0.0                   0.0  \n",
       "5e1e53b20abe                   0.0                   0.0  \n",
       "\n",
       "[5 rows x 228942 columns]"
      ]
     },
     "execution_count": 2,
     "metadata": {},
     "output_type": "execute_result"
    }
   ],
   "source": [
    "# Loading the whole dataset into pandas exceeds the memory,\n",
    "# therefore we define start and stop values\n",
    "START = int(1e4)\n",
    "STOP = START+1000\n",
    "\n",
    "df_multi_train_x = pd.read_hdf(FP_MULTIOME_TRAIN_INPUTS,start=START,stop=STOP)\n",
    "df_multi_train_x.head()"
   ]
  },
  {
   "cell_type": "markdown",
   "id": "b11e2952",
   "metadata": {
    "papermill": {
     "duration": 0.010701,
     "end_time": "2022-08-19T10:52:21.877495",
     "exception": false,
     "start_time": "2022-08-19T10:52:21.866794",
     "status": "completed"
    },
    "tags": []
   },
   "source": [
    "As we can see, each individual cell is identified by a cell_id. We then have 228942 columns that are named something like \"STUFF:NUMBER-NUMBER\". STUFF is actually the name of a chromosome, while the numbers are a range indicating where the gene starts and ends. Let's have a look at what kind of chromosomes we have:"
   ]
  },
  {
   "cell_type": "code",
   "execution_count": 3,
   "id": "94cb1866",
   "metadata": {
    "execution": {
     "iopub.execute_input": "2022-08-19T10:52:21.902628Z",
     "iopub.status.busy": "2022-08-19T10:52:21.902132Z",
     "iopub.status.idle": "2022-08-19T10:52:21.994263Z",
     "shell.execute_reply": "2022-08-19T10:52:21.992562Z"
    },
    "papermill": {
     "duration": 0.107353,
     "end_time": "2022-08-19T10:52:21.997224",
     "exception": false,
     "start_time": "2022-08-19T10:52:21.889871",
     "status": "completed"
    },
    "tags": []
   },
   "outputs": [
    {
     "name": "stdout",
     "output_type": "stream",
     "text": [
      "['GL000194.1', 'GL000195.1', 'GL000205.2', 'GL000218.1', 'GL000219.1', 'KI270711.1', 'KI270713.1', 'KI270721.1', 'KI270726.1', 'KI270727.1', 'KI270728.1', 'KI270731.1', 'KI270734.1', 'chr1', 'chr10', 'chr11', 'chr12', 'chr13', 'chr14', 'chr15', 'chr16', 'chr17', 'chr18', 'chr19', 'chr2', 'chr20', 'chr21', 'chr22', 'chr3', 'chr4', 'chr5', 'chr6', 'chr7', 'chr8', 'chr9', 'chrX', 'chrY']\n"
     ]
    }
   ],
   "source": [
    "print(sorted(list({i[:i.find(':')] for i in df_multi_train_x.columns})))"
   ]
  },
  {
   "cell_type": "markdown",
   "id": "a4022d9a",
   "metadata": {
    "papermill": {
     "duration": 0.009539,
     "end_time": "2022-08-19T10:52:22.016984",
     "exception": false,
     "start_time": "2022-08-19T10:52:22.007445",
     "status": "completed"
    },
    "tags": []
   },
   "source": [
    "We actually find the chromosomes we expect, namely chr1-chr22, the 22 chromosomes humans have (called autosomes), and also chrX and chrY, being the gender-specific chromosomes. What about the ones starting with KI and GL? According to a quick internet search, those are unplaced genes. They most likely are part of the human genome, but we don't know yet on which chromosome they are. Noteworthy at this point is that the number of protein-coding genes in humans is estimated to be between 19.9k and 21.3k. Therefore, it looks like we have measurements of much more than just the protein-coding genes.\n",
    "\n",
    "Next, we check the range of the values we have."
   ]
  },
  {
   "cell_type": "code",
   "execution_count": 4,
   "id": "28db67d7",
   "metadata": {
    "execution": {
     "iopub.execute_input": "2022-08-19T10:52:22.039364Z",
     "iopub.status.busy": "2022-08-19T10:52:22.038315Z",
     "iopub.status.idle": "2022-08-19T10:52:24.412974Z",
     "shell.execute_reply": "2022-08-19T10:52:24.411429Z"
    },
    "papermill": {
     "duration": 2.389814,
     "end_time": "2022-08-19T10:52:24.416709",
     "exception": false,
     "start_time": "2022-08-19T10:52:22.026895",
     "status": "completed"
    },
    "tags": []
   },
   "outputs": [
    {
     "name": "stdout",
     "output_type": "stream",
     "text": [
      "Values range from 0.0 to 16.933687210083008\n"
     ]
    }
   ],
   "source": [
    "# first call to min/max gives us the min/max in each column. \n",
    "# Than we min/max again to get total min/max\n",
    "print(f\"Values range from {df_multi_train_x.min().min()} to {df_multi_train_x.max().max()}\")"
   ]
  },
  {
   "cell_type": "markdown",
   "id": "a6aa2cfe",
   "metadata": {
    "papermill": {
     "duration": 0.010147,
     "end_time": "2022-08-19T10:52:24.437981",
     "exception": false,
     "start_time": "2022-08-19T10:52:24.427834",
     "status": "completed"
    },
    "tags": []
   },
   "source": [
    "So let's summarize what we have learned about the data corresponding to the accessibility of DNA so far:\n",
    "\n",
    "* We have chromatin accessibility measurements for approximately 106k cells in total.\n",
    "* We measure how accessible certain genes are in each cell, approximately 229k genes per cell.\n",
    "* Accessibility is given in numbers from 0.0 to ~18. We do not know the upper bound because we have not looked at all the data yet.\n",
    "* The values in our dataset use 32bit precision floats"
   ]
  },
  {
   "cell_type": "markdown",
   "id": "c0aa9faa",
   "metadata": {
    "papermill": {
     "duration": 0.009987,
     "end_time": "2022-08-19T10:52:24.458658",
     "exception": false,
     "start_time": "2022-08-19T10:52:24.448671",
     "status": "completed"
    },
    "tags": []
   },
   "source": [
    "What else do we want to know about chromatin accessibility data?\n",
    "\n",
    "* How many values are non-zero for each cell?\n",
    "* What is the standard deviation and what is the average non-zero value?\n",
    "\n",
    "First, we will have a closer look at the chromatin accessibility values of each cell."
   ]
  },
  {
   "cell_type": "code",
   "execution_count": 5,
   "id": "f144b0fc",
   "metadata": {
    "execution": {
     "iopub.execute_input": "2022-08-19T10:52:24.482081Z",
     "iopub.status.busy": "2022-08-19T10:52:24.481581Z",
     "iopub.status.idle": "2022-08-19T10:52:41.070196Z",
     "shell.execute_reply": "2022-08-19T10:52:41.067855Z"
    },
    "papermill": {
     "duration": 16.607365,
     "end_time": "2022-08-19T10:52:41.076541",
     "exception": false,
     "start_time": "2022-08-19T10:52:24.469176",
     "status": "completed"
    },
    "tags": []
   },
   "outputs": [
    {
     "name": "stdout",
     "output_type": "stream",
     "text": [
      "Each cell has at least 767 genes with non-zero accessibility values and a maximum of 29927.\n",
      "On average there are 6723 genes with non-zero accessibility values in each cell.\n",
      "The average non-zero value is about 1.58.\n",
      "The standard deviation of our features is between 0.03 and 0.71.\n",
      "The average standard deviation is 0.33\n"
     ]
    }
   ],
   "source": [
    "# get data about non-zero values\n",
    "min_cells_non_zero = df_multi_train_x.gt(0).sum(axis=1).min()\n",
    "max_cells_non_zero = df_multi_train_x.gt(0).sum(axis=1).max()\n",
    "sum_non_zero_values = df_multi_train_x.sum().sum()\n",
    "count_non_zero_values = df_multi_train_x.gt(0).sum().sum()\n",
    "average_non_zero_per_gene = df_multi_train_x[df_multi_train_x.gt(0)].count(axis = 1).mean()\n",
    "\n",
    "print(f\"Each cell has at least {min_cells_non_zero} genes with non-zero accessibility values and a maximum of {max_cells_non_zero}.\")\n",
    "print(f\"On average there are {round(average_non_zero_per_gene)} genes with non-zero accessibility values in each cell.\")\n",
    "print(f\"The average non-zero value is about {sum_non_zero_values / count_non_zero_values:.2f}.\")\n",
    "\n",
    "# investigate standard deviation of features\n",
    "std_dev_of_genes = df_multi_train_x.std()\n",
    "\n",
    "# ignore genes that are only accessible in a single cell\n",
    "std_dev_of_genes_without_singles = std_dev_of_genes[df_multi_train_x.gt(0).sum().gt(1)]\n",
    "print(f\"The standard deviation of our features is between {std_dev_of_genes_without_singles.min():.2f} and {std_dev_of_genes_without_singles.max():.2f}.\\nThe average standard deviation is {std_dev_of_genes_without_singles.mean():.2f}\")"
   ]
  },
  {
   "cell_type": "markdown",
   "id": "9d3bb49b",
   "metadata": {
    "papermill": {
     "duration": 0.010324,
     "end_time": "2022-08-19T10:52:41.099846",
     "exception": false,
     "start_time": "2022-08-19T10:52:41.089522",
     "status": "completed"
    },
    "tags": []
   },
   "source": [
    "That's already good information about what we can expect from our features for the first problem. To even better understand how many features we have for each sample, we will plot the number of cells per feature count."
   ]
  },
  {
   "cell_type": "code",
   "execution_count": 6,
   "id": "dc2d7bc5",
   "metadata": {
    "execution": {
     "iopub.execute_input": "2022-08-19T10:52:41.124479Z",
     "iopub.status.busy": "2022-08-19T10:52:41.123600Z",
     "iopub.status.idle": "2022-08-19T10:52:42.297021Z",
     "shell.execute_reply": "2022-08-19T10:52:42.295660Z"
    },
    "papermill": {
     "duration": 1.189598,
     "end_time": "2022-08-19T10:52:42.300147",
     "exception": false,
     "start_time": "2022-08-19T10:52:41.110549",
     "status": "completed"
    },
    "tags": []
   },
   "outputs": [
    {
     "data": {
      "image/png": "[encoded data removed]",
      "text/plain": [
       "<Figure size 432x288 with 1 Axes>"
      ]
     },
     "metadata": {
      "needs_background": "light"
     },
     "output_type": "display_data"
    }
   ],
   "source": [
    "s = df_multi_train_x.gt(0).sum(axis = 1)\n",
    "counts = s.groupby(lambda x: s[x] // 300).count()\n",
    "counts.index = counts.index * 300\n",
    "\n",
    "fig, ax = plt.subplots()\n",
    "ax.plot(counts.index, counts.values)\n",
    "ax.set_xlabel('number of accessible genes')\n",
    "ax.set_ylabel('number of cells')\n",
    "plt.show()"
   ]
  },
  {
   "cell_type": "markdown",
   "id": "85c5de1b",
   "metadata": {
    "papermill": {
     "duration": 0.010677,
     "end_time": "2022-08-19T10:52:42.322226",
     "exception": false,
     "start_time": "2022-08-19T10:52:42.311549",
     "status": "completed"
    },
    "tags": []
   },
   "source": [
    "As we can see, the majority of our cells have between 2K and 7K accessible genes.\n",
    "\n",
    "We now have quite a good understanding of the chromatin accessibility measured with the multiome test. We continue with investigating gene expression features."
   ]
  },
  {
   "cell_type": "markdown",
   "id": "28c8e59d",
   "metadata": {
    "papermill": {
     "duration": 0.01059,
     "end_time": "2022-08-19T10:52:42.343993",
     "exception": false,
     "start_time": "2022-08-19T10:52:42.333403",
     "status": "completed"
    },
    "tags": []
   },
   "source": [
    "<div style=\"color:white;display:fill;\n",
    "            background-color:#3bb2d6;font-size:200%;\">\n",
    "    <p style=\"padding: 4px;color:white;\"><b>2.2 Gene expression data</b></p>\n",
    "</div>\n",
    "\n",
    "As mentioned before we have two datasets containing gene expression data. We will first look at the data from the multiome test.\n",
    "\n",
    "### 2.2.1 Gene expression from multiome\n",
    "We would actually be able to load the whole dataset at once, but we will only look at the part corresponding to the already seen X values for now."
   ]
  },
  {
   "cell_type": "code",
   "execution_count": 7,
   "id": "7a1be8a7",
   "metadata": {
    "execution": {
     "iopub.execute_input": "2022-08-19T10:52:42.368602Z",
     "iopub.status.busy": "2022-08-19T10:52:42.368014Z",
     "iopub.status.idle": "2022-08-19T10:52:43.189684Z",
     "shell.execute_reply": "2022-08-19T10:52:43.188190Z"
    },
    "papermill": {
     "duration": 0.837747,
     "end_time": "2022-08-19T10:52:43.192887",
     "exception": false,
     "start_time": "2022-08-19T10:52:42.355140",
     "status": "completed"
    },
    "tags": []
   },
   "outputs": [
    {
     "data": {
      "text/html": [
       "<div>\n",
       "<style scoped>\n",
       "    .dataframe tbody tr th:only-of-type {\n",
       "        vertical-align: middle;\n",
       "    }\n",
       "\n",
       "    .dataframe tbody tr th {\n",
       "        vertical-align: top;\n",
       "    }\n",
       "\n",
       "    .dataframe thead th {\n",
       "        text-align: right;\n",
       "    }\n",
       "</style>\n",
       "<table border=\"1\" class=\"dataframe\">\n",
       "  <thead>\n",
       "    <tr style=\"text-align: right;\">\n",
       "      <th>gene_id</th>\n",
       "      <th>ENSG00000121410</th>\n",
       "      <th>ENSG00000268895</th>\n",
       "      <th>ENSG00000175899</th>\n",
       "      <th>ENSG00000245105</th>\n",
       "      <th>ENSG00000166535</th>\n",
       "      <th>ENSG00000256661</th>\n",
       "      <th>ENSG00000184389</th>\n",
       "      <th>ENSG00000128274</th>\n",
       "      <th>ENSG00000094914</th>\n",
       "      <th>ENSG00000081760</th>\n",
       "      <th>...</th>\n",
       "      <th>ENSG00000086827</th>\n",
       "      <th>ENSG00000174442</th>\n",
       "      <th>ENSG00000122952</th>\n",
       "      <th>ENSG00000198205</th>\n",
       "      <th>ENSG00000198455</th>\n",
       "      <th>ENSG00000070476</th>\n",
       "      <th>ENSG00000203995</th>\n",
       "      <th>ENSG00000162378</th>\n",
       "      <th>ENSG00000159840</th>\n",
       "      <th>ENSG00000074755</th>\n",
       "    </tr>\n",
       "    <tr>\n",
       "      <th>cell_id</th>\n",
       "      <th></th>\n",
       "      <th></th>\n",
       "      <th></th>\n",
       "      <th></th>\n",
       "      <th></th>\n",
       "      <th></th>\n",
       "      <th></th>\n",
       "      <th></th>\n",
       "      <th></th>\n",
       "      <th></th>\n",
       "      <th></th>\n",
       "      <th></th>\n",
       "      <th></th>\n",
       "      <th></th>\n",
       "      <th></th>\n",
       "      <th></th>\n",
       "      <th></th>\n",
       "      <th></th>\n",
       "      <th></th>\n",
       "      <th></th>\n",
       "      <th></th>\n",
       "    </tr>\n",
       "  </thead>\n",
       "  <tbody>\n",
       "    <tr>\n",
       "      <th>ba6695d0c309</th>\n",
       "      <td>0.0</td>\n",
       "      <td>4.842627</td>\n",
       "      <td>0.0</td>\n",
       "      <td>0.0</td>\n",
       "      <td>0.0</td>\n",
       "      <td>0.0</td>\n",
       "      <td>0.0</td>\n",
       "      <td>0.0</td>\n",
       "      <td>0.000000</td>\n",
       "      <td>4.842627</td>\n",
       "      <td>...</td>\n",
       "      <td>0.000000</td>\n",
       "      <td>0.000000</td>\n",
       "      <td>4.842627</td>\n",
       "      <td>0.0</td>\n",
       "      <td>4.842627</td>\n",
       "      <td>0.000000</td>\n",
       "      <td>0.0</td>\n",
       "      <td>0.000000</td>\n",
       "      <td>4.842627</td>\n",
       "      <td>0.000000</td>\n",
       "    </tr>\n",
       "    <tr>\n",
       "      <th>30f05b8589b3</th>\n",
       "      <td>0.0</td>\n",
       "      <td>0.000000</td>\n",
       "      <td>0.0</td>\n",
       "      <td>0.0</td>\n",
       "      <td>0.0</td>\n",
       "      <td>0.0</td>\n",
       "      <td>0.0</td>\n",
       "      <td>0.0</td>\n",
       "      <td>0.000000</td>\n",
       "      <td>0.000000</td>\n",
       "      <td>...</td>\n",
       "      <td>0.000000</td>\n",
       "      <td>0.000000</td>\n",
       "      <td>0.000000</td>\n",
       "      <td>0.0</td>\n",
       "      <td>0.000000</td>\n",
       "      <td>5.342478</td>\n",
       "      <td>0.0</td>\n",
       "      <td>0.000000</td>\n",
       "      <td>0.000000</td>\n",
       "      <td>0.000000</td>\n",
       "    </tr>\n",
       "    <tr>\n",
       "      <th>3feaf6105071</th>\n",
       "      <td>0.0</td>\n",
       "      <td>0.000000</td>\n",
       "      <td>0.0</td>\n",
       "      <td>0.0</td>\n",
       "      <td>0.0</td>\n",
       "      <td>0.0</td>\n",
       "      <td>0.0</td>\n",
       "      <td>0.0</td>\n",
       "      <td>5.016188</td>\n",
       "      <td>0.000000</td>\n",
       "      <td>...</td>\n",
       "      <td>0.000000</td>\n",
       "      <td>0.000000</td>\n",
       "      <td>0.000000</td>\n",
       "      <td>0.0</td>\n",
       "      <td>0.000000</td>\n",
       "      <td>5.016188</td>\n",
       "      <td>0.0</td>\n",
       "      <td>5.016188</td>\n",
       "      <td>0.000000</td>\n",
       "      <td>5.016188</td>\n",
       "    </tr>\n",
       "    <tr>\n",
       "      <th>dafc8ee5d1ed</th>\n",
       "      <td>0.0</td>\n",
       "      <td>0.000000</td>\n",
       "      <td>0.0</td>\n",
       "      <td>0.0</td>\n",
       "      <td>0.0</td>\n",
       "      <td>0.0</td>\n",
       "      <td>0.0</td>\n",
       "      <td>0.0</td>\n",
       "      <td>0.000000</td>\n",
       "      <td>0.000000</td>\n",
       "      <td>...</td>\n",
       "      <td>0.000000</td>\n",
       "      <td>4.752183</td>\n",
       "      <td>0.000000</td>\n",
       "      <td>0.0</td>\n",
       "      <td>0.000000</td>\n",
       "      <td>0.000000</td>\n",
       "      <td>0.0</td>\n",
       "      <td>0.000000</td>\n",
       "      <td>0.000000</td>\n",
       "      <td>4.752183</td>\n",
       "    </tr>\n",
       "    <tr>\n",
       "      <th>5e1e53b20abe</th>\n",
       "      <td>0.0</td>\n",
       "      <td>0.000000</td>\n",
       "      <td>0.0</td>\n",
       "      <td>0.0</td>\n",
       "      <td>0.0</td>\n",
       "      <td>0.0</td>\n",
       "      <td>0.0</td>\n",
       "      <td>0.0</td>\n",
       "      <td>4.115469</td>\n",
       "      <td>4.115469</td>\n",
       "      <td>...</td>\n",
       "      <td>4.115469</td>\n",
       "      <td>0.000000</td>\n",
       "      <td>4.115469</td>\n",
       "      <td>0.0</td>\n",
       "      <td>0.000000</td>\n",
       "      <td>5.203142</td>\n",
       "      <td>0.0</td>\n",
       "      <td>0.000000</td>\n",
       "      <td>4.115469</td>\n",
       "      <td>4.800423</td>\n",
       "    </tr>\n",
       "  </tbody>\n",
       "</table>\n",
       "<p>5 rows × 23418 columns</p>\n",
       "</div>"
      ],
      "text/plain": [
       "gene_id       ENSG00000121410  ENSG00000268895  ENSG00000175899  \\\n",
       "cell_id                                                           \n",
       "ba6695d0c309              0.0         4.842627              0.0   \n",
       "30f05b8589b3              0.0         0.000000              0.0   \n",
       "3feaf6105071              0.0         0.000000              0.0   \n",
       "dafc8ee5d1ed              0.0         0.000000              0.0   \n",
       "5e1e53b20abe              0.0         0.000000              0.0   \n",
       "\n",
       "gene_id       ENSG00000245105  ENSG00000166535  ENSG00000256661  \\\n",
       "cell_id                                                           \n",
       "ba6695d0c309              0.0              0.0              0.0   \n",
       "30f05b8589b3              0.0              0.0              0.0   \n",
       "3feaf6105071              0.0              0.0              0.0   \n",
       "dafc8ee5d1ed              0.0              0.0              0.0   \n",
       "5e1e53b20abe              0.0              0.0              0.0   \n",
       "\n",
       "gene_id       ENSG00000184389  ENSG00000128274  ENSG00000094914  \\\n",
       "cell_id                                                           \n",
       "ba6695d0c309              0.0              0.0         0.000000   \n",
       "30f05b8589b3              0.0              0.0         0.000000   \n",
       "3feaf6105071              0.0              0.0         5.016188   \n",
       "dafc8ee5d1ed              0.0              0.0         0.000000   \n",
       "5e1e53b20abe              0.0              0.0         4.115469   \n",
       "\n",
       "gene_id       ENSG00000081760  ...  ENSG00000086827  ENSG00000174442  \\\n",
       "cell_id                        ...                                     \n",
       "ba6695d0c309         4.842627  ...         0.000000         0.000000   \n",
       "30f05b8589b3         0.000000  ...         0.000000         0.000000   \n",
       "3feaf6105071         0.000000  ...         0.000000         0.000000   \n",
       "dafc8ee5d1ed         0.000000  ...         0.000000         4.752183   \n",
       "5e1e53b20abe         4.115469  ...         4.115469         0.000000   \n",
       "\n",
       "gene_id       ENSG00000122952  ENSG00000198205  ENSG00000198455  \\\n",
       "cell_id                                                           \n",
       "ba6695d0c309         4.842627              0.0         4.842627   \n",
       "30f05b8589b3         0.000000              0.0         0.000000   \n",
       "3feaf6105071         0.000000              0.0         0.000000   \n",
       "dafc8ee5d1ed         0.000000              0.0         0.000000   \n",
       "5e1e53b20abe         4.115469              0.0         0.000000   \n",
       "\n",
       "gene_id       ENSG00000070476  ENSG00000203995  ENSG00000162378  \\\n",
       "cell_id                                                           \n",
       "ba6695d0c309         0.000000              0.0         0.000000   \n",
       "30f05b8589b3         5.342478              0.0         0.000000   \n",
       "3feaf6105071         5.016188              0.0         5.016188   \n",
       "dafc8ee5d1ed         0.000000              0.0         0.000000   \n",
       "5e1e53b20abe         5.203142              0.0         0.000000   \n",
       "\n",
       "gene_id       ENSG00000159840  ENSG00000074755  \n",
       "cell_id                                         \n",
       "ba6695d0c309         4.842627         0.000000  \n",
       "30f05b8589b3         0.000000         0.000000  \n",
       "3feaf6105071         0.000000         5.016188  \n",
       "dafc8ee5d1ed         0.000000         4.752183  \n",
       "5e1e53b20abe         4.115469         4.800423  \n",
       "\n",
       "[5 rows x 23418 columns]"
      ]
     },
     "execution_count": 7,
     "metadata": {},
     "output_type": "execute_result"
    }
   ],
   "source": [
    "df_multi_train_y = pd.read_hdf(FP_MULTIOME_TRAIN_TARGETS, start=START, stop=STOP)\n",
    "df_multi_train_y.head()"
   ]
  },
  {
   "cell_type": "markdown",
   "id": "ff183559",
   "metadata": {
    "papermill": {
     "duration": 0.011172,
     "end_time": "2022-08-19T10:52:43.216740",
     "exception": false,
     "start_time": "2022-08-19T10:52:43.205568",
     "status": "completed"
    },
    "tags": []
   },
   "source": [
    "As we can see, we have 23418 values that our model will need to predict. But what exactly are those values?"
   ]
  },
  {
   "cell_type": "code",
   "execution_count": 8,
   "id": "b3f943dd",
   "metadata": {
    "execution": {
     "iopub.execute_input": "2022-08-19T10:52:43.241522Z",
     "iopub.status.busy": "2022-08-19T10:52:43.241104Z",
     "iopub.status.idle": "2022-08-19T10:52:43.269140Z",
     "shell.execute_reply": "2022-08-19T10:52:43.267616Z"
    },
    "papermill": {
     "duration": 0.043653,
     "end_time": "2022-08-19T10:52:43.271953",
     "exception": false,
     "start_time": "2022-08-19T10:52:43.228300",
     "status": "completed"
    },
    "tags": []
   },
   "outputs": [
    {
     "name": "stdout",
     "output_type": "stream",
     "text": [
      "['ENSG000000', 'ENSG000001', 'ENSG000002']\n",
      "15\n"
     ]
    }
   ],
   "source": [
    "print(sorted(list({i[:10] for i in df_multi_train_y.columns})))\n",
    "print(df_multi_train_y.columns.str.len().unique().item())"
   ]
  },
  {
   "cell_type": "markdown",
   "id": "bbb2d68b",
   "metadata": {
    "papermill": {
     "duration": 0.011115,
     "end_time": "2022-08-19T10:52:43.294596",
     "exception": false,
     "start_time": "2022-08-19T10:52:43.283481",
     "status": "completed"
    },
    "tags": []
   },
   "source": [
    "As we can see, all of the features start with ENSG and then 5 zeroes. What we have here is called the Ensambl ID. The general form is ENS(species)(object type)(identifier).(version).\n",
    "ENS tells us that we are looking at an ensembl ID. The species part is empty for human genes by convention. The object type is G for gene. It looks like the identifier is always 11 decimals long. And it looks like we don't have any version specifications in our data.\n",
    "\n",
    "We will now check for similar properties than before."
   ]
  },
  {
   "cell_type": "code",
   "execution_count": 9,
   "id": "31be99ad",
   "metadata": {
    "execution": {
     "iopub.execute_input": "2022-08-19T10:52:43.319977Z",
     "iopub.status.busy": "2022-08-19T10:52:43.319496Z",
     "iopub.status.idle": "2022-08-19T10:52:44.883583Z",
     "shell.execute_reply": "2022-08-19T10:52:44.881027Z"
    },
    "papermill": {
     "duration": 1.580787,
     "end_time": "2022-08-19T10:52:44.886942",
     "exception": false,
     "start_time": "2022-08-19T10:52:43.306155",
     "status": "completed"
    },
    "tags": []
   },
   "outputs": [
    {
     "name": "stdout",
     "output_type": "stream",
     "text": [
      "Values for gene expression range from 0.00 to 11.13\n",
      "Each cell has at least 1804 genes with non-zero gene expression values and a maximum of 6207.\n",
      "On average there are 3895 genes with non-zero gene expression values in each cell.\n",
      "The average non-zero value for gene expression is about 5.08.\n",
      "The standard deviation of gene expression values is between 0.18 and 3.29.\n",
      "The average standard deviation is 1.35\n"
     ]
    }
   ],
   "source": [
    "print(f\"Values for gene expression range from {df_multi_train_y.min().min():.2f} to {df_multi_train_y.max().max():.2f}\")\n",
    "\n",
    "# get data about non-zero values\n",
    "min_cells_non_zero_y = df_multi_train_y.gt(0).sum(axis=1).min()\n",
    "max_cells_non_zero_y = df_multi_train_y.gt(0).sum(axis=1).max()\n",
    "sum_non_zero_values_y = df_multi_train_y.sum().sum()\n",
    "count_non_zero_values_y = df_multi_train_y.gt(0).sum().sum()\n",
    "average_non_zero_per_gene_y = df_multi_train_y[df_multi_train_y.gt(0)].count(axis = 1).mean()\n",
    "\n",
    "print(f\"Each cell has at least {min_cells_non_zero_y} genes with non-zero gene expression values and a maximum of {max_cells_non_zero_y}.\")\n",
    "print(f\"On average there are {round(average_non_zero_per_gene_y)} genes with non-zero gene expression values in each cell.\")\n",
    "print(f\"The average non-zero value for gene expression is about {sum_non_zero_values_y / count_non_zero_values_y:.2f}.\")\n",
    "\n",
    "# investigate standard deviation of features\n",
    "std_dev_of_genes_y = df_multi_train_y.std()\n",
    "\n",
    "# ignore genes that are only accessible in a single cell\n",
    "std_dev_of_genes_without_singles_y = std_dev_of_genes_y[df_multi_train_y.gt(0).sum().gt(1)]\n",
    "print(f\"The standard deviation of gene expression values is between {std_dev_of_genes_without_singles_y.min():.2f} and {std_dev_of_genes_without_singles_y.max():.2f}.\\nThe average standard deviation is {std_dev_of_genes_without_singles_y.mean():.2f}\")"
   ]
  },
  {
   "cell_type": "markdown",
   "id": "d0740f5d",
   "metadata": {
    "papermill": {
     "duration": 0.011229,
     "end_time": "2022-08-19T10:52:44.911539",
     "exception": false,
     "start_time": "2022-08-19T10:52:44.900310",
     "status": "completed"
    },
    "tags": []
   },
   "source": [
    "We can see that the range of gene expression values is smaller than that for chromatin accessibility, but the standard deviation is higher. This might be important for the design of our model.\n",
    "\n",
    "Even though this information will probably not influence the design of our model, let's still have a look at how many genes are expressed in cells. Just because it is interesting."
   ]
  },
  {
   "cell_type": "code",
   "execution_count": 10,
   "id": "81e822c4",
   "metadata": {
    "execution": {
     "iopub.execute_input": "2022-08-19T10:52:44.937663Z",
     "iopub.status.busy": "2022-08-19T10:52:44.936564Z",
     "iopub.status.idle": "2022-08-19T10:52:45.185876Z",
     "shell.execute_reply": "2022-08-19T10:52:45.184804Z"
    },
    "papermill": {
     "duration": 0.265465,
     "end_time": "2022-08-19T10:52:45.188677",
     "exception": false,
     "start_time": "2022-08-19T10:52:44.923212",
     "status": "completed"
    },
    "tags": []
   },
   "outputs": [
    {
     "data": {
      "image/png": "[encoded data removed]",
      "text/plain": [
       "<Figure size 432x288 with 1 Axes>"
      ]
     },
     "metadata": {
      "needs_background": "light"
     },
     "output_type": "display_data"
    }
   ],
   "source": [
    "s = df_multi_train_y.gt(0).sum(axis = 1)\n",
    "counts = s.groupby(lambda x: s[x] // 100).count()\n",
    "counts.index = counts.index * 100\n",
    "\n",
    "fig, ax = plt.subplots()\n",
    "ax.plot(counts.index, counts.values)\n",
    "ax.set_xlabel('number of genes expressed')\n",
    "ax.set_ylabel('number of cells')\n",
    "plt.show()"
   ]
  },
  {
   "cell_type": "markdown",
   "id": "e8dc7ecc",
   "metadata": {
    "papermill": {
     "duration": 0.011981,
     "end_time": "2022-08-19T10:52:45.213520",
     "exception": false,
     "start_time": "2022-08-19T10:52:45.201539",
     "status": "completed"
    },
    "tags": []
   },
   "source": [
    "Having an overview of gene expression data obtained by the multiome test, we will now compare it to those obtained by the citeseq test.\n",
    "\n",
    "### 2.2.2 Gene expression from citeseq"
   ]
  },
  {
   "cell_type": "code",
   "execution_count": 11,
   "id": "5029fbc2",
   "metadata": {
    "execution": {
     "iopub.execute_input": "2022-08-19T10:52:45.240813Z",
     "iopub.status.busy": "2022-08-19T10:52:45.239705Z",
     "iopub.status.idle": "2022-08-19T10:52:46.134970Z",
     "shell.execute_reply": "2022-08-19T10:52:46.132712Z"
    },
    "papermill": {
     "duration": 0.913768,
     "end_time": "2022-08-19T10:52:46.139627",
     "exception": false,
     "start_time": "2022-08-19T10:52:45.225859",
     "status": "completed"
    },
    "tags": []
   },
   "outputs": [
    {
     "data": {
      "text/html": [
       "<div>\n",
       "<style scoped>\n",
       "    .dataframe tbody tr th:only-of-type {\n",
       "        vertical-align: middle;\n",
       "    }\n",
       "\n",
       "    .dataframe tbody tr th {\n",
       "        vertical-align: top;\n",
       "    }\n",
       "\n",
       "    .dataframe thead th {\n",
       "        text-align: right;\n",
       "    }\n",
       "</style>\n",
       "<table border=\"1\" class=\"dataframe\">\n",
       "  <thead>\n",
       "    <tr style=\"text-align: right;\">\n",
       "      <th>gene_id</th>\n",
       "      <th>ENSG00000121410_A1BG</th>\n",
       "      <th>ENSG00000268895_A1BG-AS1</th>\n",
       "      <th>ENSG00000175899_A2M</th>\n",
       "      <th>ENSG00000245105_A2M-AS1</th>\n",
       "      <th>ENSG00000166535_A2ML1</th>\n",
       "      <th>ENSG00000128274_A4GALT</th>\n",
       "      <th>ENSG00000094914_AAAS</th>\n",
       "      <th>ENSG00000081760_AACS</th>\n",
       "      <th>ENSG00000109576_AADAT</th>\n",
       "      <th>ENSG00000103591_AAGAB</th>\n",
       "      <th>...</th>\n",
       "      <th>ENSG00000153975_ZUP1</th>\n",
       "      <th>ENSG00000086827_ZW10</th>\n",
       "      <th>ENSG00000174442_ZWILCH</th>\n",
       "      <th>ENSG00000122952_ZWINT</th>\n",
       "      <th>ENSG00000198205_ZXDA</th>\n",
       "      <th>ENSG00000198455_ZXDB</th>\n",
       "      <th>ENSG00000070476_ZXDC</th>\n",
       "      <th>ENSG00000162378_ZYG11B</th>\n",
       "      <th>ENSG00000159840_ZYX</th>\n",
       "      <th>ENSG00000074755_ZZEF1</th>\n",
       "    </tr>\n",
       "    <tr>\n",
       "      <th>cell_id</th>\n",
       "      <th></th>\n",
       "      <th></th>\n",
       "      <th></th>\n",
       "      <th></th>\n",
       "      <th></th>\n",
       "      <th></th>\n",
       "      <th></th>\n",
       "      <th></th>\n",
       "      <th></th>\n",
       "      <th></th>\n",
       "      <th></th>\n",
       "      <th></th>\n",
       "      <th></th>\n",
       "      <th></th>\n",
       "      <th></th>\n",
       "      <th></th>\n",
       "      <th></th>\n",
       "      <th></th>\n",
       "      <th></th>\n",
       "      <th></th>\n",
       "      <th></th>\n",
       "    </tr>\n",
       "  </thead>\n",
       "  <tbody>\n",
       "    <tr>\n",
       "      <th>232a79b634ed</th>\n",
       "      <td>0.0</td>\n",
       "      <td>0.0</td>\n",
       "      <td>0.0</td>\n",
       "      <td>0.000000</td>\n",
       "      <td>0.0</td>\n",
       "      <td>0.00000</td>\n",
       "      <td>0.0</td>\n",
       "      <td>0.000000</td>\n",
       "      <td>0.0</td>\n",
       "      <td>0.0</td>\n",
       "      <td>...</td>\n",
       "      <td>0.000000</td>\n",
       "      <td>3.925279</td>\n",
       "      <td>0.000000</td>\n",
       "      <td>0.0</td>\n",
       "      <td>0.0</td>\n",
       "      <td>0.0</td>\n",
       "      <td>3.925279</td>\n",
       "      <td>0.000000</td>\n",
       "      <td>0.000000</td>\n",
       "      <td>0.000000</td>\n",
       "    </tr>\n",
       "    <tr>\n",
       "      <th>c523fbe6d911</th>\n",
       "      <td>0.0</td>\n",
       "      <td>0.0</td>\n",
       "      <td>0.0</td>\n",
       "      <td>0.000000</td>\n",
       "      <td>0.0</td>\n",
       "      <td>0.00000</td>\n",
       "      <td>0.0</td>\n",
       "      <td>0.000000</td>\n",
       "      <td>0.0</td>\n",
       "      <td>0.0</td>\n",
       "      <td>...</td>\n",
       "      <td>0.000000</td>\n",
       "      <td>0.000000</td>\n",
       "      <td>0.000000</td>\n",
       "      <td>0.0</td>\n",
       "      <td>0.0</td>\n",
       "      <td>0.0</td>\n",
       "      <td>4.444875</td>\n",
       "      <td>0.000000</td>\n",
       "      <td>5.535631</td>\n",
       "      <td>0.000000</td>\n",
       "    </tr>\n",
       "    <tr>\n",
       "      <th>dd6dc8335202</th>\n",
       "      <td>0.0</td>\n",
       "      <td>0.0</td>\n",
       "      <td>0.0</td>\n",
       "      <td>4.154367</td>\n",
       "      <td>0.0</td>\n",
       "      <td>0.00000</td>\n",
       "      <td>0.0</td>\n",
       "      <td>0.000000</td>\n",
       "      <td>0.0</td>\n",
       "      <td>0.0</td>\n",
       "      <td>...</td>\n",
       "      <td>0.000000</td>\n",
       "      <td>0.000000</td>\n",
       "      <td>4.154367</td>\n",
       "      <td>0.0</td>\n",
       "      <td>0.0</td>\n",
       "      <td>0.0</td>\n",
       "      <td>0.000000</td>\n",
       "      <td>0.000000</td>\n",
       "      <td>0.000000</td>\n",
       "      <td>0.000000</td>\n",
       "    </tr>\n",
       "    <tr>\n",
       "      <th>54f4a4831971</th>\n",
       "      <td>0.0</td>\n",
       "      <td>0.0</td>\n",
       "      <td>0.0</td>\n",
       "      <td>0.000000</td>\n",
       "      <td>0.0</td>\n",
       "      <td>0.00000</td>\n",
       "      <td>0.0</td>\n",
       "      <td>3.569181</td>\n",
       "      <td>0.0</td>\n",
       "      <td>0.0</td>\n",
       "      <td>...</td>\n",
       "      <td>0.000000</td>\n",
       "      <td>0.000000</td>\n",
       "      <td>0.000000</td>\n",
       "      <td>0.0</td>\n",
       "      <td>0.0</td>\n",
       "      <td>0.0</td>\n",
       "      <td>0.000000</td>\n",
       "      <td>3.569181</td>\n",
       "      <td>4.248138</td>\n",
       "      <td>0.000000</td>\n",
       "    </tr>\n",
       "    <tr>\n",
       "      <th>64d88ab761a1</th>\n",
       "      <td>0.0</td>\n",
       "      <td>0.0</td>\n",
       "      <td>0.0</td>\n",
       "      <td>0.000000</td>\n",
       "      <td>0.0</td>\n",
       "      <td>4.49919</td>\n",
       "      <td>0.0</td>\n",
       "      <td>3.817099</td>\n",
       "      <td>0.0</td>\n",
       "      <td>0.0</td>\n",
       "      <td>...</td>\n",
       "      <td>4.900942</td>\n",
       "      <td>0.000000</td>\n",
       "      <td>0.000000</td>\n",
       "      <td>0.0</td>\n",
       "      <td>0.0</td>\n",
       "      <td>0.0</td>\n",
       "      <td>0.000000</td>\n",
       "      <td>0.000000</td>\n",
       "      <td>0.000000</td>\n",
       "      <td>3.817099</td>\n",
       "    </tr>\n",
       "  </tbody>\n",
       "</table>\n",
       "<p>5 rows × 22050 columns</p>\n",
       "</div>"
      ],
      "text/plain": [
       "gene_id       ENSG00000121410_A1BG  ENSG00000268895_A1BG-AS1  \\\n",
       "cell_id                                                        \n",
       "232a79b634ed                   0.0                       0.0   \n",
       "c523fbe6d911                   0.0                       0.0   \n",
       "dd6dc8335202                   0.0                       0.0   \n",
       "54f4a4831971                   0.0                       0.0   \n",
       "64d88ab761a1                   0.0                       0.0   \n",
       "\n",
       "gene_id       ENSG00000175899_A2M  ENSG00000245105_A2M-AS1  \\\n",
       "cell_id                                                      \n",
       "232a79b634ed                  0.0                 0.000000   \n",
       "c523fbe6d911                  0.0                 0.000000   \n",
       "dd6dc8335202                  0.0                 4.154367   \n",
       "54f4a4831971                  0.0                 0.000000   \n",
       "64d88ab761a1                  0.0                 0.000000   \n",
       "\n",
       "gene_id       ENSG00000166535_A2ML1  ENSG00000128274_A4GALT  \\\n",
       "cell_id                                                       \n",
       "232a79b634ed                    0.0                 0.00000   \n",
       "c523fbe6d911                    0.0                 0.00000   \n",
       "dd6dc8335202                    0.0                 0.00000   \n",
       "54f4a4831971                    0.0                 0.00000   \n",
       "64d88ab761a1                    0.0                 4.49919   \n",
       "\n",
       "gene_id       ENSG00000094914_AAAS  ENSG00000081760_AACS  \\\n",
       "cell_id                                                    \n",
       "232a79b634ed                   0.0              0.000000   \n",
       "c523fbe6d911                   0.0              0.000000   \n",
       "dd6dc8335202                   0.0              0.000000   \n",
       "54f4a4831971                   0.0              3.569181   \n",
       "64d88ab761a1                   0.0              3.817099   \n",
       "\n",
       "gene_id       ENSG00000109576_AADAT  ENSG00000103591_AAGAB  ...  \\\n",
       "cell_id                                                     ...   \n",
       "232a79b634ed                    0.0                    0.0  ...   \n",
       "c523fbe6d911                    0.0                    0.0  ...   \n",
       "dd6dc8335202                    0.0                    0.0  ...   \n",
       "54f4a4831971                    0.0                    0.0  ...   \n",
       "64d88ab761a1                    0.0                    0.0  ...   \n",
       "\n",
       "gene_id       ENSG00000153975_ZUP1  ENSG00000086827_ZW10  \\\n",
       "cell_id                                                    \n",
       "232a79b634ed              0.000000              3.925279   \n",
       "c523fbe6d911              0.000000              0.000000   \n",
       "dd6dc8335202              0.000000              0.000000   \n",
       "54f4a4831971              0.000000              0.000000   \n",
       "64d88ab761a1              4.900942              0.000000   \n",
       "\n",
       "gene_id       ENSG00000174442_ZWILCH  ENSG00000122952_ZWINT  \\\n",
       "cell_id                                                       \n",
       "232a79b634ed                0.000000                    0.0   \n",
       "c523fbe6d911                0.000000                    0.0   \n",
       "dd6dc8335202                4.154367                    0.0   \n",
       "54f4a4831971                0.000000                    0.0   \n",
       "64d88ab761a1                0.000000                    0.0   \n",
       "\n",
       "gene_id       ENSG00000198205_ZXDA  ENSG00000198455_ZXDB  \\\n",
       "cell_id                                                    \n",
       "232a79b634ed                   0.0                   0.0   \n",
       "c523fbe6d911                   0.0                   0.0   \n",
       "dd6dc8335202                   0.0                   0.0   \n",
       "54f4a4831971                   0.0                   0.0   \n",
       "64d88ab761a1                   0.0                   0.0   \n",
       "\n",
       "gene_id       ENSG00000070476_ZXDC  ENSG00000162378_ZYG11B  \\\n",
       "cell_id                                                      \n",
       "232a79b634ed              3.925279                0.000000   \n",
       "c523fbe6d911              4.444875                0.000000   \n",
       "dd6dc8335202              0.000000                0.000000   \n",
       "54f4a4831971              0.000000                3.569181   \n",
       "64d88ab761a1              0.000000                0.000000   \n",
       "\n",
       "gene_id       ENSG00000159840_ZYX  ENSG00000074755_ZZEF1  \n",
       "cell_id                                                   \n",
       "232a79b634ed             0.000000               0.000000  \n",
       "c523fbe6d911             5.535631               0.000000  \n",
       "dd6dc8335202             0.000000               0.000000  \n",
       "54f4a4831971             4.248138               0.000000  \n",
       "64d88ab761a1             0.000000               3.817099  \n",
       "\n",
       "[5 rows x 22050 columns]"
      ]
     },
     "execution_count": 11,
     "metadata": {},
     "output_type": "execute_result"
    }
   ],
   "source": [
    "df_cite_train_x = pd.read_hdf(FP_CITE_TRAIN_INPUTS,start=START,stop=STOP)\n",
    "df_cite_train_x.head()"
   ]
  },
  {
   "cell_type": "markdown",
   "id": "c9ebcb79",
   "metadata": {
    "papermill": {
     "duration": 0.021644,
     "end_time": "2022-08-19T10:52:46.177693",
     "exception": false,
     "start_time": "2022-08-19T10:52:46.156049",
     "status": "completed"
    },
    "tags": []
   },
   "source": [
    "The first thing we notice is that the start of our gene_id looks much like what we have seen in the multiome data, but there is a new suffix. So what is it about the suffix?\n",
    "\n",
    "Checking the Ensembl ID of gene_id on [ensembl.org](https://www.ensembl.org/Homo_sapiens/Gene/Summary?db=core;g=ENSG00000121410;r=19:58345178-58353492) (in this case for ENSG00000121410) we see that the suffix is actually the name of the gene. As we will see in the next code cell, the gene_id is unique even without this suffix, so it looks like redundant information for now."
   ]
  },
  {
   "cell_type": "code",
   "execution_count": 12,
   "id": "6634daf6",
   "metadata": {
    "execution": {
     "iopub.execute_input": "2022-08-19T10:52:46.212046Z",
     "iopub.status.busy": "2022-08-19T10:52:46.211407Z",
     "iopub.status.idle": "2022-08-19T10:52:46.241028Z",
     "shell.execute_reply": "2022-08-19T10:52:46.239160Z"
    },
    "papermill": {
     "duration": 0.053137,
     "end_time": "2022-08-19T10:52:46.244972",
     "exception": false,
     "start_time": "2022-08-19T10:52:46.191835",
     "status": "completed"
    },
    "tags": []
   },
   "outputs": [
    {
     "name": "stdout",
     "output_type": "stream",
     "text": [
      "Different Gene IDs in multiome: 23418\n",
      "Different Gene IDs in citeseq: 22050\n"
     ]
    }
   ],
   "source": [
    "gene_ids_multiome = set(df_multi_train_y.columns)\n",
    "print(f\"Different Gene IDs in multiome: {len(gene_ids_multiome)}\")\n",
    "#for now we just keep the stem of the gene_id\n",
    "gene_ids_citeseq = set([i[:i.find(\"_\")] for i in df_cite_train_x.columns])\n",
    "print(f\"Different Gene IDs in citeseq: {len(gene_ids_citeseq)}\")"
   ]
  },
  {
   "cell_type": "markdown",
   "id": "b32bde1d",
   "metadata": {
    "papermill": {
     "duration": 0.011961,
     "end_time": "2022-08-19T10:52:46.269937",
     "exception": false,
     "start_time": "2022-08-19T10:52:46.257976",
     "status": "completed"
    },
    "tags": []
   },
   "source": [
    "As mentioned, stripping of the suffix still produces unique names.\n",
    "\n",
    "Let's check for overlap in both datasets about gene expression."
   ]
  },
  {
   "cell_type": "code",
   "execution_count": 13,
   "id": "66a73a9c",
   "metadata": {
    "execution": {
     "iopub.execute_input": "2022-08-19T10:52:46.297279Z",
     "iopub.status.busy": "2022-08-19T10:52:46.295729Z",
     "iopub.status.idle": "2022-08-19T10:52:46.315518Z",
     "shell.execute_reply": "2022-08-19T10:52:46.313874Z"
    },
    "papermill": {
     "duration": 0.036457,
     "end_time": "2022-08-19T10:52:46.318470",
     "exception": false,
     "start_time": "2022-08-19T10:52:46.282013",
     "status": "completed"
    },
    "tags": []
   },
   "outputs": [
    {
     "name": "stdout",
     "output_type": "stream",
     "text": [
      "Elements in Set Union: 27082\n",
      "Elements in Set Intersection: 18386\n",
      "multiome has 5032 unique gene ids.\n",
      "Citeseq has 3664 unique gene ids.\n"
     ]
    }
   ],
   "source": [
    "print(f\"Elements in Set Union: {len(gene_ids_citeseq | gene_ids_multiome)}\")\n",
    "print(f\"Elements in Set Intersection: {len(gene_ids_citeseq & gene_ids_multiome)}\")\n",
    "print(f\"multiome has {len(gene_ids_multiome - gene_ids_citeseq)} unique gene ids.\")\n",
    "print(f\"Citeseq has {len(gene_ids_citeseq - gene_ids_multiome)} unique gene ids.\")"
   ]
  },
  {
   "cell_type": "markdown",
   "id": "2603ef7b",
   "metadata": {
    "papermill": {
     "duration": 0.011737,
     "end_time": "2022-08-19T10:52:46.342703",
     "exception": false,
     "start_time": "2022-08-19T10:52:46.330966",
     "status": "completed"
    },
    "tags": []
   },
   "source": [
    "Even though we have a huge intersection, there are quite a few genes unique to each test.\n",
    "\n",
    "We will now again get information about distribution of values:"
   ]
  },
  {
   "cell_type": "code",
   "execution_count": 14,
   "id": "3f33a584",
   "metadata": {
    "execution": {
     "iopub.execute_input": "2022-08-19T10:52:46.368975Z",
     "iopub.status.busy": "2022-08-19T10:52:46.368495Z",
     "iopub.status.idle": "2022-08-19T10:52:47.672729Z",
     "shell.execute_reply": "2022-08-19T10:52:47.671081Z"
    },
    "papermill": {
     "duration": 1.320993,
     "end_time": "2022-08-19T10:52:47.675859",
     "exception": false,
     "start_time": "2022-08-19T10:52:46.354866",
     "status": "completed"
    },
    "tags": []
   },
   "outputs": [
    {
     "name": "stdout",
     "output_type": "stream",
     "text": [
      "Values for gene expression range from 0.00 to 11.29\n",
      "Each cell has at least 2234 genes with non-zero gene expression values and a maximum of 7319.\n",
      "On average there are 5003 genes with non-zero gene expression values in each cell.\n",
      "The average non-zero value for gene expression is about 4.39.\n",
      "The standard deviation of gene expression values is between 0.14 and 2.88.\n",
      "The average standard deviation is 1.12\n"
     ]
    }
   ],
   "source": [
    "print(f\"Values for gene expression range from {df_cite_train_x.min().min():.2f} to {df_cite_train_x.max().max():.2f}\")\n",
    "\n",
    "# get data about non-zero values\n",
    "min_cells_non_zero_y = df_cite_train_x.gt(0).sum(axis=1).min()\n",
    "max_cells_non_zero_y = df_cite_train_x.gt(0).sum(axis=1).max()\n",
    "sum_non_zero_values_y = df_cite_train_x.sum().sum()\n",
    "count_non_zero_values_y = df_cite_train_x.gt(0).sum().sum()\n",
    "average_non_zero_per_gene_y = df_cite_train_x[df_cite_train_x.gt(0)].count(axis = 1).mean()\n",
    "\n",
    "print(f\"Each cell has at least {min_cells_non_zero_y} genes with non-zero gene expression values and a maximum of {max_cells_non_zero_y}.\")\n",
    "print(f\"On average there are {round(average_non_zero_per_gene_y)} genes with non-zero gene expression values in each cell.\")\n",
    "print(f\"The average non-zero value for gene expression is about {sum_non_zero_values_y / count_non_zero_values_y:.2f}.\")\n",
    "\n",
    "# investigate standard deviation of features\n",
    "std_dev_of_genes_y = df_cite_train_x.std()\n",
    "\n",
    "# ignore genes that are only accessible in a single cell\n",
    "std_dev_of_genes_without_singles_y = std_dev_of_genes_y[df_cite_train_x.gt(0).sum().gt(1)]\n",
    "print(f\"The standard deviation of gene expression values is between {std_dev_of_genes_without_singles_y.min():.2f} and {std_dev_of_genes_without_singles_y.max():.2f}.\\nThe average standard deviation is {std_dev_of_genes_without_singles_y.mean():.2f}\")"
   ]
  },
  {
   "cell_type": "markdown",
   "id": "c279b084",
   "metadata": {
    "papermill": {
     "duration": 0.011831,
     "end_time": "2022-08-19T10:52:47.700014",
     "exception": false,
     "start_time": "2022-08-19T10:52:47.688183",
     "status": "completed"
    },
    "tags": []
   },
   "source": [
    "We can see that the gene expression features obtained by the citeseq and the multiome test are quite similar. Values are in the same range and also the standard deviation and average non-zero values are of comparable size. For now, we only had a look at part of the data, so it will be interesting to see if this holds for all the data. We will get to that later.\n",
    "\n",
    "For now, let's have a look at how many genes are expressed in individual cells."
   ]
  },
  {
   "cell_type": "code",
   "execution_count": 15,
   "id": "6fb61f86",
   "metadata": {
    "execution": {
     "iopub.execute_input": "2022-08-19T10:52:47.726862Z",
     "iopub.status.busy": "2022-08-19T10:52:47.726327Z",
     "iopub.status.idle": "2022-08-19T10:52:47.956865Z",
     "shell.execute_reply": "2022-08-19T10:52:47.955620Z"
    },
    "papermill": {
     "duration": 0.247687,
     "end_time": "2022-08-19T10:52:47.959981",
     "exception": false,
     "start_time": "2022-08-19T10:52:47.712294",
     "status": "completed"
    },
    "tags": []
   },
   "outputs": [
    {
     "data": {
      "image/png": "[encoded data removed]",
      "text/plain": [
       "<Figure size 432x288 with 1 Axes>"
      ]
     },
     "metadata": {
      "needs_background": "light"
     },
     "output_type": "display_data"
    }
   ],
   "source": [
    "s = df_cite_train_x.gt(0).sum(axis = 1)\n",
    "counts = s.groupby(lambda x: s[x] // 300).count()\n",
    "counts.index = counts.index * 300\n",
    "\n",
    "fig, ax = plt.subplots()\n",
    "ax.plot(counts.index, counts.values)\n",
    "ax.set_xlabel('number of genes expressed')\n",
    "ax.set_ylabel('number of cells')\n",
    "plt.show()"
   ]
  },
  {
   "cell_type": "markdown",
   "id": "06772534",
   "metadata": {
    "papermill": {
     "duration": 0.012649,
     "end_time": "2022-08-19T10:52:47.985703",
     "exception": false,
     "start_time": "2022-08-19T10:52:47.973054",
     "status": "completed"
    },
    "tags": []
   },
   "source": [
    "This sums up our investigation of the gene expression data obtained by the citeseq test. We saw that the data is comparable to that obtained by multiome. One key difference is that both have unique genes that are only measured in one test. Later, we will also investigate if the comparability of the data is due to preceding normalization of the raw data obtained by the tests and also address the question of what an expression value of e. g. 2.4 actually means."
   ]
  },
  {
   "cell_type": "markdown",
   "id": "fc830932",
   "metadata": {
    "papermill": {
     "duration": 0.01309,
     "end_time": "2022-08-19T10:52:48.011511",
     "exception": false,
     "start_time": "2022-08-19T10:52:47.998421",
     "status": "completed"
    },
    "tags": []
   },
   "source": [
    "<div style=\"color:white;display:fill;\n",
    "            background-color:#3bb2d6;font-size:200%;\">\n",
    "    <p style=\"padding: 4px;color:white;\"><b>2.3 Surface protein level data</b></p>\n",
    "</div>\n",
    "\n",
    "Lastly, we will have a look at the surface protein levels data gathered by citeseq."
   ]
  },
  {
   "cell_type": "code",
   "execution_count": 16,
   "id": "912d4f19",
   "metadata": {
    "execution": {
     "iopub.execute_input": "2022-08-19T10:52:48.039333Z",
     "iopub.status.busy": "2022-08-19T10:52:48.038859Z",
     "iopub.status.idle": "2022-08-19T10:52:48.741816Z",
     "shell.execute_reply": "2022-08-19T10:52:48.740624Z"
    },
    "papermill": {
     "duration": 0.719969,
     "end_time": "2022-08-19T10:52:48.744302",
     "exception": false,
     "start_time": "2022-08-19T10:52:48.024333",
     "status": "completed"
    },
    "tags": []
   },
   "outputs": [
    {
     "data": {
      "text/html": [
       "<div>\n",
       "<style scoped>\n",
       "    .dataframe tbody tr th:only-of-type {\n",
       "        vertical-align: middle;\n",
       "    }\n",
       "\n",
       "    .dataframe tbody tr th {\n",
       "        vertical-align: top;\n",
       "    }\n",
       "\n",
       "    .dataframe thead th {\n",
       "        text-align: right;\n",
       "    }\n",
       "</style>\n",
       "<table border=\"1\" class=\"dataframe\">\n",
       "  <thead>\n",
       "    <tr style=\"text-align: right;\">\n",
       "      <th>gene_id</th>\n",
       "      <th>CD86</th>\n",
       "      <th>CD274</th>\n",
       "      <th>CD270</th>\n",
       "      <th>CD155</th>\n",
       "      <th>CD112</th>\n",
       "      <th>CD47</th>\n",
       "      <th>CD48</th>\n",
       "      <th>CD40</th>\n",
       "      <th>CD154</th>\n",
       "      <th>CD52</th>\n",
       "      <th>...</th>\n",
       "      <th>CD94</th>\n",
       "      <th>CD162</th>\n",
       "      <th>CD85j</th>\n",
       "      <th>CD23</th>\n",
       "      <th>CD328</th>\n",
       "      <th>HLA-E</th>\n",
       "      <th>CD82</th>\n",
       "      <th>CD101</th>\n",
       "      <th>CD88</th>\n",
       "      <th>CD224</th>\n",
       "    </tr>\n",
       "    <tr>\n",
       "      <th>cell_id</th>\n",
       "      <th></th>\n",
       "      <th></th>\n",
       "      <th></th>\n",
       "      <th></th>\n",
       "      <th></th>\n",
       "      <th></th>\n",
       "      <th></th>\n",
       "      <th></th>\n",
       "      <th></th>\n",
       "      <th></th>\n",
       "      <th></th>\n",
       "      <th></th>\n",
       "      <th></th>\n",
       "      <th></th>\n",
       "      <th></th>\n",
       "      <th></th>\n",
       "      <th></th>\n",
       "      <th></th>\n",
       "      <th></th>\n",
       "      <th></th>\n",
       "      <th></th>\n",
       "    </tr>\n",
       "  </thead>\n",
       "  <tbody>\n",
       "    <tr>\n",
       "      <th>45006fe3e4c8</th>\n",
       "      <td>1.167804</td>\n",
       "      <td>0.622530</td>\n",
       "      <td>0.106959</td>\n",
       "      <td>0.324989</td>\n",
       "      <td>3.331674</td>\n",
       "      <td>6.426002</td>\n",
       "      <td>1.480766</td>\n",
       "      <td>-0.728392</td>\n",
       "      <td>-0.468851</td>\n",
       "      <td>-0.073285</td>\n",
       "      <td>...</td>\n",
       "      <td>-0.448390</td>\n",
       "      <td>3.220174</td>\n",
       "      <td>-0.533004</td>\n",
       "      <td>0.674956</td>\n",
       "      <td>-0.006187</td>\n",
       "      <td>0.682148</td>\n",
       "      <td>1.398105</td>\n",
       "      <td>0.414292</td>\n",
       "      <td>1.780314</td>\n",
       "      <td>0.548070</td>\n",
       "    </tr>\n",
       "    <tr>\n",
       "      <th>d02759a80ba2</th>\n",
       "      <td>0.818970</td>\n",
       "      <td>0.506009</td>\n",
       "      <td>1.078682</td>\n",
       "      <td>6.848758</td>\n",
       "      <td>3.524885</td>\n",
       "      <td>5.279456</td>\n",
       "      <td>4.930438</td>\n",
       "      <td>2.069372</td>\n",
       "      <td>0.333652</td>\n",
       "      <td>-0.468088</td>\n",
       "      <td>...</td>\n",
       "      <td>0.323613</td>\n",
       "      <td>8.407108</td>\n",
       "      <td>0.131301</td>\n",
       "      <td>0.047607</td>\n",
       "      <td>-0.243628</td>\n",
       "      <td>0.547864</td>\n",
       "      <td>1.832587</td>\n",
       "      <td>0.982308</td>\n",
       "      <td>2.736507</td>\n",
       "      <td>2.184063</td>\n",
       "    </tr>\n",
       "    <tr>\n",
       "      <th>c016c6b0efa5</th>\n",
       "      <td>-0.356703</td>\n",
       "      <td>-0.422261</td>\n",
       "      <td>-0.824493</td>\n",
       "      <td>1.137495</td>\n",
       "      <td>0.518924</td>\n",
       "      <td>7.221962</td>\n",
       "      <td>-0.375034</td>\n",
       "      <td>1.738071</td>\n",
       "      <td>0.142919</td>\n",
       "      <td>-0.971460</td>\n",
       "      <td>...</td>\n",
       "      <td>1.348692</td>\n",
       "      <td>4.888579</td>\n",
       "      <td>-0.279483</td>\n",
       "      <td>-0.131097</td>\n",
       "      <td>-0.177604</td>\n",
       "      <td>-0.689188</td>\n",
       "      <td>9.013709</td>\n",
       "      <td>-1.182975</td>\n",
       "      <td>3.958148</td>\n",
       "      <td>2.868600</td>\n",
       "    </tr>\n",
       "    <tr>\n",
       "      <th>ba7f733a4f75</th>\n",
       "      <td>-1.201507</td>\n",
       "      <td>0.149115</td>\n",
       "      <td>2.022468</td>\n",
       "      <td>6.021595</td>\n",
       "      <td>7.258670</td>\n",
       "      <td>2.792436</td>\n",
       "      <td>21.708519</td>\n",
       "      <td>-0.137913</td>\n",
       "      <td>1.649969</td>\n",
       "      <td>-0.754680</td>\n",
       "      <td>...</td>\n",
       "      <td>1.504426</td>\n",
       "      <td>12.391979</td>\n",
       "      <td>0.511394</td>\n",
       "      <td>0.587863</td>\n",
       "      <td>-0.752638</td>\n",
       "      <td>1.714851</td>\n",
       "      <td>3.893782</td>\n",
       "      <td>1.799661</td>\n",
       "      <td>1.537249</td>\n",
       "      <td>4.407671</td>\n",
       "    </tr>\n",
       "    <tr>\n",
       "      <th>fbcf2443ffb2</th>\n",
       "      <td>-0.100404</td>\n",
       "      <td>0.697461</td>\n",
       "      <td>0.625836</td>\n",
       "      <td>-0.298404</td>\n",
       "      <td>1.369898</td>\n",
       "      <td>3.254521</td>\n",
       "      <td>-1.659380</td>\n",
       "      <td>0.643531</td>\n",
       "      <td>0.902710</td>\n",
       "      <td>1.291877</td>\n",
       "      <td>...</td>\n",
       "      <td>0.777023</td>\n",
       "      <td>6.496499</td>\n",
       "      <td>0.279898</td>\n",
       "      <td>-0.841950</td>\n",
       "      <td>-0.869419</td>\n",
       "      <td>0.675092</td>\n",
       "      <td>5.259685</td>\n",
       "      <td>-0.835379</td>\n",
       "      <td>9.631781</td>\n",
       "      <td>1.765445</td>\n",
       "    </tr>\n",
       "  </tbody>\n",
       "</table>\n",
       "<p>5 rows × 140 columns</p>\n",
       "</div>"
      ],
      "text/plain": [
       "gene_id           CD86     CD274     CD270     CD155     CD112      CD47  \\\n",
       "cell_id                                                                    \n",
       "45006fe3e4c8  1.167804  0.622530  0.106959  0.324989  3.331674  6.426002   \n",
       "d02759a80ba2  0.818970  0.506009  1.078682  6.848758  3.524885  5.279456   \n",
       "c016c6b0efa5 -0.356703 -0.422261 -0.824493  1.137495  0.518924  7.221962   \n",
       "ba7f733a4f75 -1.201507  0.149115  2.022468  6.021595  7.258670  2.792436   \n",
       "fbcf2443ffb2 -0.100404  0.697461  0.625836 -0.298404  1.369898  3.254521   \n",
       "\n",
       "gene_id            CD48      CD40     CD154      CD52  ...      CD94  \\\n",
       "cell_id                                                ...             \n",
       "45006fe3e4c8   1.480766 -0.728392 -0.468851 -0.073285  ... -0.448390   \n",
       "d02759a80ba2   4.930438  2.069372  0.333652 -0.468088  ...  0.323613   \n",
       "c016c6b0efa5  -0.375034  1.738071  0.142919 -0.971460  ...  1.348692   \n",
       "ba7f733a4f75  21.708519 -0.137913  1.649969 -0.754680  ...  1.504426   \n",
       "fbcf2443ffb2  -1.659380  0.643531  0.902710  1.291877  ...  0.777023   \n",
       "\n",
       "gene_id           CD162     CD85j      CD23     CD328     HLA-E      CD82  \\\n",
       "cell_id                                                                     \n",
       "45006fe3e4c8   3.220174 -0.533004  0.674956 -0.006187  0.682148  1.398105   \n",
       "d02759a80ba2   8.407108  0.131301  0.047607 -0.243628  0.547864  1.832587   \n",
       "c016c6b0efa5   4.888579 -0.279483 -0.131097 -0.177604 -0.689188  9.013709   \n",
       "ba7f733a4f75  12.391979  0.511394  0.587863 -0.752638  1.714851  3.893782   \n",
       "fbcf2443ffb2   6.496499  0.279898 -0.841950 -0.869419  0.675092  5.259685   \n",
       "\n",
       "gene_id          CD101      CD88     CD224  \n",
       "cell_id                                     \n",
       "45006fe3e4c8  0.414292  1.780314  0.548070  \n",
       "d02759a80ba2  0.982308  2.736507  2.184063  \n",
       "c016c6b0efa5 -1.182975  3.958148  2.868600  \n",
       "ba7f733a4f75  1.799661  1.537249  4.407671  \n",
       "fbcf2443ffb2 -0.835379  9.631781  1.765445  \n",
       "\n",
       "[5 rows x 140 columns]"
      ]
     },
     "execution_count": 16,
     "metadata": {},
     "output_type": "execute_result"
    }
   ],
   "source": [
    "df_cite_train_y = pd.read_hdf(FP_CITE_TRAIN_TARGETS)\n",
    "df_cite_train_y.head()"
   ]
  },
  {
   "cell_type": "markdown",
   "id": "e4170ac3",
   "metadata": {
    "papermill": {
     "duration": 0.013184,
     "end_time": "2022-08-19T10:52:48.770869",
     "exception": false,
     "start_time": "2022-08-19T10:52:48.757685",
     "status": "completed"
    },
    "tags": []
   },
   "source": [
    "Compared to what we have seen so far, the number of columns in this data set is quite small. We have measurements of 140 features per cell. Most of the names start with CD, which is short for \"Cluster of differentiation\". CDs are used to classify surface molecules a cell expresses. This information can then be used to get an idea of what kind of cell is present, or what function this cell is supposed to serve in the body (I am not sure if my understanding here is even remotely accurate).\n",
    "\n",
    "Let's forget about the biological view for a moment and focus on the data science centric view. As we will see in the next cell, we have no zero values in this dataset, and thus much of the computation we did before (counting non-zero values, for example) is pointless. We will look at other features:"
   ]
  },
  {
   "cell_type": "code",
   "execution_count": 17,
   "id": "2bf31059",
   "metadata": {
    "execution": {
     "iopub.execute_input": "2022-08-19T10:52:48.799526Z",
     "iopub.status.busy": "2022-08-19T10:52:48.798409Z",
     "iopub.status.idle": "2022-08-19T10:52:49.190284Z",
     "shell.execute_reply": "2022-08-19T10:52:49.188450Z"
    },
    "papermill": {
     "duration": 0.40911,
     "end_time": "2022-08-19T10:52:49.193201",
     "exception": false,
     "start_time": "2022-08-19T10:52:48.784091",
     "status": "completed"
    },
    "tags": []
   },
   "outputs": [
    {
     "name": "stdout",
     "output_type": "stream",
     "text": [
      "Measurements of surface protein levels range from -52.48 to 120.46.\n",
      "The average value is 1.89.\n",
      "The standard deviation of surface protein levels is between 0.73 and 7.87.\n",
      "The average standard deviation is 1.76.\n"
     ]
    }
   ],
   "source": [
    "print(f\"Measurements of surface protein levels range from {df_cite_train_y.min().min():.2f} to {df_cite_train_y.max().max():.2f}.\")\n",
    "print(f\"The average value is {df_cite_train_y.mean().mean():.2f}.\")\n",
    "print(f\"The standard deviation of surface protein levels is between {df_cite_train_y.std().min():.2f} and {df_cite_train_y.std().max():.2f}.\")\n",
    "print(f\"The average standard deviation is {df_cite_train_y.std().mean():.2f}.\")"
   ]
  },
  {
   "cell_type": "markdown",
   "id": "6bed8888",
   "metadata": {
    "papermill": {
     "duration": 0.01347,
     "end_time": "2022-08-19T10:52:49.220711",
     "exception": false,
     "start_time": "2022-08-19T10:52:49.207241",
     "status": "completed"
    },
    "tags": []
   },
   "source": [
    "We would also like to know if the absence of zero values could be due to inaccuracy in measurements. The following code checks for that. ATTENTION: As of right now, the threshold is completely arbitrary and will be revised when I know how accurate the test is!"
   ]
  },
  {
   "cell_type": "code",
   "execution_count": 18,
   "id": "1f0f9308",
   "metadata": {
    "execution": {
     "iopub.execute_input": "2022-08-19T10:52:49.250447Z",
     "iopub.status.busy": "2022-08-19T10:52:49.249692Z",
     "iopub.status.idle": "2022-08-19T10:53:00.917549Z",
     "shell.execute_reply": "2022-08-19T10:53:00.916316Z"
    },
    "papermill": {
     "duration": 11.686809,
     "end_time": "2022-08-19T10:53:00.921263",
     "exception": false,
     "start_time": "2022-08-19T10:52:49.234454",
     "status": "completed"
    },
    "tags": []
   },
   "outputs": [
    {
     "name": "stdout",
     "output_type": "stream",
     "text": [
      "Each cell has between 103 and 140 measurements with absolute values over 0.1.\n"
     ]
    }
   ],
   "source": [
    "threshold = 0.1\n",
    "df_cite_train_y.applymap(lambda x: abs(x)).gt(threshold).sum(axis = 1)\n",
    "print(f\"Each cell has between {df_cite_train_y.applymap(lambda x: abs(x)).gt(threshold).sum(axis = 1).min()} and {df_cite_train_y.applymap(lambda x: abs(x)).gt(threshold).sum(axis = 1).max()} measurements with absolute values over {threshold}.\")"
   ]
  },
  {
   "cell_type": "markdown",
   "id": "7fdbe954",
   "metadata": {
    "papermill": {
     "duration": 0.013525,
     "end_time": "2022-08-19T10:53:00.949851",
     "exception": false,
     "start_time": "2022-08-19T10:53:00.936326",
     "status": "completed"
    },
    "tags": []
   },
   "source": [
    "It does not look like inaccuracy in measurements is the reason for the absence of 0 values, but as said, this needs to be checked!\n",
    "\n",
    "# 3 Other Data\n",
    "On top of the data we already saw, there is also a file containing metadata and two files needed to make a submission for the competition. We will first have a look at the metadata and then at the competition-related data.\n",
    "\n",
    "<div style=\"color:white;display:fill;\n",
    "            background-color:#3bb2d6;font-size:200%;\">\n",
    "    <p style=\"padding: 4px;color:white;\"><b>3.1 Inspection of metadata.csv</b></p>\n",
    "</div>\n",
    "\n",
    "The Metadata is stored in the file metadata.csv. The file contains one row for each cell in the dataset and provides some additional information about that cell."
   ]
  },
  {
   "cell_type": "code",
   "execution_count": 19,
   "id": "6394f929",
   "metadata": {
    "execution": {
     "iopub.execute_input": "2022-08-19T10:53:00.979138Z",
     "iopub.status.busy": "2022-08-19T10:53:00.978419Z",
     "iopub.status.idle": "2022-08-19T10:53:01.457115Z",
     "shell.execute_reply": "2022-08-19T10:53:01.455872Z"
    },
    "papermill": {
     "duration": 0.497264,
     "end_time": "2022-08-19T10:53:01.460544",
     "exception": false,
     "start_time": "2022-08-19T10:53:00.963280",
     "status": "completed"
    },
    "tags": []
   },
   "outputs": [
    {
     "data": {
      "text/html": [
       "<div>\n",
       "<style scoped>\n",
       "    .dataframe tbody tr th:only-of-type {\n",
       "        vertical-align: middle;\n",
       "    }\n",
       "\n",
       "    .dataframe tbody tr th {\n",
       "        vertical-align: top;\n",
       "    }\n",
       "\n",
       "    .dataframe thead th {\n",
       "        text-align: right;\n",
       "    }\n",
       "</style>\n",
       "<table border=\"1\" class=\"dataframe\">\n",
       "  <thead>\n",
       "    <tr style=\"text-align: right;\">\n",
       "      <th></th>\n",
       "      <th>day</th>\n",
       "      <th>donor</th>\n",
       "      <th>cell_type</th>\n",
       "      <th>technology</th>\n",
       "    </tr>\n",
       "    <tr>\n",
       "      <th>cell_id</th>\n",
       "      <th></th>\n",
       "      <th></th>\n",
       "      <th></th>\n",
       "      <th></th>\n",
       "    </tr>\n",
       "  </thead>\n",
       "  <tbody>\n",
       "    <tr>\n",
       "      <th>c2150f55becb</th>\n",
       "      <td>2</td>\n",
       "      <td>27678</td>\n",
       "      <td>HSC</td>\n",
       "      <td>citeseq</td>\n",
       "    </tr>\n",
       "    <tr>\n",
       "      <th>65b7edf8a4da</th>\n",
       "      <td>2</td>\n",
       "      <td>27678</td>\n",
       "      <td>HSC</td>\n",
       "      <td>citeseq</td>\n",
       "    </tr>\n",
       "    <tr>\n",
       "      <th>c1b26cb1057b</th>\n",
       "      <td>2</td>\n",
       "      <td>27678</td>\n",
       "      <td>EryP</td>\n",
       "      <td>citeseq</td>\n",
       "    </tr>\n",
       "    <tr>\n",
       "      <th>917168fa6f83</th>\n",
       "      <td>2</td>\n",
       "      <td>27678</td>\n",
       "      <td>NeuP</td>\n",
       "      <td>citeseq</td>\n",
       "    </tr>\n",
       "    <tr>\n",
       "      <th>2b29feeca86d</th>\n",
       "      <td>2</td>\n",
       "      <td>27678</td>\n",
       "      <td>EryP</td>\n",
       "      <td>citeseq</td>\n",
       "    </tr>\n",
       "    <tr>\n",
       "      <th>...</th>\n",
       "      <td>...</td>\n",
       "      <td>...</td>\n",
       "      <td>...</td>\n",
       "      <td>...</td>\n",
       "    </tr>\n",
       "    <tr>\n",
       "      <th>96a60b026659</th>\n",
       "      <td>10</td>\n",
       "      <td>31800</td>\n",
       "      <td>hidden</td>\n",
       "      <td>multiome</td>\n",
       "    </tr>\n",
       "    <tr>\n",
       "      <th>d493e546991e</th>\n",
       "      <td>10</td>\n",
       "      <td>31800</td>\n",
       "      <td>hidden</td>\n",
       "      <td>multiome</td>\n",
       "    </tr>\n",
       "    <tr>\n",
       "      <th>05666c99aa48</th>\n",
       "      <td>10</td>\n",
       "      <td>31800</td>\n",
       "      <td>hidden</td>\n",
       "      <td>multiome</td>\n",
       "    </tr>\n",
       "    <tr>\n",
       "      <th>121f946642b5</th>\n",
       "      <td>10</td>\n",
       "      <td>31800</td>\n",
       "      <td>hidden</td>\n",
       "      <td>multiome</td>\n",
       "    </tr>\n",
       "    <tr>\n",
       "      <th>b847ba21f59f</th>\n",
       "      <td>10</td>\n",
       "      <td>31800</td>\n",
       "      <td>hidden</td>\n",
       "      <td>multiome</td>\n",
       "    </tr>\n",
       "  </tbody>\n",
       "</table>\n",
       "<p>281528 rows × 4 columns</p>\n",
       "</div>"
      ],
      "text/plain": [
       "              day  donor cell_type technology\n",
       "cell_id                                      \n",
       "c2150f55becb    2  27678       HSC    citeseq\n",
       "65b7edf8a4da    2  27678       HSC    citeseq\n",
       "c1b26cb1057b    2  27678      EryP    citeseq\n",
       "917168fa6f83    2  27678      NeuP    citeseq\n",
       "2b29feeca86d    2  27678      EryP    citeseq\n",
       "...           ...    ...       ...        ...\n",
       "96a60b026659   10  31800    hidden   multiome\n",
       "d493e546991e   10  31800    hidden   multiome\n",
       "05666c99aa48   10  31800    hidden   multiome\n",
       "121f946642b5   10  31800    hidden   multiome\n",
       "b847ba21f59f   10  31800    hidden   multiome\n",
       "\n",
       "[281528 rows x 4 columns]"
      ]
     },
     "execution_count": 19,
     "metadata": {},
     "output_type": "execute_result"
    }
   ],
   "source": [
    "df_meta = pd.read_csv(FP_CELL_METADATA).set_index(\"cell_id\")\n",
    "df_meta"
   ]
  },
  {
   "cell_type": "markdown",
   "id": "865e30bb",
   "metadata": {
    "papermill": {
     "duration": 0.014318,
     "end_time": "2022-08-19T10:53:01.488764",
     "exception": false,
     "start_time": "2022-08-19T10:53:01.474446",
     "status": "completed"
    },
    "tags": []
   },
   "source": [
    "For each cell, we see the **day** column tells us on which day the test was performed. The test that was actually performed is shown in the **technology** column. Note that experiments started on day 1, therefore the first tests were performed one day after the cells were injected with Neupogen for the first time ([compare here](https://allcells.com/research-grade-tissue-products/mobilized-leukopak/)). For each of the four donors, we have a **donor** ID giving us information about the origin of the cell. Lastly, there is a **cell_type** column. The cell types are labels assigned by humans. They might be imprecise and this information is not available for test data since it would be possible to draw conclusions about surface protein levels, for example. It is not clear if we can make use of that later (maybe we can use it for creating balanced splits, but we will see).\n",
    "\n",
    "[jirkaborovec](https://www.kaggle.com/jirkaborovec) already composed a great analysis of the metadata in this [notebook](https://www.kaggle.com/code/jirkaborovec/mmscel-inst-eda-stat-predictions). I will copy some parts here for readability and add some comments myself."
   ]
  },
  {
   "cell_type": "code",
   "execution_count": 20,
   "id": "7cf0b82b",
   "metadata": {
    "execution": {
     "iopub.execute_input": "2022-08-19T10:53:01.519745Z",
     "iopub.status.busy": "2022-08-19T10:53:01.518377Z",
     "iopub.status.idle": "2022-08-19T10:53:02.128517Z",
     "shell.execute_reply": "2022-08-19T10:53:02.126903Z"
    },
    "papermill": {
     "duration": 0.630355,
     "end_time": "2022-08-19T10:53:02.133428",
     "exception": false,
     "start_time": "2022-08-19T10:53:01.503073",
     "status": "completed"
    },
    "tags": []
   },
   "outputs": [
    {
     "data": {
      "image/png": "[encoded data removed]",
      "text/plain": [
       "<Figure size 864x360 with 3 Axes>"
      ]
     },
     "metadata": {},
     "output_type": "display_data"
    }
   ],
   "source": [
    "fig, axarr = plt.subplots(nrows=1, ncols=3, figsize=(12, 5))\n",
    "for i, col in enumerate([\"donor\", \"day\", \"technology\"]):\n",
    "    _= df_meta[[col]].value_counts().plot.pie(ax=axarr[i], autopct='%1.1f%%', ylabel=col)"
   ]
  },
  {
   "cell_type": "markdown",
   "id": "c3a17fb9",
   "metadata": {
    "papermill": {
     "duration": 0.026495,
     "end_time": "2022-08-19T10:53:02.195256",
     "exception": false,
     "start_time": "2022-08-19T10:53:02.168761",
     "status": "completed"
    },
    "tags": []
   },
   "source": [
    "As we can see, the cell data is pretty balanced. We have almost an equal number of cells from each donor (the big numbers in the first picture are the donor ids). Also, the days of the experiment were fairly balanced. The last day, day 10, only receives an 11% share of the cells. Day 10 is also the only day not present in the train data at all! Also, the train set does not contain any data from donor 27678!\n",
    "\n",
    "We have slightly more data available for the multinome test. It is not the worst since our model also has to predict many more features for that test.\n",
    "\n",
    "The distribution of data in general is pretty well balanced (e. g., the number of tests taken / test / day is well distributed). For a more in-depth analysis of the metadata, I highly recommend the already mentioned [notebook](https://www.kaggle.com/code/jirkaborovec/mmscel-inst-eda-stat-predictions).\n",
    "\n",
    "<div style=\"color:white;display:fill;\n",
    "            background-color:#3bb2d6;font-size:200%;\">\n",
    "    <p style=\"padding: 4px;color:white;\"><b>3.2 Inspection of submission helpers</b></p>\n",
    "</div>\n",
    "\n",
    "There are two files related to result submission. evaluation_ids.csv specifies the data that needs to be submitted to the competition, and sample_submission.csv is meant as a guide for formatting the submitted data."
   ]
  },
  {
   "cell_type": "markdown",
   "id": "85d2c1c7",
   "metadata": {
    "papermill": {
     "duration": 0.0138,
     "end_time": "2022-08-19T10:53:02.223257",
     "exception": false,
     "start_time": "2022-08-19T10:53:02.209457",
     "status": "completed"
    },
    "tags": []
   },
   "source": [
    "# X Notes\n",
    "\n",
    "There are still some open questions in the text we need to address. Also, we want to get an understanding of the accuracy of the values and thus how many bits we will take for storage of data in the final data format."
   ]
  }
 ],
 "metadata": {
  "kernelspec": {
   "display_name": "Python 3",
   "language": "python",
   "name": "python3"
  },
  "language_info": {
   "codemirror_mode": {
    "name": "ipython",
    "version": 3
   },
   "file_extension": ".py",
   "mimetype": "text/x-python",
   "name": "python",
   "nbconvert_exporter": "python",
   "pygments_lexer": "ipython3",
   "version": "3.7.12"
  },
  "papermill": {
   "default_parameters": {},
   "duration": 71.858185,
   "end_time": "2022-08-19T10:53:03.365830",
   "environment_variables": {},
   "exception": null,
   "input_path": "__notebook__.ipynb",
   "output_path": "__notebook__.ipynb",
   "parameters": {},
   "start_time": "2022-08-19T10:51:51.507645",
   "version": "2.3.4"
  }
 },
 "nbformat": 4,
 "nbformat_minor": 5
}
