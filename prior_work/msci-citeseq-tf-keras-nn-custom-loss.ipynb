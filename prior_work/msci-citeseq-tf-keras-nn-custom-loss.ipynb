{
 "cells": [
  {
   "cell_type": "markdown",
   "id": "ac8757dc",
   "metadata": {
    "execution": {
     "iopub.execute_input": "2022-08-25T13:46:45.877061Z",
     "iopub.status.busy": "2022-08-25T13:46:45.876734Z",
     "iopub.status.idle": "2022-08-25T13:46:45.897016Z",
     "shell.execute_reply": "2022-08-25T13:46:45.896432Z",
     "shell.execute_reply.started": "2022-08-25T13:46:45.876992Z"
    },
    "papermill": {
     "duration": 0.0062,
     "end_time": "2022-09-04T20:48:05.248958",
     "exception": false,
     "start_time": "2022-09-04T20:48:05.242758",
     "status": "completed"
    },
    "tags": []
   },
   "source": [
    "# MSCI - CITEseq - TF / Keras Baseline\n",
    "\n",
    "Simple keras nn baseline that I intend to improve over time to match competitive models.\n",
    "\n",
    "Now with the multiome part: https://www.kaggle.com/code/lucasmorin/msci-multiome-tf-keras-nn-baseline"
   ]
  },
  {
   "cell_type": "markdown",
   "id": "14577851",
   "metadata": {
    "papermill": {
     "duration": 0.004321,
     "end_time": "2022-09-04T20:48:05.257880",
     "exception": false,
     "start_time": "2022-09-04T20:48:05.253559",
     "status": "completed"
    },
    "tags": []
   },
   "source": [
    "# Imports\n",
    "\n",
    "Import base libraries, graphic libraries and modelling librairies (sklearn for Cross-validation, TF/Keras for modelling)."
   ]
  },
  {
   "cell_type": "code",
   "execution_count": 1,
   "id": "71a34f12",
   "metadata": {
    "_cell_guid": "b1076dfc-b9ad-4769-8c92-a6c4dae69d19",
    "_uuid": "8f2839f25d086af736a60e9eeb907d3b93b6e0e5",
    "execution": {
     "iopub.execute_input": "2022-09-04T20:48:05.269201Z",
     "iopub.status.busy": "2022-09-04T20:48:05.268099Z",
     "iopub.status.idle": "2022-09-04T20:48:12.676720Z",
     "shell.execute_reply": "2022-09-04T20:48:12.674962Z"
    },
    "papermill": {
     "duration": 7.41765,
     "end_time": "2022-09-04T20:48:12.679886",
     "exception": false,
     "start_time": "2022-09-04T20:48:05.262236",
     "status": "completed"
    },
    "tags": []
   },
   "outputs": [
    {
     "name": "stderr",
     "output_type": "stream",
     "text": [
      "2022-09-04 20:48:12.531236: I tensorflow/stream_executor/cuda/cuda_gpu_executor.cc:937] successful NUMA node read from SysFS had negative value (-1), but there must be at least one NUMA node, so returning NUMA node zero\n",
      "2022-09-04 20:48:12.663862: I tensorflow/stream_executor/cuda/cuda_gpu_executor.cc:937] successful NUMA node read from SysFS had negative value (-1), but there must be at least one NUMA node, so returning NUMA node zero\n",
      "2022-09-04 20:48:12.664638: I tensorflow/stream_executor/cuda/cuda_gpu_executor.cc:937] successful NUMA node read from SysFS had negative value (-1), but there must be at least one NUMA node, so returning NUMA node zero\n",
      "2022-09-04 20:48:12.670337: I tensorflow/stream_executor/cuda/cuda_gpu_executor.cc:937] successful NUMA node read from SysFS had negative value (-1), but there must be at least one NUMA node, so returning NUMA node zero\n"
     ]
    }
   ],
   "source": [
    "import numpy as np, pandas as pd\n",
    "import glob, os, gc\n",
    "\n",
    "from IPython.core.display import display, HTML\n",
    "import matplotlib.pyplot as plt, seaborn as sns\n",
    "\n",
    "from sklearn import preprocessing, model_selection\n",
    "import tensorflow as tf\n",
    "from tensorflow import keras\n",
    "from keras import backend as K\n",
    "import tensorflow_probability as tfp\n",
    "\n",
    "#set backend as float16 \n",
    "K.set_floatx('float16')\n",
    "tf.keras.mixed_precision.set_global_policy('mixed_float16')\n",
    "\n",
    "DEBUG = True\n",
    "TEST = False"
   ]
  },
  {
   "cell_type": "markdown",
   "id": "59895837",
   "metadata": {
    "papermill": {
     "duration": 0.004605,
     "end_time": "2022-09-04T20:48:12.689201",
     "exception": false,
     "start_time": "2022-09-04T20:48:12.684596",
     "status": "completed"
    },
    "tags": []
   },
   "source": [
    "(needed tor ead hdf files)"
   ]
  },
  {
   "cell_type": "code",
   "execution_count": 2,
   "id": "77a045ed",
   "metadata": {
    "execution": {
     "iopub.execute_input": "2022-09-04T20:48:12.700461Z",
     "iopub.status.busy": "2022-09-04T20:48:12.699238Z",
     "iopub.status.idle": "2022-09-04T20:48:25.069866Z",
     "shell.execute_reply": "2022-09-04T20:48:25.068638Z"
    },
    "papermill": {
     "duration": 12.378984,
     "end_time": "2022-09-04T20:48:25.072507",
     "exception": false,
     "start_time": "2022-09-04T20:48:12.693523",
     "status": "completed"
    },
    "tags": []
   },
   "outputs": [
    {
     "name": "stdout",
     "output_type": "stream",
     "text": [
      "Collecting tables\r\n",
      "  Downloading tables-3.7.0-cp37-cp37m-manylinux_2_17_x86_64.manylinux2014_x86_64.whl (5.9 MB)\r\n",
      "\u001b[2K     \u001b[90m━━━━━━━━━━━━━━━━━━━━━━━━━━━━━━━━━━━━━━━━\u001b[0m \u001b[32m5.9/5.9 MB\u001b[0m \u001b[31m13.3 MB/s\u001b[0m eta \u001b[36m0:00:00\u001b[0m\r\n",
      "\u001b[?25hRequirement already satisfied: packaging in /opt/conda/lib/python3.7/site-packages (from tables) (21.3)\r\n",
      "Requirement already satisfied: numexpr>=2.6.2 in /opt/conda/lib/python3.7/site-packages (from tables) (2.8.3)\r\n",
      "Requirement already satisfied: numpy>=1.19.0 in /opt/conda/lib/python3.7/site-packages (from tables) (1.21.6)\r\n",
      "Requirement already satisfied: pyparsing!=3.0.5,>=2.0.2 in /opt/conda/lib/python3.7/site-packages (from packaging->tables) (3.0.9)\r\n",
      "Installing collected packages: tables\r\n",
      "Successfully installed tables-3.7.0\r\n",
      "\u001b[33mWARNING: Running pip as the 'root' user can result in broken permissions and conflicting behaviour with the system package manager. It is recommended to use a virtual environment instead: https://pip.pypa.io/warnings/venv\u001b[0m\u001b[33m\r\n",
      "\u001b[0m"
     ]
    }
   ],
   "source": [
    "!pip install tables"
   ]
  },
  {
   "cell_type": "markdown",
   "id": "3ea3c404",
   "metadata": {
    "papermill": {
     "duration": 0.005249,
     "end_time": "2022-09-04T20:48:25.083715",
     "exception": false,
     "start_time": "2022-09-04T20:48:25.078466",
     "status": "completed"
    },
    "tags": []
   },
   "source": [
    "# read data\n",
    "\n",
    "Reading data, adding celltype as categorical integer; perform 10% sampling if DEBUG mode is enabled."
   ]
  },
  {
   "cell_type": "code",
   "execution_count": 3,
   "id": "1e7b2c75",
   "metadata": {
    "execution": {
     "iopub.execute_input": "2022-09-04T20:48:25.096256Z",
     "iopub.status.busy": "2022-09-04T20:48:25.095862Z",
     "iopub.status.idle": "2022-09-04T20:49:28.960784Z",
     "shell.execute_reply": "2022-09-04T20:49:28.959428Z"
    },
    "papermill": {
     "duration": 63.874686,
     "end_time": "2022-09-04T20:49:28.963830",
     "exception": false,
     "start_time": "2022-09-04T20:48:25.089144",
     "status": "completed"
    },
    "tags": []
   },
   "outputs": [
    {
     "name": "stdout",
     "output_type": "stream",
     "text": [
      "CPU times: user 35.2 s, sys: 8.15 s, total: 43.4 s\n",
      "Wall time: 1min 3s\n"
     ]
    }
   ],
   "source": [
    "%%time \n",
    "\n",
    "train = pd.read_hdf(\"/kaggle/input/open-problems-multimodal/train_cite_inputs.h5\").astype('float16')\n",
    "\n",
    "meta_data = pd.read_csv('../input/open-problems-multimodal/metadata.csv')\n",
    "train_meta_data = meta_data.set_index('cell_id').loc[train.index]\n",
    "\n",
    "train = train.values\n",
    "train_cat =  train_meta_data.cell_type.values\n",
    "\n",
    "labels = pd.read_hdf(\"/kaggle/input/open-problems-multimodal/train_cite_targets.h5\").astype('float16').values"
   ]
  },
  {
   "cell_type": "code",
   "execution_count": 4,
   "id": "f699def0",
   "metadata": {
    "execution": {
     "iopub.execute_input": "2022-09-04T20:49:28.979967Z",
     "iopub.status.busy": "2022-09-04T20:49:28.979506Z",
     "iopub.status.idle": "2022-09-04T20:49:29.001081Z",
     "shell.execute_reply": "2022-09-04T20:49:28.999861Z"
    },
    "papermill": {
     "duration": 0.032925,
     "end_time": "2022-09-04T20:49:29.003676",
     "exception": false,
     "start_time": "2022-09-04T20:49:28.970751",
     "status": "completed"
    },
    "tags": []
   },
   "outputs": [],
   "source": [
    "map_cat = { 'BP':0, 'EryP':1, 'HSC':2, 'MasP':3, 'MkP':4, 'MoP':5, 'NeuP':6 }\n",
    "train_cat = np.array([map_cat[t] for t in train_cat])"
   ]
  },
  {
   "cell_type": "code",
   "execution_count": 5,
   "id": "52ef00df",
   "metadata": {
    "execution": {
     "iopub.execute_input": "2022-09-04T20:49:29.019429Z",
     "iopub.status.busy": "2022-09-04T20:49:29.019087Z",
     "iopub.status.idle": "2022-09-04T20:49:30.909054Z",
     "shell.execute_reply": "2022-09-04T20:49:30.907977Z"
    },
    "papermill": {
     "duration": 1.900624,
     "end_time": "2022-09-04T20:49:30.911618",
     "exception": false,
     "start_time": "2022-09-04T20:49:29.010994",
     "status": "completed"
    },
    "tags": []
   },
   "outputs": [],
   "source": [
    "if DEBUG:\n",
    "    idx = np.random.randint(0, train.shape[0], int(train.shape[0]/10))\n",
    "    train = train[idx]\n",
    "    train_cat = train_cat[idx]\n",
    "    labels = labels[idx]"
   ]
  },
  {
   "cell_type": "markdown",
   "id": "30201ab8",
   "metadata": {
    "papermill": {
     "duration": 0.00552,
     "end_time": "2022-09-04T20:49:30.924128",
     "exception": false,
     "start_time": "2022-09-04T20:49:30.918608",
     "status": "completed"
    },
    "tags": []
   },
   "source": [
    "# Custom Loss\n",
    "\n",
    "I implemented the needed correlation as a custom metric. To have a decreasing loss, the standard approach is to consider 1- corr instead of corr. \n",
    "Using only 1-corr as a metric is problematic as their might be a problem with scale. As the metric is independant of scale, the scale of the output can drift uncontrollably an cause overflow errors (exacerbated by the usage of float16). One solution is to add a bit of MSE loss. The final loss is 1 - corr + lambda * MSE where lambda is a small hand-tuned hyper-parameter."
   ]
  },
  {
   "cell_type": "code",
   "execution_count": 6,
   "id": "1a6d00b0",
   "metadata": {
    "execution": {
     "iopub.execute_input": "2022-09-04T20:49:30.937153Z",
     "iopub.status.busy": "2022-09-04T20:49:30.936283Z",
     "iopub.status.idle": "2022-09-04T20:49:30.947684Z",
     "shell.execute_reply": "2022-09-04T20:49:30.946813Z"
    },
    "papermill": {
     "duration": 0.020223,
     "end_time": "2022-09-04T20:49:30.949787",
     "exception": false,
     "start_time": "2022-09-04T20:49:30.929564",
     "status": "completed"
    },
    "tags": []
   },
   "outputs": [],
   "source": [
    "lam = 0.03\n",
    "\n",
    "def correlation_metric(y_true, y_pred):\n",
    "    x = tf.convert_to_tensor(y_true)\n",
    "    y = tf.convert_to_tensor(y_pred)\n",
    "    mx = K.mean(x,axis=1)\n",
    "    my = K.mean(y,axis=1)\n",
    "    mx = tf.tile(tf.expand_dims(mx,axis=1),(1,x.shape[1]))\n",
    "    my = tf.tile(tf.expand_dims(my,axis=1),(1,x.shape[1]))\n",
    "    xm, ym = (x-mx)/100, (y-my)/100\n",
    "    r_num = K.sum(tf.multiply(xm,ym),axis=1)\n",
    "    r_den = tf.sqrt(tf.multiply(K.sum(K.square(xm),axis=1), K.sum(K.square(ym),axis=1)))\n",
    "    r = tf.reduce_mean(r_num / r_den)\n",
    "    r = K.maximum(K.minimum(r, 1.0), -1.0)\n",
    "    return r\n",
    "\n",
    "def correlation_loss(y_true, y_pred):\n",
    "    return 1 - correlation_metric(y_true, y_pred) + lam * tf.keras.losses.MeanSquaredError()(tf.convert_to_tensor(y_true),tf.convert_to_tensor(y_pred))"
   ]
  },
  {
   "cell_type": "markdown",
   "id": "a24394aa",
   "metadata": {
    "papermill": {
     "duration": 0.005208,
     "end_time": "2022-09-04T20:49:30.960582",
     "exception": false,
     "start_time": "2022-09-04T20:49:30.955374",
     "status": "completed"
    },
    "tags": []
   },
   "source": [
    "# Model"
   ]
  },
  {
   "cell_type": "markdown",
   "id": "bd3768bc",
   "metadata": {
    "papermill": {
     "duration": 0.005685,
     "end_time": "2022-09-04T20:49:30.971856",
     "exception": false,
     "start_time": "2022-09-04T20:49:30.966171",
     "status": "completed"
    },
    "tags": []
   },
   "source": [
    "I start with a very vanilla MLP; I try to add a cell-type embedding layer. \n",
    "To avoid too much drift, I scale each layer with batchnorm.\n",
    "I also add some noise to make the learning more robust.\n",
    "I initially chose 'relu' as the activation function that seems well suited to handle sparse data; 'selu' is usually better than 'relu'."
   ]
  },
  {
   "cell_type": "code",
   "execution_count": 7,
   "id": "d769f798",
   "metadata": {
    "execution": {
     "iopub.execute_input": "2022-09-04T20:49:30.985467Z",
     "iopub.status.busy": "2022-09-04T20:49:30.983724Z",
     "iopub.status.idle": "2022-09-04T20:49:30.993056Z",
     "shell.execute_reply": "2022-09-04T20:49:30.992135Z"
    },
    "papermill": {
     "duration": 0.017744,
     "end_time": "2022-09-04T20:49:30.994971",
     "exception": false,
     "start_time": "2022-09-04T20:49:30.977227",
     "status": "completed"
    },
    "tags": []
   },
   "outputs": [],
   "source": [
    "hidden_units = (256,128,64)\n",
    "cell_embedding_size = 2\n",
    "noise = 0.1\n",
    "\n",
    "def base_model():\n",
    "    \n",
    "    num_input = keras.Input(shape=(train.shape[1],), name='num_data')\n",
    "    \n",
    "    cat_input = keras.Input(shape=(1,), name='cell_id')\n",
    "\n",
    "    cell_embedded = keras.layers.Embedding(8, cell_embedding_size, input_length=1)(cat_input)\n",
    "    cell_flattened = keras.layers.Flatten()(cell_embedded)\n",
    "    \n",
    "    out = keras.layers.Concatenate()([cell_flattened, num_input])\n",
    "\n",
    "    out = keras.layers.BatchNormalization()(out)\n",
    "    out = keras.layers.GaussianNoise(noise)(out)\n",
    "    \n",
    "    for n_hidden in hidden_units:\n",
    "        out = keras.layers.Dense(n_hidden, activation='selu', kernel_regularizer = tf.keras.regularizers.L2(l2=0.01))(out)\n",
    "        out = keras.layers.BatchNormalization()(out)\n",
    "        out = keras.layers.GaussianNoise(noise)(out)\n",
    "        \n",
    "    out = keras.layers.Dense(labels.shape[1], activation='selu', name='prediction')(out)\n",
    "\n",
    "    model = keras.Model(\n",
    "        inputs = [num_input, cat_input],\n",
    "        outputs = out,\n",
    "    )\n",
    "    \n",
    "    return model"
   ]
  },
  {
   "cell_type": "markdown",
   "id": "4777666d",
   "metadata": {
    "papermill": {
     "duration": 0.005431,
     "end_time": "2022-09-04T20:49:31.005704",
     "exception": false,
     "start_time": "2022-09-04T20:49:31.000273",
     "status": "completed"
    },
    "tags": []
   },
   "source": [
    "# Training\n",
    "\n",
    "General training loop; Data is split accordingly to CV. Then I train the model with some basic callbacks. \n",
    "Then the model is evaluated out of sample (we can check that the tf corr metric match the numpy implementation)."
   ]
  },
  {
   "cell_type": "code",
   "execution_count": 8,
   "id": "28c2cfc3",
   "metadata": {
    "execution": {
     "iopub.execute_input": "2022-09-04T20:49:31.017862Z",
     "iopub.status.busy": "2022-09-04T20:49:31.017590Z",
     "iopub.status.idle": "2022-09-04T20:50:11.370879Z",
     "shell.execute_reply": "2022-09-04T20:50:11.369829Z"
    },
    "papermill": {
     "duration": 40.363001,
     "end_time": "2022-09-04T20:50:11.373996",
     "exception": false,
     "start_time": "2022-09-04T20:49:31.010995",
     "status": "completed"
    },
    "tags": []
   },
   "outputs": [
    {
     "name": "stdout",
     "output_type": "stream",
     "text": [
      "CV 0/2\n",
      "Fold: 0 - seed: 0\n"
     ]
    },
    {
     "name": "stderr",
     "output_type": "stream",
     "text": [
      "2022-09-04 20:49:31.381901: I tensorflow/core/platform/cpu_feature_guard.cc:142] This TensorFlow binary is optimized with oneAPI Deep Neural Network Library (oneDNN) to use the following CPU instructions in performance-critical operations:  AVX2 AVX512F FMA\n",
      "To enable them in other operations, rebuild TensorFlow with the appropriate compiler flags.\n",
      "2022-09-04 20:49:31.382728: I tensorflow/stream_executor/cuda/cuda_gpu_executor.cc:937] successful NUMA node read from SysFS had negative value (-1), but there must be at least one NUMA node, so returning NUMA node zero\n",
      "2022-09-04 20:49:31.383647: I tensorflow/stream_executor/cuda/cuda_gpu_executor.cc:937] successful NUMA node read from SysFS had negative value (-1), but there must be at least one NUMA node, so returning NUMA node zero\n",
      "2022-09-04 20:49:31.384326: I tensorflow/stream_executor/cuda/cuda_gpu_executor.cc:937] successful NUMA node read from SysFS had negative value (-1), but there must be at least one NUMA node, so returning NUMA node zero\n",
      "2022-09-04 20:49:33.633007: I tensorflow/stream_executor/cuda/cuda_gpu_executor.cc:937] successful NUMA node read from SysFS had negative value (-1), but there must be at least one NUMA node, so returning NUMA node zero\n",
      "2022-09-04 20:49:33.633904: I tensorflow/stream_executor/cuda/cuda_gpu_executor.cc:937] successful NUMA node read from SysFS had negative value (-1), but there must be at least one NUMA node, so returning NUMA node zero\n",
      "2022-09-04 20:49:33.634597: I tensorflow/stream_executor/cuda/cuda_gpu_executor.cc:937] successful NUMA node read from SysFS had negative value (-1), but there must be at least one NUMA node, so returning NUMA node zero\n",
      "2022-09-04 20:49:33.635827: I tensorflow/core/common_runtime/gpu/gpu_device.cc:1510] Created device /job:localhost/replica:0/task:0/device:GPU:0 with 15403 MB memory:  -> device: 0, name: Tesla P100-PCIE-16GB, pci bus id: 0000:00:04.0, compute capability: 6.0\n",
      "2022-09-04 20:49:34.691022: I tensorflow/compiler/mlir/mlir_graph_optimization_pass.cc:185] None of the MLIR Optimization Passes are enabled (registered 2)\n"
     ]
    },
    {
     "name": "stdout",
     "output_type": "stream",
     "text": [
      "Epoch 1/3\n",
      "34/34 [==============================] - 4s 33ms/step - loss: 8.2173 - correlation_metric: 0.0953 - val_loss: 6.8771 - val_correlation_metric: 0.3975\n",
      "Epoch 2/3\n",
      "34/34 [==============================] - 1s 16ms/step - loss: 6.3649 - correlation_metric: 0.2304 - val_loss: 5.3170 - val_correlation_metric: 0.4954\n",
      "Epoch 3/3\n",
      "34/34 [==============================] - 1s 16ms/step - loss: 5.0486 - correlation_metric: 0.3271 - val_loss: 4.2457 - val_correlation_metric: 0.5623\n",
      "Fold: 0 - seed: 0: 56.31%\n"
     ]
    },
    {
     "name": "stderr",
     "output_type": "stream",
     "text": [
      "2022-09-04 20:49:42.554507: W tensorflow/python/util/util.cc:348] Sets are not currently considered sequences, but this may change in the future, so consider avoiding using them.\n"
     ]
    },
    {
     "name": "stdout",
     "output_type": "stream",
     "text": [
      "Fold: 0 - seed: 1\n",
      "Epoch 1/3\n",
      "34/34 [==============================] - 3s 31ms/step - loss: 8.2315 - correlation_metric: 0.0856 - val_loss: 6.9471 - val_correlation_metric: 0.3770\n",
      "Epoch 2/3\n",
      "34/34 [==============================] - 1s 16ms/step - loss: 6.4291 - correlation_metric: 0.2192 - val_loss: 5.3465 - val_correlation_metric: 0.4952\n",
      "Epoch 3/3\n",
      "34/34 [==============================] - 1s 15ms/step - loss: 5.0640 - correlation_metric: 0.3138 - val_loss: 4.2981 - val_correlation_metric: 0.5532\n",
      "Fold: 0 - seed: 1: 55.36%\n",
      "CV 1/2\n",
      "Fold: 1 - seed: 0\n",
      "Epoch 1/3\n",
      "34/34 [==============================] - 3s 40ms/step - loss: 8.1945 - correlation_metric: 0.0986 - val_loss: 6.8373 - val_correlation_metric: 0.3879\n",
      "Epoch 2/3\n",
      "34/34 [==============================] - 1s 17ms/step - loss: 6.3461 - correlation_metric: 0.2340 - val_loss: 5.3258 - val_correlation_metric: 0.4814\n",
      "Epoch 3/3\n",
      "34/34 [==============================] - 1s 16ms/step - loss: 5.0393 - correlation_metric: 0.3215 - val_loss: 4.2486 - val_correlation_metric: 0.5407\n",
      "Fold: 1 - seed: 0: 53.99%\n",
      "Fold: 1 - seed: 1\n",
      "Epoch 1/3\n",
      "34/34 [==============================] - 3s 31ms/step - loss: 8.1578 - correlation_metric: 0.1096 - val_loss: 7.0289 - val_correlation_metric: 0.2912\n",
      "Epoch 2/3\n",
      "34/34 [==============================] - 1s 15ms/step - loss: 6.3517 - correlation_metric: 0.2392 - val_loss: 5.4083 - val_correlation_metric: 0.4251\n",
      "Epoch 3/3\n",
      "34/34 [==============================] - 1s 16ms/step - loss: 5.0220 - correlation_metric: 0.3247 - val_loss: 4.3060 - val_correlation_metric: 0.4979\n",
      "Fold: 1 - seed: 1: 49.76%\n"
     ]
    }
   ],
   "source": [
    "gc.collect()\n",
    "\n",
    "epochs = 3 if DEBUG else 1000\n",
    "n_folds = 2 if DEBUG else (2 if TEST else 3)\n",
    "n_seeds = 2 if DEBUG else (2 if TEST else 3)\n",
    "\n",
    "es = tf.keras.callbacks.EarlyStopping(\n",
    "    monitor='val_correlation_metric', min_delta=1e-05, patience=5, verbose=1,\n",
    "    mode='max', restore_best_weights = True)\n",
    "\n",
    "plateau = tf.keras.callbacks.ReduceLROnPlateau(\n",
    "    monitor='val_correlation_metric', factor=0.2, patience=3, verbose=1,\n",
    "    mode='max')\n",
    "\n",
    "kf = model_selection.ShuffleSplit(n_splits=n_folds, random_state=2020, test_size = 0.4)\n",
    "\n",
    "df_scores = []\n",
    "\n",
    "for fold, (cal_index, val_index) in enumerate(kf.split(range(len(train)))):\n",
    "    print(f'CV {fold}/{n_folds}')\n",
    "    \n",
    "    X_train = train[cal_index, :]\n",
    "    X_train_cat = train_cat[cal_index]\n",
    "    y_train = labels[cal_index, :]\n",
    "    \n",
    "    X_test = train[val_index, :]\n",
    "    X_test_cat = train_cat[val_index]\n",
    "    y_test = labels[val_index, :]\n",
    "    \n",
    "    \n",
    "    for seed in range(n_seeds):\n",
    "        print(f'Fold: {str(fold)} - seed: {str(seed)}')\n",
    "        key = str(fold)+'-'+str(seed)\n",
    "    \n",
    "        model = base_model()\n",
    "\n",
    "        model.compile(\n",
    "            keras.optimizers.Adam(learning_rate=1e-4),\n",
    "            loss = correlation_loss,\n",
    "            metrics = correlation_metric,\n",
    "        )\n",
    "\n",
    "        model.fit([X_train,X_train_cat], \n",
    "                  y_train, \n",
    "                  batch_size=128,\n",
    "                  epochs=epochs,\n",
    "                  validation_data=([X_test,X_test_cat], y_test),\n",
    "                  callbacks=[es, plateau],\n",
    "                  shuffle=True,\n",
    "                  verbose = 1)\n",
    "\n",
    "        output_test = model.predict([X_test, X_test_cat])\n",
    "        score = np.mean([np.corrcoef(y_test[i],output_test[i])[0,1] for i in range(len(y_test))])\n",
    "        print(f'Fold: {str(fold)} - seed: {str(seed)}: {score:.2%}')\n",
    "\n",
    "        df_scores.append((fold, seed, score))\n",
    "        model.save(f'model_cite_nn_{key}')\n",
    "    \n",
    "    tf.keras.backend.clear_session()\n",
    "    del  X_train, X_train_cat, y_train, X_test, X_test_cat, y_test\n",
    "    gc.collect()"
   ]
  },
  {
   "cell_type": "code",
   "execution_count": 9,
   "id": "60b6d5f5",
   "metadata": {
    "execution": {
     "iopub.execute_input": "2022-09-04T20:50:11.400108Z",
     "iopub.status.busy": "2022-09-04T20:50:11.399774Z",
     "iopub.status.idle": "2022-09-04T20:50:11.412323Z",
     "shell.execute_reply": "2022-09-04T20:50:11.411269Z"
    },
    "papermill": {
     "duration": 0.028526,
     "end_time": "2022-09-04T20:50:11.414762",
     "exception": false,
     "start_time": "2022-09-04T20:50:11.386236",
     "status": "completed"
    },
    "tags": []
   },
   "outputs": [
    {
     "data": {
      "text/plain": [
       "<function gc.collect(generation=2)>"
      ]
     },
     "execution_count": 9,
     "metadata": {},
     "output_type": "execute_result"
    }
   ],
   "source": [
    "del train, labels\n",
    "gc.collect"
   ]
  },
  {
   "cell_type": "markdown",
   "id": "e93e9dc1",
   "metadata": {
    "papermill": {
     "duration": 0.011781,
     "end_time": "2022-09-04T20:50:11.438767",
     "exception": false,
     "start_time": "2022-09-04T20:50:11.426986",
     "status": "completed"
    },
    "tags": []
   },
   "source": [
    "# Results"
   ]
  },
  {
   "cell_type": "code",
   "execution_count": 10,
   "id": "58f3e3e0",
   "metadata": {
    "execution": {
     "iopub.execute_input": "2022-09-04T20:50:11.463447Z",
     "iopub.status.busy": "2022-09-04T20:50:11.463099Z",
     "iopub.status.idle": "2022-09-04T20:50:11.494779Z",
     "shell.execute_reply": "2022-09-04T20:50:11.493366Z"
    },
    "papermill": {
     "duration": 0.046431,
     "end_time": "2022-09-04T20:50:11.497039",
     "exception": false,
     "start_time": "2022-09-04T20:50:11.450608",
     "status": "completed"
    },
    "tags": []
   },
   "outputs": [
    {
     "data": {
      "text/html": [
       "<div>\n",
       "<style scoped>\n",
       "    .dataframe tbody tr th:only-of-type {\n",
       "        vertical-align: middle;\n",
       "    }\n",
       "\n",
       "    .dataframe tbody tr th {\n",
       "        vertical-align: top;\n",
       "    }\n",
       "\n",
       "    .dataframe thead th {\n",
       "        text-align: right;\n",
       "    }\n",
       "</style>\n",
       "<table border=\"1\" class=\"dataframe\">\n",
       "  <thead>\n",
       "    <tr style=\"text-align: right;\">\n",
       "      <th>seed</th>\n",
       "      <th>0</th>\n",
       "      <th>1</th>\n",
       "      <th>fold_mean</th>\n",
       "    </tr>\n",
       "    <tr>\n",
       "      <th>fold</th>\n",
       "      <th></th>\n",
       "      <th></th>\n",
       "      <th></th>\n",
       "    </tr>\n",
       "  </thead>\n",
       "  <tbody>\n",
       "    <tr>\n",
       "      <th>0</th>\n",
       "      <td>0.563138</td>\n",
       "      <td>0.553626</td>\n",
       "      <td>0.558382</td>\n",
       "    </tr>\n",
       "    <tr>\n",
       "      <th>1</th>\n",
       "      <td>0.539875</td>\n",
       "      <td>0.497594</td>\n",
       "      <td>0.518734</td>\n",
       "    </tr>\n",
       "    <tr>\n",
       "      <th>seed_mean</th>\n",
       "      <td>0.551507</td>\n",
       "      <td>0.525610</td>\n",
       "      <td>0.538558</td>\n",
       "    </tr>\n",
       "  </tbody>\n",
       "</table>\n",
       "</div>"
      ],
      "text/plain": [
       "seed              0         1  fold_mean\n",
       "fold                                    \n",
       "0          0.563138  0.553626   0.558382\n",
       "1          0.539875  0.497594   0.518734\n",
       "seed_mean  0.551507  0.525610   0.538558"
      ]
     },
     "execution_count": 10,
     "metadata": {},
     "output_type": "execute_result"
    }
   ],
   "source": [
    "df_results = pd.DataFrame(df_scores,columns=['fold','seed','score']).pivot(index='fold',columns='seed',values='score')\n",
    "\n",
    "df_results.loc['seed_mean']= df_results.mean(numeric_only=True, axis=0)\n",
    "df_results.loc[:,'fold_mean'] = df_results.mean(numeric_only=True, axis=1)\n",
    "df_results"
   ]
  },
  {
   "cell_type": "markdown",
   "id": "e0694627",
   "metadata": {
    "papermill": {
     "duration": 0.011944,
     "end_time": "2022-09-04T20:50:11.521223",
     "exception": false,
     "start_time": "2022-09-04T20:50:11.509279",
     "status": "completed"
    },
    "tags": []
   },
   "source": [
    "# Submission\n",
    "\n",
    "Loading and preparing test data. Inference on test data. Constitution of the first part of the submission."
   ]
  },
  {
   "cell_type": "code",
   "execution_count": 11,
   "id": "13421fc2",
   "metadata": {
    "execution": {
     "iopub.execute_input": "2022-09-04T20:50:11.546452Z",
     "iopub.status.busy": "2022-09-04T20:50:11.546155Z",
     "iopub.status.idle": "2022-09-04T20:52:17.430222Z",
     "shell.execute_reply": "2022-09-04T20:52:17.429267Z"
    },
    "papermill": {
     "duration": 125.913018,
     "end_time": "2022-09-04T20:52:17.446279",
     "exception": false,
     "start_time": "2022-09-04T20:50:11.533261",
     "status": "completed"
    },
    "tags": []
   },
   "outputs": [
    {
     "name": "stdout",
     "output_type": "stream",
     "text": [
      "CPU times: user 1min 40s, sys: 7.91 s, total: 1min 48s\n",
      "Wall time: 2min 5s\n"
     ]
    },
    {
     "data": {
      "text/plain": [
       "0"
      ]
     },
     "execution_count": 11,
     "metadata": {},
     "output_type": "execute_result"
    }
   ],
   "source": [
    "%%time\n",
    "\n",
    "evaluation_ids = pd.read_csv('../input/open-problems-multimodal/evaluation_ids.csv').set_index('row_id')\n",
    "unique_ids = np.unique(evaluation_ids.cell_id)\n",
    "submission = pd.Series(name='target', index=pd.MultiIndex.from_frame(evaluation_ids), dtype=np.float16)\n",
    "\n",
    "del evaluation_ids\n",
    "gc.collect()"
   ]
  },
  {
   "cell_type": "code",
   "execution_count": 12,
   "id": "2f115290",
   "metadata": {
    "execution": {
     "iopub.execute_input": "2022-09-04T20:52:17.472176Z",
     "iopub.status.busy": "2022-09-04T20:52:17.471869Z",
     "iopub.status.idle": "2022-09-04T20:53:05.960815Z",
     "shell.execute_reply": "2022-09-04T20:53:05.959589Z"
    },
    "papermill": {
     "duration": 48.517044,
     "end_time": "2022-09-04T20:53:05.975885",
     "exception": false,
     "start_time": "2022-09-04T20:52:17.458841",
     "status": "completed"
    },
    "tags": []
   },
   "outputs": [
    {
     "name": "stdout",
     "output_type": "stream",
     "text": [
      "CPU times: user 23.8 s, sys: 5.52 s, total: 29.3 s\n",
      "Wall time: 48.5 s\n"
     ]
    }
   ],
   "source": [
    "%%time\n",
    "\n",
    "test = pd.read_hdf(\"/kaggle/input/open-problems-multimodal/test_cite_inputs.h5\").astype('float16')\n",
    "meta_data = pd.read_csv('../input/open-problems-multimodal/metadata.csv')\n",
    "test_meta_data = meta_data.set_index('cell_id').loc[test.index]\n",
    "\n",
    "test = test.values\n",
    "test_cat =  test_meta_data.cell_type.values\n",
    "\n",
    "map_cat = { 'BP':0, 'EryP':1, 'HSC':2, 'MasP':3, 'MkP':4, 'MoP':5, 'NeuP':6}\n",
    "test_cat = np.array([map_cat[t] for t in test_cat])"
   ]
  },
  {
   "cell_type": "code",
   "execution_count": 13,
   "id": "93c37fa2",
   "metadata": {
    "execution": {
     "iopub.execute_input": "2022-09-04T20:53:06.002716Z",
     "iopub.status.busy": "2022-09-04T20:53:06.002360Z",
     "iopub.status.idle": "2022-09-04T20:53:59.259093Z",
     "shell.execute_reply": "2022-09-04T20:53:59.255765Z"
    },
    "papermill": {
     "duration": 53.275062,
     "end_time": "2022-09-04T20:53:59.263761",
     "exception": false,
     "start_time": "2022-09-04T20:53:05.988699",
     "status": "completed"
    },
    "tags": []
   },
   "outputs": [
    {
     "name": "stdout",
     "output_type": "stream",
     "text": [
      "Preds - Fold: 0 - seed: 0\n"
     ]
    },
    {
     "name": "stderr",
     "output_type": "stream",
     "text": [
      "2022-09-04 20:53:10.331792: W tensorflow/core/framework/cpu_allocator_impl.cc:80] Allocation of 2146038300 exceeds 10% of free system memory.\n",
      "2022-09-04 20:53:12.944370: W tensorflow/core/framework/cpu_allocator_impl.cc:80] Allocation of 2146038300 exceeds 10% of free system memory.\n"
     ]
    },
    {
     "name": "stdout",
     "output_type": "stream",
     "text": [
      "Preds - Fold: 0 - seed: 1\n"
     ]
    },
    {
     "name": "stderr",
     "output_type": "stream",
     "text": [
      "2022-09-04 20:53:24.089563: W tensorflow/core/framework/cpu_allocator_impl.cc:80] Allocation of 2146038300 exceeds 10% of free system memory.\n",
      "2022-09-04 20:53:26.652512: W tensorflow/core/framework/cpu_allocator_impl.cc:80] Allocation of 2146038300 exceeds 10% of free system memory.\n"
     ]
    },
    {
     "name": "stdout",
     "output_type": "stream",
     "text": [
      "Preds - Fold: 1 - seed: 0\n"
     ]
    },
    {
     "name": "stderr",
     "output_type": "stream",
     "text": [
      "2022-09-04 20:53:38.013389: W tensorflow/core/framework/cpu_allocator_impl.cc:80] Allocation of 2146038300 exceeds 10% of free system memory.\n"
     ]
    },
    {
     "name": "stdout",
     "output_type": "stream",
     "text": [
      "Preds - Fold: 1 - seed: 1\n"
     ]
    }
   ],
   "source": [
    "gc.collect()\n",
    "\n",
    "all_preds = []\n",
    "\n",
    "for fold in range(n_folds):\n",
    "    for seed in range(n_seeds):\n",
    "        print(f'Preds - Fold: {str(fold)} - seed: {str(seed)}')\n",
    "        key = str(fold)+'-'+str(seed)\n",
    "        \n",
    "        model_cite = tf.keras.models.load_model(f'./model_cite_nn_{key}/', compile=False)\n",
    "\n",
    "        cite_pred = model_cite.predict([test, test_cat])\n",
    "        cite_pred = cite_pred.ravel()\n",
    "        len_cite_raveled = len(cite_pred)\n",
    "        all_preds.append(cite_pred)"
   ]
  },
  {
   "cell_type": "code",
   "execution_count": 14,
   "id": "828190df",
   "metadata": {
    "execution": {
     "iopub.execute_input": "2022-09-04T20:53:59.293227Z",
     "iopub.status.busy": "2022-09-04T20:53:59.292900Z",
     "iopub.status.idle": "2022-09-04T20:54:00.132492Z",
     "shell.execute_reply": "2022-09-04T20:54:00.131351Z"
    },
    "papermill": {
     "duration": 0.85787,
     "end_time": "2022-09-04T20:54:00.134986",
     "exception": false,
     "start_time": "2022-09-04T20:53:59.277116",
     "status": "completed"
    },
    "tags": []
   },
   "outputs": [
    {
     "data": {
      "text/plain": [
       "93084"
      ]
     },
     "execution_count": 14,
     "metadata": {},
     "output_type": "execute_result"
    }
   ],
   "source": [
    "del test, test_cat, cite_pred\n",
    "gc.collect()"
   ]
  },
  {
   "cell_type": "code",
   "execution_count": 15,
   "id": "af2cd269",
   "metadata": {
    "execution": {
     "iopub.execute_input": "2022-09-04T20:54:00.163961Z",
     "iopub.status.busy": "2022-09-04T20:54:00.163649Z",
     "iopub.status.idle": "2022-09-04T20:54:00.772355Z",
     "shell.execute_reply": "2022-09-04T20:54:00.771317Z"
    },
    "papermill": {
     "duration": 0.62631,
     "end_time": "2022-09-04T20:54:00.774803",
     "exception": false,
     "start_time": "2022-09-04T20:54:00.148493",
     "status": "completed"
    },
    "tags": []
   },
   "outputs": [],
   "source": [
    "submission.iloc[:len_cite_raveled] = np.nanmean(np.array(all_preds),axis=0)"
   ]
  },
  {
   "cell_type": "code",
   "execution_count": 16,
   "id": "17a933b6",
   "metadata": {
    "execution": {
     "iopub.execute_input": "2022-09-04T20:54:00.803366Z",
     "iopub.status.busy": "2022-09-04T20:54:00.803037Z",
     "iopub.status.idle": "2022-09-04T20:56:55.423204Z",
     "shell.execute_reply": "2022-09-04T20:56:55.422253Z"
    },
    "papermill": {
     "duration": 174.649725,
     "end_time": "2022-09-04T20:56:55.438363",
     "exception": false,
     "start_time": "2022-09-04T20:54:00.788638",
     "status": "completed"
    },
    "tags": []
   },
   "outputs": [
    {
     "data": {
      "text/plain": [
       "cell_id       gene_id\n",
       "c2150f55becb  CD86      -0.940918\n",
       "              CD274     -0.378662\n",
       "              CD270      0.135254\n",
       "              CD155      2.332031\n",
       "              CD112      0.764648\n",
       "Name: target, dtype: float16"
      ]
     },
     "execution_count": 16,
     "metadata": {},
     "output_type": "execute_result"
    }
   ],
   "source": [
    "submission.to_csv('submission_cite.csv')\n",
    "submission.head()"
   ]
  },
  {
   "cell_type": "code",
   "execution_count": null,
   "id": "90482953",
   "metadata": {
    "papermill": {
     "duration": 0.01266,
     "end_time": "2022-09-04T20:56:55.463840",
     "exception": false,
     "start_time": "2022-09-04T20:56:55.451180",
     "status": "completed"
    },
    "tags": []
   },
   "outputs": [],
   "source": []
  }
 ],
 "metadata": {
  "kernelspec": {
   "display_name": "Python 3",
   "language": "python",
   "name": "python3"
  },
  "language_info": {
   "codemirror_mode": {
    "name": "ipython",
    "version": 3
   },
   "file_extension": ".py",
   "mimetype": "text/x-python",
   "name": "python",
   "nbconvert_exporter": "python",
   "pygments_lexer": "ipython3",
   "version": "3.7.12"
  },
  "papermill": {
   "default_parameters": {},
   "duration": 541.590295,
   "end_time": "2022-09-04T20:56:58.783650",
   "environment_variables": {},
   "exception": null,
   "input_path": "__notebook__.ipynb",
   "output_path": "__notebook__.ipynb",
   "parameters": {},
   "start_time": "2022-09-04T20:47:57.193355",
   "version": "2.3.4"
  }
 },
 "nbformat": 4,
 "nbformat_minor": 5
}
