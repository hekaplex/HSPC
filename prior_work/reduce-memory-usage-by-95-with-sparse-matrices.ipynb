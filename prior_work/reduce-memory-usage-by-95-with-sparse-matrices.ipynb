{
 "cells": [
  {
   "cell_type": "code",
   "execution_count": 1,
   "id": "993f6d96",
   "metadata": {
    "execution": {
     "iopub.execute_input": "2022-08-25T09:09:36.468241Z",
     "iopub.status.busy": "2022-08-25T09:09:36.467178Z",
     "iopub.status.idle": "2022-08-25T09:09:51.077696Z",
     "shell.execute_reply": "2022-08-25T09:09:51.076316Z"
    },
    "papermill": {
     "duration": 14.625891,
     "end_time": "2022-08-25T09:09:51.081145",
     "exception": false,
     "start_time": "2022-08-25T09:09:36.455254",
     "status": "completed"
    },
    "tags": []
   },
   "outputs": [
    {
     "name": "stdout",
     "output_type": "stream",
     "text": [
      "\u001b[33mWARNING: Running pip as the 'root' user can result in broken permissions and conflicting behaviour with the system package manager. It is recommended to use a virtual environment instead: https://pip.pypa.io/warnings/venv\u001b[0m\u001b[33m\r\n",
      "\u001b[0m"
     ]
    }
   ],
   "source": [
    "!pip install --quiet tables"
   ]
  },
  {
   "cell_type": "code",
   "execution_count": 2,
   "id": "8f348bb5",
   "metadata": {
    "_cell_guid": "b1076dfc-b9ad-4769-8c92-a6c4dae69d19",
    "_uuid": "8f2839f25d086af736a60e9eeb907d3b93b6e0e5",
    "execution": {
     "iopub.execute_input": "2022-08-25T09:09:51.100934Z",
     "iopub.status.busy": "2022-08-25T09:09:51.100467Z",
     "iopub.status.idle": "2022-08-25T09:09:51.209664Z",
     "shell.execute_reply": "2022-08-25T09:09:51.208571Z"
    },
    "papermill": {
     "duration": 0.122243,
     "end_time": "2022-08-25T09:09:51.212484",
     "exception": false,
     "start_time": "2022-08-25T09:09:51.090241",
     "status": "completed"
    },
    "tags": []
   },
   "outputs": [],
   "source": [
    "import os\n",
    "import numpy as np\n",
    "import pandas as pd\n",
    "import scipy.sparse as sps\n",
    "from tqdm import tqdm as tqdm\n",
    "import gc"
   ]
  },
  {
   "cell_type": "code",
   "execution_count": 3,
   "id": "6768f7c9",
   "metadata": {
    "execution": {
     "iopub.execute_input": "2022-08-25T09:09:51.231128Z",
     "iopub.status.busy": "2022-08-25T09:09:51.230733Z",
     "iopub.status.idle": "2022-08-25T09:09:51.239025Z",
     "shell.execute_reply": "2022-08-25T09:09:51.237657Z"
    },
    "papermill": {
     "duration": 0.020578,
     "end_time": "2022-08-25T09:09:51.241464",
     "exception": false,
     "start_time": "2022-08-25T09:09:51.220886",
     "status": "completed"
    },
    "tags": []
   },
   "outputs": [],
   "source": [
    "DATA_DIR = \"/kaggle/input/open-problems-multimodal/\"\n",
    "\n",
    "SUBMISSON = os.path.join(DATA_DIR,\"sample_submission.csv\")\n",
    "\n",
    "EVALUATION_IDS = os.path.join(DATA_DIR,\"evaluation_ids.csv\")\n",
    "\n",
    "FP_CELL_METADATA = os.path.join(DATA_DIR,\"metadata.csv\")\n",
    "\n",
    "FP_CITE_TRAIN_INPUTS = os.path.join(DATA_DIR,\"train_cite_inputs.h5\")\n",
    "FP_CITE_TRAIN_TARGETS = os.path.join(DATA_DIR,\"train_cite_targets.h5\")\n",
    "FP_CITE_TEST_INPUTS = os.path.join(DATA_DIR,\"test_cite_inputs.h5\")\n",
    "\n",
    "FP_MULTIOME_TRAIN_INPUTS = os.path.join(DATA_DIR,\"train_multi_inputs.h5\")\n",
    "FP_MULTIOME_TRAIN_TARGETS = os.path.join(DATA_DIR,\"train_multi_targets.h5\")\n",
    "FP_MULTIOME_TEST_INPUTS = os.path.join(DATA_DIR,\"test_multi_inputs.h5\")\n",
    "\n",
    "FP_SUBMISSION = os.path.join(DATA_DIR,\"sample_submission.csv\")\n",
    "FP_EVALUATION_IDS = os.path.join(DATA_DIR,\"evaluation_ids.csv\")"
   ]
  },
  {
   "cell_type": "markdown",
   "id": "c9e925bf",
   "metadata": {
    "papermill": {
     "duration": 0.00787,
     "end_time": "2022-08-25T09:09:51.257572",
     "exception": false,
     "start_time": "2022-08-25T09:09:51.249702",
     "status": "completed"
    },
    "tags": []
   },
   "source": [
    "# Multiome Dataset"
   ]
  },
  {
   "cell_type": "markdown",
   "id": "8e528b01",
   "metadata": {
    "papermill": {
     "duration": 0.007897,
     "end_time": "2022-08-25T09:09:51.274003",
     "exception": false,
     "start_time": "2022-08-25T09:09:51.266106",
     "status": "completed"
    },
    "tags": []
   },
   "source": [
    "According to https://www.kaggle.com/code/ambrosm/msci-multiome-quickstart, Multiome dataset is way to large to fit into the 16GB memory available on Kaggle. In fact:\n",
    "- train inputs: 105942 * 228942 float32 values (97 GByte)\n",
    "- train targets: 105942 * 23418 float32 values (10 GByte)\n",
    "- test inputs: 55935 * 228942 float32 values (13 GByte)"
   ]
  },
  {
   "cell_type": "markdown",
   "id": "af8d1748",
   "metadata": {
    "papermill": {
     "duration": 0.007845,
     "end_time": "2022-08-25T09:09:51.290016",
     "exception": false,
     "start_time": "2022-08-25T09:09:51.282171",
     "status": "completed"
    },
    "tags": []
   },
   "source": [
    "## Problem\n",
    "As we can see from the competition datasets, Multiome data are instrinsically sparse. To prove this statement, we can measure the sparsity rate of the Train-Multi-Inputs dataset. As described above, the entire dataset cannot be load in memory, thus we limit our study to the first 5000 rows"
   ]
  },
  {
   "cell_type": "code",
   "execution_count": 4,
   "id": "7fbacb15",
   "metadata": {
    "execution": {
     "iopub.execute_input": "2022-08-25T09:09:51.308550Z",
     "iopub.status.busy": "2022-08-25T09:09:51.308158Z",
     "iopub.status.idle": "2022-08-25T09:10:11.112662Z",
     "shell.execute_reply": "2022-08-25T09:10:11.111433Z"
    },
    "papermill": {
     "duration": 19.817533,
     "end_time": "2022-08-25T09:10:11.115749",
     "exception": false,
     "start_time": "2022-08-25T09:09:51.298216",
     "status": "completed"
    },
    "tags": []
   },
   "outputs": [],
   "source": [
    "df = pd.read_hdf(FP_MULTIOME_TRAIN_INPUTS, start=0, stop=5000)"
   ]
  },
  {
   "cell_type": "code",
   "execution_count": 5,
   "id": "9a8595e6",
   "metadata": {
    "execution": {
     "iopub.execute_input": "2022-08-25T09:10:11.136125Z",
     "iopub.status.busy": "2022-08-25T09:10:11.135020Z",
     "iopub.status.idle": "2022-08-25T09:10:25.946466Z",
     "shell.execute_reply": "2022-08-25T09:10:25.945590Z"
    },
    "papermill": {
     "duration": 14.823387,
     "end_time": "2022-08-25T09:10:25.948679",
     "exception": false,
     "start_time": "2022-08-25T09:10:11.125292",
     "status": "completed"
    },
    "tags": []
   },
   "outputs": [
    {
     "name": "stdout",
     "output_type": "stream",
     "text": [
      "<class 'pandas.core.frame.DataFrame'>\n",
      "Index: 5000 entries, 56390cf1b95e to 8b2a3239ecec\n",
      "Columns: 228942 entries, GL000194.1:114519-115365 to chrY:7873814-7874709\n",
      "dtypes: float32(228942)\n",
      "memory usage: 4.3 GB\n"
     ]
    }
   ],
   "source": [
    "df.info(memory_usage='deep')"
   ]
  },
  {
   "cell_type": "markdown",
   "id": "d891e683",
   "metadata": {
    "execution": {
     "iopub.execute_input": "2022-08-25T08:21:15.848489Z",
     "iopub.status.busy": "2022-08-25T08:21:15.848095Z",
     "iopub.status.idle": "2022-08-25T08:21:15.856363Z",
     "shell.execute_reply": "2022-08-25T08:21:15.854241Z",
     "shell.execute_reply.started": "2022-08-25T08:21:15.848459Z"
    },
    "papermill": {
     "duration": 0.008323,
     "end_time": "2022-08-25T09:10:25.965595",
     "exception": false,
     "start_time": "2022-08-25T09:10:25.957272",
     "status": "completed"
    },
    "tags": []
   },
   "source": [
    "#### Count Non-Zero Values in Each column"
   ]
  },
  {
   "cell_type": "code",
   "execution_count": 6,
   "id": "096cdaee",
   "metadata": {
    "execution": {
     "iopub.execute_input": "2022-08-25T09:10:25.984533Z",
     "iopub.status.busy": "2022-08-25T09:10:25.983898Z",
     "iopub.status.idle": "2022-08-25T09:10:28.527718Z",
     "shell.execute_reply": "2022-08-25T09:10:28.526523Z"
    },
    "papermill": {
     "duration": 2.556089,
     "end_time": "2022-08-25T09:10:28.530015",
     "exception": false,
     "start_time": "2022-08-25T09:10:25.973926",
     "status": "completed"
    },
    "tags": []
   },
   "outputs": [
    {
     "data": {
      "text/plain": [
       "gene_id\n",
       "chr6:2891635-2892207           0\n",
       "chr13:46798985-46799795        0\n",
       "chr5:112543934-112544703       0\n",
       "chr2:63661059-63661414         0\n",
       "chr5:112538619-112539353       0\n",
       "                            ... \n",
       "chr1:15524192-15525200      2109\n",
       "chr17:22520955-22521852     2516\n",
       "chr1:633700-634539          2764\n",
       "chr3:93470147-93471056      2916\n",
       "chr1:630875-631689          3604\n",
       "Length: 228942, dtype: int64"
      ]
     },
     "execution_count": 6,
     "metadata": {},
     "output_type": "execute_result"
    }
   ],
   "source": [
    "nnz = df.astype(bool).sum()\n",
    "nnz.sort_values()"
   ]
  },
  {
   "cell_type": "markdown",
   "id": "8cd93473",
   "metadata": {
    "papermill": {
     "duration": 0.008384,
     "end_time": "2022-08-25T09:10:28.546784",
     "exception": false,
     "start_time": "2022-08-25T09:10:28.538400",
     "status": "completed"
    },
    "tags": []
   },
   "source": [
    "To measure the total sparsity of the DataFrame, we can extract the fraction of NNZ values over the total number of values"
   ]
  },
  {
   "cell_type": "code",
   "execution_count": 7,
   "id": "9526f118",
   "metadata": {
    "execution": {
     "iopub.execute_input": "2022-08-25T09:10:28.565859Z",
     "iopub.status.busy": "2022-08-25T09:10:28.565180Z",
     "iopub.status.idle": "2022-08-25T09:10:28.573198Z",
     "shell.execute_reply": "2022-08-25T09:10:28.572103Z"
    },
    "papermill": {
     "duration": 0.020126,
     "end_time": "2022-08-25T09:10:28.575330",
     "exception": false,
     "start_time": "2022-08-25T09:10:28.555204",
     "status": "completed"
    },
    "tags": []
   },
   "outputs": [
    {
     "data": {
      "text/plain": [
       "0.021427460230101947"
      ]
     },
     "execution_count": 7,
     "metadata": {},
     "output_type": "execute_result"
    }
   ],
   "source": [
    "total_nnz = nnz.sum()\n",
    "total_values = df.shape[0] * df.shape[1]\n",
    "total_nnz / total_values"
   ]
  },
  {
   "cell_type": "markdown",
   "id": "86e68da3",
   "metadata": {
    "papermill": {
     "duration": 0.008086,
     "end_time": "2022-08-25T09:10:28.591852",
     "exception": false,
     "start_time": "2022-08-25T09:10:28.583766",
     "status": "completed"
    },
    "tags": []
   },
   "source": [
    "As we can see, the dataset is extreamly sparse, since the Number of Non-Zero values correspond to just `2%` of the entire dataset loaded. It is reasonable to state that the same behaviour holds in the rest of the dataset. \n",
    "We are able to tackle this waste of memory by adopting a different data structure"
   ]
  },
  {
   "cell_type": "code",
   "execution_count": 8,
   "id": "115b9626",
   "metadata": {
    "execution": {
     "iopub.execute_input": "2022-08-25T09:10:28.610797Z",
     "iopub.status.busy": "2022-08-25T09:10:28.610152Z",
     "iopub.status.idle": "2022-08-25T09:10:28.835326Z",
     "shell.execute_reply": "2022-08-25T09:10:28.834154Z"
    },
    "papermill": {
     "duration": 0.238615,
     "end_time": "2022-08-25T09:10:28.838785",
     "exception": false,
     "start_time": "2022-08-25T09:10:28.600170",
     "status": "completed"
    },
    "tags": []
   },
   "outputs": [],
   "source": [
    "del df, nnz, total_nnz, total_values"
   ]
  },
  {
   "cell_type": "code",
   "execution_count": 9,
   "id": "8a082e9a",
   "metadata": {
    "execution": {
     "iopub.execute_input": "2022-08-25T09:10:28.858083Z",
     "iopub.status.busy": "2022-08-25T09:10:28.857638Z",
     "iopub.status.idle": "2022-08-25T09:10:28.967275Z",
     "shell.execute_reply": "2022-08-25T09:10:28.966118Z"
    },
    "papermill": {
     "duration": 0.122264,
     "end_time": "2022-08-25T09:10:28.969739",
     "exception": false,
     "start_time": "2022-08-25T09:10:28.847475",
     "status": "completed"
    },
    "tags": []
   },
   "outputs": [
    {
     "data": {
      "text/plain": [
       "63"
      ]
     },
     "execution_count": 9,
     "metadata": {},
     "output_type": "execute_result"
    }
   ],
   "source": [
    "gc.collect()"
   ]
  },
  {
   "cell_type": "markdown",
   "id": "d8b26386",
   "metadata": {
    "papermill": {
     "duration": 0.008195,
     "end_time": "2022-08-25T09:10:28.986576",
     "exception": false,
     "start_time": "2022-08-25T09:10:28.978381",
     "status": "completed"
    },
    "tags": []
   },
   "source": [
    "# Memory Optimization with Sparse Matrices\n",
    "Given the intrinsic sparse nature of the data in Multiome datasets, we can leverage on Sparse Matrices to optimize the space required to load data in memory. In particular, we can use [Compressed Sparse Row](https://docs.scipy.org/doc/scipy/reference/generated/scipy.sparse.csr_matrix.html) matrices to reduce considerably the memory used.\n",
    "\n",
    "CSR Matrix are built upon three different one-dimensional arrays:\n",
    "- Data Array: Shape: (Number Non-Zero values). It contains non-zero values that corresponds to our data.\n",
    "- Indices Array: Shape: (Number Non-Zero values). It contains the column indices\n",
    "- Indptr Array: Shape: (Number of Rows + 1). It represents the extent of each row with respect to the other two (data/indices) arrays. To access data of a particular row *i* in the matrix, we can slice the Data Array with Indptr Array as follows: `data[indptr[i]:indptr[i+1]]`. Same for Indices Array"
   ]
  },
  {
   "cell_type": "markdown",
   "id": "e8084f76",
   "metadata": {
    "papermill": {
     "duration": 0.008213,
     "end_time": "2022-08-25T09:10:29.003242",
     "exception": false,
     "start_time": "2022-08-25T09:10:28.995029",
     "status": "completed"
    },
    "tags": []
   },
   "source": [
    "Since we are not able to load the entire Train-Multi-Inputs dataset in memory, we are going to manually build the three arrays by loading chunk of data at a time."
   ]
  },
  {
   "cell_type": "markdown",
   "id": "8f662448",
   "metadata": {
    "papermill": {
     "duration": 0.008175,
     "end_time": "2022-08-25T09:10:29.020079",
     "exception": false,
     "start_time": "2022-08-25T09:10:29.011904",
     "status": "completed"
    },
    "tags": []
   },
   "source": [
    "### Utility functions"
   ]
  },
  {
   "cell_type": "markdown",
   "id": "a21ed2a4",
   "metadata": {
    "papermill": {
     "duration": 0.008199,
     "end_time": "2022-08-25T09:10:29.036848",
     "exception": false,
     "start_time": "2022-08-25T09:10:29.028649",
     "status": "completed"
    },
    "tags": []
   },
   "source": [
    "To speed up the computation, we compute the indptr array by exploiting Cython. In this way, we can halve the time required to compress the huge array of row indices to extract the indptr array"
   ]
  },
  {
   "cell_type": "code",
   "execution_count": 10,
   "id": "f014c7de",
   "metadata": {
    "execution": {
     "iopub.execute_input": "2022-08-25T09:10:29.056127Z",
     "iopub.status.busy": "2022-08-25T09:10:29.055448Z",
     "iopub.status.idle": "2022-08-25T09:10:29.685650Z",
     "shell.execute_reply": "2022-08-25T09:10:29.684338Z"
    },
    "papermill": {
     "duration": 0.64317,
     "end_time": "2022-08-25T09:10:29.688590",
     "exception": false,
     "start_time": "2022-08-25T09:10:29.045420",
     "status": "completed"
    },
    "tags": []
   },
   "outputs": [],
   "source": [
    "%load_ext Cython"
   ]
  },
  {
   "cell_type": "code",
   "execution_count": 11,
   "id": "7ebea8d8",
   "metadata": {
    "execution": {
     "iopub.execute_input": "2022-08-25T09:10:29.709089Z",
     "iopub.status.busy": "2022-08-25T09:10:29.708390Z",
     "iopub.status.idle": "2022-08-25T09:10:37.503852Z",
     "shell.execute_reply": "2022-08-25T09:10:37.502100Z"
    },
    "papermill": {
     "duration": 7.808804,
     "end_time": "2022-08-25T09:10:37.506800",
     "exception": false,
     "start_time": "2022-08-25T09:10:29.697996",
     "status": "completed"
    },
    "tags": []
   },
   "outputs": [
    {
     "name": "stderr",
     "output_type": "stream",
     "text": [
      "In file included from /opt/conda/lib/python3.7/site-packages/numpy/core/include/numpy/ndarraytypes.h:1969,\n",
      "                 from /opt/conda/lib/python3.7/site-packages/numpy/core/include/numpy/ndarrayobject.h:12,\n",
      "                 from /opt/conda/lib/python3.7/site-packages/numpy/core/include/numpy/arrayobject.h:4,\n",
      "                 from /root/.cache/ipython/cython/_cython_magic_6779fbc5676b7ef66c203a0a698099be.c:721:\n",
      "/opt/conda/lib/python3.7/site-packages/numpy/core/include/numpy/npy_1_7_deprecated_api.h:17:2: warning: #warning \"Using deprecated NumPy API, disable it with \" \"#define NPY_NO_DEPRECATED_API NPY_1_7_API_VERSION\" [-Wcpp]\n",
      "   17 | #warning \"Using deprecated NumPy API, disable it with \" \\\n",
      "      |  ^~~~~~~\n"
     ]
    }
   ],
   "source": [
    "%%cython\n",
    "\n",
    "import cython\n",
    "cimport cython\n",
    "cimport numpy as np\n",
    "import numpy as np\n",
    "from tqdm import tqdm, trange\n",
    "\n",
    "ctypedef np.int64_t INT64_t\n",
    "\n",
    "@cython.boundscheck(False)\n",
    "@cython.wraparound(False)\n",
    "cpdef np.ndarray[INT64_t, ndim=1] create_indptr(INT64_t[:] row_indices, int start_pos, int nrows):\n",
    "    cdef int shape = row_indices.shape[0]\n",
    "    res = np.zeros(nrows, dtype=np.int64)\n",
    "    cdef INT64_t[:] res_view = res\n",
    "    \n",
    "    cdef int i\n",
    "    cdef int curr_row = 0\n",
    "    cdef int prev = row_indices[0]\n",
    "    \n",
    "    for i in range(shape):\n",
    "        if row_indices[i] != prev:\n",
    "            curr_row += 1\n",
    "            res_view[curr_row] = i\n",
    "            prev = row_indices[i]\n",
    "    # res_view[curr_row + 1] = shape\n",
    "    return res + start_pos\n"
   ]
  },
  {
   "cell_type": "code",
   "execution_count": 12,
   "id": "6b37de36",
   "metadata": {
    "execution": {
     "iopub.execute_input": "2022-08-25T09:10:37.528109Z",
     "iopub.status.busy": "2022-08-25T09:10:37.527585Z",
     "iopub.status.idle": "2022-08-25T09:10:37.545927Z",
     "shell.execute_reply": "2022-08-25T09:10:37.544604Z"
    },
    "papermill": {
     "duration": 0.032046,
     "end_time": "2022-08-25T09:10:37.548264",
     "exception": false,
     "start_time": "2022-08-25T09:10:37.516218",
     "status": "completed"
    },
    "tags": []
   },
   "outputs": [],
   "source": [
    "def create_csr_arrays(h5_file_path):\n",
    "    def check_size(xs, ys, datas):\n",
    "        return (xs.nbytes + ys.nbytes + datas.nbytes) * 1e-9\n",
    "\n",
    "    print(f\"\\n\\nProcessing File {h5_file_path}\")\n",
    "    pbar = tqdm()\n",
    "\n",
    "    # Initialize Variables\n",
    "    chunksize = 1000 # Keep it low\n",
    "    loaded_rows = chunksize\n",
    "    start = 0\n",
    "    start_pos = 0\n",
    "    file_pointer = 0\n",
    "\n",
    "    # Initialize CSR arrays\n",
    "    indptr = np.array([], dtype=np.int64)\n",
    "    indices = np.array([], dtype=np.int32)\n",
    "    data_s = np.array([], dtype=np.float32)\n",
    "    \n",
    "    prefix_filename = h5_file_path.split('/')[-1].replace('.h5', '')\n",
    "\n",
    "    while chunksize == loaded_rows:\n",
    "\n",
    "        # Check current size: if the total sum of sizes are > 7GB, then save three arrays and re-initialize them\n",
    "        size_gb = check_size(indptr, indices, data_s)\n",
    "        if size_gb > 7.0:\n",
    "            pbar.set_description(f\"Total size is {size_gb}. Saving ..\")\n",
    "            np.save(f\"{prefix_filename}_indptr_{file_pointer}.npy\", indptr)\n",
    "            np.save(f\"{prefix_filename}_indices_{file_pointer}.npy\", indices)\n",
    "            np.save(f\"{prefix_filename}_data_{file_pointer}.npy\", data_s)\n",
    "            # Re-initialize\n",
    "            indptr = np.array([], dtype=np.int64)\n",
    "            indices = np.array([], dtype=np.int32)\n",
    "            data_s = np.array([], dtype=np.float32)\n",
    "            # Increment pointer\n",
    "            file_pointer += 1\n",
    "\n",
    "        pbar.set_description(\"Reading .h5 chunk\")\n",
    "        df = pd.read_hdf(h5_file_path, start=start, stop=start+chunksize)\n",
    "        pbar.set_description(\"Extracting non-zero values\")\n",
    "        x_coords, y_coords = df.values.nonzero()\n",
    "        tmp_data = df.values[df.values != 0.0]\n",
    "\n",
    "        loaded_rows = df.shape[0]\n",
    "\n",
    "        # Convert types\n",
    "        y_coords = y_coords.astype(np.int32, copy=False)\n",
    "        tmp_data = tmp_data.astype(np.float32, copy=False)\n",
    "\n",
    "        # Compress x_coords\n",
    "        pbar.set_description(\"Compressing rows values\")\n",
    "        x_coords = create_indptr(x_coords, start_pos=start_pos, nrows=loaded_rows)\n",
    "\n",
    "        gc.collect()\n",
    "\n",
    "        # Update variables\n",
    "        pbar.set_description(\"Update variables\")\n",
    "        start_pos += y_coords.shape[0]\n",
    "        start += chunksize\n",
    "        # Append data at the end of each array\n",
    "        indptr = np.hstack((indptr, x_coords))\n",
    "        indices = np.hstack((indices, y_coords))\n",
    "        data_s = np.hstack((data_s, tmp_data))\n",
    "\n",
    "        pbar.update(loaded_rows)\n",
    "\n",
    "    print('Done. Save last files')\n",
    "    np.save(f\"{prefix_filename}_indptr_{file_pointer}.npy\", indptr)\n",
    "    np.save(f\"{prefix_filename}_indices_{file_pointer}.npy\", indices)\n",
    "    np.save(f\"{prefix_filename}_data_{file_pointer}.npy\", data_s)\n",
    "    \n",
    "    del indptr, indices, data_s\n"
   ]
  },
  {
   "cell_type": "code",
   "execution_count": 13,
   "id": "fa7dcb0a",
   "metadata": {
    "execution": {
     "iopub.execute_input": "2022-08-25T09:10:37.568892Z",
     "iopub.status.busy": "2022-08-25T09:10:37.568423Z",
     "iopub.status.idle": "2022-08-25T09:10:37.572922Z",
     "shell.execute_reply": "2022-08-25T09:10:37.571937Z"
    },
    "papermill": {
     "duration": 0.017781,
     "end_time": "2022-08-25T09:10:37.575523",
     "exception": false,
     "start_time": "2022-08-25T09:10:37.557742",
     "status": "completed"
    },
    "tags": []
   },
   "outputs": [],
   "source": [
    "# create_csr_arrays(FP_MULTIOME_TRAIN_INPUTS) # This will create three different arrays"
   ]
  },
  {
   "cell_type": "markdown",
   "id": "9d6dde69",
   "metadata": {
    "papermill": {
     "duration": 0.008729,
     "end_time": "2022-08-25T09:10:37.593535",
     "exception": false,
     "start_time": "2022-08-25T09:10:37.584806",
     "status": "completed"
    },
    "tags": []
   },
   "source": [
    "The previous command will create and save three different array in .npy format:\n",
    "- train_multi_inputs_indptr_0.npy\n",
    "- train_multi_inputs_indices_0.npy\n",
    "- train_multi_inputs_data_0.npy"
   ]
  },
  {
   "cell_type": "code",
   "execution_count": 14,
   "id": "77ae9aea",
   "metadata": {
    "execution": {
     "iopub.execute_input": "2022-08-25T09:10:37.613675Z",
     "iopub.status.busy": "2022-08-25T09:10:37.613223Z",
     "iopub.status.idle": "2022-08-25T09:10:37.617767Z",
     "shell.execute_reply": "2022-08-25T09:10:37.616859Z"
    },
    "papermill": {
     "duration": 0.017318,
     "end_time": "2022-08-25T09:10:37.619901",
     "exception": false,
     "start_time": "2022-08-25T09:10:37.602583",
     "status": "completed"
    },
    "tags": []
   },
   "outputs": [],
   "source": [
    "# indptr = np.load('train_multi_inputs_indptr_0.npy')\n",
    "# indices = np.load('train_multi_inputs_indices_0.npy')\n",
    "# data = np.load('train_multi_inputs_data_0.npy')"
   ]
  },
  {
   "cell_type": "markdown",
   "id": "9c746b46",
   "metadata": {
    "papermill": {
     "duration": 0.00863,
     "end_time": "2022-08-25T09:10:37.637648",
     "exception": false,
     "start_time": "2022-08-25T09:10:37.629018",
     "status": "completed"
    },
    "tags": []
   },
   "source": [
    "Since indptr array has shape (Number of Rows) instead of (Number of Rows + 1), we can add the last element to the array, which corresponds to the length of indices or data arrays. "
   ]
  },
  {
   "cell_type": "code",
   "execution_count": 15,
   "id": "25abd9d8",
   "metadata": {
    "execution": {
     "iopub.execute_input": "2022-08-25T09:10:37.657887Z",
     "iopub.status.busy": "2022-08-25T09:10:37.657427Z",
     "iopub.status.idle": "2022-08-25T09:10:37.662269Z",
     "shell.execute_reply": "2022-08-25T09:10:37.661272Z"
    },
    "papermill": {
     "duration": 0.017669,
     "end_time": "2022-08-25T09:10:37.664334",
     "exception": false,
     "start_time": "2022-08-25T09:10:37.646665",
     "status": "completed"
    },
    "tags": []
   },
   "outputs": [],
   "source": [
    "# indptr = np.append(indptr, indptr[-1] + indices[indptr[-1]:].shape)"
   ]
  },
  {
   "cell_type": "markdown",
   "id": "0eca390a",
   "metadata": {
    "papermill": {
     "duration": 0.00908,
     "end_time": "2022-08-25T09:10:37.682558",
     "exception": false,
     "start_time": "2022-08-25T09:10:37.673478",
     "status": "completed"
    },
    "tags": []
   },
   "source": [
    "Eventually, we can build out csr_matrix as follows:"
   ]
  },
  {
   "cell_type": "code",
   "execution_count": 16,
   "id": "a05f4883",
   "metadata": {
    "execution": {
     "iopub.execute_input": "2022-08-25T09:10:37.702965Z",
     "iopub.status.busy": "2022-08-25T09:10:37.702477Z",
     "iopub.status.idle": "2022-08-25T09:10:37.708047Z",
     "shell.execute_reply": "2022-08-25T09:10:37.706814Z"
    },
    "papermill": {
     "duration": 0.018352,
     "end_time": "2022-08-25T09:10:37.710468",
     "exception": false,
     "start_time": "2022-08-25T09:10:37.692116",
     "status": "completed"
    },
    "tags": []
   },
   "outputs": [],
   "source": [
    "N_ROWS = 105942\n",
    "N_COLS = 228942\n",
    "# csr_matrix = sps.csr_matrix((data, indices, indptr), shape=(N_ROWS, N_COLS))"
   ]
  },
  {
   "cell_type": "code",
   "execution_count": 17,
   "id": "541760f9",
   "metadata": {
    "execution": {
     "iopub.execute_input": "2022-08-25T09:10:37.731690Z",
     "iopub.status.busy": "2022-08-25T09:10:37.731183Z",
     "iopub.status.idle": "2022-08-25T09:10:37.736545Z",
     "shell.execute_reply": "2022-08-25T09:10:37.735317Z"
    },
    "papermill": {
     "duration": 0.019162,
     "end_time": "2022-08-25T09:10:37.739159",
     "exception": false,
     "start_time": "2022-08-25T09:10:37.719997",
     "status": "completed"
    },
    "tags": []
   },
   "outputs": [],
   "source": [
    "# sps.save_npz('train_multiome_input_sparse.npz', csr_matrix)"
   ]
  },
  {
   "cell_type": "code",
   "execution_count": 18,
   "id": "c46bcc42",
   "metadata": {
    "execution": {
     "iopub.execute_input": "2022-08-25T09:10:37.759842Z",
     "iopub.status.busy": "2022-08-25T09:10:37.759289Z",
     "iopub.status.idle": "2022-08-25T09:10:37.764399Z",
     "shell.execute_reply": "2022-08-25T09:10:37.763169Z"
    },
    "papermill": {
     "duration": 0.018308,
     "end_time": "2022-08-25T09:10:37.766789",
     "exception": false,
     "start_time": "2022-08-25T09:10:37.748481",
     "status": "completed"
    },
    "tags": []
   },
   "outputs": [],
   "source": [
    "# del csr_matrix, indices, indptr, data"
   ]
  },
  {
   "cell_type": "markdown",
   "id": "273435da",
   "metadata": {
    "papermill": {
     "duration": 0.009021,
     "end_time": "2022-08-25T09:10:37.785326",
     "exception": false,
     "start_time": "2022-08-25T09:10:37.776305",
     "status": "completed"
    },
    "tags": []
   },
   "source": [
    "We can repeat the same process for the other Multiome Datasets, namely `train_multi_targets.h5` and `test_multi_inputs.h5` to obtain the corresponding Compressed Sparse Row matrices.\n",
    "I wrapped up these CSR matrices in the following Kaggle Dataset: https://www.kaggle.com/datasets/sbunzini/open-problems-msci-multiome-sparse-matrices"
   ]
  },
  {
   "cell_type": "markdown",
   "id": "30d2147f",
   "metadata": {
    "papermill": {
     "duration": 0.00876,
     "end_time": "2022-08-25T09:10:37.803340",
     "exception": false,
     "start_time": "2022-08-25T09:10:37.794580",
     "status": "completed"
    },
    "tags": []
   },
   "source": [
    "# Compression Rate"
   ]
  },
  {
   "cell_type": "code",
   "execution_count": 19,
   "id": "c8c49603",
   "metadata": {
    "execution": {
     "iopub.execute_input": "2022-08-25T09:10:37.823647Z",
     "iopub.status.busy": "2022-08-25T09:10:37.823201Z",
     "iopub.status.idle": "2022-08-25T09:12:17.949712Z",
     "shell.execute_reply": "2022-08-25T09:12:17.948698Z"
    },
    "papermill": {
     "duration": 100.14013,
     "end_time": "2022-08-25T09:12:17.952706",
     "exception": false,
     "start_time": "2022-08-25T09:10:37.812576",
     "status": "completed"
    },
    "tags": []
   },
   "outputs": [],
   "source": [
    "train_input = sps.load_npz('../input/open-problems-msci-multiome-sparse-matrices/train_multiome_input_sparse.npz')"
   ]
  },
  {
   "cell_type": "code",
   "execution_count": 20,
   "id": "812f53c1",
   "metadata": {
    "execution": {
     "iopub.execute_input": "2022-08-25T09:12:17.973301Z",
     "iopub.status.busy": "2022-08-25T09:12:17.972872Z",
     "iopub.status.idle": "2022-08-25T09:12:17.978553Z",
     "shell.execute_reply": "2022-08-25T09:12:17.977352Z"
    },
    "papermill": {
     "duration": 0.018635,
     "end_time": "2022-08-25T09:12:17.980917",
     "exception": false,
     "start_time": "2022-08-25T09:12:17.962282",
     "status": "completed"
    },
    "tags": []
   },
   "outputs": [],
   "source": [
    "def get_size(sparse_m):\n",
    "    size_gb = (sparse_m.indices.nbytes + sparse_m.indptr.nbytes + sparse_m.data.nbytes) * 1e-9\n",
    "    return f\"Size: {size_gb} GB\""
   ]
  },
  {
   "cell_type": "code",
   "execution_count": 21,
   "id": "03e2cc9d",
   "metadata": {
    "execution": {
     "iopub.execute_input": "2022-08-25T09:12:18.000456Z",
     "iopub.status.busy": "2022-08-25T09:12:18.000074Z",
     "iopub.status.idle": "2022-08-25T09:12:18.008365Z",
     "shell.execute_reply": "2022-08-25T09:12:18.007174Z"
    },
    "papermill": {
     "duration": 0.020587,
     "end_time": "2022-08-25T09:12:18.010478",
     "exception": false,
     "start_time": "2022-08-25T09:12:17.989891",
     "status": "completed"
    },
    "tags": []
   },
   "outputs": [
    {
     "data": {
      "text/plain": [
       "'Size: 4.85883614 GB'"
      ]
     },
     "execution_count": 21,
     "metadata": {},
     "output_type": "execute_result"
    }
   ],
   "source": [
    "get_size(train_input)"
   ]
  },
  {
   "cell_type": "markdown",
   "id": "742ec498",
   "metadata": {
    "papermill": {
     "duration": 0.008707,
     "end_time": "2022-08-25T09:12:18.028198",
     "exception": false,
     "start_time": "2022-08-25T09:12:18.019491",
     "status": "completed"
    },
    "tags": []
   },
   "source": [
    "### Memory Usage: `4.85883614 GB`"
   ]
  },
  {
   "cell_type": "code",
   "execution_count": 22,
   "id": "a310e188",
   "metadata": {
    "execution": {
     "iopub.execute_input": "2022-08-25T09:12:18.049475Z",
     "iopub.status.busy": "2022-08-25T09:12:18.048769Z",
     "iopub.status.idle": "2022-08-25T09:12:18.056255Z",
     "shell.execute_reply": "2022-08-25T09:12:18.055117Z"
    },
    "papermill": {
     "duration": 0.020477,
     "end_time": "2022-08-25T09:12:18.058508",
     "exception": false,
     "start_time": "2022-08-25T09:12:18.038031",
     "status": "completed"
    },
    "tags": []
   },
   "outputs": [
    {
     "data": {
      "text/plain": [
       "94.99089057731959"
      ]
     },
     "execution_count": 22,
     "metadata": {},
     "output_type": "execute_result"
    }
   ],
   "source": [
    "# Percentage of Reduction\n",
    "(1.0 - (4.85883614 / 97)) * 100"
   ]
  },
  {
   "cell_type": "markdown",
   "id": "d7c7e286",
   "metadata": {
    "papermill": {
     "duration": 0.008832,
     "end_time": "2022-08-25T09:12:18.076480",
     "exception": false,
     "start_time": "2022-08-25T09:12:18.067648",
     "status": "completed"
    },
    "tags": []
   },
   "source": [
    "# Reduced Memory Usage: `94.99%`\n"
   ]
  },
  {
   "cell_type": "markdown",
   "id": "9cb93d52",
   "metadata": {
    "papermill": {
     "duration": 0.008855,
     "end_time": "2022-08-25T09:12:18.094590",
     "exception": false,
     "start_time": "2022-08-25T09:12:18.085735",
     "status": "completed"
    },
    "tags": []
   },
   "source": [
    "Same memory usage reduction can be applied to the other Multiome files (train_targets and test_inputs). Lots of state-of-the-art models can accept a sparse matrix as input for training, thus avoiding painful and slow iterators and speeding up the computation"
   ]
  },
  {
   "cell_type": "markdown",
   "id": "551f21fe",
   "metadata": {
    "papermill": {
     "duration": 0.008806,
     "end_time": "2022-08-25T09:12:18.112563",
     "exception": false,
     "start_time": "2022-08-25T09:12:18.103757",
     "status": "completed"
    },
    "tags": []
   },
   "source": [
    "# !! Update !!\n",
    "The memory usage can be further shrinked by using float16 to represent data values and int16 to represent indices of columns. A new version of the dataset will be available with this kind of optimization which will allow to achieve a **97%** of compression"
   ]
  }
 ],
 "metadata": {
  "kernelspec": {
   "display_name": "Python 3",
   "language": "python",
   "name": "python3"
  },
  "language_info": {
   "codemirror_mode": {
    "name": "ipython",
    "version": 3
   },
   "file_extension": ".py",
   "mimetype": "text/x-python",
   "name": "python",
   "nbconvert_exporter": "python",
   "pygments_lexer": "ipython3",
   "version": "3.7.12"
  },
  "papermill": {
   "default_parameters": {},
   "duration": 173.113919,
   "end_time": "2022-08-25T09:12:19.145819",
   "environment_variables": {},
   "exception": null,
   "input_path": "__notebook__.ipynb",
   "output_path": "__notebook__.ipynb",
   "parameters": {},
   "start_time": "2022-08-25T09:09:26.031900",
   "version": "2.3.4"
  }
 },
 "nbformat": 4,
 "nbformat_minor": 5
}
