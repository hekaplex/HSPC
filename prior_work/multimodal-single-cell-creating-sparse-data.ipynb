{
 "cells": [
  {
   "cell_type": "markdown",
   "id": "430c1fdb",
   "metadata": {
    "papermill": {
     "duration": 0.006009,
     "end_time": "2022-08-31T08:35:35.744832",
     "exception": false,
     "start_time": "2022-08-31T08:35:35.738823",
     "status": "completed"
    },
    "tags": []
   },
   "source": [
    "# Multimodal Single-Cell Integration: Creating a Sparse Matrix Dataset"
   ]
  },
  {
   "cell_type": "markdown",
   "id": "2ba5d5e3",
   "metadata": {
    "papermill": {
     "duration": 0.004297,
     "end_time": "2022-08-31T08:35:35.754106",
     "exception": false,
     "start_time": "2022-08-31T08:35:35.749809",
     "status": "completed"
    },
    "tags": []
   },
   "source": [
    "This notebook goal is to generate a more efficient version of the dataset of the competition \"Open Problems: Multimodal Single-Cell Integration\", using scipy's sparse matrices.\n",
    "\n",
    "Using sparse matrices will lead to:\n",
    "- smaller file sizes\n",
    "- faster loading\n",
    "- much smaller memory footprint (so that you can actually keep all data in memory)\n",
    "\n",
    "(Especially for the multiome data, which is very big and very sparse; not so much for the citeseq data which is smaller and only ~75% sparse).\n",
    "\n",
    "The downside is that we cannot use the nice pandas DataFrame anymore. Instead, each \"*xxx.h5*\" file is converted into two files:\n",
    "- One \"*xxx_values.sparse*\" file that can be loaded with `scipy.sparse.load_npz` and contains all the values of the corresponding dataframe (i.e. the result of `df.values` in a sparse format)\n",
    "- One \"*xxx_idxcol.npz*\" file that can be loaded with `np.load` and contains the values of the index and the columns of the corresponding dataframe (i.e the results of `df.index` and `df.columns`)\n",
    "\n",
    "For convenience, the csv files are also converted into a more efficient parquet version.\n",
    "\n",
    "The generated dataset is available [here](https://www.kaggle.com/datasets/fabiencrom/multimodal-single-cell-as-sparse-matrix)."
   ]
  },
  {
   "cell_type": "code",
   "execution_count": 1,
   "id": "a66e3a25",
   "metadata": {
    "execution": {
     "iopub.execute_input": "2022-08-31T08:35:35.765393Z",
     "iopub.status.busy": "2022-08-31T08:35:35.764922Z",
     "iopub.status.idle": "2022-08-31T08:36:49.825727Z",
     "shell.execute_reply": "2022-08-31T08:36:49.824216Z"
    },
    "papermill": {
     "duration": 74.070114,
     "end_time": "2022-08-31T08:36:49.828875",
     "exception": false,
     "start_time": "2022-08-31T08:35:35.758761",
     "status": "completed"
    },
    "tags": []
   },
   "outputs": [
    {
     "name": "stdout",
     "output_type": "stream",
     "text": [
      "Collecting package metadata (current_repodata.json): - \b\b\\ \b\b| \b\b/ \b\b- \b\b\\ \b\b| \b\b/ \b\b- \b\b\\ \b\b| \b\b/ \b\b- \b\b\\ \b\b| \b\b/ \b\b- \b\b\\ \b\b| \b\b/ \b\b- \b\b\\ \b\b| \b\b/ \b\b- \b\b\\ \b\b| \b\b/ \b\b- \b\b\\ \b\b| \b\b/ \b\b- \b\b\\ \b\b| \b\b/ \b\b- \b\b\\ \b\b| \b\b/ \b\b- \b\b\\ \b\b| \b\b/ \b\b- \b\b\\ \b\b| \b\b/ \b\b- \b\b\\ \b\b| \b\b/ \b\b- \b\b\\ \b\b| \b\b/ \b\b- \b\b\\ \b\b| \b\b/ \b\b- \b\b\\ \b\b| \b\b/ \b\b- \b\b\\ \b\b| \b\b/ \b\b- \b\b\\ \b\b| \b\b/ \b\b- \b\b\\ \b\b| \b\b/ \b\b- \b\b\\ \b\b| \b\b/ \b\b- \b\b\\ \b\b| \b\b/ \b\b- \b\b\\ \b\b| \b\b/ \b\b- \b\b\\ \b\b| \b\b/ \b\b- \b\b\\ \b\b| \b\b/ \b\b- \b\b\\ \b\b| \b\b/ \b\b- \b\b\\ \b\b| \b\b/ \b\b- \b\b\\ \b\b| \b\b/ \b\b- \b\b\\ \b\b| \b\b/ \b\b- \b\b\\ \b\b| \b\b/ \b\b- \b\b\\ \b\b| \b\b/ \b\b- \b\b\\ \b\b| \b\b/ \b\b- \b\b\\ \b\b| \b\b/ \b\b- \b\b\\ \b\b| \b\b/ \b\b- \b\b\\ \b\b| \b\b/ \b\b- \b\b\\ \b\b| \b\b/ \b\b- \b\b\\ \b\b| \b\b/ \b\b- \b\b\\ \b\b| \b\b/ \b\b- \b\b\\ \b\b| \b\b/ \b\b- \b\b\\ \b\b| \b\b/ \b\b- \b\b\\ \b\b| \b\b/ \b\b- \b\b\\ \b\b| \b\b/ \b\b- \b\b\\ \b\b| \b\b/ \b\b- \b\b\\ \b\b| \b\b/ \b\b- \b\b\\ \b\b| \b\b/ \b\b- \b\b\\ \b\b| \b\b/ \b\b- \b\b\\ \b\b| \b\b/ \b\b- \b\b\\ \b\b| \b\b/ \b\b- \b\b\\ \b\b| \b\b/ \b\b- \b\b\\ \b\b| \b\b/ \b\b- \b\b\\ \b\b| \b\b/ \b\b- \b\b\\ \b\b| \b\b/ \b\b- \b\b\\ \b\b| \b\b/ \b\bdone\r\n",
      "Solving environment: \\ \b\b| \b\b/ \b\b- \b\b\\ \b\b| \b\b/ \b\b- \b\b\\ \b\b| \b\b/ \b\b- \b\b\\ \b\b| \b\b/ \b\b- \b\b\\ \b\b| \b\b/ \b\b- \b\b\\ \b\b| \b\b/ \b\b- \b\b\\ \b\b| \b\b/ \b\b- \b\b\\ \b\b| \b\b/ \b\b- \b\b\\ \b\b| \b\b/ \b\b- \b\b\\ \b\b| \b\b/ \b\b- \b\b\\ \b\b| \b\b/ \b\b- \b\b\\ \b\b| \b\b/ \b\b- \b\b\\ \b\b| \b\b/ \b\b- \b\b\\ \b\b| \b\b/ \b\b- \b\b\\ \b\b| \b\b/ \b\b- \b\b\\ \b\b| \b\b/ \b\b- \b\b\\ \b\b| \b\b/ \b\b- \b\b\\ \b\b| \b\b/ \b\b- \b\b\\ \b\b| \b\b/ \b\b- \b\b\\ \b\b| \b\b/ \b\b- \b\b\\ \b\b| \b\b/ \b\b- \b\b\\ \b\b| \b\b/ \b\b- \b\b\\ \b\b| \b\b/ \b\b- \b\b\\ \b\b| \b\b/ \b\b- \b\b\\ \b\b| \b\b/ \b\b- \b\b\\ \b\b| \b\b/ \b\b- \b\b\\ \b\b| \b\b/ \b\b- \b\b\\ \b\b| \b\b/ \b\b- \b\b\\ \b\b| \b\b/ \b\b- \b\b\\ \b\b| \b\b/ \b\b- \b\bdone\r\n",
      "\r\n",
      "## Package Plan ##\r\n",
      "\r\n",
      "  environment location: /opt/conda\r\n",
      "\r\n",
      "  added / updated specs:\r\n",
      "    - pytables\r\n",
      "\r\n",
      "\r\n",
      "The following packages will be downloaded:\r\n",
      "\r\n",
      "    package                    |            build\r\n",
      "    ---------------------------|-----------------\r\n",
      "    blas-1.1                   |         openblas           1 KB  conda-forge\r\n",
      "    blosc-1.21.1               |       h83bc5f7_3          47 KB  conda-forge\r\n",
      "    certifi-2022.6.15          |     pyhd8ed1ab_1         154 KB  conda-forge\r\n",
      "    hdf5-1.12.2                |nompi_h2386368_100         3.5 MB  conda-forge\r\n",
      "    lzo-2.10                   |    h516909a_1000         314 KB  conda-forge\r\n",
      "    numexpr-2.8.3              |   py37hd2a5715_0         124 KB\r\n",
      "    openblas-0.3.20            |pthreads_h320a7e8_0        10.8 MB  conda-forge\r\n",
      "    pytables-3.7.0             |   py37h7d129aa_2         1.9 MB  conda-forge\r\n",
      "    snappy-1.1.9               |       hbd366e4_1          35 KB  conda-forge\r\n",
      "    ------------------------------------------------------------\r\n",
      "                                           Total:        16.9 MB\r\n",
      "\r\n",
      "The following NEW packages will be INSTALLED:\r\n",
      "\r\n",
      "  blas               conda-forge/linux-64::blas-1.1-openblas\r\n",
      "  blosc              conda-forge/linux-64::blosc-1.21.1-h83bc5f7_3\r\n",
      "  hdf5               conda-forge/linux-64::hdf5-1.12.2-nompi_h2386368_100\r\n",
      "  lzo                conda-forge/linux-64::lzo-2.10-h516909a_1000\r\n",
      "  numexpr            pkgs/main/linux-64::numexpr-2.8.3-py37hd2a5715_0\r\n",
      "  openblas           conda-forge/linux-64::openblas-0.3.20-pthreads_h320a7e8_0\r\n",
      "  pytables           conda-forge/linux-64::pytables-3.7.0-py37h7d129aa_2\r\n",
      "  snappy             conda-forge/linux-64::snappy-1.1.9-hbd366e4_1\r\n",
      "\r\n",
      "The following packages will be UPDATED:\r\n",
      "\r\n",
      "  certifi            conda-forge/linux-64::certifi-2022.6.~ --> conda-forge/noarch::certifi-2022.6.15-pyhd8ed1ab_1\r\n",
      "\r\n",
      "\r\n",
      "\r\n",
      "Downloading and Extracting Packages\r\n",
      "lzo-2.10             | 314 KB    | ##################################### | 100% \r\n",
      "openblas-0.3.20      | 10.8 MB   | ##################################### | 100% \r\n",
      "blas-1.1             | 1 KB      | ##################################### | 100% \r\n",
      "hdf5-1.12.2          | 3.5 MB    | ##################################### | 100% \r\n",
      "blosc-1.21.1         | 47 KB     | ##################################### | 100% \r\n",
      "certifi-2022.6.15    | 154 KB    | ##################################### | 100% \r\n",
      "numexpr-2.8.3        | 124 KB    | ##################################### | 100% \r\n",
      "pytables-3.7.0       | 1.9 MB    | ##################################### | 100% \r\n",
      "snappy-1.1.9         | 35 KB     | ##################################### | 100% \r\n",
      "Preparing transaction: | \b\bdone\r\n",
      "Verifying transaction: - \b\b\\ \b\b| \b\b/ \b\b- \b\bdone\r\n",
      "Executing transaction: | \b\b/ \b\b- \b\b\\ \b\b| \b\b/ \b\b- \b\b\\ \b\b| \b\b/ \b\b- \b\b\\ \b\b| \b\b/ \b\bdone\r\n",
      "Retrieving notices: ...working... done\r\n"
     ]
    }
   ],
   "source": [
    "!conda install pytables -y"
   ]
  },
  {
   "cell_type": "code",
   "execution_count": 2,
   "id": "e1eb641f",
   "metadata": {
    "execution": {
     "iopub.execute_input": "2022-08-31T08:36:49.883271Z",
     "iopub.status.busy": "2022-08-31T08:36:49.882848Z",
     "iopub.status.idle": "2022-08-31T08:36:49.977315Z",
     "shell.execute_reply": "2022-08-31T08:36:49.976178Z"
    },
    "papermill": {
     "duration": 0.125833,
     "end_time": "2022-08-31T08:36:49.980114",
     "exception": false,
     "start_time": "2022-08-31T08:36:49.854281",
     "status": "completed"
    },
    "tags": []
   },
   "outputs": [],
   "source": [
    "import pandas as pd\n",
    "import numpy as np\n",
    "import scipy.sparse"
   ]
  },
  {
   "cell_type": "markdown",
   "id": "401202ab",
   "metadata": {
    "papermill": {
     "duration": 0.026368,
     "end_time": "2022-08-31T08:36:50.032341",
     "exception": false,
     "start_time": "2022-08-31T08:36:50.005973",
     "status": "completed"
    },
    "tags": []
   },
   "source": [
    "# Conversion Functions"
   ]
  },
  {
   "cell_type": "code",
   "execution_count": 3,
   "id": "3124393a",
   "metadata": {
    "execution": {
     "iopub.execute_input": "2022-08-31T08:36:50.086756Z",
     "iopub.status.busy": "2022-08-31T08:36:50.085915Z",
     "iopub.status.idle": "2022-08-31T08:36:50.091720Z",
     "shell.execute_reply": "2022-08-31T08:36:50.090817Z"
    },
    "papermill": {
     "duration": 0.035471,
     "end_time": "2022-08-31T08:36:50.094138",
     "exception": false,
     "start_time": "2022-08-31T08:36:50.058667",
     "status": "completed"
    },
    "tags": []
   },
   "outputs": [],
   "source": [
    "def convert_to_parquet(filename, out_filename):\n",
    "    df = pd.read_csv(filename)\n",
    "    df.to_parquet(out_filename + \".parquet\")"
   ]
  },
  {
   "cell_type": "code",
   "execution_count": 4,
   "id": "be1a0354",
   "metadata": {
    "execution": {
     "iopub.execute_input": "2022-08-31T08:36:50.154330Z",
     "iopub.status.busy": "2022-08-31T08:36:50.153915Z",
     "iopub.status.idle": "2022-08-31T08:36:50.166946Z",
     "shell.execute_reply": "2022-08-31T08:36:50.164838Z"
    },
    "papermill": {
     "duration": 0.046726,
     "end_time": "2022-08-31T08:36:50.169933",
     "exception": false,
     "start_time": "2022-08-31T08:36:50.123207",
     "status": "completed"
    },
    "tags": []
   },
   "outputs": [],
   "source": [
    "import scipy\n",
    "def convert_h5_to_sparse_csr(filename, out_filename, chunksize=2500):\n",
    "    start = 0\n",
    "    total_rows = 0\n",
    "\n",
    "    sparse_chunks_data_list = []\n",
    "    chunks_index_list = []\n",
    "    columns_name = None\n",
    "    while True:\n",
    "        df_chunk = pd.read_hdf(filename, start=start, stop=start+chunksize)\n",
    "        if len(df_chunk) == 0:\n",
    "            break\n",
    "        chunk_data_as_sparse = scipy.sparse.csr_matrix(df_chunk.to_numpy())\n",
    "        sparse_chunks_data_list.append(chunk_data_as_sparse)\n",
    "        chunks_index_list.append(df_chunk.index.to_numpy())\n",
    "\n",
    "        if columns_name is None:\n",
    "            columns_name = df_chunk.columns.to_numpy()\n",
    "        else:\n",
    "            assert np.all(columns_name == df_chunk.columns.to_numpy())\n",
    "\n",
    "        total_rows += len(df_chunk)\n",
    "        print(total_rows)\n",
    "        if len(df_chunk) < chunksize: \n",
    "            del df_chunk\n",
    "            break\n",
    "        del df_chunk\n",
    "        start += chunksize\n",
    "        \n",
    "    all_data_sparse = scipy.sparse.vstack(sparse_chunks_data_list)\n",
    "    del sparse_chunks_data_list\n",
    "    \n",
    "    all_indices = np.hstack(chunks_index_list)\n",
    "    \n",
    "    scipy.sparse.save_npz(out_filename+\"_values.sparse\", all_data_sparse)\n",
    "    np.savez(out_filename+\"_idxcol.npz\", index=all_indices, columns =columns_name)\n",
    "    \n",
    "    \n"
   ]
  },
  {
   "cell_type": "markdown",
   "id": "df0af133",
   "metadata": {
    "papermill": {
     "duration": 0.025711,
     "end_time": "2022-08-31T08:36:50.222361",
     "exception": false,
     "start_time": "2022-08-31T08:36:50.196650",
     "status": "completed"
    },
    "tags": []
   },
   "source": [
    "# H5 -> Sparse Conversion"
   ]
  },
  {
   "cell_type": "code",
   "execution_count": 5,
   "id": "b94b756e",
   "metadata": {
    "execution": {
     "iopub.execute_input": "2022-08-31T08:36:50.299045Z",
     "iopub.status.busy": "2022-08-31T08:36:50.297962Z",
     "iopub.status.idle": "2022-08-31T08:43:04.076183Z",
     "shell.execute_reply": "2022-08-31T08:43:04.074298Z"
    },
    "papermill": {
     "duration": 373.822102,
     "end_time": "2022-08-31T08:43:04.081622",
     "exception": false,
     "start_time": "2022-08-31T08:36:50.259520",
     "status": "completed"
    },
    "tags": []
   },
   "outputs": [
    {
     "name": "stdout",
     "output_type": "stream",
     "text": [
      "2500\n",
      "5000\n",
      "7500\n",
      "10000\n",
      "12500\n",
      "15000\n",
      "17500\n",
      "20000\n",
      "22500\n",
      "25000\n",
      "27500\n",
      "30000\n",
      "32500\n",
      "35000\n",
      "37500\n",
      "40000\n",
      "42500\n",
      "45000\n",
      "47500\n",
      "50000\n",
      "52500\n",
      "55000\n",
      "57500\n",
      "60000\n",
      "62500\n",
      "65000\n",
      "67500\n",
      "70000\n",
      "72500\n",
      "75000\n",
      "77500\n",
      "80000\n",
      "82500\n",
      "85000\n",
      "87500\n",
      "90000\n",
      "92500\n",
      "95000\n",
      "97500\n",
      "100000\n",
      "102500\n",
      "105000\n",
      "105942\n"
     ]
    }
   ],
   "source": [
    "convert_h5_to_sparse_csr(\"../input/open-problems-multimodal/train_multi_targets.h5\", \"train_multi_targets\")"
   ]
  },
  {
   "cell_type": "code",
   "execution_count": 6,
   "id": "f6798d37",
   "metadata": {
    "execution": {
     "iopub.execute_input": "2022-08-31T08:43:04.145069Z",
     "iopub.status.busy": "2022-08-31T08:43:04.143876Z",
     "iopub.status.idle": "2022-08-31T09:06:41.131569Z",
     "shell.execute_reply": "2022-08-31T09:06:41.129903Z"
    },
    "papermill": {
     "duration": 1417.02233,
     "end_time": "2022-08-31T09:06:41.135352",
     "exception": false,
     "start_time": "2022-08-31T08:43:04.113022",
     "status": "completed"
    },
    "tags": []
   },
   "outputs": [
    {
     "name": "stdout",
     "output_type": "stream",
     "text": [
      "2500\n",
      "5000\n",
      "7500\n",
      "10000\n",
      "12500\n",
      "15000\n",
      "17500\n",
      "20000\n",
      "22500\n",
      "25000\n",
      "27500\n",
      "30000\n",
      "32500\n",
      "35000\n",
      "37500\n",
      "40000\n",
      "42500\n",
      "45000\n",
      "47500\n",
      "50000\n",
      "52500\n",
      "55000\n",
      "57500\n",
      "60000\n",
      "62500\n",
      "65000\n",
      "67500\n",
      "70000\n",
      "72500\n",
      "75000\n",
      "77500\n",
      "80000\n",
      "82500\n",
      "85000\n",
      "87500\n",
      "90000\n",
      "92500\n",
      "95000\n",
      "97500\n",
      "100000\n",
      "102500\n",
      "105000\n",
      "105942\n"
     ]
    }
   ],
   "source": [
    "convert_h5_to_sparse_csr(\"../input/open-problems-multimodal/train_multi_inputs.h5\", \"train_multi_inputs\")"
   ]
  },
  {
   "cell_type": "code",
   "execution_count": 7,
   "id": "1f72fb11",
   "metadata": {
    "execution": {
     "iopub.execute_input": "2022-08-31T09:06:41.206843Z",
     "iopub.status.busy": "2022-08-31T09:06:41.204992Z",
     "iopub.status.idle": "2022-08-31T09:06:46.582274Z",
     "shell.execute_reply": "2022-08-31T09:06:46.580803Z"
    },
    "papermill": {
     "duration": 5.416877,
     "end_time": "2022-08-31T09:06:46.585278",
     "exception": false,
     "start_time": "2022-08-31T09:06:41.168401",
     "status": "completed"
    },
    "tags": []
   },
   "outputs": [
    {
     "name": "stdout",
     "output_type": "stream",
     "text": [
      "2500\n",
      "5000\n",
      "7500\n",
      "10000\n",
      "12500\n",
      "15000\n",
      "17500\n",
      "20000\n",
      "22500\n",
      "25000\n",
      "27500\n",
      "30000\n",
      "32500\n",
      "35000\n",
      "37500\n",
      "40000\n",
      "42500\n",
      "45000\n",
      "47500\n",
      "50000\n",
      "52500\n",
      "55000\n",
      "57500\n",
      "60000\n",
      "62500\n",
      "65000\n",
      "67500\n",
      "70000\n",
      "70988\n"
     ]
    }
   ],
   "source": [
    "convert_h5_to_sparse_csr(\"../input/open-problems-multimodal/train_cite_targets.h5\", \"train_cite_targets\")"
   ]
  },
  {
   "cell_type": "code",
   "execution_count": 8,
   "id": "d028c348",
   "metadata": {
    "execution": {
     "iopub.execute_input": "2022-08-31T09:06:46.655225Z",
     "iopub.status.busy": "2022-08-31T09:06:46.654803Z",
     "iopub.status.idle": "2022-08-31T09:12:03.291833Z",
     "shell.execute_reply": "2022-08-31T09:12:03.289571Z"
    },
    "papermill": {
     "duration": 316.676449,
     "end_time": "2022-08-31T09:12:03.295763",
     "exception": false,
     "start_time": "2022-08-31T09:06:46.619314",
     "status": "completed"
    },
    "tags": []
   },
   "outputs": [
    {
     "name": "stdout",
     "output_type": "stream",
     "text": [
      "2500\n",
      "5000\n",
      "7500\n",
      "10000\n",
      "12500\n",
      "15000\n",
      "17500\n",
      "20000\n",
      "22500\n",
      "25000\n",
      "27500\n",
      "30000\n",
      "32500\n",
      "35000\n",
      "37500\n",
      "40000\n",
      "42500\n",
      "45000\n",
      "47500\n",
      "50000\n",
      "52500\n",
      "55000\n",
      "57500\n",
      "60000\n",
      "62500\n",
      "65000\n",
      "67500\n",
      "70000\n",
      "70988\n"
     ]
    }
   ],
   "source": [
    "convert_h5_to_sparse_csr(\"../input/open-problems-multimodal/train_cite_inputs.h5\", \"train_cite_inputs\")"
   ]
  },
  {
   "cell_type": "code",
   "execution_count": 9,
   "id": "979a985c",
   "metadata": {
    "execution": {
     "iopub.execute_input": "2022-08-31T09:12:03.384012Z",
     "iopub.status.busy": "2022-08-31T09:12:03.383079Z",
     "iopub.status.idle": "2022-08-31T09:26:21.169987Z",
     "shell.execute_reply": "2022-08-31T09:26:21.167986Z"
    },
    "papermill": {
     "duration": 857.828854,
     "end_time": "2022-08-31T09:26:21.173564",
     "exception": false,
     "start_time": "2022-08-31T09:12:03.344710",
     "status": "completed"
    },
    "tags": []
   },
   "outputs": [
    {
     "name": "stdout",
     "output_type": "stream",
     "text": [
      "2500\n",
      "5000\n",
      "7500\n",
      "10000\n",
      "12500\n",
      "15000\n",
      "17500\n",
      "20000\n",
      "22500\n",
      "25000\n",
      "27500\n",
      "30000\n",
      "32500\n",
      "35000\n",
      "37500\n",
      "40000\n",
      "42500\n",
      "45000\n",
      "47500\n",
      "50000\n",
      "52500\n",
      "55000\n",
      "55935\n"
     ]
    }
   ],
   "source": [
    "convert_h5_to_sparse_csr(\"../input/open-problems-multimodal/test_multi_inputs.h5\", \"test_multi_inputs\")"
   ]
  },
  {
   "cell_type": "code",
   "execution_count": 10,
   "id": "94106fc6",
   "metadata": {
    "execution": {
     "iopub.execute_input": "2022-08-31T09:26:21.253798Z",
     "iopub.status.busy": "2022-08-31T09:26:21.252976Z",
     "iopub.status.idle": "2022-08-31T09:29:58.430628Z",
     "shell.execute_reply": "2022-08-31T09:29:58.429299Z"
    },
    "papermill": {
     "duration": 217.222571,
     "end_time": "2022-08-31T09:29:58.433584",
     "exception": false,
     "start_time": "2022-08-31T09:26:21.211013",
     "status": "completed"
    },
    "tags": []
   },
   "outputs": [
    {
     "name": "stdout",
     "output_type": "stream",
     "text": [
      "2500\n",
      "5000\n",
      "7500\n",
      "10000\n",
      "12500\n",
      "15000\n",
      "17500\n",
      "20000\n",
      "22500\n",
      "25000\n",
      "27500\n",
      "30000\n",
      "32500\n",
      "35000\n",
      "37500\n",
      "40000\n",
      "42500\n",
      "45000\n",
      "47500\n",
      "48663\n"
     ]
    }
   ],
   "source": [
    "convert_h5_to_sparse_csr(\"../input/open-problems-multimodal/test_cite_inputs.h5\", \"test_cite_inputs\")"
   ]
  },
  {
   "cell_type": "markdown",
   "id": "fc66f525",
   "metadata": {
    "papermill": {
     "duration": 0.034888,
     "end_time": "2022-08-31T09:29:58.504681",
     "exception": false,
     "start_time": "2022-08-31T09:29:58.469793",
     "status": "completed"
    },
    "tags": []
   },
   "source": [
    "# CSV -> PARQUET conversion\n",
    "For convenience, let us also convert the other files from CSV to the more efficient parquet format.\n",
    "\n",
    "(Then just replace pd.read_csv(xxx.csv) by pd.read_parquet(xxx.parquet) to read the file into a pandas DataFrame)"
   ]
  },
  {
   "cell_type": "code",
   "execution_count": 11,
   "id": "44e3467a",
   "metadata": {
    "execution": {
     "iopub.execute_input": "2022-08-31T09:29:58.577076Z",
     "iopub.status.busy": "2022-08-31T09:29:58.576691Z",
     "iopub.status.idle": "2022-08-31T09:29:59.217585Z",
     "shell.execute_reply": "2022-08-31T09:29:59.215678Z"
    },
    "papermill": {
     "duration": 0.680932,
     "end_time": "2022-08-31T09:29:59.220790",
     "exception": false,
     "start_time": "2022-08-31T09:29:58.539858",
     "status": "completed"
    },
    "tags": []
   },
   "outputs": [],
   "source": [
    "convert_to_parquet(\"../input/open-problems-multimodal/metadata.csv\", \"metadata\")"
   ]
  },
  {
   "cell_type": "code",
   "execution_count": 12,
   "id": "4828d7da",
   "metadata": {
    "execution": {
     "iopub.execute_input": "2022-08-31T09:29:59.304083Z",
     "iopub.status.busy": "2022-08-31T09:29:59.303565Z",
     "iopub.status.idle": "2022-08-31T09:31:24.434485Z",
     "shell.execute_reply": "2022-08-31T09:31:24.432850Z"
    },
    "papermill": {
     "duration": 85.177854,
     "end_time": "2022-08-31T09:31:24.438339",
     "exception": false,
     "start_time": "2022-08-31T09:29:59.260485",
     "status": "completed"
    },
    "tags": []
   },
   "outputs": [],
   "source": [
    "convert_to_parquet(\"../input/open-problems-multimodal/evaluation_ids.csv\", \"evaluation\")"
   ]
  },
  {
   "cell_type": "code",
   "execution_count": 13,
   "id": "826682c3",
   "metadata": {
    "execution": {
     "iopub.execute_input": "2022-08-31T09:31:24.523695Z",
     "iopub.status.busy": "2022-08-31T09:31:24.523232Z",
     "iopub.status.idle": "2022-08-31T09:31:44.408351Z",
     "shell.execute_reply": "2022-08-31T09:31:44.406616Z"
    },
    "papermill": {
     "duration": 19.931936,
     "end_time": "2022-08-31T09:31:44.411630",
     "exception": false,
     "start_time": "2022-08-31T09:31:24.479694",
     "status": "completed"
    },
    "tags": []
   },
   "outputs": [],
   "source": [
    "convert_to_parquet(\"../input/open-problems-multimodal/sample_submission.csv\", \"sample_submission\")"
   ]
  },
  {
   "cell_type": "code",
   "execution_count": 14,
   "id": "77edd40c",
   "metadata": {
    "execution": {
     "iopub.execute_input": "2022-08-31T09:31:44.489570Z",
     "iopub.status.busy": "2022-08-31T09:31:44.489069Z",
     "iopub.status.idle": "2022-08-31T09:31:45.761891Z",
     "shell.execute_reply": "2022-08-31T09:31:45.760594Z"
    },
    "papermill": {
     "duration": 1.315364,
     "end_time": "2022-08-31T09:31:45.764920",
     "exception": false,
     "start_time": "2022-08-31T09:31:44.449556",
     "status": "completed"
    },
    "tags": []
   },
   "outputs": [
    {
     "name": "stdout",
     "output_type": "stream",
     "text": [
      "total 7.1G\r\n",
      "---------- 1 root root  75K Aug 31 09:31 __notebook__.ipynb\r\n",
      "-rw-r--r-- 1 root root 359M Aug 31 09:31 evaluation.parquet\r\n",
      "-rw-r--r-- 1 root root 3.8M Aug 31 09:29 metadata.parquet\r\n",
      "-rw-r--r-- 1 root root 252M Aug 31 09:31 sample_submission.parquet\r\n",
      "-rw-r--r-- 1 root root 1.8M Aug 31 09:29 test_cite_inputs_idxcol.npz\r\n",
      "-rw-r--r-- 1 root root 488M Aug 31 09:29 test_cite_inputs_values.sparse.npz\r\n",
      "-rw-r--r-- 1 root root 8.4M Aug 31 09:26 test_multi_inputs_idxcol.npz\r\n",
      "-rw-r--r-- 1 root root 1.7G Aug 31 09:26 test_multi_inputs_values.sparse.npz\r\n",
      "-rw-r--r-- 1 root root 2.2M Aug 31 09:12 train_cite_inputs_idxcol.npz\r\n",
      "-rw-r--r-- 1 root root 712M Aug 31 09:12 train_cite_inputs_values.sparse.npz\r\n",
      "-rw-r--r-- 1 root root 1.5M Aug 31 09:06 train_cite_targets_idxcol.npz\r\n",
      "-rw-r--r-- 1 root root  36M Aug 31 09:06 train_cite_targets_values.sparse.npz\r\n",
      "-rw-r--r-- 1 root root 9.5M Aug 31 09:06 train_multi_inputs_idxcol.npz\r\n",
      "-rw-r--r-- 1 root root 2.8G Aug 31 09:06 train_multi_inputs_values.sparse.npz\r\n",
      "-rw-r--r-- 1 root root 2.8M Aug 31 08:43 train_multi_targets_idxcol.npz\r\n",
      "-rw-r--r-- 1 root root 824M Aug 31 08:43 train_multi_targets_values.sparse.npz\r\n"
     ]
    }
   ],
   "source": [
    "!ls -lh"
   ]
  },
  {
   "cell_type": "code",
   "execution_count": null,
   "id": "08603cf3",
   "metadata": {
    "papermill": {
     "duration": 0.039968,
     "end_time": "2022-08-31T09:31:45.844596",
     "exception": false,
     "start_time": "2022-08-31T09:31:45.804628",
     "status": "completed"
    },
    "tags": []
   },
   "outputs": [],
   "source": []
  }
 ],
 "metadata": {
  "kernelspec": {
   "display_name": "Python 3",
   "language": "python",
   "name": "python3"
  },
  "language_info": {
   "codemirror_mode": {
    "name": "ipython",
    "version": 3
   },
   "file_extension": ".py",
   "mimetype": "text/x-python",
   "name": "python",
   "nbconvert_exporter": "python",
   "pygments_lexer": "ipython3",
   "version": "3.7.12"
  },
  "papermill": {
   "default_parameters": {},
   "duration": 3381.57394,
   "end_time": "2022-08-31T09:31:47.238793",
   "environment_variables": {},
   "exception": null,
   "input_path": "__notebook__.ipynb",
   "output_path": "__notebook__.ipynb",
   "parameters": {},
   "start_time": "2022-08-31T08:35:25.664853",
   "version": "2.3.4"
  }
 },
 "nbformat": 4,
 "nbformat_minor": 5
}
