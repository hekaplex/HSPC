{
 "cells": [
  {
   "cell_type": "markdown",
   "id": "d6562d0d",
   "metadata": {
    "papermill": {
     "duration": 0.013554,
     "end_time": "2022-08-28T00:49:59.912900",
     "exception": false,
     "start_time": "2022-08-28T00:49:59.899346",
     "status": "completed"
    },
    "tags": []
   },
   "source": [
    "# Open Problems - Multimodal Single-Cell Integration - 📊 EDA"
   ]
  },
  {
   "cell_type": "markdown",
   "id": "3daa9d87",
   "metadata": {
    "papermill": {
     "duration": 0.011274,
     "end_time": "2022-08-28T00:49:59.936048",
     "exception": false,
     "start_time": "2022-08-28T00:49:59.924774",
     "status": "completed"
    },
    "tags": []
   },
   "source": [
    "#### I am a Data Science practitioner that is very passionate and motivated. In this notebook, I will focus on analyzing the data pertaining to the Open Problems - Multimodal Single-Cell Integration my progress step by step until I present my own conclusion for this problem.\n",
    "\n",
    "#### If you found this Kernel insightful, please consider upvoting it 👍\n",
    "\n",
    "#### I am all ears if you have any advice :)"
   ]
  },
  {
   "cell_type": "markdown",
   "id": "80d71e97",
   "metadata": {
    "papermill": {
     "duration": 0.011004,
     "end_time": "2022-08-28T00:49:59.960334",
     "exception": false,
     "start_time": "2022-08-28T00:49:59.949330",
     "status": "completed"
    },
    "tags": []
   },
   "source": [
    "<img src= \"data:image/jpeg;base64,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\" alt =\"Titanic\" style='width: 85%; margin-left: 7.5%\n",
    "'>"
   ]
  },
  {
   "cell_type": "markdown",
   "id": "ddbabfd0",
   "metadata": {
    "papermill": {
     "duration": 0.011058,
     "end_time": "2022-08-28T00:49:59.982730",
     "exception": false,
     "start_time": "2022-08-28T00:49:59.971672",
     "status": "completed"
    },
    "tags": []
   },
   "source": [
    "<div style=\"color:white;\n",
    "           display:fill;\n",
    "           background-color:#B1E1FF;\n",
    "           font-size:110%;\n",
    "           font-family:Verdana;\n",
    "           letter-spacing:0.5px;\n",
    "           display:flex;\n",
    "           flex-direction: row;\n",
    "           border-radius: 0.25rem;\n",
    "           border-width: 0.25rem;\n",
    "           border-style: solid;\n",
    "           border-color: #256D85\">\n",
    "\n",
    "<h1 style=\"padding: 2rem;\n",
    "          color:black;\n",
    "          text-align:center;\n",
    "          margin:0 auto;\n",
    "          font-size:3rem;\">\n",
    "   THE NOTEBOOK CONTAINS THE FOLLOWING SECTIONS:\n",
    "</h1>\n",
    " \n",
    "</div>"
   ]
  },
  {
   "cell_type": "markdown",
   "id": "d6b6f2a9",
   "metadata": {
    "papermill": {
     "duration": 0.011083,
     "end_time": "2022-08-28T00:50:00.005411",
     "exception": false,
     "start_time": "2022-08-28T00:49:59.994328",
     "status": "completed"
    },
    "tags": []
   },
   "source": [
    "<div id=1 style=\"color:white;\n",
    "           display:fill;\n",
    "           border-radius:10px;\n",
    "           background-color:#3EC70B;\n",
    "           font-size:110%;\n",
    "           font-family:Verdana;\n",
    "           letter-spacing:0.5px;\n",
    "           display:flex;\n",
    "           justify-content:center;\n",
    "           border-width: 0.25rem;\n",
    "           border-style: solid;\n",
    "           border-color: #256D85\">\n",
    "\n",
    "<h1 style=\"padding: 2.5rem;\n",
    "          color:white;\n",
    "          text-align:center;\n",
    "          margin:0 auto;\n",
    "          font-size:3rem;\">\n",
    "   Problem Description\n",
    "</h1>\n",
    "</div>"
   ]
  },
  {
   "cell_type": "markdown",
   "id": "55607362",
   "metadata": {
    "papermill": {
     "duration": 0.01137,
     "end_time": "2022-08-28T00:50:00.028184",
     "exception": false,
     "start_time": "2022-08-28T00:50:00.016814",
     "status": "completed"
    },
    "tags": []
   },
   "source": [
    "<div id = 2 style=\"color:white;    \n",
    "           display:fill;\n",
    "           border-radius:5px;\n",
    "           background-color:#5642C5;\n",
    "           font-size:110%;\n",
    "           font-family:Verdana;\n",
    "           letter-spacing:0.5px;\n",
    "           display:flex;\n",
    "           justify-content:center;\n",
    "           border-width: 0.2rem;\n",
    "           border-style: solid;\n",
    "           border-color: #7A86B6\">\n",
    "\n",
    "<h2 style=\"padding: 2rem;\n",
    "           color:white;\n",
    "           text-align:center;\n",
    "           margin:0 auto;\">\n",
    "Objective ⛳\n",
    "</h2>\n",
    "</div>"
   ]
  },
  {
   "cell_type": "markdown",
   "id": "1bfac943",
   "metadata": {
    "papermill": {
     "duration": 0.011153,
     "end_time": "2022-08-28T00:50:00.050973",
     "exception": false,
     "start_time": "2022-08-28T00:50:00.039820",
     "status": "completed"
    },
    "tags": []
   },
   "source": [
    "The Open Problems - Multimodal Single-Cell Integration Competition presents goals such as predicting how DNA, RNA, and protein measurements co-vary in single cells as bone marrow stem cells develop into more mature blood cells.\n",
    "\n",
    "In this competition, participants must seek to develop a model trained on a subset of 300,000-cell time course dataset of CD34+ hematopoietic stem and progenitor cells (HSPC) from four human donors at five time points generated for this competition specifically. One of the main challenges is taht the test set contains data from a much later time compared to the training data\n",
    "\n"
   ]
  },
  {
   "cell_type": "markdown",
   "id": "d06a75d2",
   "metadata": {
    "papermill": {
     "duration": 0.011236,
     "end_time": "2022-08-28T00:50:00.073771",
     "exception": false,
     "start_time": "2022-08-28T00:50:00.062535",
     "status": "completed"
    },
    "tags": []
   },
   "source": [
    "<img src= \"https://storage.googleapis.com/kaggle-media/competitions/Cellarity/predict.png\" alt =\"Titanic\" style='width: 50%; margin-left: 25%\n",
    "'>"
   ]
  },
  {
   "cell_type": "markdown",
   "id": "54493c33",
   "metadata": {
    "papermill": {
     "duration": 0.011622,
     "end_time": "2022-08-28T00:50:00.097272",
     "exception": false,
     "start_time": "2022-08-28T00:50:00.085650",
     "status": "completed"
    },
    "tags": []
   },
   "source": [
    "#### Context \n",
    "In the past decade, the advent of single-cell genomics has enabled the measurement of DNA, RNA, and proteins in single cells. These technologies allow the study of biology at an unprecedented scale and resolution. Among the outcomes have been detailed maps of early human embryonic development, the discovery of new disease-associated cell types, and cell-targeted therapeutic interventions. Moreover, with recent advances in experimental techniques it is now possible to measure multiple genomic modalities in the same cell.\n",
    "\n",
    "While multimodal single-cell data is increasingly available, data analysis methods are still scarce. Due to the small volume of a single cell, measurements are sparse and noisy. Differences in molecular sampling depths between cells (sequencing depth) and technical effects from handling cells in batches (batch effects) can often overwhelm biological differences. When analyzing multimodal data, one must account for different feature spaces, as well as shared and unique variation between modalities and between batches. Furthermore, current pipelines for single-cell data analysis treat cells as static snapshots, even when there is an underlying dynamical biological process. Accounting for temporal dynamics alongside state changes over time is an open challenge in single-cell data science.\n",
    "\n",
    "Generally, genetic information flows from DNA to RNA to proteins. DNA must be accessible (ATAC data) to produce RNA (GEX data), and RNA in turn is used as a template to produce protein (ADT data). These processes are regulated by feedback: for example, a protein may bind DNA to prevent the production of more RNA. This genetic regulation is the foundation for dynamic cellular processes that allow organisms to develop and adapt to changing environments. In single-cell data science, dynamic processes have been modeled by so-called pseudotime algorithms that capture the progression of the biological process. Yet, generalizing these algorithms to account for both pseudotime and real time is still an open problem.\n",
    "\n",
    "Competition host Open Problems in Single-Cell Analysis is an open-source, community-driven effort to standardize benchmarking of single-cell methods. The core efforts of Open Problems include the formalization of existing challenges into measurable tasks, a collection of high-quality datasets, centralized benchmarking of community-contributed methods, and community-focused events that bring together diverse method developers to improve single-cell algorithms. They're excited to be partnering with Cellarity, Chan Zuckerbeg Biohub, the Chan Zuckerberg Initiative, Helmholtz Munich, and Yale to see what progress can be made in predicting changes in genetic dynamics over time through interdisciplinary collaboration.\n",
    "\n",
    "There are approximately 37 trillion cells in the human body, all with different behaviors and functions. Understanding how a single genome gives rise to a diversity of cellular states is the key to gaining mechanistic insight into how tissues function or malfunction in health and disease. You can help solve this fundamental challenge for single-cell biology. Being able to solve the prediction problems over time may yield new insights into how gene regulation influences differentiation as blood and immune cells mature."
   ]
  },
  {
   "cell_type": "markdown",
   "id": "4d514888",
   "metadata": {
    "papermill": {
     "duration": 0.011858,
     "end_time": "2022-08-28T00:50:00.120595",
     "exception": false,
     "start_time": "2022-08-28T00:50:00.108737",
     "status": "completed"
    },
    "tags": []
   },
   "source": [
    "<div id = 3 style=\"color:white;    \n",
    "           display:fill;\n",
    "           border-radius:5px;\n",
    "           background-color:#5642C5;\n",
    "           font-size:110%;\n",
    "           font-family:Verdana;\n",
    "           letter-spacing:0.5px;\n",
    "           display:flex;\n",
    "           justify-content:center;\n",
    "           border-width: 0.2rem;\n",
    "           border-style: solid;\n",
    "           border-color: #7A86B6\">\n",
    "\n",
    "<h2 style=\"padding: 2rem;\n",
    "           color:white;\n",
    "           text-align:center;\n",
    "           margin:0 auto;\">\n",
    "About the given Datasets 📁📂\n",
    "</h2>\n",
    "</div>"
   ]
  },
  {
   "cell_type": "markdown",
   "id": "40c265ee",
   "metadata": {
    "papermill": {
     "duration": 0.012896,
     "end_time": "2022-08-28T00:50:00.146328",
     "exception": false,
     "start_time": "2022-08-28T00:50:00.133432",
     "status": "completed"
    },
    "tags": []
   },
   "source": [
    "#### Cell Types\n",
    "* MasP = Mast Cell Progenitor\n",
    "* MkP = Megakaryocyte Progenitor\n",
    "* NeuP = Neutrophil Progenitor\n",
    "* MoP = Monocyte Progenitor\n",
    "* EryP = Erythrocyte Progenitor\n",
    "* HSC = Hematoploetic Stem Cell\n",
    "* BP = B-Cell Progenitor"
   ]
  },
  {
   "cell_type": "markdown",
   "id": "23050a9d",
   "metadata": {
    "papermill": {
     "duration": 0.011299,
     "end_time": "2022-08-28T00:50:00.170317",
     "exception": false,
     "start_time": "2022-08-28T00:50:00.159018",
     "status": "completed"
    },
    "tags": []
   },
   "source": [
    "#### metadata.csv\n",
    "* cell_id - A unique identifier for each observed cell.\n",
    "* donor - An identifier for the four cell donors.\n",
    "* day - The day of the experiment the observation was made.\n",
    "* technology - Either citeseq or multiome.\n",
    "* cell_type - One of the above cell types or else hidden."
   ]
  },
  {
   "cell_type": "markdown",
   "id": "68181d31",
   "metadata": {
    "papermill": {
     "duration": 0.011637,
     "end_time": "2022-08-28T00:50:00.194337",
     "exception": false,
     "start_time": "2022-08-28T00:50:00.182700",
     "status": "completed"
    },
    "tags": []
   },
   "source": [
    "##### The experimental observations are located in several large arrays and are provided in HDF5 format.\n",
    "#### HDF5 Arrays:\n",
    "* Multiome\n",
    "* CITEseq\n",
    "* Splits\n",
    "##### We will talk about the content of these Arrays in a later section.\n",
    "\n"
   ]
  },
  {
   "cell_type": "markdown",
   "id": "4261b97b",
   "metadata": {
    "papermill": {
     "duration": 0.011202,
     "end_time": "2022-08-28T00:50:00.217046",
     "exception": false,
     "start_time": "2022-08-28T00:50:00.205844",
     "status": "completed"
    },
    "tags": []
   },
   "source": [
    "<div id = 4 style=\"color:white;    \n",
    "           display:fill;\n",
    "           border-radius:5px;\n",
    "           background-color:#5642C5;\n",
    "           font-size:110%;\n",
    "           font-family:Verdana;\n",
    "           letter-spacing:0.5px;\n",
    "           display:flex;\n",
    "           justify-content:center;\n",
    "           border-width: 0.2rem;\n",
    "           border-style: solid;\n",
    "           border-color: #7A86B6\">\n",
    "\n",
    "<h2 style=\"padding: 2rem;\n",
    "           color:white;\n",
    "           text-align:center;\n",
    "           margin:0 auto;\">\n",
    "Evaluation Metrics Used 📏\n",
    "</h2>\n",
    "</div>"
   ]
  },
  {
   "cell_type": "markdown",
   "id": "65f927e6",
   "metadata": {
    "papermill": {
     "duration": 0.0112,
     "end_time": "2022-08-28T00:50:00.239670",
     "exception": false,
     "start_time": "2022-08-28T00:50:00.228470",
     "status": "completed"
    },
    "tags": []
   },
   "source": [
    "### Based on the problem, we will use the Pearson Correlation Coefficient metric (PCC).\n",
    "\n",
    "#### PCC is a measure of linear correlation between two sets of data and gives an with range: [a, b]\n",
    "\n",
    "<br/>\n",
    "<br/>\n",
    "<img src= \"https://upload.wikimedia.org/wikipedia/commons/3/34/Correlation_coefficient.png\" alt =\"Titanic\" style='width: 45%; margin-left: 25%\n",
    "'>\n",
    "\n",
    "$ PCC = \\frac{Cov(x, y}{\\sigma_x \\sigma_y}$\n",
    "\n",
    "#### If you want to learn more about PCC: \n",
    "https://www.analyticsvidhya.com/blog/2021/01/beginners-guide-to-pearsons-correlation-coefficient/\n"
   ]
  },
  {
   "cell_type": "markdown",
   "id": "28a5181d",
   "metadata": {
    "papermill": {
     "duration": 0.011037,
     "end_time": "2022-08-28T00:50:00.262312",
     "exception": false,
     "start_time": "2022-08-28T00:50:00.251275",
     "status": "completed"
    },
    "tags": []
   },
   "source": [
    "$$f(X,n) = X_n + X_{n-1}$$"
   ]
  },
  {
   "cell_type": "markdown",
   "id": "c9529b7c",
   "metadata": {
    "papermill": {
     "duration": 0.01096,
     "end_time": "2022-08-28T00:50:00.284736",
     "exception": false,
     "start_time": "2022-08-28T00:50:00.273776",
     "status": "completed"
    },
    "tags": []
   },
   "source": [
    "<div id=5 style=\"color:white;\n",
    "           display:fill;\n",
    "           border-radius:10px;\n",
    "           background-color:#3EC70B;\n",
    "           font-size:110%;\n",
    "           font-family:Verdana;\n",
    "           letter-spacing:0.5px;\n",
    "           display:flex;\n",
    "           justify-content:center;\n",
    "           border-width: 0.25rem;\n",
    "           border-style: solid;\n",
    "           border-color: #256D85\">\n",
    "\n",
    "<h1 style=\"padding: 2.5rem;\n",
    "          color:white;\n",
    "          text-align:center;\n",
    "          margin:0 auto;\n",
    "          font-size:3rem;\">\n",
    "   Work 🔨\n",
    "</h1>\n",
    "</div>"
   ]
  },
  {
   "cell_type": "markdown",
   "id": "05e697fa",
   "metadata": {
    "papermill": {
     "duration": 0.011102,
     "end_time": "2022-08-28T00:50:00.307134",
     "exception": false,
     "start_time": "2022-08-28T00:50:00.296032",
     "status": "completed"
    },
    "tags": []
   },
   "source": [
    "<div id = 6 style=\"color:white;    \n",
    "           display:fill;\n",
    "           border-radius:5px;\n",
    "           background-color:#5642C5;\n",
    "           font-size:110%;\n",
    "           font-family:Verdana;\n",
    "           letter-spacing:0.5px;\n",
    "           display:flex;\n",
    "           justify-content:center;\n",
    "           border-width: 0.2rem;\n",
    "           border-style: solid;\n",
    "           border-color: #7A86B6\">\n",
    "\n",
    "<h2 style=\"padding: 2rem;\n",
    "           color:white;\n",
    "           text-align:center;\n",
    "           margin:0 auto;\">\n",
    "Importing relevant libraries 📚📚📚\n",
    "</h2>\n",
    "</div>"
   ]
  },
  {
   "cell_type": "code",
   "execution_count": 1,
   "id": "f8304e62",
   "metadata": {
    "execution": {
     "iopub.execute_input": "2022-08-28T00:50:00.332441Z",
     "iopub.status.busy": "2022-08-28T00:50:00.331449Z",
     "iopub.status.idle": "2022-08-28T00:50:14.119605Z",
     "shell.execute_reply": "2022-08-28T00:50:14.118201Z"
    },
    "papermill": {
     "duration": 13.804237,
     "end_time": "2022-08-28T00:50:14.122810",
     "exception": false,
     "start_time": "2022-08-28T00:50:00.318573",
     "status": "completed"
    },
    "tags": []
   },
   "outputs": [
    {
     "name": "stdout",
     "output_type": "stream",
     "text": [
      "\u001b[33mWARNING: Running pip as the 'root' user can result in broken permissions and conflicting behaviour with the system package manager. It is recommended to use a virtual environment instead: https://pip.pypa.io/warnings/venv\u001b[0m\u001b[33m\r\n",
      "\u001b[0m"
     ]
    }
   ],
   "source": [
    "! pip install -q tables  # Necessary to load hdf5 files"
   ]
  },
  {
   "cell_type": "code",
   "execution_count": 2,
   "id": "be1d1fd6",
   "metadata": {
    "execution": {
     "iopub.execute_input": "2022-08-28T00:50:14.149198Z",
     "iopub.status.busy": "2022-08-28T00:50:14.148769Z",
     "iopub.status.idle": "2022-08-28T00:50:15.482023Z",
     "shell.execute_reply": "2022-08-28T00:50:15.480756Z"
    },
    "papermill": {
     "duration": 1.350034,
     "end_time": "2022-08-28T00:50:15.484835",
     "exception": false,
     "start_time": "2022-08-28T00:50:14.134801",
     "status": "completed"
    },
    "tags": []
   },
   "outputs": [],
   "source": [
    "import numpy as np\n",
    "import pandas as pd\n",
    "import matplotlib.pyplot as plt\n",
    "import seaborn as sns\n",
    "import os\n",
    "from termcolor import colored\n",
    "import warnings\n",
    "import h5py\n",
    "warnings.simplefilter('ignore')"
   ]
  },
  {
   "cell_type": "markdown",
   "id": "6fe0cb89",
   "metadata": {
    "papermill": {
     "duration": 0.011833,
     "end_time": "2022-08-28T00:50:15.509002",
     "exception": false,
     "start_time": "2022-08-28T00:50:15.497169",
     "status": "completed"
    },
    "tags": []
   },
   "source": [
    "<div id=7 style=\"color:white;    \n",
    "           display:fill;\n",
    "           border-radius:5px;\n",
    "           background-color:#5642C5;\n",
    "           font-size:110%;\n",
    "           font-family:Verdana;\n",
    "           letter-spacing:0.5px;\n",
    "           display:flex;\n",
    "           justify-content:center;\n",
    "           border-width: 0.2rem;\n",
    "           border-style: solid;\n",
    "           border-color: #7A86B6      \">\n",
    "\n",
    "<h2 style=\"padding: 2rem;\n",
    "              color:white;\n",
    "          text-align:center;\n",
    "          margin:0 auto;\n",
    "          \">\n",
    "Reading Data 📖\n",
    "</h2>\n",
    "</div>"
   ]
  },
  {
   "cell_type": "markdown",
   "id": "712ba3eb",
   "metadata": {
    "papermill": {
     "duration": 0.011214,
     "end_time": "2022-08-28T00:50:15.532061",
     "exception": false,
     "start_time": "2022-08-28T00:50:15.520847",
     "status": "completed"
    },
    "tags": []
   },
   "source": [
    "#### Due to memory constaints, some of the data will not be evaluated."
   ]
  },
  {
   "cell_type": "code",
   "execution_count": 3,
   "id": "bb26977b",
   "metadata": {
    "execution": {
     "iopub.execute_input": "2022-08-28T00:50:15.557285Z",
     "iopub.status.busy": "2022-08-28T00:50:15.556365Z",
     "iopub.status.idle": "2022-08-28T00:51:16.615540Z",
     "shell.execute_reply": "2022-08-28T00:51:16.613189Z"
    },
    "papermill": {
     "duration": 61.076747,
     "end_time": "2022-08-28T00:51:16.620377",
     "exception": false,
     "start_time": "2022-08-28T00:50:15.543630",
     "status": "completed"
    },
    "tags": []
   },
   "outputs": [],
   "source": [
    "metadata = pd.read_csv('../input/open-problems-multimodal/metadata.csv').set_index('cell_id')\n",
    "evaluation_ids = pd.read_csv('../input/open-problems-multimodal/evaluation_ids.csv').set_index('row_id')"
   ]
  },
  {
   "cell_type": "code",
   "execution_count": 4,
   "id": "dde55690",
   "metadata": {
    "execution": {
     "iopub.execute_input": "2022-08-28T00:51:16.650150Z",
     "iopub.status.busy": "2022-08-28T00:51:16.649653Z",
     "iopub.status.idle": "2022-08-28T00:51:17.452160Z",
     "shell.execute_reply": "2022-08-28T00:51:17.450964Z"
    },
    "papermill": {
     "duration": 0.819687,
     "end_time": "2022-08-28T00:51:17.455064",
     "exception": false,
     "start_time": "2022-08-28T00:51:16.635377",
     "status": "completed"
    },
    "tags": []
   },
   "outputs": [],
   "source": [
    "# test_cite_inputs = pd.read_hdf('../input/open-problems-multimodal/test_cite_inputs.h5', nrows=400).astype(np.float8)\n",
    "# train_cite_inputs = pd.read_hdf('../input/open-problems-multimodal/train_cite_inputs.h5', nrows=400).astype(np.float8)\n",
    "# #test_multi_inputs = pd.read_hdf('../input/open-problems-multimodal/test_multi_inputs.h5', nrows=800).astype(np.float16)\n",
    "# train_multi_inputs = pd.read_hdf('../input/open-problems-multimodal/train_multi_inputs.h5', nrows=100).astype(np.float16)\n",
    "train_cite_targets = pd.read_hdf('../input/open-problems-multimodal/train_cite_targets.h5', nrows=800).astype(np.float16)\n",
    "# train_multi_targets = pd.read_hdf('../input/open-problems-multimodal/train_multi_targets.h5', nrows=800).astype(np.float16)"
   ]
  },
  {
   "cell_type": "markdown",
   "id": "5e3d7746",
   "metadata": {
    "papermill": {
     "duration": 0.011407,
     "end_time": "2022-08-28T00:51:17.478246",
     "exception": false,
     "start_time": "2022-08-28T00:51:17.466839",
     "status": "completed"
    },
    "tags": []
   },
   "source": [
    "<div style=\"\n",
    "            display:flex;\n",
    "            flex-direction:row\">\n",
    "<div style=\"width:0.05%;\n",
    "            height:max;\n",
    "            background-color:#5642C5;\n",
    "            padding:0.75rem;\n",
    "            border-top-left-radius:0.5rem;\n",
    "            border-bottom-left-radius: 0.5rem\">\n",
    "    \n",
    "</div>\n",
    "<div id=7 style=\"color:white;    \n",
    "           background-color:#9BA3EB;\n",
    "           font-size:70%;\n",
    "           font-family:Verdana;\n",
    "           letter-spacing:0.5px;\n",
    "           border-width: 0.2rem;\n",
    "           border-style: solid;\n",
    "           border-color: #7A86B6;\n",
    "           display: inline-block;\n",
    "           flex-direction: row;\n",
    "           border-left: none\n",
    "                 \">\n",
    "\n",
    "<h2 style=\"padding: 0.5rem;\n",
    "           color:white;\n",
    "           text-align:left;\n",
    "           margin-right: auto;\n",
    "          \">\n",
    "Metadata 📁\n",
    "</h2>\n",
    "</div>\n",
    "</div>"
   ]
  },
  {
   "cell_type": "code",
   "execution_count": 5,
   "id": "4bea4c23",
   "metadata": {
    "execution": {
     "iopub.execute_input": "2022-08-28T00:51:17.504188Z",
     "iopub.status.busy": "2022-08-28T00:51:17.503726Z",
     "iopub.status.idle": "2022-08-28T00:51:17.528229Z",
     "shell.execute_reply": "2022-08-28T00:51:17.527108Z"
    },
    "papermill": {
     "duration": 0.040537,
     "end_time": "2022-08-28T00:51:17.530673",
     "exception": false,
     "start_time": "2022-08-28T00:51:17.490136",
     "status": "completed"
    },
    "tags": []
   },
   "outputs": [
    {
     "data": {
      "text/html": [
       "<div>\n",
       "<style scoped>\n",
       "    .dataframe tbody tr th:only-of-type {\n",
       "        vertical-align: middle;\n",
       "    }\n",
       "\n",
       "    .dataframe tbody tr th {\n",
       "        vertical-align: top;\n",
       "    }\n",
       "\n",
       "    .dataframe thead th {\n",
       "        text-align: right;\n",
       "    }\n",
       "</style>\n",
       "<table border=\"1\" class=\"dataframe\">\n",
       "  <thead>\n",
       "    <tr style=\"text-align: right;\">\n",
       "      <th></th>\n",
       "      <th>day</th>\n",
       "      <th>donor</th>\n",
       "      <th>cell_type</th>\n",
       "      <th>technology</th>\n",
       "    </tr>\n",
       "    <tr>\n",
       "      <th>cell_id</th>\n",
       "      <th></th>\n",
       "      <th></th>\n",
       "      <th></th>\n",
       "      <th></th>\n",
       "    </tr>\n",
       "  </thead>\n",
       "  <tbody>\n",
       "    <tr>\n",
       "      <th>c2150f55becb</th>\n",
       "      <td>2</td>\n",
       "      <td>27678</td>\n",
       "      <td>HSC</td>\n",
       "      <td>citeseq</td>\n",
       "    </tr>\n",
       "    <tr>\n",
       "      <th>65b7edf8a4da</th>\n",
       "      <td>2</td>\n",
       "      <td>27678</td>\n",
       "      <td>HSC</td>\n",
       "      <td>citeseq</td>\n",
       "    </tr>\n",
       "    <tr>\n",
       "      <th>c1b26cb1057b</th>\n",
       "      <td>2</td>\n",
       "      <td>27678</td>\n",
       "      <td>EryP</td>\n",
       "      <td>citeseq</td>\n",
       "    </tr>\n",
       "    <tr>\n",
       "      <th>917168fa6f83</th>\n",
       "      <td>2</td>\n",
       "      <td>27678</td>\n",
       "      <td>NeuP</td>\n",
       "      <td>citeseq</td>\n",
       "    </tr>\n",
       "    <tr>\n",
       "      <th>2b29feeca86d</th>\n",
       "      <td>2</td>\n",
       "      <td>27678</td>\n",
       "      <td>EryP</td>\n",
       "      <td>citeseq</td>\n",
       "    </tr>\n",
       "  </tbody>\n",
       "</table>\n",
       "</div>"
      ],
      "text/plain": [
       "              day  donor cell_type technology\n",
       "cell_id                                      \n",
       "c2150f55becb    2  27678       HSC    citeseq\n",
       "65b7edf8a4da    2  27678       HSC    citeseq\n",
       "c1b26cb1057b    2  27678      EryP    citeseq\n",
       "917168fa6f83    2  27678      NeuP    citeseq\n",
       "2b29feeca86d    2  27678      EryP    citeseq"
      ]
     },
     "execution_count": 5,
     "metadata": {},
     "output_type": "execute_result"
    }
   ],
   "source": [
    "metadata.head()"
   ]
  },
  {
   "cell_type": "markdown",
   "id": "0ac95c71",
   "metadata": {
    "papermill": {
     "duration": 0.012312,
     "end_time": "2022-08-28T00:51:17.555162",
     "exception": false,
     "start_time": "2022-08-28T00:51:17.542850",
     "status": "completed"
    },
    "tags": []
   },
   "source": [
    "<div style=\"\n",
    "            display:flex;\n",
    "            flex-direction:row\">\n",
    "<div style=\"width:0.05%;\n",
    "            height:max;\n",
    "            background-color:#5642C5;\n",
    "            padding:0.75rem;\n",
    "            border-top-left-radius:0.5rem;\n",
    "            border-bottom-left-radius: 0.5rem\">\n",
    "    \n",
    "</div>\n",
    "<div id=7 style=\"color:white;    \n",
    "           background-color:#9BA3EB;\n",
    "           font-size:70%;\n",
    "           font-family:Verdana;\n",
    "           letter-spacing:0.5px;\n",
    "           border-width: 0.2rem;\n",
    "           border-style: solid;\n",
    "           border-color: #7A86B6;\n",
    "           display: inline-block;\n",
    "           flex-direction: row;\n",
    "           border-left: none\n",
    "                 \">\n",
    "\n",
    "<h2 style=\"padding: 0.5rem;\n",
    "           color:white;\n",
    "           text-align:left;\n",
    "           margin-right: auto;\n",
    "          \">\n",
    "Evaluation ID's\n",
    "</h2>\n",
    "</div>\n",
    "</div>"
   ]
  },
  {
   "cell_type": "code",
   "execution_count": 6,
   "id": "3e5cf4c8",
   "metadata": {
    "execution": {
     "iopub.execute_input": "2022-08-28T00:51:17.582713Z",
     "iopub.status.busy": "2022-08-28T00:51:17.581606Z",
     "iopub.status.idle": "2022-08-28T00:51:17.594322Z",
     "shell.execute_reply": "2022-08-28T00:51:17.592904Z"
    },
    "papermill": {
     "duration": 0.029548,
     "end_time": "2022-08-28T00:51:17.597151",
     "exception": false,
     "start_time": "2022-08-28T00:51:17.567603",
     "status": "completed"
    },
    "tags": []
   },
   "outputs": [
    {
     "data": {
      "text/html": [
       "<div>\n",
       "<style scoped>\n",
       "    .dataframe tbody tr th:only-of-type {\n",
       "        vertical-align: middle;\n",
       "    }\n",
       "\n",
       "    .dataframe tbody tr th {\n",
       "        vertical-align: top;\n",
       "    }\n",
       "\n",
       "    .dataframe thead th {\n",
       "        text-align: right;\n",
       "    }\n",
       "</style>\n",
       "<table border=\"1\" class=\"dataframe\">\n",
       "  <thead>\n",
       "    <tr style=\"text-align: right;\">\n",
       "      <th></th>\n",
       "      <th>cell_id</th>\n",
       "      <th>gene_id</th>\n",
       "    </tr>\n",
       "    <tr>\n",
       "      <th>row_id</th>\n",
       "      <th></th>\n",
       "      <th></th>\n",
       "    </tr>\n",
       "  </thead>\n",
       "  <tbody>\n",
       "    <tr>\n",
       "      <th>0</th>\n",
       "      <td>c2150f55becb</td>\n",
       "      <td>CD86</td>\n",
       "    </tr>\n",
       "    <tr>\n",
       "      <th>1</th>\n",
       "      <td>c2150f55becb</td>\n",
       "      <td>CD274</td>\n",
       "    </tr>\n",
       "    <tr>\n",
       "      <th>2</th>\n",
       "      <td>c2150f55becb</td>\n",
       "      <td>CD270</td>\n",
       "    </tr>\n",
       "    <tr>\n",
       "      <th>3</th>\n",
       "      <td>c2150f55becb</td>\n",
       "      <td>CD155</td>\n",
       "    </tr>\n",
       "    <tr>\n",
       "      <th>4</th>\n",
       "      <td>c2150f55becb</td>\n",
       "      <td>CD112</td>\n",
       "    </tr>\n",
       "  </tbody>\n",
       "</table>\n",
       "</div>"
      ],
      "text/plain": [
       "             cell_id gene_id\n",
       "row_id                      \n",
       "0       c2150f55becb    CD86\n",
       "1       c2150f55becb   CD274\n",
       "2       c2150f55becb   CD270\n",
       "3       c2150f55becb   CD155\n",
       "4       c2150f55becb   CD112"
      ]
     },
     "execution_count": 6,
     "metadata": {},
     "output_type": "execute_result"
    }
   ],
   "source": [
    "evaluation_ids.head()"
   ]
  },
  {
   "cell_type": "markdown",
   "id": "9d7f96d4",
   "metadata": {
    "papermill": {
     "duration": 0.015539,
     "end_time": "2022-08-28T00:51:17.625080",
     "exception": false,
     "start_time": "2022-08-28T00:51:17.609541",
     "status": "completed"
    },
    "tags": []
   },
   "source": [
    "## For now we will only cover Metadata and Evaluation ID's"
   ]
  },
  {
   "cell_type": "code",
   "execution_count": 7,
   "id": "f74c0428",
   "metadata": {
    "execution": {
     "iopub.execute_input": "2022-08-28T00:51:17.655455Z",
     "iopub.status.busy": "2022-08-28T00:51:17.655027Z",
     "iopub.status.idle": "2022-08-28T00:51:17.662638Z",
     "shell.execute_reply": "2022-08-28T00:51:17.660992Z"
    },
    "papermill": {
     "duration": 0.030874,
     "end_time": "2022-08-28T00:51:17.669551",
     "exception": false,
     "start_time": "2022-08-28T00:51:17.638677",
     "status": "completed"
    },
    "tags": []
   },
   "outputs": [],
   "source": [
    "#train_multi_targets.head()"
   ]
  },
  {
   "cell_type": "markdown",
   "id": "fad4a3ef",
   "metadata": {
    "papermill": {
     "duration": 0.012555,
     "end_time": "2022-08-28T00:51:17.696209",
     "exception": false,
     "start_time": "2022-08-28T00:51:17.683654",
     "status": "completed"
    },
    "tags": []
   },
   "source": [
    "<div id=7 style=\"color:white;    \n",
    "           display:fill;\n",
    "           border-radius:5px;\n",
    "           background-color:#5642C5;\n",
    "           font-size:110%;\n",
    "           font-family:Verdana;\n",
    "           letter-spacing:0.5px;\n",
    "           display:flex;\n",
    "           justify-content:center;\n",
    "           border-width: 0.2rem;\n",
    "           border-style: solid;\n",
    "           border-color: #7A86B6      \">\n",
    "\n",
    "<h2 style=\"padding: 2rem;\n",
    "              color:white;\n",
    "          text-align:center;\n",
    "          margin:0 auto;\n",
    "          \">\n",
    "Exploratory Data Analysis and Visualization 🔍 👀\n",
    "</h2>\n",
    "</div>"
   ]
  },
  {
   "cell_type": "markdown",
   "id": "6645b3db",
   "metadata": {
    "papermill": {
     "duration": 0.014062,
     "end_time": "2022-08-28T00:51:17.725516",
     "exception": false,
     "start_time": "2022-08-28T00:51:17.711454",
     "status": "completed"
    },
    "tags": []
   },
   "source": [
    "<div id=9 style=\"color:white;    \n",
    "           display:fill;\n",
    "           border-radius:5px;\n",
    "           font-size:110%;\n",
    "           background-color:#3EC70B;\n",
    "           font-family:Verdana;\n",
    "           letter-spacing:1px;\n",
    "           display:flex;\n",
    "           justify-content:center;\n",
    "           border-width: 0.25rem;\n",
    "           border-style: solid;\n",
    "           border-color: #256D85\">\n",
    "\n",
    "<h3 style=\"text-align:center;\n",
    "          margin:0 auto;\n",
    "          color:white;\n",
    "           padding:1rem\n",
    "          \">\n",
    "View Data Types of Predictors and Target Variables\n",
    "</h3>\n",
    "</div>"
   ]
  },
  {
   "cell_type": "markdown",
   "id": "8e58d64f",
   "metadata": {
    "papermill": {
     "duration": 0.011801,
     "end_time": "2022-08-28T00:51:17.749710",
     "exception": false,
     "start_time": "2022-08-28T00:51:17.737909",
     "status": "completed"
    },
    "tags": []
   },
   "source": [
    "#### Metadata"
   ]
  },
  {
   "cell_type": "code",
   "execution_count": 8,
   "id": "f404c359",
   "metadata": {
    "execution": {
     "iopub.execute_input": "2022-08-28T00:51:17.776631Z",
     "iopub.status.busy": "2022-08-28T00:51:17.775897Z",
     "iopub.status.idle": "2022-08-28T00:51:17.786807Z",
     "shell.execute_reply": "2022-08-28T00:51:17.785179Z"
    },
    "papermill": {
     "duration": 0.027396,
     "end_time": "2022-08-28T00:51:17.789531",
     "exception": false,
     "start_time": "2022-08-28T00:51:17.762135",
     "status": "completed"
    },
    "tags": []
   },
   "outputs": [
    {
     "name": "stdout",
     "output_type": "stream",
     "text": [
      "\u001b[4m\u001b[1m\u001b[36mDATA TYPES:\u001b[0m\n"
     ]
    },
    {
     "data": {
      "text/plain": [
       "day            int64\n",
       "donor          int64\n",
       "cell_type     object\n",
       "technology    object\n",
       "dtype: object"
      ]
     },
     "execution_count": 8,
     "metadata": {},
     "output_type": "execute_result"
    }
   ],
   "source": [
    "print(colored(f'DATA TYPES:', 'cyan', attrs=['bold', 'underline']))\n",
    "metadata.dtypes"
   ]
  },
  {
   "cell_type": "markdown",
   "id": "584cca73",
   "metadata": {
    "papermill": {
     "duration": 0.012106,
     "end_time": "2022-08-28T00:51:17.813938",
     "exception": false,
     "start_time": "2022-08-28T00:51:17.801832",
     "status": "completed"
    },
    "tags": []
   },
   "source": [
    "#### Evaluation ID's"
   ]
  },
  {
   "cell_type": "code",
   "execution_count": 9,
   "id": "ff9d2608",
   "metadata": {
    "execution": {
     "iopub.execute_input": "2022-08-28T00:51:17.840510Z",
     "iopub.status.busy": "2022-08-28T00:51:17.840075Z",
     "iopub.status.idle": "2022-08-28T00:51:17.849574Z",
     "shell.execute_reply": "2022-08-28T00:51:17.847936Z"
    },
    "papermill": {
     "duration": 0.025892,
     "end_time": "2022-08-28T00:51:17.852192",
     "exception": false,
     "start_time": "2022-08-28T00:51:17.826300",
     "status": "completed"
    },
    "tags": []
   },
   "outputs": [
    {
     "name": "stdout",
     "output_type": "stream",
     "text": [
      "\u001b[4m\u001b[1m\u001b[36mDATA TYPES:\u001b[0m\n"
     ]
    },
    {
     "data": {
      "text/plain": [
       "cell_id    object\n",
       "gene_id    object\n",
       "dtype: object"
      ]
     },
     "execution_count": 9,
     "metadata": {},
     "output_type": "execute_result"
    }
   ],
   "source": [
    "print(colored(f'DATA TYPES:', 'cyan', attrs=['bold', 'underline']))\n",
    "evaluation_ids.dtypes"
   ]
  },
  {
   "cell_type": "markdown",
   "id": "0e51ad35",
   "metadata": {
    "papermill": {
     "duration": 0.012287,
     "end_time": "2022-08-28T00:51:17.876924",
     "exception": false,
     "start_time": "2022-08-28T00:51:17.864637",
     "status": "completed"
    },
    "tags": []
   },
   "source": [
    "<div id=10 style=\"color:white;    \n",
    "           display:fill;\n",
    "           border-radius:5px;\n",
    "           font-size:110%;\n",
    "           background-color:#3EC70B;\n",
    "           font-family:Verdana;\n",
    "           letter-spacing:1px;\n",
    "           display:flex;\n",
    "           justify-content:center;\n",
    "           border-width: 0.25rem;\n",
    "           border-style: solid;\n",
    "           border-color: #256D85\">\n",
    "\n",
    "<h3 style=\"text-align:center;\n",
    "          margin:0 auto;\n",
    "          color:white;\n",
    "           padding:1rem\n",
    "          \">\n",
    "Analysis of Missing Values ⚠️\n",
    "</h3>\n",
    "</div>"
   ]
  },
  {
   "cell_type": "code",
   "execution_count": 10,
   "id": "7a06afc2",
   "metadata": {
    "execution": {
     "iopub.execute_input": "2022-08-28T00:51:17.904413Z",
     "iopub.status.busy": "2022-08-28T00:51:17.903985Z",
     "iopub.status.idle": "2022-08-28T00:51:23.682232Z",
     "shell.execute_reply": "2022-08-28T00:51:23.680667Z"
    },
    "papermill": {
     "duration": 5.794938,
     "end_time": "2022-08-28T00:51:23.684826",
     "exception": false,
     "start_time": "2022-08-28T00:51:17.889888",
     "status": "completed"
    },
    "tags": []
   },
   "outputs": [
    {
     "name": "stdout",
     "output_type": "stream",
     "text": [
      "[] []\n"
     ]
    }
   ],
   "source": [
    "nan_cols_metadata = metadata.columns[metadata.isna().any()].tolist()\n",
    "nan_cols_evaluation_ids = evaluation_ids.columns[evaluation_ids.isna().any()].tolist()\n",
    "print(nan_cols_metadata, nan_cols_evaluation_ids)"
   ]
  },
  {
   "cell_type": "markdown",
   "id": "20f25c42",
   "metadata": {
    "papermill": {
     "duration": 0.012196,
     "end_time": "2022-08-28T00:51:23.709573",
     "exception": false,
     "start_time": "2022-08-28T00:51:23.697377",
     "status": "completed"
    },
    "tags": []
   },
   "source": [
    "<div style=\"color:white;    \n",
    "           display:fill;\n",
    "           border-radius:5px;\n",
    "           font-size:110%;\n",
    "           font-family:Verdana;\n",
    "           letter-spacing:1px;\n",
    "           display:flex;\n",
    "            justify-content:center;\">\n",
    "\n",
    "<h4 style=\"text-align:center;\n",
    "          margin:0 auto;\n",
    "          color:black;\n",
    "          \">\n",
    "Conclusions 📍\n",
    "</h4>\n",
    "</div>\n",
    "\n",
    "* Metadata and Evaluation ID's don't have any missing values"
   ]
  },
  {
   "cell_type": "markdown",
   "id": "44d8de5f",
   "metadata": {
    "papermill": {
     "duration": 0.012107,
     "end_time": "2022-08-28T00:51:23.734031",
     "exception": false,
     "start_time": "2022-08-28T00:51:23.721924",
     "status": "completed"
    },
    "tags": []
   },
   "source": [
    "<div id=11 style=\"color:white;    \n",
    "           display:fill;\n",
    "           border-radius:5px;\n",
    "           font-size:110%;\n",
    "           background-color:#3EC70B;\n",
    "           font-family:Verdana;\n",
    "           letter-spacing:1px;\n",
    "           display:flex;\n",
    "           justify-content:center;\n",
    "           border-width: 0.25rem;\n",
    "           border-style: solid;\n",
    "           border-color: #256D85\">\n",
    "\n",
    "<h3 style=\"text-align:center;\n",
    "          margin:0 auto;\n",
    "          color:white;\n",
    "           padding:1rem\n",
    "          \">\n",
    " Data Analysis of Individual Predictors 🔮\n",
    "</h3>\n",
    "</div>"
   ]
  },
  {
   "cell_type": "markdown",
   "id": "fcf39d72",
   "metadata": {
    "papermill": {
     "duration": 0.012324,
     "end_time": "2022-08-28T00:51:23.758840",
     "exception": false,
     "start_time": "2022-08-28T00:51:23.746516",
     "status": "completed"
    },
    "tags": []
   },
   "source": [
    "#### I used pie-charts because of inspiration from this notebook: https://www.kaggle.com/code/jirkaborovec/mmscel-inst-eda-stat-predictions"
   ]
  },
  {
   "cell_type": "markdown",
   "id": "2d33e6d8",
   "metadata": {
    "papermill": {
     "duration": 0.012019,
     "end_time": "2022-08-28T00:51:23.783264",
     "exception": false,
     "start_time": "2022-08-28T00:51:23.771245",
     "status": "completed"
    },
    "tags": []
   },
   "source": [
    "\n",
    "<div style=\"\n",
    "            display:flex;\n",
    "            flex-direction:row;\n",
    "            justify-content:left;\">\n",
    "<div style=\"width:0.05%;\n",
    "            height:max;\n",
    "            background-color:#256D85;\n",
    "            padding:1rem;\n",
    "            border-top-left-radius:0.5rem;\n",
    "            border-bottom-left-radius: 0.5rem;\n",
    "            margin-left: 1rem\">\n",
    "    \n",
    "</div>\n",
    "<div id=7 style=\"color:white;    \n",
    "           background-color:#3EC70B;\n",
    "           font-size:90%;\n",
    "           font-family:Verdana;\n",
    "           letter-spacing:0.5px;\n",
    "           border-width: 0.2rem;\n",
    "           border-style: solid;\n",
    "           border-color: #7A86B6;\n",
    "           display: inline-block;\n",
    "           border-left: none\n",
    "                 \">\n",
    "\n",
    "<h2 style=\"padding: 0.5rem;\n",
    "           color:white;\n",
    "           margin-right: auto;\n",
    "          \">\n",
    "Day\n",
    "</h2>\n",
    "</div>\n",
    "</div>"
   ]
  },
  {
   "cell_type": "code",
   "execution_count": 11,
   "id": "e424c26c",
   "metadata": {
    "_kg_hide-input": true,
    "execution": {
     "iopub.execute_input": "2022-08-28T00:51:23.810256Z",
     "iopub.status.busy": "2022-08-28T00:51:23.809507Z",
     "iopub.status.idle": "2022-08-28T00:51:24.311457Z",
     "shell.execute_reply": "2022-08-28T00:51:24.310305Z"
    },
    "papermill": {
     "duration": 0.519579,
     "end_time": "2022-08-28T00:51:24.315236",
     "exception": false,
     "start_time": "2022-08-28T00:51:23.795657",
     "status": "completed"
    },
    "tags": []
   },
   "outputs": [
    {
     "data": {
      "image/png": "[encoded data removed]",
      "text/plain": [
       "<Figure size 864x360 with 2 Axes>"
      ]
     },
     "metadata": {
      "needs_background": "light"
     },
     "output_type": "display_data"
    },
    {
     "name": "stdout",
     "output_type": "stream",
     "text": [
      "\u001b[4m\u001b[1m\u001b[36mDay counts:\u001b[0m\n"
     ]
    },
    {
     "data": {
      "text/plain": [
       "2     62250\n",
       "3     64154\n",
       "4     67111\n",
       "7     56240\n",
       "10    31773\n",
       "Name: day, dtype: int64"
      ]
     },
     "execution_count": 11,
     "metadata": {},
     "output_type": "execute_result"
    }
   ],
   "source": [
    "fig,ax = plt.subplots(nrows=1, ncols=2, figsize=(12, 5))\n",
    "sns.countplot(x='day', data=metadata, palette='mako', ax=ax[0])\n",
    "metadata[['day']].value_counts().plot.pie(autopct='%1.1f%%', ylabel='day', ax=ax[1])\n",
    "plt.show()\n",
    "print(colored(f'Day counts:', 'cyan', attrs=['bold', 'underline']))\n",
    "metadata.day.value_counts().sort_index()"
   ]
  },
  {
   "cell_type": "markdown",
   "id": "7b441370",
   "metadata": {
    "papermill": {
     "duration": 0.012777,
     "end_time": "2022-08-28T00:51:24.341577",
     "exception": false,
     "start_time": "2022-08-28T00:51:24.328800",
     "status": "completed"
    },
    "tags": []
   },
   "source": [
    "<div style=\"color:white;    \n",
    "           display:fill;\n",
    "           border-radius:5px;\n",
    "           font-size:110%;\n",
    "           font-family:Verdana;\n",
    "           letter-spacing:1px;\n",
    "           display:flex;\n",
    "            justify-content:center;\">\n",
    "\n",
    "<h4 style=\"text-align:center;\n",
    "          margin:0 auto;\n",
    "          color:black;\n",
    "          \">\n",
    "Conclusions 📍\n",
    "</h4>\n",
    "</div>\n",
    "\n",
    "* Day 4 had the most donations"
   ]
  },
  {
   "cell_type": "markdown",
   "id": "d653e7c7",
   "metadata": {
    "papermill": {
     "duration": 0.012627,
     "end_time": "2022-08-28T00:51:24.367210",
     "exception": false,
     "start_time": "2022-08-28T00:51:24.354583",
     "status": "completed"
    },
    "tags": []
   },
   "source": [
    "\n",
    "<div style=\"\n",
    "            display:flex;\n",
    "            flex-direction:row;\n",
    "            justify-content:left;\">\n",
    "<div style=\"width:0.05%;\n",
    "            height:max;\n",
    "            background-color:#256D85;\n",
    "            padding:1rem;\n",
    "            border-top-left-radius:0.5rem;\n",
    "            border-bottom-left-radius: 0.5rem;\n",
    "            margin-left: 1rem\">\n",
    "    \n",
    "</div>\n",
    "<div id=7 style=\"color:white;    \n",
    "           background-color:#3EC70B;\n",
    "           font-size:90%;\n",
    "           font-family:Verdana;\n",
    "           letter-spacing:0.5px;\n",
    "           border-width: 0.2rem;\n",
    "           border-style: solid;\n",
    "           border-color: #7A86B6;\n",
    "           display: inline-block;\n",
    "           border-left: none\n",
    "                 \">\n",
    "\n",
    "<h2 style=\"padding: 0.5rem;\n",
    "           color:white;\n",
    "           margin-right: auto;\n",
    "          \">\n",
    "Donor 🧑\n",
    "</h2>\n",
    "</div>\n",
    "</div>"
   ]
  },
  {
   "cell_type": "code",
   "execution_count": 12,
   "id": "8252f03f",
   "metadata": {
    "_kg_hide-input": true,
    "execution": {
     "iopub.execute_input": "2022-08-28T00:51:24.395675Z",
     "iopub.status.busy": "2022-08-28T00:51:24.394855Z",
     "iopub.status.idle": "2022-08-28T00:51:24.706338Z",
     "shell.execute_reply": "2022-08-28T00:51:24.704922Z"
    },
    "papermill": {
     "duration": 0.328083,
     "end_time": "2022-08-28T00:51:24.708630",
     "exception": false,
     "start_time": "2022-08-28T00:51:24.380547",
     "status": "completed"
    },
    "tags": []
   },
   "outputs": [
    {
     "data": {
      "image/png": "[encoded data removed]",
      "text/plain": [
       "<Figure size 864x360 with 2 Axes>"
      ]
     },
     "metadata": {
      "needs_background": "light"
     },
     "output_type": "display_data"
    },
    {
     "name": "stdout",
     "output_type": "stream",
     "text": [
      "\u001b[4m\u001b[1m\u001b[36mDonor counts:\u001b[0m\n"
     ]
    },
    {
     "data": {
      "text/plain": [
       "13176    73211\n",
       "27678    60995\n",
       "31800    74963\n",
       "32606    72359\n",
       "Name: donor, dtype: int64"
      ]
     },
     "execution_count": 12,
     "metadata": {},
     "output_type": "execute_result"
    }
   ],
   "source": [
    "fig, ax = plt.subplots(nrows=1, ncols=2, figsize=(12, 5))\n",
    "sns.countplot(x='donor', data=metadata, palette='mako', ax=ax[0])\n",
    "metadata[['donor']].value_counts().plot.pie(autopct='%1.1f%%', ylabel='donor', ax=ax[1])\n",
    "plt.show()\n",
    "print(colored(f'Donor counts:', 'cyan', attrs=['bold', 'underline']))\n",
    "metadata.donor.value_counts().sort_index()"
   ]
  },
  {
   "cell_type": "markdown",
   "id": "f81a28b2",
   "metadata": {
    "papermill": {
     "duration": 0.013388,
     "end_time": "2022-08-28T00:51:24.735972",
     "exception": false,
     "start_time": "2022-08-28T00:51:24.722584",
     "status": "completed"
    },
    "tags": []
   },
   "source": [
    "<div style=\"color:white;    \n",
    "           display:fill;\n",
    "           border-radius:5px;\n",
    "           font-size:110%;\n",
    "           font-family:Verdana;\n",
    "           letter-spacing:1px;\n",
    "           display:flex;\n",
    "            justify-content:center;\">\n",
    "\n",
    "<h4 style=\"text-align:center;\n",
    "          margin:0 auto;\n",
    "          color:black;\n",
    "          \">\n",
    "Conclusions 📍\n",
    "</h4>\n",
    "</div>\n",
    "\n",
    "* Donor 31800 donated the most cells"
   ]
  },
  {
   "cell_type": "markdown",
   "id": "f4bf7dc5",
   "metadata": {
    "papermill": {
     "duration": 0.013254,
     "end_time": "2022-08-28T00:51:24.763041",
     "exception": false,
     "start_time": "2022-08-28T00:51:24.749787",
     "status": "completed"
    },
    "tags": []
   },
   "source": [
    "\n",
    "<div style=\"\n",
    "            display:flex;\n",
    "            flex-direction:row;\n",
    "            justify-content:left;\">\n",
    "<div style=\"width:0.05%;\n",
    "            height:max;\n",
    "            background-color:#256D85;\n",
    "            padding:1rem;\n",
    "            border-top-left-radius:0.5rem;\n",
    "            border-bottom-left-radius: 0.5rem;\n",
    "            margin-left: 1rem\">\n",
    "    \n",
    "</div>\n",
    "<div id=7 style=\"color:white;    \n",
    "           background-color:#3EC70B;\n",
    "           font-size:90%;\n",
    "           font-family:Verdana;\n",
    "           letter-spacing:0.5px;\n",
    "           border-width: 0.2rem;\n",
    "           border-style: solid;\n",
    "           border-color: #7A86B6;\n",
    "           display: inline-block;\n",
    "           border-left: none\n",
    "                 \">\n",
    "\n",
    "<h2 style=\"padding: 0.5rem;\n",
    "           color:white;\n",
    "           margin-right: auto;\n",
    "          \">\n",
    "Cell Type 🧫\n",
    "</h2>\n",
    "</div>\n",
    "</div>"
   ]
  },
  {
   "cell_type": "code",
   "execution_count": 13,
   "id": "86e97c5b",
   "metadata": {
    "_kg_hide-input": true,
    "execution": {
     "iopub.execute_input": "2022-08-28T00:51:24.792906Z",
     "iopub.status.busy": "2022-08-28T00:51:24.791806Z",
     "iopub.status.idle": "2022-08-28T00:51:25.375589Z",
     "shell.execute_reply": "2022-08-28T00:51:25.374155Z"
    },
    "papermill": {
     "duration": 0.601273,
     "end_time": "2022-08-28T00:51:25.378017",
     "exception": false,
     "start_time": "2022-08-28T00:51:24.776744",
     "status": "completed"
    },
    "tags": []
   },
   "outputs": [
    {
     "data": {
      "image/png": "[encoded data removed]",
      "text/plain": [
       "<Figure size 864x360 with 2 Axes>"
      ]
     },
     "metadata": {
      "needs_background": "light"
     },
     "output_type": "display_data"
    },
    {
     "name": "stdout",
     "output_type": "stream",
     "text": [
      "\u001b[4m\u001b[1m\u001b[36mCell Type counts:\u001b[0m\n"
     ]
    },
    {
     "data": {
      "text/plain": [
       "BP          869\n",
       "EryP      41479\n",
       "HSC       77535\n",
       "MasP      34827\n",
       "MkP       24021\n",
       "MoP        3883\n",
       "NeuP      42979\n",
       "hidden    55935\n",
       "Name: cell_type, dtype: int64"
      ]
     },
     "execution_count": 13,
     "metadata": {},
     "output_type": "execute_result"
    }
   ],
   "source": [
    "fig, ax = plt.subplots(nrows=1, ncols=2, figsize=(12, 5))\n",
    "sns.countplot(x='cell_type', data=metadata, palette='mako', ax=ax[0])\n",
    "metadata[['cell_type']].value_counts().plot.pie(autopct='%1.1f%%', ylabel='cell_type', ax=ax[1])\n",
    "plt.show()\n",
    "print(colored(f'Cell Type counts:', 'cyan', attrs=['bold', 'underline']))\n",
    "metadata.cell_type.value_counts().sort_index()"
   ]
  },
  {
   "cell_type": "markdown",
   "id": "412238eb",
   "metadata": {
    "papermill": {
     "duration": 0.014153,
     "end_time": "2022-08-28T00:51:25.407077",
     "exception": false,
     "start_time": "2022-08-28T00:51:25.392924",
     "status": "completed"
    },
    "tags": []
   },
   "source": [
    "<div style=\"color:white;    \n",
    "           display:fill;\n",
    "           border-radius:5px;\n",
    "           font-size:110%;\n",
    "           font-family:Verdana;\n",
    "           letter-spacing:1px;\n",
    "           display:flex;\n",
    "            justify-content:center;\">\n",
    "\n",
    "<h4 style=\"text-align:center;\n",
    "          margin:0 auto;\n",
    "          color:black;\n",
    "          \">\n",
    "Conclusions 📍\n",
    "</h4>\n",
    "</div>\n",
    "\n",
    "* The most common cell types are HSC and hidden"
   ]
  },
  {
   "cell_type": "markdown",
   "id": "667f0f99",
   "metadata": {
    "papermill": {
     "duration": 0.014048,
     "end_time": "2022-08-28T00:51:25.435623",
     "exception": false,
     "start_time": "2022-08-28T00:51:25.421575",
     "status": "completed"
    },
    "tags": []
   },
   "source": [
    "\n",
    "<div style=\"\n",
    "            display:flex;\n",
    "            flex-direction:row;\n",
    "            justify-content:left;\">\n",
    "<div style=\"width:0.05%;\n",
    "            height:max;\n",
    "            background-color:#256D85;\n",
    "            padding:1rem;\n",
    "            border-top-left-radius:0.5rem;\n",
    "            border-bottom-left-radius: 0.5rem;\n",
    "            margin-left: 1rem\">\n",
    "    \n",
    "</div>\n",
    "<div id=7 style=\"color:white;    \n",
    "           background-color:#3EC70B;\n",
    "           font-size:90%;\n",
    "           font-family:Verdana;\n",
    "           letter-spacing:0.5px;\n",
    "           border-width: 0.2rem;\n",
    "           border-style: solid;\n",
    "           border-color: #7A86B6;\n",
    "           display: inline-block;\n",
    "           border-left: none\n",
    "                 \">\n",
    "\n",
    "<h2 style=\"padding: 0.5rem;\n",
    "           color:white;\n",
    "           margin-right: auto;\n",
    "          \">\n",
    "Technology 👩‍💻\n",
    "</h2>\n",
    "</div>\n",
    "</div>"
   ]
  },
  {
   "cell_type": "code",
   "execution_count": 14,
   "id": "f4a7f8aa",
   "metadata": {
    "_kg_hide-input": true,
    "execution": {
     "iopub.execute_input": "2022-08-28T00:51:25.467255Z",
     "iopub.status.busy": "2022-08-28T00:51:25.466516Z",
     "iopub.status.idle": "2022-08-28T00:51:25.933778Z",
     "shell.execute_reply": "2022-08-28T00:51:25.932434Z"
    },
    "papermill": {
     "duration": 0.486135,
     "end_time": "2022-08-28T00:51:25.936355",
     "exception": false,
     "start_time": "2022-08-28T00:51:25.450220",
     "status": "completed"
    },
    "tags": []
   },
   "outputs": [
    {
     "data": {
      "image/png": "[encoded data removed]",
      "text/plain": [
       "<Figure size 864x360 with 2 Axes>"
      ]
     },
     "metadata": {
      "needs_background": "light"
     },
     "output_type": "display_data"
    }
   ],
   "source": [
    "fig, ax = plt.subplots(nrows=1, ncols=2, figsize=(12, 5))\n",
    "sns.countplot(x='technology', data=metadata, palette='mako', ax=ax[0])\n",
    "metadata[['technology']].value_counts().plot.pie(autopct='%1.1f%%', ylabel='technology', ax=ax[1])\n",
    "plt.show()"
   ]
  },
  {
   "cell_type": "markdown",
   "id": "2a5bcbf0",
   "metadata": {
    "papermill": {
     "duration": 0.015136,
     "end_time": "2022-08-28T00:51:25.968069",
     "exception": false,
     "start_time": "2022-08-28T00:51:25.952933",
     "status": "completed"
    },
    "tags": []
   },
   "source": [
    "### Lets have a look at citeseq and multiome and generate a plot based on teh donor"
   ]
  },
  {
   "cell_type": "code",
   "execution_count": 15,
   "id": "d8de536f",
   "metadata": {
    "execution": {
     "iopub.execute_input": "2022-08-28T00:51:26.001405Z",
     "iopub.status.busy": "2022-08-28T00:51:26.000980Z",
     "iopub.status.idle": "2022-08-28T00:51:26.720110Z",
     "shell.execute_reply": "2022-08-28T00:51:26.718922Z"
    },
    "papermill": {
     "duration": 0.738742,
     "end_time": "2022-08-28T00:51:26.722649",
     "exception": false,
     "start_time": "2022-08-28T00:51:25.983907",
     "status": "completed"
    },
    "tags": []
   },
   "outputs": [
    {
     "data": {
      "image/png": "[encoded data removed]",
      "text/plain": [
       "<Figure size 1728x864 with 2 Axes>"
      ]
     },
     "metadata": {
      "needs_background": "light"
     },
     "output_type": "display_data"
    }
   ],
   "source": [
    "metadata_cite = metadata[metadata.technology=='citeseq']\n",
    "metadata_multiome = metadata[metadata.technology=='multiome']\n",
    "_, ax = plt.subplots(1,2,figsize=(24,12))\n",
    "sns.countplot(x='day', hue='donor', data=metadata_cite, palette='mako', ax=ax[0])\n",
    "sns.countplot(x='day', hue='donor', data=metadata_multiome, palette='mako', ax=ax[1])\n",
    "plt.show()\n"
   ]
  },
  {
   "cell_type": "markdown",
   "id": "7fa5ac18",
   "metadata": {
    "papermill": {
     "duration": 0.015224,
     "end_time": "2022-08-28T00:51:26.753587",
     "exception": false,
     "start_time": "2022-08-28T00:51:26.738363",
     "status": "completed"
    },
    "tags": []
   },
   "source": [
    "<div style=\"color:white;    \n",
    "           display:fill;\n",
    "           border-radius:5px;\n",
    "           font-size:110%;\n",
    "           font-family:Verdana;\n",
    "           letter-spacing:1px;\n",
    "           display:flex;\n",
    "            justify-content:center;\">\n",
    "\n",
    "<h4 style=\"text-align:center;\n",
    "          margin:0 auto;\n",
    "          color:black;\n",
    "          \">\n",
    "Conclusions 📍\n",
    "</h4>\n",
    "</div>\n",
    "\n",
    "* Most of the cells were sample using the Multiome kit\n",
    "* On day 4 donor 27678 did not donate using the multiome approach, whule the rest of the donors every single day used both technologies\n",
    "* For the CITEseq kit day 4 had the most samples, while for the Multiome kit day 3 seems to have the most samples"
   ]
  },
  {
   "cell_type": "markdown",
   "id": "fe86152b",
   "metadata": {
    "papermill": {
     "duration": 0.015187,
     "end_time": "2022-08-28T00:51:26.784389",
     "exception": false,
     "start_time": "2022-08-28T00:51:26.769202",
     "status": "completed"
    },
    "tags": []
   },
   "source": [
    "\n",
    "<div style=\"\n",
    "            display:flex;\n",
    "            flex-direction:row;\n",
    "            justify-content:left;\">\n",
    "<div style=\"width:0.05%;\n",
    "            height:max;\n",
    "            background-color:#256D85;\n",
    "            padding:1rem;\n",
    "            border-top-left-radius:0.5rem;\n",
    "            border-bottom-left-radius: 0.5rem;\n",
    "            margin-left: 1rem\">\n",
    "    \n",
    "</div>\n",
    "<div id=7 style=\"color:white;    \n",
    "           background-color:#3EC70B;\n",
    "           font-size:90%;\n",
    "           font-family:Verdana;\n",
    "           letter-spacing:0.5px;\n",
    "           border-width: 0.2rem;\n",
    "           border-style: solid;\n",
    "           border-color: #7A86B6;\n",
    "           display: inline-block;\n",
    "           border-left: none\n",
    "                 \">\n",
    "\n",
    "<h2 style=\"padding: 0.5rem;\n",
    "           color:white;\n",
    "           margin-right: auto;\n",
    "          \">\n",
    "Metadata + CITEseq KIT\n",
    "</h2>\n",
    "</div>\n",
    "</div>"
   ]
  },
  {
   "cell_type": "code",
   "execution_count": 16,
   "id": "11ac6e97",
   "metadata": {
    "execution": {
     "iopub.execute_input": "2022-08-28T00:51:26.817180Z",
     "iopub.status.busy": "2022-08-28T00:51:26.816737Z",
     "iopub.status.idle": "2022-08-28T00:51:26.862593Z",
     "shell.execute_reply": "2022-08-28T00:51:26.861441Z"
    },
    "papermill": {
     "duration": 0.065582,
     "end_time": "2022-08-28T00:51:26.865419",
     "exception": false,
     "start_time": "2022-08-28T00:51:26.799837",
     "status": "completed"
    },
    "tags": []
   },
   "outputs": [],
   "source": [
    "metadata = metadata.join(train_cite_targets, how='right')"
   ]
  },
  {
   "cell_type": "code",
   "execution_count": 17,
   "id": "e1a1c6a0",
   "metadata": {
    "execution": {
     "iopub.execute_input": "2022-08-28T00:51:26.899003Z",
     "iopub.status.busy": "2022-08-28T00:51:26.897908Z",
     "iopub.status.idle": "2022-08-28T00:51:27.595071Z",
     "shell.execute_reply": "2022-08-28T00:51:27.593857Z"
    },
    "papermill": {
     "duration": 0.716338,
     "end_time": "2022-08-28T00:51:27.597472",
     "exception": false,
     "start_time": "2022-08-28T00:51:26.881134",
     "status": "completed"
    },
    "tags": []
   },
   "outputs": [
    {
     "data": {
      "image/png": "[encoded data removed]",
      "text/plain": [
       "<Figure size 432x288 with 6 Axes>"
      ]
     },
     "metadata": {
      "needs_background": "light"
     },
     "output_type": "display_data"
    }
   ],
   "source": [
    "fig, axarr = plt.subplots(nrows=2, ncols=3)\n",
    "for i, col in enumerate([\"day\", \"donor\", \"cell_type\"]):\n",
    "    _= metadata[[col]].value_counts().plot.pie(ax=axarr[0][i], autopct='%1.1f%%', ylabel=col)\n",
    "    sns.countplot(x=col, data=metadata, palette='mako', ax=axarr[1][i])"
   ]
  },
  {
   "cell_type": "markdown",
   "id": "2778ba14",
   "metadata": {
    "papermill": {
     "duration": 0.015902,
     "end_time": "2022-08-28T00:51:27.630879",
     "exception": false,
     "start_time": "2022-08-28T00:51:27.614977",
     "status": "completed"
    },
    "tags": []
   },
   "source": [
    "<div style=\"color:white;\n",
    "           display:fill;\n",
    "           background-color:#F4E06D;\n",
    "           font-size:110%;\n",
    "           font-family:Verdana;\n",
    "           letter-spacing:0.5px;\n",
    "           display:flex;\n",
    "           flex-direction: row;\">\n",
    "\n",
    "<h1 style=\"padding: 2rem;\n",
    "          color:black;\n",
    "          text-align:center;\n",
    "          margin:0 auto;\n",
    "          font-size:3rem;\">\n",
    "   WORK IN PROGRESS ⚠️\n",
    "</h1>\n",
    " \n",
    "</div>\n",
    "\n",
    "### Feel free to comment what you would like me to include in this Kernel. "
   ]
  }
 ],
 "metadata": {
  "kernelspec": {
   "display_name": "Python 3",
   "language": "python",
   "name": "python3"
  },
  "language_info": {
   "codemirror_mode": {
    "name": "ipython",
    "version": 3
   },
   "file_extension": ".py",
   "mimetype": "text/x-python",
   "name": "python",
   "nbconvert_exporter": "python",
   "pygments_lexer": "ipython3",
   "version": "3.7.12"
  },
  "papermill": {
   "default_parameters": {},
   "duration": 98.682547,
   "end_time": "2022-08-28T00:51:29.375103",
   "environment_variables": {},
   "exception": null,
   "input_path": "__notebook__.ipynb",
   "output_path": "__notebook__.ipynb",
   "parameters": {},
   "start_time": "2022-08-28T00:49:50.692556",
   "version": "2.3.4"
  }
 },
 "nbformat": 4,
 "nbformat_minor": 5
}
