{
 "cells": [
  {
   "cell_type": "markdown",
   "metadata": {},
   "source": [
    "# Open Problems - Multimodal Single-Cell Integration\n",
    "\n",
    "While splitting the CITEseq RNA expression data by day-donor, I noticed that day2-donor32606 from train_cite_inputs.h5 and day2-donor27678 from test_cite_inputs.h5 had the same number of cells(7476). I got two separate expression matrices from these two donors but they seem to present the same gene expression patterns even if they were extracted from different files (32606 from train and 27678 from test data) with different barcode information.\n",
    "\n",
    "Is this intended or released by mistake?"
   ]
  },
  {
   "cell_type": "code",
   "execution_count": 1,
   "metadata": {},
   "outputs": [
    {
     "name": "stdout",
     "output_type": "stream",
     "text": [
      "Requirement already satisfied: nbconvert in c:\\users\\andre\\appdata\\roaming\\python\\python39\\site-packages (6.2.0)Note: you may need to restart the kernel to use updated packages.\n",
      "Requirement already satisfied: pygments>=2.4.1 in c:\\users\\andre\\appdata\\roaming\\python\\python39\\site-packages (from nbconvert) (2.9.0)\n",
      "Requirement already satisfied: defusedxml in c:\\users\\andre\\appdata\\roaming\\python\\python39\\site-packages (from nbconvert) (0.7.1)\n",
      "Requirement already satisfied: jupyter-core in c:\\users\\andre\\appdata\\roaming\\python\\python39\\site-packages (from nbconvert) (4.7.1)\n",
      "Requirement already satisfied: jinja2>=2.4 in c:\\users\\andre\\appdata\\roaming\\python\\python39\\site-packages (from nbconvert) (3.0.2)\n",
      "Requirement already satisfied: bleach in c:\\users\\andre\\appdata\\roaming\\python\\python39\\site-packages (from nbconvert) (4.1.0)\n",
      "Requirement already satisfied: traitlets>=5.0 in c:\\users\\andre\\appdata\\roaming\\python\\python39\\site-packages (from nbconvert) (5.0.5)\n",
      "Requirement already satisfied: nbclient<0.6.0,>=0.5.0 in c:\\users\\andre\\appdata\\roaming\\python\\python39\\site-packages (from nbconvert) (0.5.4)\n",
      "Requirement already satisfied: mistune<2,>=0.8.1 in c:\\users\\andre\\appdata\\roaming\\python\\python39\\site-packages (from nbconvert) (0.8.4)\n",
      "Requirement already satisfied: jupyterlab-pygments in c:\\users\\andre\\appdata\\roaming\\python\\python39\\site-packages (from nbconvert) (0.1.2)\n",
      "Requirement already satisfied: nbformat>=4.4 in c:\\users\\andre\\appdata\\roaming\\python\\python39\\site-packages (from nbconvert) (5.1.3)\n",
      "Requirement already satisfied: entrypoints>=0.2.2 in c:\\users\\andre\\appdata\\roaming\\python\\python39\\site-packages (from nbconvert) (0.3)\n",
      "Requirement already satisfied: pandocfilters>=1.4.1 in c:\\users\\andre\\appdata\\roaming\\python\\python39\\site-packages (from nbconvert) (1.5.0)\n",
      "Requirement already satisfied: testpath in c:\\users\\andre\\appdata\\roaming\\python\\python39\\site-packages (from nbconvert) (0.5.0)\n",
      "Requirement already satisfied: MarkupSafe>=2.0 in c:\\users\\andre\\appdata\\roaming\\python\\python39\\site-packages (from jinja2>=2.4->nbconvert) (2.0.1)\n",
      "Requirement already satisfied: nest-asyncio in c:\\users\\andre\\appdata\\roaming\\python\\python39\\site-packages (from nbclient<0.6.0,>=0.5.0->nbconvert) (1.5.1)\n",
      "Requirement already satisfied: jupyter-client>=6.1.5 in c:\\users\\andre\\appdata\\roaming\\python\\python39\\site-packages (from nbclient<0.6.0,>=0.5.0->nbconvert) (6.1.12)\n",
      "Requirement already satisfied: ipython-genutils in c:\\users\\andre\\appdata\\roaming\\python\\python39\\site-packages (from nbformat>=4.4->nbconvert) (0.2.0)\n",
      "Requirement already satisfied: jsonschema!=2.5.0,>=2.4 in c:\\users\\andre\\appdata\\roaming\\python\\python39\\site-packages (from nbformat>=4.4->nbconvert) (4.1.0)\n",
      "Requirement already satisfied: six>=1.9.0 in c:\\users\\andre\\appdata\\roaming\\python\\python39\\site-packages (from bleach->nbconvert) (1.16.0)\n",
      "Requirement already satisfied: packaging in c:\\users\\andre\\appdata\\roaming\\python\\python39\\site-packages (from bleach->nbconvert) (21.3)\n",
      "Requirement already satisfied: webencodings in c:\\users\\andre\\appdata\\roaming\\python\\python39\\site-packages (from bleach->nbconvert) (0.5.1)\n",
      "Requirement already satisfied: pywin32>=1.0 in c:\\users\\andre\\appdata\\roaming\\python\\python39\\site-packages (from jupyter-core->nbconvert) (303)\n",
      "Requirement already satisfied: attrs>=17.4.0 in c:\\users\\andre\\appdata\\roaming\\python\\python39\\site-packages (from jsonschema!=2.5.0,>=2.4->nbformat>=4.4->nbconvert) (21.2.0)\n",
      "Requirement already satisfied: pyrsistent!=0.17.0,!=0.17.1,!=0.17.2,>=0.14.0 in c:\\users\\andre\\appdata\\roaming\\python\\python39\\site-packages (from jsonschema!=2.5.0,>=2.4->nbformat>=4.4->nbconvert) (0.18.0)\n",
      "Requirement already satisfied: tornado>=4.1 in c:\\users\\andre\\appdata\\roaming\\python\\python39\\site-packages (from jupyter-client>=6.1.5->nbclient<0.6.0,>=0.5.0->nbconvert) (6.1)\n",
      "Requirement already satisfied: python-dateutil>=2.1 in c:\\users\\andre\\appdata\\roaming\\python\\python39\\site-packages (from jupyter-client>=6.1.5->nbclient<0.6.0,>=0.5.0->nbconvert) (2.8.1)\n",
      "Requirement already satisfied: pyzmq>=13 in c:\\users\\andre\\appdata\\roaming\\python\\python39\\site-packages (from jupyter-client>=6.1.5->nbclient<0.6.0,>=0.5.0->nbconvert) (22.0.3)\n",
      "Requirement already satisfied: pyparsing!=3.0.5,>=2.0.2 in c:\\users\\andre\\appdata\\roaming\\python\\python39\\site-packages (from packaging->bleach->nbconvert) (2.4.7)\n",
      "\n",
      "[notice] A new release of pip available: 22.2 -> 22.2.2\n",
      "[notice] To update, run: python.exe -m pip install --upgrade pip\n",
      "\n"
     ]
    },
    {
     "name": "stderr",
     "output_type": "stream",
     "text": [
      "WARNING: Ignoring invalid distribution -ywin32 (c:\\users\\andre\\appdata\\roaming\\python\\python39\\site-packages)\n",
      "WARNING: Ignoring invalid distribution -p (c:\\python39\\lib\\site-packages)\n",
      "WARNING: Ignoring invalid distribution -p (c:\\python39\\lib\\site-packages)\n",
      "WARNING: Ignoring invalid distribution -ip (c:\\python39\\lib\\site-packages)\n",
      "WARNING: Ignoring invalid distribution - (c:\\python39\\lib\\site-packages)\n",
      "WARNING: Ignoring invalid distribution -ywin32 (c:\\users\\andre\\appdata\\roaming\\python\\python39\\site-packages)\n",
      "WARNING: Ignoring invalid distribution -p (c:\\python39\\lib\\site-packages)\n",
      "WARNING: Ignoring invalid distribution -p (c:\\python39\\lib\\site-packages)\n",
      "WARNING: Ignoring invalid distribution -ip (c:\\python39\\lib\\site-packages)\n",
      "WARNING: Ignoring invalid distribution - (c:\\python39\\lib\\site-packages)\n",
      "WARNING: Ignoring invalid distribution -ywin32 (c:\\users\\andre\\appdata\\roaming\\python\\python39\\site-packages)\n",
      "WARNING: Ignoring invalid distribution -p (c:\\python39\\lib\\site-packages)\n",
      "WARNING: Ignoring invalid distribution -p (c:\\python39\\lib\\site-packages)\n",
      "WARNING: Ignoring invalid distribution -ip (c:\\python39\\lib\\site-packages)\n",
      "WARNING: Ignoring invalid distribution - (c:\\python39\\lib\\site-packages)\n",
      "WARNING: Ignoring invalid distribution -ywin32 (c:\\users\\andre\\appdata\\roaming\\python\\python39\\site-packages)\n",
      "WARNING: Ignoring invalid distribution -p (c:\\python39\\lib\\site-packages)\n",
      "WARNING: Ignoring invalid distribution -p (c:\\python39\\lib\\site-packages)\n",
      "WARNING: Ignoring invalid distribution -ip (c:\\python39\\lib\\site-packages)\n",
      "WARNING: Ignoring invalid distribution - (c:\\python39\\lib\\site-packages)\n",
      "WARNING: Ignoring invalid distribution -ywin32 (c:\\users\\andre\\appdata\\roaming\\python\\python39\\site-packages)\n",
      "WARNING: Ignoring invalid distribution -ywin32 (c:\\users\\andre\\appdata\\roaming\\python\\python39\\site-packages)\n"
     ]
    }
   ],
   "source": [
    "%pip install nbconvert"
   ]
  },
  {
   "cell_type": "code",
   "execution_count": 2,
   "metadata": {},
   "outputs": [
    {
     "name": "stdout",
     "output_type": "stream",
     "text": [
      "Requirement already satisfied: pip in c:\\users\\andre\\appdata\\roaming\\python\\python39\\site-packages (22.2)Note: you may need to restart the kernel to use updated packages.\n",
      "Collecting pip\n",
      "  Using cached pip-22.2.2-py3-none-any.whl (2.0 MB)\n",
      "Installing collected packages: pip\n"
     ]
    },
    {
     "name": "stderr",
     "output_type": "stream",
     "text": [
      "WARNING: Ignoring invalid distribution -ywin32 (c:\\users\\andre\\appdata\\roaming\\python\\python39\\site-packages)"
     ]
    },
    {
     "name": "stdout",
     "output_type": "stream",
     "text": [
      "\n",
      "  Attempting uninstall: pip\n",
      "    Found existing installation: pip 22.2\n",
      "    Uninstalling pip-22.2:\n",
      "      Successfully uninstalled pip-22.2\n",
      "  Rolling back uninstall of pip\n",
      "  Moving to c:\\users\\andre\\appdata\\roaming\\python\\python39\\scripts\\pip.exe\n",
      "   from C:\\Users\\andre\\AppData\\Local\\Temp\\pip-uninstall-2_qyg13k\\pip.exe\n",
      "  Moving to c:\\users\\andre\\appdata\\roaming\\python\\python39\\scripts\\pip3.9.exe\n",
      "   from C:\\Users\\andre\\AppData\\Local\\Temp\\pip-uninstall-2_qyg13k\\pip3.9.exe\n",
      "  Moving to c:\\users\\andre\\appdata\\roaming\\python\\python39\\scripts\\pip3.exe\n",
      "   from C:\\Users\\andre\\AppData\\Local\\Temp\\pip-uninstall-2_qyg13k\\pip3.exe\n",
      "  Moving to c:\\users\\andre\\appdata\\roaming\\python\\python39\\site-packages\\pip-22.2.dist-info\\\n",
      "   from C:\\Users\\andre\\AppData\\Roaming\\Python\\Python39\\site-packages\\~ip-22.2.dist-info\n",
      "  Moving to c:\\users\\andre\\appdata\\roaming\\python\\python39\\site-packages\\pip\\\n",
      "   from C:\\Users\\andre\\AppData\\Roaming\\Python\\Python39\\site-packages\\~ip\n",
      "\n",
      "[notice] A new release of pip available: 22.2 -> 22.2.2\n",
      "[notice] To update, run: python.exe -m pip install --upgrade pip\n"
     ]
    },
    {
     "name": "stderr",
     "output_type": "stream",
     "text": [
      "\n",
      "WARNING: Ignoring invalid distribution -p (c:\\python39\\lib\\site-packages)\n",
      "WARNING: Ignoring invalid distribution -p (c:\\python39\\lib\\site-packages)\n",
      "WARNING: Ignoring invalid distribution -ip (c:\\python39\\lib\\site-packages)\n",
      "WARNING: Ignoring invalid distribution - (c:\\python39\\lib\\site-packages)\n",
      "WARNING: Ignoring invalid distribution -ywin32 (c:\\users\\andre\\appdata\\roaming\\python\\python39\\site-packages)\n",
      "WARNING: Ignoring invalid distribution -p (c:\\python39\\lib\\site-packages)\n",
      "WARNING: Ignoring invalid distribution -p (c:\\python39\\lib\\site-packages)\n",
      "WARNING: Ignoring invalid distribution -ip (c:\\python39\\lib\\site-packages)\n",
      "WARNING: Ignoring invalid distribution - (c:\\python39\\lib\\site-packages)\n",
      "WARNING: Ignoring invalid distribution -ywin32 (c:\\users\\andre\\appdata\\roaming\\python\\python39\\site-packages)\n",
      "WARNING: Ignoring invalid distribution -p (c:\\python39\\lib\\site-packages)\n",
      "WARNING: Ignoring invalid distribution -p (c:\\python39\\lib\\site-packages)\n",
      "WARNING: Ignoring invalid distribution -ip (c:\\python39\\lib\\site-packages)\n",
      "WARNING: Ignoring invalid distribution - (c:\\python39\\lib\\site-packages)\n",
      "    WARNING: Ignoring invalid distribution -ywin32 (c:\\users\\andre\\appdata\\roaming\\python\\python39\\site-packages)\n",
      "ERROR: Could not install packages due to an OSError: [WinError 5] Access is denied: 'c:\\\\Python39\\\\Lib\\\\site-packages\\\\pip\\\\__init__.py'\n",
      "Consider using the `--user` option or check the permissions.\n",
      "\n",
      "WARNING: Ignoring invalid distribution -ywin32 (c:\\users\\andre\\appdata\\roaming\\python\\python39\\site-packages)\n",
      "WARNING: Ignoring invalid distribution -p (c:\\python39\\lib\\site-packages)\n",
      "WARNING: Ignoring invalid distribution -p (c:\\python39\\lib\\site-packages)\n",
      "WARNING: Ignoring invalid distribution -ip (c:\\python39\\lib\\site-packages)\n",
      "WARNING: Ignoring invalid distribution - (c:\\python39\\lib\\site-packages)\n",
      "WARNING: Ignoring invalid distribution -ywin32 (c:\\users\\andre\\appdata\\roaming\\python\\python39\\site-packages)\n",
      "WARNING: Ignoring invalid distribution -ywin32 (c:\\users\\andre\\appdata\\roaming\\python\\python39\\site-packages)\n"
     ]
    }
   ],
   "source": [
    "%pip install --upgrade pip"
   ]
  },
  {
   "cell_type": "code",
   "execution_count": 4,
   "metadata": {},
   "outputs": [
    {
     "name": "stdout",
     "output_type": "stream",
     "text": [
      "C:\\HSPC\\prior_work\\cell-analysis-quick-h5-eda.ipynb\n",
      "C:\\HSPC\\prior_work\\complete-eda-of-mmscel-integration-data.ipynb\n",
      "C:\\HSPC\\prior_work\\getting-started-data-loading.ipynb\n",
      "C:\\HSPC\\prior_work\\lb-0-811-normalized-ensembles-for-pearson-s-r.ipynb\n",
      "C:\\HSPC\\prior_work\\lb-0-855-upvote-the-example-of-ensemble.ipynb\n",
      "C:\\HSPC\\prior_work\\lb0-830-lgbm-optuna-msci-citeseq.ipynb\n",
      "C:\\HSPC\\prior_work\\lgbm-baseline-msci-citeseq.ipynb\n",
      "C:\\HSPC\\prior_work\\mmscel-eda-bioinfo.ipynb\n",
      "C:\\HSPC\\prior_work\\mmscel-inst-eda-stat-predictions.ipynb\n",
      "C:\\HSPC\\prior_work\\msci-citeseq-keras-quickstart.ipynb\n",
      "C:\\HSPC\\prior_work\\msci-citeseq-quickstart.ipynb\n",
      "C:\\HSPC\\prior_work\\msci-citeseq-tf-keras-nn-custom-loss.ipynb\n",
      "C:\\HSPC\\prior_work\\msci-eda-which-makes-sense.ipynb\n",
      "C:\\HSPC\\prior_work\\msci-multiome-quickstart-w-sparse-matrices.ipynb\n",
      "C:\\HSPC\\prior_work\\msci-multiome-quickstart.ipynb\n",
      "C:\\HSPC\\prior_work\\msci-multiome-torch-quickstart-submission.ipynb\n",
      "C:\\HSPC\\prior_work\\msci-multiome-torch-quickstart-w-sparse-tensors.ipynb\n",
      "C:\\HSPC\\prior_work\\multi-67-cite-89-pytorch-swiss-army-knife.ipynb\n",
      "C:\\HSPC\\prior_work\\multimodal-sc-integration-meta-resources.ipynb\n",
      "C:\\HSPC\\prior_work\\multimodal-single-cell-creating-sparse-data.ipynb\n",
      "C:\\HSPC\\prior_work\\multimodal-single-cell-integration.ipynb\n",
      "C:\\HSPC\\prior_work\\multisci-eda.ipynb\n",
      "C:\\HSPC\\prior_work\\reduce-memory-usage-by-95-with-sparse-matrices.ipynb\n",
      "C:\\HSPC\\prior_work\\simple-submission-average-by-gene-id.ipynb\n",
      "C:\\HSPC\\prior_work\\tune-lgbm-only-final-cite-task.ipynb\n"
     ]
    }
   ],
   "source": [
    "import os\n",
    "import os\n",
    "for dirname, _, filenames in os.walk('C:\\\\HSPC\\\\prior_work'):\n",
    "    for filename in filenames:\n",
    "        print(os.path.join(dirname, filename))"
   ]
  },
  {
   "cell_type": "code",
   "execution_count": null,
   "metadata": {},
   "outputs": [],
   "source": []
  }
 ],
 "metadata": {
  "kernelspec": {
   "display_name": "Python 3.9.5 64-bit",
   "language": "python",
   "name": "python3"
  },
  "language_info": {
   "codemirror_mode": {
    "name": "ipython",
    "version": 3
   },
   "file_extension": ".py",
   "mimetype": "text/x-python",
   "name": "python",
   "nbconvert_exporter": "python",
   "pygments_lexer": "ipython3",
   "version": "3.9.5"
  },
  "orig_nbformat": 4,
  "vscode": {
   "interpreter": {
    "hash": "81794d4967e6c3204c66dcd87b604927b115b27c00565d3d43f05ba2f3a2cb0d"
   }
  }
 },
 "nbformat": 4,
 "nbformat_minor": 2
}
